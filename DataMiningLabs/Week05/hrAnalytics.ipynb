{
  "cells": [
    {
      "cell_type": "markdown",
      "id": "2a6c24e9",
      "metadata": {},
      "source": [
        "# Interactive investigation of generated employee data\n",
        "\n",
        "IBM has released a generated dataset of employee characteristics, suitable for HR analytics (notably: predicting churn, which is when employees leave voluntarily, often for a position at another company).\n",
        "\n",
        "This dataset was released to kaggle but is provided as archive.zip for your convenience.\n",
        "\n",
        "The aim of this notebook is to show how to create some interactive visualisations, which might be convenient for exploring data.\n",
        "\n",
        "Subsequently, the most informative visualisations can be collected in a separate notebook and shared with stakeholders, such as the HR Department in this case."
      ]
    },
    {
      "cell_type": "code",
      "execution_count": 13,
      "id": "b5baf63f",
      "metadata": {},
      "outputs": [],
      "source": [
        "import pandas as pd\n",
        "import matplotlib as plt\n",
        "import seaborn as sns\n",
        "\n",
        "# Also import Jupyter's ipywidgets package, so you can have interactive control later\n",
        "import ipywidgets as widgets"
      ]
    },
    {
      "cell_type": "code",
      "execution_count": 14,
      "id": "42e5a580",
      "metadata": {},
      "outputs": [
        {
          "data": {
            "text/html": [
              "<div>\n",
              "<style scoped>\n",
              "    .dataframe tbody tr th:only-of-type {\n",
              "        vertical-align: middle;\n",
              "    }\n",
              "\n",
              "    .dataframe tbody tr th {\n",
              "        vertical-align: top;\n",
              "    }\n",
              "\n",
              "    .dataframe thead th {\n",
              "        text-align: right;\n",
              "    }\n",
              "</style>\n",
              "<table border=\"1\" class=\"dataframe\">\n",
              "  <thead>\n",
              "    <tr style=\"text-align: right;\">\n",
              "      <th></th>\n",
              "      <th>Age</th>\n",
              "      <th>Attrition</th>\n",
              "      <th>BusinessTravel</th>\n",
              "      <th>DailyRate</th>\n",
              "      <th>Department</th>\n",
              "      <th>DistanceFromHome</th>\n",
              "      <th>Education</th>\n",
              "      <th>EducationField</th>\n",
              "      <th>EmployeeCount</th>\n",
              "      <th>EmployeeNumber</th>\n",
              "      <th>...</th>\n",
              "      <th>RelationshipSatisfaction</th>\n",
              "      <th>StandardHours</th>\n",
              "      <th>StockOptionLevel</th>\n",
              "      <th>TotalWorkingYears</th>\n",
              "      <th>TrainingTimesLastYear</th>\n",
              "      <th>WorkLifeBalance</th>\n",
              "      <th>YearsAtCompany</th>\n",
              "      <th>YearsInCurrentRole</th>\n",
              "      <th>YearsSinceLastPromotion</th>\n",
              "      <th>YearsWithCurrManager</th>\n",
              "    </tr>\n",
              "  </thead>\n",
              "  <tbody>\n",
              "    <tr>\n",
              "      <th>0</th>\n",
              "      <td>41</td>\n",
              "      <td>Yes</td>\n",
              "      <td>Travel_Rarely</td>\n",
              "      <td>1102</td>\n",
              "      <td>Sales</td>\n",
              "      <td>1</td>\n",
              "      <td>2</td>\n",
              "      <td>Life Sciences</td>\n",
              "      <td>1</td>\n",
              "      <td>1</td>\n",
              "      <td>...</td>\n",
              "      <td>1</td>\n",
              "      <td>80</td>\n",
              "      <td>0</td>\n",
              "      <td>8</td>\n",
              "      <td>0</td>\n",
              "      <td>1</td>\n",
              "      <td>6</td>\n",
              "      <td>4</td>\n",
              "      <td>0</td>\n",
              "      <td>5</td>\n",
              "    </tr>\n",
              "    <tr>\n",
              "      <th>1</th>\n",
              "      <td>49</td>\n",
              "      <td>No</td>\n",
              "      <td>Travel_Frequently</td>\n",
              "      <td>279</td>\n",
              "      <td>Research &amp; Development</td>\n",
              "      <td>8</td>\n",
              "      <td>1</td>\n",
              "      <td>Life Sciences</td>\n",
              "      <td>1</td>\n",
              "      <td>2</td>\n",
              "      <td>...</td>\n",
              "      <td>4</td>\n",
              "      <td>80</td>\n",
              "      <td>1</td>\n",
              "      <td>10</td>\n",
              "      <td>3</td>\n",
              "      <td>3</td>\n",
              "      <td>10</td>\n",
              "      <td>7</td>\n",
              "      <td>1</td>\n",
              "      <td>7</td>\n",
              "    </tr>\n",
              "    <tr>\n",
              "      <th>2</th>\n",
              "      <td>37</td>\n",
              "      <td>Yes</td>\n",
              "      <td>Travel_Rarely</td>\n",
              "      <td>1373</td>\n",
              "      <td>Research &amp; Development</td>\n",
              "      <td>2</td>\n",
              "      <td>2</td>\n",
              "      <td>Other</td>\n",
              "      <td>1</td>\n",
              "      <td>4</td>\n",
              "      <td>...</td>\n",
              "      <td>2</td>\n",
              "      <td>80</td>\n",
              "      <td>0</td>\n",
              "      <td>7</td>\n",
              "      <td>3</td>\n",
              "      <td>3</td>\n",
              "      <td>0</td>\n",
              "      <td>0</td>\n",
              "      <td>0</td>\n",
              "      <td>0</td>\n",
              "    </tr>\n",
              "    <tr>\n",
              "      <th>3</th>\n",
              "      <td>33</td>\n",
              "      <td>No</td>\n",
              "      <td>Travel_Frequently</td>\n",
              "      <td>1392</td>\n",
              "      <td>Research &amp; Development</td>\n",
              "      <td>3</td>\n",
              "      <td>4</td>\n",
              "      <td>Life Sciences</td>\n",
              "      <td>1</td>\n",
              "      <td>5</td>\n",
              "      <td>...</td>\n",
              "      <td>3</td>\n",
              "      <td>80</td>\n",
              "      <td>0</td>\n",
              "      <td>8</td>\n",
              "      <td>3</td>\n",
              "      <td>3</td>\n",
              "      <td>8</td>\n",
              "      <td>7</td>\n",
              "      <td>3</td>\n",
              "      <td>0</td>\n",
              "    </tr>\n",
              "    <tr>\n",
              "      <th>4</th>\n",
              "      <td>27</td>\n",
              "      <td>No</td>\n",
              "      <td>Travel_Rarely</td>\n",
              "      <td>591</td>\n",
              "      <td>Research &amp; Development</td>\n",
              "      <td>2</td>\n",
              "      <td>1</td>\n",
              "      <td>Medical</td>\n",
              "      <td>1</td>\n",
              "      <td>7</td>\n",
              "      <td>...</td>\n",
              "      <td>4</td>\n",
              "      <td>80</td>\n",
              "      <td>1</td>\n",
              "      <td>6</td>\n",
              "      <td>3</td>\n",
              "      <td>3</td>\n",
              "      <td>2</td>\n",
              "      <td>2</td>\n",
              "      <td>2</td>\n",
              "      <td>2</td>\n",
              "    </tr>\n",
              "  </tbody>\n",
              "</table>\n",
              "<p>5 rows × 35 columns</p>\n",
              "</div>"
            ],
            "text/plain": [
              "   Age Attrition     BusinessTravel  DailyRate              Department  \\\n",
              "0   41       Yes      Travel_Rarely       1102                   Sales   \n",
              "1   49        No  Travel_Frequently        279  Research & Development   \n",
              "2   37       Yes      Travel_Rarely       1373  Research & Development   \n",
              "3   33        No  Travel_Frequently       1392  Research & Development   \n",
              "4   27        No      Travel_Rarely        591  Research & Development   \n",
              "\n",
              "   DistanceFromHome  Education EducationField  EmployeeCount  EmployeeNumber  \\\n",
              "0                 1          2  Life Sciences              1               1   \n",
              "1                 8          1  Life Sciences              1               2   \n",
              "2                 2          2          Other              1               4   \n",
              "3                 3          4  Life Sciences              1               5   \n",
              "4                 2          1        Medical              1               7   \n",
              "\n",
              "   ...  RelationshipSatisfaction StandardHours  StockOptionLevel  \\\n",
              "0  ...                         1            80                 0   \n",
              "1  ...                         4            80                 1   \n",
              "2  ...                         2            80                 0   \n",
              "3  ...                         3            80                 0   \n",
              "4  ...                         4            80                 1   \n",
              "\n",
              "   TotalWorkingYears  TrainingTimesLastYear WorkLifeBalance  YearsAtCompany  \\\n",
              "0                  8                      0               1               6   \n",
              "1                 10                      3               3              10   \n",
              "2                  7                      3               3               0   \n",
              "3                  8                      3               3               8   \n",
              "4                  6                      3               3               2   \n",
              "\n",
              "  YearsInCurrentRole  YearsSinceLastPromotion  YearsWithCurrManager  \n",
              "0                  4                        0                     5  \n",
              "1                  7                        1                     7  \n",
              "2                  0                        0                     0  \n",
              "3                  7                        3                     0  \n",
              "4                  2                        2                     2  \n",
              "\n",
              "[5 rows x 35 columns]"
            ]
          },
          "execution_count": 14,
          "metadata": {},
          "output_type": "execute_result"
        }
      ],
      "source": [
        "# Notice that pandas can read directly from a zip archive, without needing to unzip it first\n",
        "df = pd.read_csv('Week05/data/WA_Fn-UseC_-HR-Employee-Attrition.csv')\n",
        "df.head()"
      ]
    },
    {
      "cell_type": "markdown",
      "id": "8b60157c",
      "metadata": {},
      "source": [
        "The dataset is clean, column names and datatypes are OK, so we can proceed to visualise the data."
      ]
    },
    {
      "cell_type": "code",
      "execution_count": 15,
      "id": "bcc6bbfa",
      "metadata": {},
      "outputs": [
        {
          "name": "stdout",
          "output_type": "stream",
          "text": [
            "<class 'pandas.core.frame.DataFrame'>\n",
            "RangeIndex: 1470 entries, 0 to 1469\n",
            "Data columns (total 35 columns):\n",
            " #   Column                    Non-Null Count  Dtype \n",
            "---  ------                    --------------  ----- \n",
            " 0   Age                       1470 non-null   int64 \n",
            " 1   Attrition                 1470 non-null   object\n",
            " 2   BusinessTravel            1470 non-null   object\n",
            " 3   DailyRate                 1470 non-null   int64 \n",
            " 4   Department                1470 non-null   object\n",
            " 5   DistanceFromHome          1470 non-null   int64 \n",
            " 6   Education                 1470 non-null   int64 \n",
            " 7   EducationField            1470 non-null   object\n",
            " 8   EmployeeCount             1470 non-null   int64 \n",
            " 9   EmployeeNumber            1470 non-null   int64 \n",
            " 10  EnvironmentSatisfaction   1470 non-null   int64 \n",
            " 11  Gender                    1470 non-null   object\n",
            " 12  HourlyRate                1470 non-null   int64 \n",
            " 13  JobInvolvement            1470 non-null   int64 \n",
            " 14  JobLevel                  1470 non-null   int64 \n",
            " 15  JobRole                   1470 non-null   object\n",
            " 16  JobSatisfaction           1470 non-null   int64 \n",
            " 17  MaritalStatus             1470 non-null   object\n",
            " 18  MonthlyIncome             1470 non-null   int64 \n",
            " 19  MonthlyRate               1470 non-null   int64 \n",
            " 20  NumCompaniesWorked        1470 non-null   int64 \n",
            " 21  Over18                    1470 non-null   object\n",
            " 22  OverTime                  1470 non-null   object\n",
            " 23  PercentSalaryHike         1470 non-null   int64 \n",
            " 24  PerformanceRating         1470 non-null   int64 \n",
            " 25  RelationshipSatisfaction  1470 non-null   int64 \n",
            " 26  StandardHours             1470 non-null   int64 \n",
            " 27  StockOptionLevel          1470 non-null   int64 \n",
            " 28  TotalWorkingYears         1470 non-null   int64 \n",
            " 29  TrainingTimesLastYear     1470 non-null   int64 \n",
            " 30  WorkLifeBalance           1470 non-null   int64 \n",
            " 31  YearsAtCompany            1470 non-null   int64 \n",
            " 32  YearsInCurrentRole        1470 non-null   int64 \n",
            " 33  YearsSinceLastPromotion   1470 non-null   int64 \n",
            " 34  YearsWithCurrManager      1470 non-null   int64 \n",
            "dtypes: int64(26), object(9)\n",
            "memory usage: 402.1+ KB\n"
          ]
        }
      ],
      "source": [
        "df.info()"
      ]
    },
    {
      "cell_type": "markdown",
      "id": "a4430b9a",
      "metadata": {},
      "source": [
        "Now we are going to group the object (soon to be converted to categorical) and number (Int64) columns so that we can investigate them with suitable plot types."
      ]
    },
    {
      "cell_type": "code",
      "execution_count": 16,
      "id": "edc5bb38",
      "metadata": {},
      "outputs": [],
      "source": [
        "cat_col = [col for col in df.columns if df[col].dtype == 'object']\n",
        "num_col = [col for col in df.columns if df[col].dtype == 'int64']"
      ]
    },
    {
      "cell_type": "markdown",
      "id": "3b8c5230",
      "metadata": {},
      "source": [
        "Using the concepts in [this answer](https://stackoverflow.com/a/41644154/1988855), here is a oneliner that converts all object columns to categories (which is more convenient in this case). NB - students are advised to test first and to apply such one liners only when they are sure that this is appropriate."
      ]
    },
    {
      "cell_type": "code",
      "execution_count": 17,
      "id": "826ae986",
      "metadata": {},
      "outputs": [
        {
          "name": "stdout",
          "output_type": "stream",
          "text": [
            "<class 'pandas.core.frame.DataFrame'>\n",
            "RangeIndex: 1470 entries, 0 to 1469\n",
            "Data columns (total 35 columns):\n",
            " #   Column                    Non-Null Count  Dtype   \n",
            "---  ------                    --------------  -----   \n",
            " 0   Age                       1470 non-null   int64   \n",
            " 1   Attrition                 1470 non-null   category\n",
            " 2   BusinessTravel            1470 non-null   category\n",
            " 3   DailyRate                 1470 non-null   int64   \n",
            " 4   Department                1470 non-null   category\n",
            " 5   DistanceFromHome          1470 non-null   int64   \n",
            " 6   Education                 1470 non-null   int64   \n",
            " 7   EducationField            1470 non-null   category\n",
            " 8   EmployeeCount             1470 non-null   int64   \n",
            " 9   EmployeeNumber            1470 non-null   int64   \n",
            " 10  EnvironmentSatisfaction   1470 non-null   int64   \n",
            " 11  Gender                    1470 non-null   category\n",
            " 12  HourlyRate                1470 non-null   int64   \n",
            " 13  JobInvolvement            1470 non-null   int64   \n",
            " 14  JobLevel                  1470 non-null   int64   \n",
            " 15  JobRole                   1470 non-null   category\n",
            " 16  JobSatisfaction           1470 non-null   int64   \n",
            " 17  MaritalStatus             1470 non-null   category\n",
            " 18  MonthlyIncome             1470 non-null   int64   \n",
            " 19  MonthlyRate               1470 non-null   int64   \n",
            " 20  NumCompaniesWorked        1470 non-null   int64   \n",
            " 21  Over18                    1470 non-null   category\n",
            " 22  OverTime                  1470 non-null   category\n",
            " 23  PercentSalaryHike         1470 non-null   int64   \n",
            " 24  PerformanceRating         1470 non-null   int64   \n",
            " 25  RelationshipSatisfaction  1470 non-null   int64   \n",
            " 26  StandardHours             1470 non-null   int64   \n",
            " 27  StockOptionLevel          1470 non-null   int64   \n",
            " 28  TotalWorkingYears         1470 non-null   int64   \n",
            " 29  TrainingTimesLastYear     1470 non-null   int64   \n",
            " 30  WorkLifeBalance           1470 non-null   int64   \n",
            " 31  YearsAtCompany            1470 non-null   int64   \n",
            " 32  YearsInCurrentRole        1470 non-null   int64   \n",
            " 33  YearsSinceLastPromotion   1470 non-null   int64   \n",
            " 34  YearsWithCurrManager      1470 non-null   int64   \n",
            "dtypes: category(9), int64(26)\n",
            "memory usage: 313.1 KB\n"
          ]
        }
      ],
      "source": [
        "df[df.select_dtypes(['object']).columns] = df.select_dtypes(['object']).apply(lambda x: x.astype('category'))\n",
        "df.info()"
      ]
    },
    {
      "cell_type": "markdown",
      "id": "b3e0461b",
      "metadata": {},
      "source": [
        "## Categorical column analysis"
      ]
    },
    {
      "cell_type": "code",
      "execution_count": 18,
      "id": "2e72ade2",
      "metadata": {},
      "outputs": [],
      "source": [
        "\n",
        "ddCol = widgets.Dropdown(options=cat_col, value=cat_col[0], description=\"Column\")\n",
        "ddHue = widgets.Dropdown(options=cat_col, value=cat_col[0], description=\"Hue\")\n",
        "orient = [\"h\", \"v\"]\n",
        "ddOrient = widgets.Dropdown(options=orient, value=orient[0], description=\"Orient\")\n",
        "\n",
        "uiControls = widgets.HBox([ddCol, ddHue, ddOrient])"
      ]
    },
    {
      "cell_type": "markdown",
      "id": "382bfa42",
      "metadata": {},
      "source": [
        "Now define a wrapper function around countplot, to use the dropdown values supplied interactively by the user from the uiControls widgets."
      ]
    },
    {
      "cell_type": "code",
      "execution_count": 19,
      "id": "5b323340",
      "metadata": {},
      "outputs": [],
      "source": [
        "def doCountplot(column, hue, orient):\n",
        "    p=sns.countplot(data=df, x=column, hue=hue, orient=orient)"
      ]
    },
    {
      "cell_type": "markdown",
      "id": "153c5616",
      "metadata": {},
      "source": [
        "Now create the interactive plot and display the ui controls and the interactive plot together. Note that when the dropdown values change, the plot is redrawn automatically."
      ]
    },
    {
      "cell_type": "code",
      "execution_count": 20,
      "id": "32a7b57b",
      "metadata": {},
      "outputs": [
        {
          "data": {
            "application/vnd.jupyter.widget-view+json": {
              "model_id": "7f3ff32e557b4ce39280c2db8175f46c",
              "version_major": 2,
              "version_minor": 0
            },
            "text/plain": [
              "HBox(children=(Dropdown(description='Column', options=('Attrition', 'BusinessTravel', 'Department', 'Education…"
            ]
          },
          "metadata": {},
          "output_type": "display_data"
        },
        {
          "data": {
            "application/vnd.jupyter.widget-view+json": {
              "model_id": "c349623628e74ff4a476240af273beaa",
              "version_major": 2,
              "version_minor": 0
            },
            "text/plain": [
              "Output()"
            ]
          },
          "metadata": {},
          "output_type": "display_data"
        }
      ],
      "source": [
        "out = widgets.interactive_output(doCountplot, {\"column\":ddCol, \"hue\":ddHue, \"orient\":ddOrient})\n",
        "display(uiControls, out)"
      ]
    },
    {
      "cell_type": "markdown",
      "id": "19dff740",
      "metadata": {},
      "source": [
        "Note that sometimes the formatting needs to be improved because the default settings, as above do nnot suit, e.g., if the category has a large number of values. However, this is a good way to investigate many options quickly (with very little coding)."
      ]
    },
    {
      "cell_type": "markdown",
      "id": "d262b380",
      "metadata": {},
      "source": [
        "## Numerical column analysis\n",
        "\n",
        "We can also look at the numerical columns `num_col`. There are very many seaborn plot types for numeric data in particular. Here we consider one of the simplest such plot type: [relplot](https://seaborn.pydata.org/generated/seaborn.relplot.html), which is a generalisation of scatterplots and lineplots.\n",
        "\n",
        "We set up dropdowns as before, this time for the `x` and `y` axis data for the plot, as well as the (categorical-valued) `hue`, which can be used for grouping as before.\n",
        "\n",
        "To make things interesting, we also introduce the ability to filter the data so that the rows considered have Age less than or equal to what is chosen in the slider. The default setting is the maximum age found in the data, which has the effect of including all rows."
      ]
    },
    {
      "cell_type": "code",
      "execution_count": 21,
      "id": "f3c9b5cb",
      "metadata": {},
      "outputs": [],
      "source": [
        "ddX = widgets.Dropdown(options=num_col, value=num_col[0], description=\"x\")\n",
        "ddY = widgets.Dropdown(options=num_col, value=num_col[0], description=\"y\")\n",
        "ddHue = widgets.Dropdown(options=cat_col, value=cat_col[0], description=\"Hue\")\n",
        "slAge = widgets.IntSlider(value=df[\"Age\"].max() , min= df[\"Age\"].min(), max= df[\"Age\"].max(), description='MaxAge')\n",
        "\n",
        "upperBox = widgets.HBox([ddX, ddY])\n",
        "lowerBox = widgets.HBox([ddHue, slAge])\n",
        "uiControls = widgets.VBox([upperBox, lowerBox])"
      ]
    },
    {
      "cell_type": "markdown",
      "id": "926bd816",
      "metadata": {},
      "source": [
        "Now we define the `relplot` wrapping function, including the maxAge filter."
      ]
    },
    {
      "cell_type": "code",
      "execution_count": 22,
      "id": "b8499dff",
      "metadata": {},
      "outputs": [],
      "source": [
        "def doRelplot(col1, col2, hue, maxAge):\n",
        "    p = sns.relplot(data=df[df[\"Age\"]<=maxAge], x=col1, y=col2, hue=hue)"
      ]
    },
    {
      "cell_type": "markdown",
      "id": "4471af39",
      "metadata": {},
      "source": [
        "As before, we need to create the interactive plot, and to display the uiControls and it on the screen."
      ]
    },
    {
      "cell_type": "code",
      "execution_count": 23,
      "id": "58575962",
      "metadata": {},
      "outputs": [
        {
          "data": {
            "application/vnd.jupyter.widget-view+json": {
              "model_id": "e61802ce14cc45d8bdd34f0a6113cbe2",
              "version_major": 2,
              "version_minor": 0
            },
            "text/plain": [
              "VBox(children=(HBox(children=(Dropdown(description='x', options=('Age', 'DailyRate', 'DistanceFromHome', 'Educ…"
            ]
          },
          "metadata": {},
          "output_type": "display_data"
        },
        {
          "data": {
            "application/vnd.jupyter.widget-view+json": {
              "model_id": "0c668b567ccd4bd688b2ba6f49e8cbb1",
              "version_major": 2,
              "version_minor": 0
            },
            "text/plain": [
              "Output()"
            ]
          },
          "metadata": {},
          "output_type": "display_data"
        }
      ],
      "source": [
        "out = widgets.interactive_output(doRelplot, {\"col1\":ddX, \"col2\":ddY, \"hue\":ddHue, \"maxAge\":slAge})\n",
        "display(uiControls, out)"
      ]
    },
    {
      "cell_type": "markdown",
      "id": "5bfc6bd5",
      "metadata": {},
      "source": [
        "## Exercise\n",
        "\n",
        "1. This is a rich dataset. Try some of the visualisation plot types that were shown in class, choosing suitable UI controls to enter parameter values, writing wrappers and exploring the data with your interactive plots, noting why you used that visualisation and what you found.\n",
        "\n",
        "2. If you wished to do something similar programmatically, how would you do this? NB: You can do better than copying and pasting code many times!"
      ]
    },
    {
      "cell_type": "code",
      "execution_count": 26,
      "id": "777aa179",
      "metadata": {},
      "outputs": [
        {
          "data": {
            "application/vnd.jupyter.widget-view+json": {
              "model_id": "93d6c0d2c7294d4ca713339fc36e9bdf",
              "version_major": 2,
              "version_minor": 0
            },
            "text/plain": [
              "VBox(children=(HBox(children=(Dropdown(description='x', options=('Age', 'DailyRate', 'DistanceFromHome', 'Educ…"
            ]
          },
          "metadata": {},
          "output_type": "display_data"
        },
        {
          "data": {
            "application/vnd.jupyter.widget-view+json": {
              "model_id": "a631d2ec90e649b8b9f12cea1dd07066",
              "version_major": 2,
              "version_minor": 0
            },
            "text/plain": [
              "Output()"
            ]
          },
          "metadata": {},
          "output_type": "display_data"
        }
      ],
      "source": [
        "ddX = widgets.Dropdown(options=num_col, value=num_col[0], description=\"x\")\n",
        "ddY = widgets.Dropdown(options=num_col, value=num_col[0], description=\"y\")\n",
        "ddHue = widgets.Dropdown(options=cat_col, value=cat_col[0], description=\"Hue\")\n",
        "slAge = widgets.IntSlider(value=df[\"Age\"].max() , min= df[\"Age\"].min(), max= df[\"Age\"].max(), description='MaxAge')\n",
        "\n",
        "upperBox = widgets.HBox([ddX, ddY])\n",
        "lowerBox = widgets.HBox([ddHue, slAge])\n",
        "uiControls = widgets.VBox([upperBox, lowerBox])\n",
        "\n",
        "def doCountplot(column, hue, orient):\n",
        "    p=sns.countplot(data=df, x=column, hue=hue, orient=orient)\n",
        "\n",
        "out = widgets.interactive_output(doRelplot, {\"col1\":ddX, \"col2\":ddY, \"hue\":ddHue, \"maxAge\":slAge})\n",
        "display(uiControls, out)"
      ]
    },
    {
      "cell_type": "code",
      "execution_count": 24,
      "id": "51f04924",
      "metadata": {},
      "outputs": [
        {
          "data": {
            "application/vnd.jupyter.widget-view+json": {
              "model_id": "6d9b74c1422a4ec59b39d449da6b90ed",
              "version_major": 2,
              "version_minor": 0
            },
            "text/plain": [
              "VBox(children=(HBox(children=(Dropdown(description='x', options=('Age', 'DailyRate', 'DistanceFromHome', 'Educ…"
            ]
          },
          "metadata": {},
          "output_type": "display_data"
        },
        {
          "data": {
            "application/vnd.jupyter.widget-view+json": {
              "model_id": "40eb2afbd05e41efbb0e315d4ae3a1e4",
              "version_major": 2,
              "version_minor": 0
            },
            "text/plain": [
              "Output()"
            ]
          },
          "metadata": {},
          "output_type": "display_data"
        }
      ],
      "source": [
        "ddCol = widgets.Dropdown(options=cat_col, value=cat_col[0], description=\"Column\")\n",
        "ddHue = widgets.Dropdown(options=cat_col, value=cat_col[0], description=\"Hue\")\n",
        "orient = [\"h\", \"v\"]\n",
        "ddOrient = widgets.Dropdown(options=orient, value=orient[0], description=\"Orient\")\n",
        "\n",
        "uiControls = widgets.HBox([ddCol, ddHue, ddOrient])\n",
        "\n",
        "def doRelplot(col1, col2, hue, maxAge):\n",
        "    p = sns.relplot(data=df[df[\"Age\"]<=maxAge], x=col1, y=col2, hue=hue)\n",
        "\n",
        "out = widgets.interactive_output(doRelplot, {\"col1\":ddX, \"col2\":ddY, \"hue\":ddHue, \"maxAge\":slAge})\n",
        "display(uiControls, out)"
      ]
    }
  ],
  "metadata": {
    "kernelspec": {
      "display_name": "Python 3 (ipykernel)",
      "language": "python",
      "name": "python3"
    },
    "language_info": {
      "codemirror_mode": {
        "name": "ipython",
        "version": 3
      },
      "file_extension": ".py",
      "mimetype": "text/x-python",
      "name": "python",
      "nbconvert_exporter": "python",
      "pygments_lexer": "ipython3",
      "version": "3.12.3"
    }
  },
  "nbformat": 4,
  "nbformat_minor": 5
}
