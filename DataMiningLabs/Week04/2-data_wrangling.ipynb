{
  "cells": [
    {
      "cell_type": "markdown",
      "id": "dbd2b51a",
      "metadata": {
        "slideshow": {
          "slide_type": "slide"
        },
        "tags": []
      },
      "source": [
        "# Section 2: Data Wrangling\n",
        "\n",
        "To prepare our data for analysis, we need to perform data wrangling. In this section, we will learn how to clean and reformat data (e.g., renaming columns and fixing data type mismatches), restructure/reshape it, and enrich it (e.g., discretizing columns, calculating aggregations, and combining data sources)."
      ]
    },
    {
      "cell_type": "markdown",
      "id": "4fbcad6f",
      "metadata": {
        "slideshow": {
          "slide_type": "slide"
        },
        "tags": []
      },
      "source": [
        "## Data cleaning\n",
        "\n",
        "In this section, we will take a look at creating, renaming, and dropping columns; type conversion; and sorting &ndash; all of which make our analysis easier. We will be working with the 2019 Yellow Taxi Trip Data provided by NYC Open Data."
      ]
    },
    {
      "cell_type": "code",
      "execution_count": 157,
      "id": "3779b4bb",
      "metadata": {},
      "outputs": [
        {
          "data": {
            "text/html": [
              "<div>\n",
              "<style scoped>\n",
              "    .dataframe tbody tr th:only-of-type {\n",
              "        vertical-align: middle;\n",
              "    }\n",
              "\n",
              "    .dataframe tbody tr th {\n",
              "        vertical-align: top;\n",
              "    }\n",
              "\n",
              "    .dataframe thead th {\n",
              "        text-align: right;\n",
              "    }\n",
              "</style>\n",
              "<table border=\"1\" class=\"dataframe\">\n",
              "  <thead>\n",
              "    <tr style=\"text-align: right;\">\n",
              "      <th></th>\n",
              "      <th>vendorid</th>\n",
              "      <th>tpep_pickup_datetime</th>\n",
              "      <th>tpep_dropoff_datetime</th>\n",
              "      <th>passenger_count</th>\n",
              "      <th>trip_distance</th>\n",
              "      <th>ratecodeid</th>\n",
              "      <th>store_and_fwd_flag</th>\n",
              "      <th>pulocationid</th>\n",
              "      <th>dolocationid</th>\n",
              "      <th>payment_type</th>\n",
              "      <th>fare_amount</th>\n",
              "      <th>extra</th>\n",
              "      <th>mta_tax</th>\n",
              "      <th>tip_amount</th>\n",
              "      <th>tolls_amount</th>\n",
              "      <th>improvement_surcharge</th>\n",
              "      <th>total_amount</th>\n",
              "      <th>congestion_surcharge</th>\n",
              "    </tr>\n",
              "  </thead>\n",
              "  <tbody>\n",
              "    <tr>\n",
              "      <th>0</th>\n",
              "      <td>2</td>\n",
              "      <td>2019-10-23T16:39:42.000</td>\n",
              "      <td>2019-10-23T17:14:10.000</td>\n",
              "      <td>1</td>\n",
              "      <td>7.93</td>\n",
              "      <td>1</td>\n",
              "      <td>N</td>\n",
              "      <td>138</td>\n",
              "      <td>170</td>\n",
              "      <td>1</td>\n",
              "      <td>29.5</td>\n",
              "      <td>1.0</td>\n",
              "      <td>0.5</td>\n",
              "      <td>7.98</td>\n",
              "      <td>6.12</td>\n",
              "      <td>0.3</td>\n",
              "      <td>47.90</td>\n",
              "      <td>2.5</td>\n",
              "    </tr>\n",
              "    <tr>\n",
              "      <th>1</th>\n",
              "      <td>1</td>\n",
              "      <td>2019-10-23T16:32:08.000</td>\n",
              "      <td>2019-10-23T16:45:26.000</td>\n",
              "      <td>1</td>\n",
              "      <td>2.00</td>\n",
              "      <td>1</td>\n",
              "      <td>N</td>\n",
              "      <td>11</td>\n",
              "      <td>26</td>\n",
              "      <td>1</td>\n",
              "      <td>10.5</td>\n",
              "      <td>1.0</td>\n",
              "      <td>0.5</td>\n",
              "      <td>0.00</td>\n",
              "      <td>0.00</td>\n",
              "      <td>0.3</td>\n",
              "      <td>12.30</td>\n",
              "      <td>0.0</td>\n",
              "    </tr>\n",
              "    <tr>\n",
              "      <th>2</th>\n",
              "      <td>2</td>\n",
              "      <td>2019-10-23T16:08:44.000</td>\n",
              "      <td>2019-10-23T16:21:11.000</td>\n",
              "      <td>1</td>\n",
              "      <td>1.36</td>\n",
              "      <td>1</td>\n",
              "      <td>N</td>\n",
              "      <td>163</td>\n",
              "      <td>162</td>\n",
              "      <td>1</td>\n",
              "      <td>9.5</td>\n",
              "      <td>1.0</td>\n",
              "      <td>0.5</td>\n",
              "      <td>2.00</td>\n",
              "      <td>0.00</td>\n",
              "      <td>0.3</td>\n",
              "      <td>15.80</td>\n",
              "      <td>2.5</td>\n",
              "    </tr>\n",
              "    <tr>\n",
              "      <th>3</th>\n",
              "      <td>2</td>\n",
              "      <td>2019-10-23T16:22:44.000</td>\n",
              "      <td>2019-10-23T16:43:26.000</td>\n",
              "      <td>1</td>\n",
              "      <td>1.00</td>\n",
              "      <td>1</td>\n",
              "      <td>N</td>\n",
              "      <td>170</td>\n",
              "      <td>163</td>\n",
              "      <td>1</td>\n",
              "      <td>13.0</td>\n",
              "      <td>1.0</td>\n",
              "      <td>0.5</td>\n",
              "      <td>4.32</td>\n",
              "      <td>0.00</td>\n",
              "      <td>0.3</td>\n",
              "      <td>21.62</td>\n",
              "      <td>2.5</td>\n",
              "    </tr>\n",
              "    <tr>\n",
              "      <th>4</th>\n",
              "      <td>2</td>\n",
              "      <td>2019-10-23T16:45:11.000</td>\n",
              "      <td>2019-10-23T16:58:49.000</td>\n",
              "      <td>1</td>\n",
              "      <td>1.96</td>\n",
              "      <td>1</td>\n",
              "      <td>N</td>\n",
              "      <td>163</td>\n",
              "      <td>236</td>\n",
              "      <td>1</td>\n",
              "      <td>10.5</td>\n",
              "      <td>1.0</td>\n",
              "      <td>0.5</td>\n",
              "      <td>0.50</td>\n",
              "      <td>0.00</td>\n",
              "      <td>0.3</td>\n",
              "      <td>15.30</td>\n",
              "      <td>2.5</td>\n",
              "    </tr>\n",
              "  </tbody>\n",
              "</table>\n",
              "</div>"
            ],
            "text/plain": [
              "   vendorid     tpep_pickup_datetime    tpep_dropoff_datetime  \\\n",
              "0         2  2019-10-23T16:39:42.000  2019-10-23T17:14:10.000   \n",
              "1         1  2019-10-23T16:32:08.000  2019-10-23T16:45:26.000   \n",
              "2         2  2019-10-23T16:08:44.000  2019-10-23T16:21:11.000   \n",
              "3         2  2019-10-23T16:22:44.000  2019-10-23T16:43:26.000   \n",
              "4         2  2019-10-23T16:45:11.000  2019-10-23T16:58:49.000   \n",
              "\n",
              "   passenger_count  trip_distance  ratecodeid store_and_fwd_flag  \\\n",
              "0                1           7.93           1                  N   \n",
              "1                1           2.00           1                  N   \n",
              "2                1           1.36           1                  N   \n",
              "3                1           1.00           1                  N   \n",
              "4                1           1.96           1                  N   \n",
              "\n",
              "   pulocationid  dolocationid  payment_type  fare_amount  extra  mta_tax  \\\n",
              "0           138           170             1         29.5    1.0      0.5   \n",
              "1            11            26             1         10.5    1.0      0.5   \n",
              "2           163           162             1          9.5    1.0      0.5   \n",
              "3           170           163             1         13.0    1.0      0.5   \n",
              "4           163           236             1         10.5    1.0      0.5   \n",
              "\n",
              "   tip_amount  tolls_amount  improvement_surcharge  total_amount  \\\n",
              "0        7.98          6.12                    0.3         47.90   \n",
              "1        0.00          0.00                    0.3         12.30   \n",
              "2        2.00          0.00                    0.3         15.80   \n",
              "3        4.32          0.00                    0.3         21.62   \n",
              "4        0.50          0.00                    0.3         15.30   \n",
              "\n",
              "   congestion_surcharge  \n",
              "0                   2.5  \n",
              "1                   0.0  \n",
              "2                   2.5  \n",
              "3                   2.5  \n",
              "4                   2.5  "
            ]
          },
          "execution_count": 157,
          "metadata": {},
          "output_type": "execute_result"
        }
      ],
      "source": [
        "import pandas as pd\n",
        "\n",
        "taxis = pd.read_csv('Week04/data/2019_Yellow_Taxi_Trip_Data.csv')\n",
        "taxis.head()"
      ]
    },
    {
      "cell_type": "markdown",
      "id": "1e3192d2",
      "metadata": {},
      "source": [
        "*Source: [NYC Open Data](https://data.cityofnewyork.us/Transportation/2019-Yellow-Taxi-Trip-Data/2upf-qytp) collected via [SODA](https://dev.socrata.com/foundry/data.cityofnewyork.us/2upf-qytp).*"
      ]
    },
    {
      "cell_type": "markdown",
      "id": "1a79ab16",
      "metadata": {
        "slideshow": {
          "slide_type": "subslide"
        },
        "tags": []
      },
      "source": [
        "### Dropping columns\n",
        "Let's start by dropping the ID columns and the `store_and_fwd_flag` column, which we won't be using."
      ]
    },
    {
      "cell_type": "code",
      "execution_count": 158,
      "id": "5b609a2b",
      "metadata": {
        "slideshow": {
          "slide_type": "fragment"
        },
        "tags": []
      },
      "outputs": [
        {
          "data": {
            "text/plain": [
              "Index(['vendorid', 'ratecodeid', 'store_and_fwd_flag', 'pulocationid',\n",
              "       'dolocationid'],\n",
              "      dtype='object')"
            ]
          },
          "execution_count": 158,
          "metadata": {},
          "output_type": "execute_result"
        }
      ],
      "source": [
        "mask = taxis.columns.str.contains('id$|store_and_fwd_flag', regex=True)\n",
        "columns_to_drop = taxis.columns[mask]\n",
        "columns_to_drop"
      ]
    },
    {
      "cell_type": "code",
      "execution_count": 159,
      "id": "74a2afc3",
      "metadata": {
        "slideshow": {
          "slide_type": "subslide"
        },
        "tags": []
      },
      "outputs": [
        {
          "data": {
            "text/html": [
              "<div>\n",
              "<style scoped>\n",
              "    .dataframe tbody tr th:only-of-type {\n",
              "        vertical-align: middle;\n",
              "    }\n",
              "\n",
              "    .dataframe tbody tr th {\n",
              "        vertical-align: top;\n",
              "    }\n",
              "\n",
              "    .dataframe thead th {\n",
              "        text-align: right;\n",
              "    }\n",
              "</style>\n",
              "<table border=\"1\" class=\"dataframe\">\n",
              "  <thead>\n",
              "    <tr style=\"text-align: right;\">\n",
              "      <th></th>\n",
              "      <th>tpep_pickup_datetime</th>\n",
              "      <th>tpep_dropoff_datetime</th>\n",
              "      <th>passenger_count</th>\n",
              "      <th>trip_distance</th>\n",
              "      <th>payment_type</th>\n",
              "      <th>fare_amount</th>\n",
              "      <th>extra</th>\n",
              "      <th>mta_tax</th>\n",
              "      <th>tip_amount</th>\n",
              "      <th>tolls_amount</th>\n",
              "      <th>improvement_surcharge</th>\n",
              "      <th>total_amount</th>\n",
              "      <th>congestion_surcharge</th>\n",
              "    </tr>\n",
              "  </thead>\n",
              "  <tbody>\n",
              "    <tr>\n",
              "      <th>0</th>\n",
              "      <td>2019-10-23T16:39:42.000</td>\n",
              "      <td>2019-10-23T17:14:10.000</td>\n",
              "      <td>1</td>\n",
              "      <td>7.93</td>\n",
              "      <td>1</td>\n",
              "      <td>29.5</td>\n",
              "      <td>1.0</td>\n",
              "      <td>0.5</td>\n",
              "      <td>7.98</td>\n",
              "      <td>6.12</td>\n",
              "      <td>0.3</td>\n",
              "      <td>47.90</td>\n",
              "      <td>2.5</td>\n",
              "    </tr>\n",
              "    <tr>\n",
              "      <th>1</th>\n",
              "      <td>2019-10-23T16:32:08.000</td>\n",
              "      <td>2019-10-23T16:45:26.000</td>\n",
              "      <td>1</td>\n",
              "      <td>2.00</td>\n",
              "      <td>1</td>\n",
              "      <td>10.5</td>\n",
              "      <td>1.0</td>\n",
              "      <td>0.5</td>\n",
              "      <td>0.00</td>\n",
              "      <td>0.00</td>\n",
              "      <td>0.3</td>\n",
              "      <td>12.30</td>\n",
              "      <td>0.0</td>\n",
              "    </tr>\n",
              "    <tr>\n",
              "      <th>2</th>\n",
              "      <td>2019-10-23T16:08:44.000</td>\n",
              "      <td>2019-10-23T16:21:11.000</td>\n",
              "      <td>1</td>\n",
              "      <td>1.36</td>\n",
              "      <td>1</td>\n",
              "      <td>9.5</td>\n",
              "      <td>1.0</td>\n",
              "      <td>0.5</td>\n",
              "      <td>2.00</td>\n",
              "      <td>0.00</td>\n",
              "      <td>0.3</td>\n",
              "      <td>15.80</td>\n",
              "      <td>2.5</td>\n",
              "    </tr>\n",
              "    <tr>\n",
              "      <th>3</th>\n",
              "      <td>2019-10-23T16:22:44.000</td>\n",
              "      <td>2019-10-23T16:43:26.000</td>\n",
              "      <td>1</td>\n",
              "      <td>1.00</td>\n",
              "      <td>1</td>\n",
              "      <td>13.0</td>\n",
              "      <td>1.0</td>\n",
              "      <td>0.5</td>\n",
              "      <td>4.32</td>\n",
              "      <td>0.00</td>\n",
              "      <td>0.3</td>\n",
              "      <td>21.62</td>\n",
              "      <td>2.5</td>\n",
              "    </tr>\n",
              "    <tr>\n",
              "      <th>4</th>\n",
              "      <td>2019-10-23T16:45:11.000</td>\n",
              "      <td>2019-10-23T16:58:49.000</td>\n",
              "      <td>1</td>\n",
              "      <td>1.96</td>\n",
              "      <td>1</td>\n",
              "      <td>10.5</td>\n",
              "      <td>1.0</td>\n",
              "      <td>0.5</td>\n",
              "      <td>0.50</td>\n",
              "      <td>0.00</td>\n",
              "      <td>0.3</td>\n",
              "      <td>15.30</td>\n",
              "      <td>2.5</td>\n",
              "    </tr>\n",
              "  </tbody>\n",
              "</table>\n",
              "</div>"
            ],
            "text/plain": [
              "      tpep_pickup_datetime    tpep_dropoff_datetime  passenger_count  \\\n",
              "0  2019-10-23T16:39:42.000  2019-10-23T17:14:10.000                1   \n",
              "1  2019-10-23T16:32:08.000  2019-10-23T16:45:26.000                1   \n",
              "2  2019-10-23T16:08:44.000  2019-10-23T16:21:11.000                1   \n",
              "3  2019-10-23T16:22:44.000  2019-10-23T16:43:26.000                1   \n",
              "4  2019-10-23T16:45:11.000  2019-10-23T16:58:49.000                1   \n",
              "\n",
              "   trip_distance  payment_type  fare_amount  extra  mta_tax  tip_amount  \\\n",
              "0           7.93             1         29.5    1.0      0.5        7.98   \n",
              "1           2.00             1         10.5    1.0      0.5        0.00   \n",
              "2           1.36             1          9.5    1.0      0.5        2.00   \n",
              "3           1.00             1         13.0    1.0      0.5        4.32   \n",
              "4           1.96             1         10.5    1.0      0.5        0.50   \n",
              "\n",
              "   tolls_amount  improvement_surcharge  total_amount  congestion_surcharge  \n",
              "0          6.12                    0.3         47.90                   2.5  \n",
              "1          0.00                    0.3         12.30                   0.0  \n",
              "2          0.00                    0.3         15.80                   2.5  \n",
              "3          0.00                    0.3         21.62                   2.5  \n",
              "4          0.00                    0.3         15.30                   2.5  "
            ]
          },
          "execution_count": 159,
          "metadata": {},
          "output_type": "execute_result"
        }
      ],
      "source": [
        "taxis = taxis.drop(columns=columns_to_drop)\n",
        "taxis.head()"
      ]
    },
    {
      "cell_type": "markdown",
      "id": "c8f3638c",
      "metadata": {
        "slideshow": {
          "slide_type": "fragment"
        },
        "tags": []
      },
      "source": [
        "*Tip: Another way to do this is to select the columns we want to keep: `taxis.loc[:,~mask]`.*"
      ]
    },
    {
      "cell_type": "markdown",
      "id": "f82ecd34",
      "metadata": {
        "slideshow": {
          "slide_type": "subslide"
        },
        "tags": []
      },
      "source": [
        "### Renaming columns\n",
        "\n",
        "Next, let's rename the datetime columns:"
      ]
    },
    {
      "cell_type": "code",
      "execution_count": 160,
      "id": "1f472d81",
      "metadata": {},
      "outputs": [
        {
          "data": {
            "text/plain": [
              "Index(['pickup', 'dropoff', 'passenger_count', 'trip_distance', 'payment_type',\n",
              "       'fare_amount', 'extra', 'mta_tax', 'tip_amount', 'tolls_amount',\n",
              "       'improvement_surcharge', 'total_amount', 'congestion_surcharge'],\n",
              "      dtype='object')"
            ]
          },
          "execution_count": 160,
          "metadata": {},
          "output_type": "execute_result"
        }
      ],
      "source": [
        "taxis.rename(\n",
        "    columns={\n",
        "        'tpep_pickup_datetime': 'pickup', \n",
        "        'tpep_dropoff_datetime': 'dropoff'\n",
        "    },\n",
        "    inplace=True\n",
        ")\n",
        "taxis.columns"
      ]
    },
    {
      "cell_type": "markdown",
      "id": "74a08f66",
      "metadata": {
        "slideshow": {
          "slide_type": "fragment"
        },
        "tags": []
      },
      "source": [
        "**Important**: This operation was performed in-place &ndash; be careful with in-place operations."
      ]
    },
    {
      "cell_type": "markdown",
      "id": "c2d7afd0",
      "metadata": {
        "slideshow": {
          "slide_type": "subslide"
        },
        "tags": []
      },
      "source": [
        "### Type conversion\n",
        "\n",
        "Notice anything off with the data types?"
      ]
    },
    {
      "cell_type": "code",
      "execution_count": 161,
      "id": "1a5656ba",
      "metadata": {},
      "outputs": [
        {
          "data": {
            "text/plain": [
              "pickup                    object\n",
              "dropoff                   object\n",
              "passenger_count            int64\n",
              "trip_distance            float64\n",
              "payment_type               int64\n",
              "fare_amount              float64\n",
              "extra                    float64\n",
              "mta_tax                  float64\n",
              "tip_amount               float64\n",
              "tolls_amount             float64\n",
              "improvement_surcharge    float64\n",
              "total_amount             float64\n",
              "congestion_surcharge     float64\n",
              "dtype: object"
            ]
          },
          "execution_count": 161,
          "metadata": {},
          "output_type": "execute_result"
        }
      ],
      "source": [
        "taxis.dtypes"
      ]
    },
    {
      "cell_type": "markdown",
      "id": "cb0260a1",
      "metadata": {
        "slideshow": {
          "slide_type": "subslide"
        },
        "tags": []
      },
      "source": [
        "Both `pickup` and `dropoff` should be stored as datetimes. Let's fix this:"
      ]
    },
    {
      "cell_type": "code",
      "execution_count": 162,
      "id": "a6a2fe22",
      "metadata": {},
      "outputs": [
        {
          "data": {
            "text/plain": [
              "pickup                    object\n",
              "dropoff                   object\n",
              "passenger_count            int64\n",
              "trip_distance            float64\n",
              "payment_type               int64\n",
              "fare_amount              float64\n",
              "extra                    float64\n",
              "mta_tax                  float64\n",
              "tip_amount               float64\n",
              "tolls_amount             float64\n",
              "improvement_surcharge    float64\n",
              "total_amount             float64\n",
              "congestion_surcharge     float64\n",
              "dtype: object"
            ]
          },
          "execution_count": 162,
          "metadata": {},
          "output_type": "execute_result"
        }
      ],
      "source": [
        "taxis.loc[:, ['pickup', 'dropoff']] = \\\n",
        "    taxis.loc[:, ['pickup', 'dropoff']].apply(pd.to_datetime)\n",
        "taxis.dtypes"
      ]
    },
    {
      "cell_type": "markdown",
      "id": "8f54a271",
      "metadata": {},
      "source": [
        "*Tip: There are other ways to perform type conversion. For numeric values, we can use the `pd.to_numeric()` function, and we will see the `astype()` method, which is a more generic method, a little later.*"
      ]
    },
    {
      "cell_type": "markdown",
      "id": "4dab511f",
      "metadata": {
        "slideshow": {
          "slide_type": "subslide"
        },
        "tags": []
      },
      "source": [
        "### Creating new columns\n",
        "\n",
        "Let's calculate the following for each row:\n",
        "\n",
        "1. elapsed time of the trip\n",
        "2. the tip percentage\n",
        "3. the total taxes, tolls, fees, and surcharges\n",
        "4. the average speed of the taxi"
      ]
    },
    {
      "cell_type": "code",
      "execution_count": 163,
      "id": "fcae14dc",
      "metadata": {
        "slideshow": {
          "slide_type": "fragment"
        },
        "tags": []
      },
      "outputs": [],
      "source": [
        "taxis['pickup'] = pd.to_datetime(taxis['pickup'])\n",
        "taxis['dropoff'] = pd.to_datetime(taxis['dropoff'])\n",
        "taxis = taxis.assign(\n",
        "    elapsed_time=lambda x: x.dropoff - x.pickup, # 1\n",
        "    cost_before_tip=lambda x: x.total_amount - x.tip_amount,\n",
        "    tip_pct=lambda x: x.tip_amount / x.cost_before_tip, # 2\n",
        "    fees=lambda x: x.cost_before_tip - x.fare_amount, # 3\n",
        "    avg_speed=lambda x: x.trip_distance.div(\n",
        "        x.elapsed_time.dt.total_seconds() / 60 / 60\n",
        "    ) # 4\n",
        ")"
      ]
    },
    {
      "cell_type": "markdown",
      "id": "6fed800a",
      "metadata": {},
      "source": [
        "*Tip: New to `lambda` functions? These small, anonymous functions can receive multiple arguments, but can only contain one expression (the return value). You will see these a lot in pandas code. Read more about them [here](https://realpython.com/python-lambda/).*"
      ]
    },
    {
      "cell_type": "markdown",
      "id": "6bf4ccd4",
      "metadata": {
        "slideshow": {
          "slide_type": "subslide"
        },
        "tags": []
      },
      "source": [
        "Our new columns get added to the right:"
      ]
    },
    {
      "cell_type": "code",
      "execution_count": 164,
      "id": "1d674399",
      "metadata": {},
      "outputs": [
        {
          "data": {
            "text/html": [
              "<div>\n",
              "<style scoped>\n",
              "    .dataframe tbody tr th:only-of-type {\n",
              "        vertical-align: middle;\n",
              "    }\n",
              "\n",
              "    .dataframe tbody tr th {\n",
              "        vertical-align: top;\n",
              "    }\n",
              "\n",
              "    .dataframe thead th {\n",
              "        text-align: right;\n",
              "    }\n",
              "</style>\n",
              "<table border=\"1\" class=\"dataframe\">\n",
              "  <thead>\n",
              "    <tr style=\"text-align: right;\">\n",
              "      <th></th>\n",
              "      <th>pickup</th>\n",
              "      <th>dropoff</th>\n",
              "      <th>passenger_count</th>\n",
              "      <th>trip_distance</th>\n",
              "      <th>payment_type</th>\n",
              "      <th>fare_amount</th>\n",
              "      <th>extra</th>\n",
              "      <th>mta_tax</th>\n",
              "      <th>tip_amount</th>\n",
              "      <th>tolls_amount</th>\n",
              "      <th>improvement_surcharge</th>\n",
              "      <th>total_amount</th>\n",
              "      <th>congestion_surcharge</th>\n",
              "      <th>elapsed_time</th>\n",
              "      <th>cost_before_tip</th>\n",
              "      <th>tip_pct</th>\n",
              "      <th>fees</th>\n",
              "      <th>avg_speed</th>\n",
              "    </tr>\n",
              "  </thead>\n",
              "  <tbody>\n",
              "    <tr>\n",
              "      <th>0</th>\n",
              "      <td>2019-10-23 16:39:42</td>\n",
              "      <td>2019-10-23 17:14:10</td>\n",
              "      <td>1</td>\n",
              "      <td>7.93</td>\n",
              "      <td>1</td>\n",
              "      <td>29.5</td>\n",
              "      <td>1.0</td>\n",
              "      <td>0.5</td>\n",
              "      <td>7.98</td>\n",
              "      <td>6.12</td>\n",
              "      <td>0.3</td>\n",
              "      <td>47.9</td>\n",
              "      <td>2.5</td>\n",
              "      <td>0 days 00:34:28</td>\n",
              "      <td>39.92</td>\n",
              "      <td>0.1999</td>\n",
              "      <td>10.42</td>\n",
              "      <td>13.804642</td>\n",
              "    </tr>\n",
              "    <tr>\n",
              "      <th>1</th>\n",
              "      <td>2019-10-23 16:32:08</td>\n",
              "      <td>2019-10-23 16:45:26</td>\n",
              "      <td>1</td>\n",
              "      <td>2.00</td>\n",
              "      <td>1</td>\n",
              "      <td>10.5</td>\n",
              "      <td>1.0</td>\n",
              "      <td>0.5</td>\n",
              "      <td>0.00</td>\n",
              "      <td>0.00</td>\n",
              "      <td>0.3</td>\n",
              "      <td>12.3</td>\n",
              "      <td>0.0</td>\n",
              "      <td>0 days 00:13:18</td>\n",
              "      <td>12.30</td>\n",
              "      <td>0.0000</td>\n",
              "      <td>1.80</td>\n",
              "      <td>9.022556</td>\n",
              "    </tr>\n",
              "  </tbody>\n",
              "</table>\n",
              "</div>"
            ],
            "text/plain": [
              "               pickup             dropoff  passenger_count  trip_distance  \\\n",
              "0 2019-10-23 16:39:42 2019-10-23 17:14:10                1           7.93   \n",
              "1 2019-10-23 16:32:08 2019-10-23 16:45:26                1           2.00   \n",
              "\n",
              "   payment_type  fare_amount  extra  mta_tax  tip_amount  tolls_amount  \\\n",
              "0             1         29.5    1.0      0.5        7.98          6.12   \n",
              "1             1         10.5    1.0      0.5        0.00          0.00   \n",
              "\n",
              "   improvement_surcharge  total_amount  congestion_surcharge    elapsed_time  \\\n",
              "0                    0.3          47.9                   2.5 0 days 00:34:28   \n",
              "1                    0.3          12.3                   0.0 0 days 00:13:18   \n",
              "\n",
              "   cost_before_tip  tip_pct   fees  avg_speed  \n",
              "0            39.92   0.1999  10.42  13.804642  \n",
              "1            12.30   0.0000   1.80   9.022556  "
            ]
          },
          "execution_count": 164,
          "metadata": {},
          "output_type": "execute_result"
        }
      ],
      "source": [
        "taxis.head(2)"
      ]
    },
    {
      "cell_type": "markdown",
      "id": "7e010421",
      "metadata": {
        "slideshow": {
          "slide_type": "fragment"
        },
        "tags": []
      },
      "source": [
        "Some things to note:\n",
        "- We used `lambda` functions to 1) avoid typing `taxis` repeatedly and 2) be able to access the `cost_before_tip` and `elapsed_time` columns in the same method that we create them.\n",
        "- To create a single new column, we can also use `df['new_col'] = <values>`."
      ]
    },
    {
      "cell_type": "markdown",
      "id": "a7716629",
      "metadata": {
        "slideshow": {
          "slide_type": "subslide"
        },
        "tags": []
      },
      "source": [
        "### Sorting by values\n",
        "\n",
        "We can use the `sort_values()` method to sort based on any number of columns:"
      ]
    },
    {
      "cell_type": "code",
      "execution_count": 165,
      "id": "b1f902fd",
      "metadata": {},
      "outputs": [
        {
          "data": {
            "text/html": [
              "<div>\n",
              "<style scoped>\n",
              "    .dataframe tbody tr th:only-of-type {\n",
              "        vertical-align: middle;\n",
              "    }\n",
              "\n",
              "    .dataframe tbody tr th {\n",
              "        vertical-align: top;\n",
              "    }\n",
              "\n",
              "    .dataframe thead th {\n",
              "        text-align: right;\n",
              "    }\n",
              "</style>\n",
              "<table border=\"1\" class=\"dataframe\">\n",
              "  <thead>\n",
              "    <tr style=\"text-align: right;\">\n",
              "      <th></th>\n",
              "      <th>pickup</th>\n",
              "      <th>dropoff</th>\n",
              "      <th>passenger_count</th>\n",
              "      <th>trip_distance</th>\n",
              "      <th>payment_type</th>\n",
              "      <th>fare_amount</th>\n",
              "      <th>extra</th>\n",
              "      <th>mta_tax</th>\n",
              "      <th>tip_amount</th>\n",
              "      <th>tolls_amount</th>\n",
              "      <th>improvement_surcharge</th>\n",
              "      <th>total_amount</th>\n",
              "      <th>congestion_surcharge</th>\n",
              "      <th>elapsed_time</th>\n",
              "      <th>cost_before_tip</th>\n",
              "      <th>tip_pct</th>\n",
              "      <th>fees</th>\n",
              "      <th>avg_speed</th>\n",
              "    </tr>\n",
              "  </thead>\n",
              "  <tbody>\n",
              "    <tr>\n",
              "      <th>5997</th>\n",
              "      <td>2019-10-23 15:55:19</td>\n",
              "      <td>2019-10-23 16:08:25</td>\n",
              "      <td>6</td>\n",
              "      <td>1.58</td>\n",
              "      <td>2</td>\n",
              "      <td>10.0</td>\n",
              "      <td>1.0</td>\n",
              "      <td>0.5</td>\n",
              "      <td>0.0</td>\n",
              "      <td>0.0</td>\n",
              "      <td>0.3</td>\n",
              "      <td>14.3</td>\n",
              "      <td>2.5</td>\n",
              "      <td>0 days 00:13:06</td>\n",
              "      <td>14.3</td>\n",
              "      <td>0.000000</td>\n",
              "      <td>4.3</td>\n",
              "      <td>7.236641</td>\n",
              "    </tr>\n",
              "    <tr>\n",
              "      <th>443</th>\n",
              "      <td>2019-10-23 15:56:59</td>\n",
              "      <td>2019-10-23 16:04:33</td>\n",
              "      <td>6</td>\n",
              "      <td>1.46</td>\n",
              "      <td>2</td>\n",
              "      <td>7.5</td>\n",
              "      <td>1.0</td>\n",
              "      <td>0.5</td>\n",
              "      <td>0.0</td>\n",
              "      <td>0.0</td>\n",
              "      <td>0.3</td>\n",
              "      <td>11.8</td>\n",
              "      <td>2.5</td>\n",
              "      <td>0 days 00:07:34</td>\n",
              "      <td>11.8</td>\n",
              "      <td>0.000000</td>\n",
              "      <td>4.3</td>\n",
              "      <td>11.577093</td>\n",
              "    </tr>\n",
              "    <tr>\n",
              "      <th>8722</th>\n",
              "      <td>2019-10-23 15:57:33</td>\n",
              "      <td>2019-10-23 16:03:34</td>\n",
              "      <td>6</td>\n",
              "      <td>0.62</td>\n",
              "      <td>1</td>\n",
              "      <td>5.5</td>\n",
              "      <td>1.0</td>\n",
              "      <td>0.5</td>\n",
              "      <td>0.7</td>\n",
              "      <td>0.0</td>\n",
              "      <td>0.3</td>\n",
              "      <td>10.5</td>\n",
              "      <td>2.5</td>\n",
              "      <td>0 days 00:06:01</td>\n",
              "      <td>9.8</td>\n",
              "      <td>0.071429</td>\n",
              "      <td>4.3</td>\n",
              "      <td>6.182825</td>\n",
              "    </tr>\n",
              "    <tr>\n",
              "      <th>4198</th>\n",
              "      <td>2019-10-23 15:57:38</td>\n",
              "      <td>2019-10-23 16:05:07</td>\n",
              "      <td>6</td>\n",
              "      <td>1.18</td>\n",
              "      <td>1</td>\n",
              "      <td>7.0</td>\n",
              "      <td>1.0</td>\n",
              "      <td>0.5</td>\n",
              "      <td>1.0</td>\n",
              "      <td>0.0</td>\n",
              "      <td>0.3</td>\n",
              "      <td>12.3</td>\n",
              "      <td>2.5</td>\n",
              "      <td>0 days 00:07:29</td>\n",
              "      <td>11.3</td>\n",
              "      <td>0.088496</td>\n",
              "      <td>4.3</td>\n",
              "      <td>9.461024</td>\n",
              "    </tr>\n",
              "    <tr>\n",
              "      <th>8238</th>\n",
              "      <td>2019-10-23 15:58:31</td>\n",
              "      <td>2019-10-23 16:29:29</td>\n",
              "      <td>6</td>\n",
              "      <td>3.23</td>\n",
              "      <td>2</td>\n",
              "      <td>19.5</td>\n",
              "      <td>1.0</td>\n",
              "      <td>0.5</td>\n",
              "      <td>0.0</td>\n",
              "      <td>0.0</td>\n",
              "      <td>0.3</td>\n",
              "      <td>23.8</td>\n",
              "      <td>2.5</td>\n",
              "      <td>0 days 00:30:58</td>\n",
              "      <td>23.8</td>\n",
              "      <td>0.000000</td>\n",
              "      <td>4.3</td>\n",
              "      <td>6.258342</td>\n",
              "    </tr>\n",
              "  </tbody>\n",
              "</table>\n",
              "</div>"
            ],
            "text/plain": [
              "                  pickup             dropoff  passenger_count  trip_distance  \\\n",
              "5997 2019-10-23 15:55:19 2019-10-23 16:08:25                6           1.58   \n",
              "443  2019-10-23 15:56:59 2019-10-23 16:04:33                6           1.46   \n",
              "8722 2019-10-23 15:57:33 2019-10-23 16:03:34                6           0.62   \n",
              "4198 2019-10-23 15:57:38 2019-10-23 16:05:07                6           1.18   \n",
              "8238 2019-10-23 15:58:31 2019-10-23 16:29:29                6           3.23   \n",
              "\n",
              "      payment_type  fare_amount  extra  mta_tax  tip_amount  tolls_amount  \\\n",
              "5997             2         10.0    1.0      0.5         0.0           0.0   \n",
              "443              2          7.5    1.0      0.5         0.0           0.0   \n",
              "8722             1          5.5    1.0      0.5         0.7           0.0   \n",
              "4198             1          7.0    1.0      0.5         1.0           0.0   \n",
              "8238             2         19.5    1.0      0.5         0.0           0.0   \n",
              "\n",
              "      improvement_surcharge  total_amount  congestion_surcharge  \\\n",
              "5997                    0.3          14.3                   2.5   \n",
              "443                     0.3          11.8                   2.5   \n",
              "8722                    0.3          10.5                   2.5   \n",
              "4198                    0.3          12.3                   2.5   \n",
              "8238                    0.3          23.8                   2.5   \n",
              "\n",
              "        elapsed_time  cost_before_tip   tip_pct  fees  avg_speed  \n",
              "5997 0 days 00:13:06             14.3  0.000000   4.3   7.236641  \n",
              "443  0 days 00:07:34             11.8  0.000000   4.3  11.577093  \n",
              "8722 0 days 00:06:01              9.8  0.071429   4.3   6.182825  \n",
              "4198 0 days 00:07:29             11.3  0.088496   4.3   9.461024  \n",
              "8238 0 days 00:30:58             23.8  0.000000   4.3   6.258342  "
            ]
          },
          "execution_count": 165,
          "metadata": {},
          "output_type": "execute_result"
        }
      ],
      "source": [
        "taxis.sort_values(['passenger_count', 'pickup'], ascending=[False, True]).head()"
      ]
    },
    {
      "cell_type": "markdown",
      "id": "7bbd9fdf",
      "metadata": {
        "slideshow": {
          "slide_type": "subslide"
        },
        "tags": []
      },
      "source": [
        "To pick out the largest/smallest rows, use `nlargest()` / `nsmallest()` instead. Looking at the 3 trips with the longest elapsed time, we see some possible data integrity issues:"
      ]
    },
    {
      "cell_type": "code",
      "execution_count": 166,
      "id": "eab110e0",
      "metadata": {},
      "outputs": [
        {
          "data": {
            "text/html": [
              "<div>\n",
              "<style scoped>\n",
              "    .dataframe tbody tr th:only-of-type {\n",
              "        vertical-align: middle;\n",
              "    }\n",
              "\n",
              "    .dataframe tbody tr th {\n",
              "        vertical-align: top;\n",
              "    }\n",
              "\n",
              "    .dataframe thead th {\n",
              "        text-align: right;\n",
              "    }\n",
              "</style>\n",
              "<table border=\"1\" class=\"dataframe\">\n",
              "  <thead>\n",
              "    <tr style=\"text-align: right;\">\n",
              "      <th></th>\n",
              "      <th>pickup</th>\n",
              "      <th>dropoff</th>\n",
              "      <th>passenger_count</th>\n",
              "      <th>trip_distance</th>\n",
              "      <th>payment_type</th>\n",
              "      <th>fare_amount</th>\n",
              "      <th>extra</th>\n",
              "      <th>mta_tax</th>\n",
              "      <th>tip_amount</th>\n",
              "      <th>tolls_amount</th>\n",
              "      <th>improvement_surcharge</th>\n",
              "      <th>total_amount</th>\n",
              "      <th>congestion_surcharge</th>\n",
              "      <th>elapsed_time</th>\n",
              "      <th>cost_before_tip</th>\n",
              "      <th>tip_pct</th>\n",
              "      <th>fees</th>\n",
              "      <th>avg_speed</th>\n",
              "    </tr>\n",
              "  </thead>\n",
              "  <tbody>\n",
              "    <tr>\n",
              "      <th>7576</th>\n",
              "      <td>2019-10-23 16:52:51</td>\n",
              "      <td>2019-10-24 16:51:44</td>\n",
              "      <td>1</td>\n",
              "      <td>3.75</td>\n",
              "      <td>1</td>\n",
              "      <td>17.5</td>\n",
              "      <td>1.0</td>\n",
              "      <td>0.5</td>\n",
              "      <td>0.0</td>\n",
              "      <td>0.0</td>\n",
              "      <td>0.3</td>\n",
              "      <td>21.8</td>\n",
              "      <td>2.5</td>\n",
              "      <td>0 days 23:58:53</td>\n",
              "      <td>21.8</td>\n",
              "      <td>0.0</td>\n",
              "      <td>4.3</td>\n",
              "      <td>0.156371</td>\n",
              "    </tr>\n",
              "    <tr>\n",
              "      <th>6902</th>\n",
              "      <td>2019-10-23 16:51:42</td>\n",
              "      <td>2019-10-24 16:50:22</td>\n",
              "      <td>1</td>\n",
              "      <td>11.19</td>\n",
              "      <td>2</td>\n",
              "      <td>39.5</td>\n",
              "      <td>1.0</td>\n",
              "      <td>0.5</td>\n",
              "      <td>0.0</td>\n",
              "      <td>0.0</td>\n",
              "      <td>0.3</td>\n",
              "      <td>41.3</td>\n",
              "      <td>0.0</td>\n",
              "      <td>0 days 23:58:40</td>\n",
              "      <td>41.3</td>\n",
              "      <td>0.0</td>\n",
              "      <td>1.8</td>\n",
              "      <td>0.466682</td>\n",
              "    </tr>\n",
              "    <tr>\n",
              "      <th>4975</th>\n",
              "      <td>2019-10-23 16:18:51</td>\n",
              "      <td>2019-10-24 16:17:30</td>\n",
              "      <td>1</td>\n",
              "      <td>0.70</td>\n",
              "      <td>2</td>\n",
              "      <td>7.0</td>\n",
              "      <td>1.0</td>\n",
              "      <td>0.5</td>\n",
              "      <td>0.0</td>\n",
              "      <td>0.0</td>\n",
              "      <td>0.3</td>\n",
              "      <td>11.3</td>\n",
              "      <td>2.5</td>\n",
              "      <td>0 days 23:58:39</td>\n",
              "      <td>11.3</td>\n",
              "      <td>0.0</td>\n",
              "      <td>4.3</td>\n",
              "      <td>0.029194</td>\n",
              "    </tr>\n",
              "  </tbody>\n",
              "</table>\n",
              "</div>"
            ],
            "text/plain": [
              "                  pickup             dropoff  passenger_count  trip_distance  \\\n",
              "7576 2019-10-23 16:52:51 2019-10-24 16:51:44                1           3.75   \n",
              "6902 2019-10-23 16:51:42 2019-10-24 16:50:22                1          11.19   \n",
              "4975 2019-10-23 16:18:51 2019-10-24 16:17:30                1           0.70   \n",
              "\n",
              "      payment_type  fare_amount  extra  mta_tax  tip_amount  tolls_amount  \\\n",
              "7576             1         17.5    1.0      0.5         0.0           0.0   \n",
              "6902             2         39.5    1.0      0.5         0.0           0.0   \n",
              "4975             2          7.0    1.0      0.5         0.0           0.0   \n",
              "\n",
              "      improvement_surcharge  total_amount  congestion_surcharge  \\\n",
              "7576                    0.3          21.8                   2.5   \n",
              "6902                    0.3          41.3                   0.0   \n",
              "4975                    0.3          11.3                   2.5   \n",
              "\n",
              "        elapsed_time  cost_before_tip  tip_pct  fees  avg_speed  \n",
              "7576 0 days 23:58:53             21.8      0.0   4.3   0.156371  \n",
              "6902 0 days 23:58:40             41.3      0.0   1.8   0.466682  \n",
              "4975 0 days 23:58:39             11.3      0.0   4.3   0.029194  "
            ]
          },
          "execution_count": 166,
          "metadata": {},
          "output_type": "execute_result"
        }
      ],
      "source": [
        "taxis.nlargest(3, 'elapsed_time')"
      ]
    },
    {
      "cell_type": "markdown",
      "id": "4e3a7de7",
      "metadata": {},
      "source": [
        "### Exercise 2.1\n",
        "\n",
        "##### Read in the meteorite data from the `Meteorite_Landings.csv` file, rename the `mass (g)` column to `mass`, and drop all the latitude and longitude columns. Sort the result by mass in descending order."
      ]
    },
    {
      "cell_type": "code",
      "execution_count": 167,
      "id": "feb0287f",
      "metadata": {},
      "outputs": [],
      "source": [
        "# Complete exercise 2.1 in the workbook.ipynb file\n",
        "\n",
        "# WARNING: if you complete the exercise here, your cell numbers\n",
        "# for the rest of the training might not match the slides"
      ]
    },
    {
      "cell_type": "markdown",
      "id": "09fbbb7f",
      "metadata": {
        "slideshow": {
          "slide_type": "slide"
        },
        "tags": []
      },
      "source": [
        "## Working with the index\n",
        "\n",
        "So far, we haven't really worked with the index because it's just been a row number; however, we can change the values we have in the index to access additional features of the pandas library."
      ]
    },
    {
      "cell_type": "markdown",
      "id": "f14afb27",
      "metadata": {
        "slideshow": {
          "slide_type": "subslide"
        },
        "tags": []
      },
      "source": [
        "### Setting and sorting the index\n",
        "\n",
        "Currently, we have a RangeIndex, but we can switch to a DatetimeIndex by specifying a datetime column when calling `set_index()`:"
      ]
    },
    {
      "cell_type": "code",
      "execution_count": 168,
      "id": "a07e9fb9",
      "metadata": {},
      "outputs": [
        {
          "data": {
            "text/html": [
              "<div>\n",
              "<style scoped>\n",
              "    .dataframe tbody tr th:only-of-type {\n",
              "        vertical-align: middle;\n",
              "    }\n",
              "\n",
              "    .dataframe tbody tr th {\n",
              "        vertical-align: top;\n",
              "    }\n",
              "\n",
              "    .dataframe thead th {\n",
              "        text-align: right;\n",
              "    }\n",
              "</style>\n",
              "<table border=\"1\" class=\"dataframe\">\n",
              "  <thead>\n",
              "    <tr style=\"text-align: right;\">\n",
              "      <th></th>\n",
              "      <th>dropoff</th>\n",
              "      <th>passenger_count</th>\n",
              "      <th>trip_distance</th>\n",
              "      <th>payment_type</th>\n",
              "      <th>fare_amount</th>\n",
              "      <th>extra</th>\n",
              "      <th>mta_tax</th>\n",
              "      <th>tip_amount</th>\n",
              "      <th>tolls_amount</th>\n",
              "      <th>improvement_surcharge</th>\n",
              "      <th>total_amount</th>\n",
              "      <th>congestion_surcharge</th>\n",
              "      <th>elapsed_time</th>\n",
              "      <th>cost_before_tip</th>\n",
              "      <th>tip_pct</th>\n",
              "      <th>fees</th>\n",
              "      <th>avg_speed</th>\n",
              "    </tr>\n",
              "    <tr>\n",
              "      <th>pickup</th>\n",
              "      <th></th>\n",
              "      <th></th>\n",
              "      <th></th>\n",
              "      <th></th>\n",
              "      <th></th>\n",
              "      <th></th>\n",
              "      <th></th>\n",
              "      <th></th>\n",
              "      <th></th>\n",
              "      <th></th>\n",
              "      <th></th>\n",
              "      <th></th>\n",
              "      <th></th>\n",
              "      <th></th>\n",
              "      <th></th>\n",
              "      <th></th>\n",
              "      <th></th>\n",
              "    </tr>\n",
              "  </thead>\n",
              "  <tbody>\n",
              "    <tr>\n",
              "      <th>2019-10-23 16:39:42</th>\n",
              "      <td>2019-10-23 17:14:10</td>\n",
              "      <td>1</td>\n",
              "      <td>7.93</td>\n",
              "      <td>1</td>\n",
              "      <td>29.5</td>\n",
              "      <td>1.0</td>\n",
              "      <td>0.5</td>\n",
              "      <td>7.98</td>\n",
              "      <td>6.12</td>\n",
              "      <td>0.3</td>\n",
              "      <td>47.9</td>\n",
              "      <td>2.5</td>\n",
              "      <td>0 days 00:34:28</td>\n",
              "      <td>39.92</td>\n",
              "      <td>0.199900</td>\n",
              "      <td>10.42</td>\n",
              "      <td>13.804642</td>\n",
              "    </tr>\n",
              "    <tr>\n",
              "      <th>2019-10-23 16:32:08</th>\n",
              "      <td>2019-10-23 16:45:26</td>\n",
              "      <td>1</td>\n",
              "      <td>2.00</td>\n",
              "      <td>1</td>\n",
              "      <td>10.5</td>\n",
              "      <td>1.0</td>\n",
              "      <td>0.5</td>\n",
              "      <td>0.00</td>\n",
              "      <td>0.00</td>\n",
              "      <td>0.3</td>\n",
              "      <td>12.3</td>\n",
              "      <td>0.0</td>\n",
              "      <td>0 days 00:13:18</td>\n",
              "      <td>12.30</td>\n",
              "      <td>0.000000</td>\n",
              "      <td>1.80</td>\n",
              "      <td>9.022556</td>\n",
              "    </tr>\n",
              "    <tr>\n",
              "      <th>2019-10-23 16:08:44</th>\n",
              "      <td>2019-10-23 16:21:11</td>\n",
              "      <td>1</td>\n",
              "      <td>1.36</td>\n",
              "      <td>1</td>\n",
              "      <td>9.5</td>\n",
              "      <td>1.0</td>\n",
              "      <td>0.5</td>\n",
              "      <td>2.00</td>\n",
              "      <td>0.00</td>\n",
              "      <td>0.3</td>\n",
              "      <td>15.8</td>\n",
              "      <td>2.5</td>\n",
              "      <td>0 days 00:12:27</td>\n",
              "      <td>13.80</td>\n",
              "      <td>0.144928</td>\n",
              "      <td>4.30</td>\n",
              "      <td>6.554217</td>\n",
              "    </tr>\n",
              "  </tbody>\n",
              "</table>\n",
              "</div>"
            ],
            "text/plain": [
              "                                dropoff  passenger_count  trip_distance  \\\n",
              "pickup                                                                    \n",
              "2019-10-23 16:39:42 2019-10-23 17:14:10                1           7.93   \n",
              "2019-10-23 16:32:08 2019-10-23 16:45:26                1           2.00   \n",
              "2019-10-23 16:08:44 2019-10-23 16:21:11                1           1.36   \n",
              "\n",
              "                     payment_type  fare_amount  extra  mta_tax  tip_amount  \\\n",
              "pickup                                                                       \n",
              "2019-10-23 16:39:42             1         29.5    1.0      0.5        7.98   \n",
              "2019-10-23 16:32:08             1         10.5    1.0      0.5        0.00   \n",
              "2019-10-23 16:08:44             1          9.5    1.0      0.5        2.00   \n",
              "\n",
              "                     tolls_amount  improvement_surcharge  total_amount  \\\n",
              "pickup                                                                   \n",
              "2019-10-23 16:39:42          6.12                    0.3          47.9   \n",
              "2019-10-23 16:32:08          0.00                    0.3          12.3   \n",
              "2019-10-23 16:08:44          0.00                    0.3          15.8   \n",
              "\n",
              "                     congestion_surcharge    elapsed_time  cost_before_tip  \\\n",
              "pickup                                                                       \n",
              "2019-10-23 16:39:42                   2.5 0 days 00:34:28            39.92   \n",
              "2019-10-23 16:32:08                   0.0 0 days 00:13:18            12.30   \n",
              "2019-10-23 16:08:44                   2.5 0 days 00:12:27            13.80   \n",
              "\n",
              "                      tip_pct   fees  avg_speed  \n",
              "pickup                                           \n",
              "2019-10-23 16:39:42  0.199900  10.42  13.804642  \n",
              "2019-10-23 16:32:08  0.000000   1.80   9.022556  \n",
              "2019-10-23 16:08:44  0.144928   4.30   6.554217  "
            ]
          },
          "execution_count": 168,
          "metadata": {},
          "output_type": "execute_result"
        }
      ],
      "source": [
        "taxis.set_index('pickup', inplace=True)\n",
        "taxis.head(3)"
      ]
    },
    {
      "cell_type": "markdown",
      "id": "1aba7055",
      "metadata": {
        "slideshow": {
          "slide_type": "subslide"
        },
        "tags": []
      },
      "source": [
        "Since we have a sample of the full dataset, let's sort the index to order by pickup time:"
      ]
    },
    {
      "cell_type": "code",
      "execution_count": 169,
      "id": "0a368dcd",
      "metadata": {},
      "outputs": [],
      "source": [
        "taxis.sort_index(inplace=True)"
      ]
    },
    {
      "cell_type": "markdown",
      "id": "7680fcae",
      "metadata": {
        "slideshow": {
          "slide_type": "fragment"
        },
        "tags": []
      },
      "source": [
        "*Tip: `taxis.sort_index(axis=1)` will sort the columns by name. The `axis` parameter is present throughout the pandas library: `axis=0` targets rows and `axis=1` targets columns.*"
      ]
    },
    {
      "cell_type": "markdown",
      "id": "ee9366be",
      "metadata": {
        "slideshow": {
          "slide_type": "subslide"
        },
        "tags": []
      },
      "source": [
        "We can now select ranges from our data based on the datetime the same way we did with row numbers:"
      ]
    },
    {
      "cell_type": "code",
      "execution_count": 170,
      "id": "efb6782c",
      "metadata": {},
      "outputs": [
        {
          "data": {
            "text/html": [
              "<div>\n",
              "<style scoped>\n",
              "    .dataframe tbody tr th:only-of-type {\n",
              "        vertical-align: middle;\n",
              "    }\n",
              "\n",
              "    .dataframe tbody tr th {\n",
              "        vertical-align: top;\n",
              "    }\n",
              "\n",
              "    .dataframe thead th {\n",
              "        text-align: right;\n",
              "    }\n",
              "</style>\n",
              "<table border=\"1\" class=\"dataframe\">\n",
              "  <thead>\n",
              "    <tr style=\"text-align: right;\">\n",
              "      <th></th>\n",
              "      <th>dropoff</th>\n",
              "      <th>passenger_count</th>\n",
              "      <th>trip_distance</th>\n",
              "      <th>payment_type</th>\n",
              "      <th>fare_amount</th>\n",
              "      <th>extra</th>\n",
              "      <th>mta_tax</th>\n",
              "      <th>tip_amount</th>\n",
              "      <th>tolls_amount</th>\n",
              "      <th>improvement_surcharge</th>\n",
              "      <th>total_amount</th>\n",
              "      <th>congestion_surcharge</th>\n",
              "      <th>elapsed_time</th>\n",
              "      <th>cost_before_tip</th>\n",
              "      <th>tip_pct</th>\n",
              "      <th>fees</th>\n",
              "      <th>avg_speed</th>\n",
              "    </tr>\n",
              "    <tr>\n",
              "      <th>pickup</th>\n",
              "      <th></th>\n",
              "      <th></th>\n",
              "      <th></th>\n",
              "      <th></th>\n",
              "      <th></th>\n",
              "      <th></th>\n",
              "      <th></th>\n",
              "      <th></th>\n",
              "      <th></th>\n",
              "      <th></th>\n",
              "      <th></th>\n",
              "      <th></th>\n",
              "      <th></th>\n",
              "      <th></th>\n",
              "      <th></th>\n",
              "      <th></th>\n",
              "      <th></th>\n",
              "    </tr>\n",
              "  </thead>\n",
              "  <tbody>\n",
              "    <tr>\n",
              "      <th>2019-10-23 07:48:58</th>\n",
              "      <td>2019-10-23 07:52:09</td>\n",
              "      <td>1</td>\n",
              "      <td>0.67</td>\n",
              "      <td>2</td>\n",
              "      <td>4.5</td>\n",
              "      <td>1.0</td>\n",
              "      <td>0.5</td>\n",
              "      <td>0.0</td>\n",
              "      <td>0.0</td>\n",
              "      <td>0.3</td>\n",
              "      <td>8.8</td>\n",
              "      <td>2.5</td>\n",
              "      <td>0 days 00:03:11</td>\n",
              "      <td>8.8</td>\n",
              "      <td>0.000000</td>\n",
              "      <td>4.3</td>\n",
              "      <td>12.628272</td>\n",
              "    </tr>\n",
              "    <tr>\n",
              "      <th>2019-10-23 08:02:09</th>\n",
              "      <td>2019-10-24 07:42:32</td>\n",
              "      <td>1</td>\n",
              "      <td>8.38</td>\n",
              "      <td>1</td>\n",
              "      <td>32.0</td>\n",
              "      <td>1.0</td>\n",
              "      <td>0.5</td>\n",
              "      <td>5.5</td>\n",
              "      <td>0.0</td>\n",
              "      <td>0.3</td>\n",
              "      <td>41.8</td>\n",
              "      <td>2.5</td>\n",
              "      <td>0 days 23:40:23</td>\n",
              "      <td>36.3</td>\n",
              "      <td>0.151515</td>\n",
              "      <td>4.3</td>\n",
              "      <td>0.353989</td>\n",
              "    </tr>\n",
              "    <tr>\n",
              "      <th>2019-10-23 08:18:47</th>\n",
              "      <td>2019-10-23 08:36:05</td>\n",
              "      <td>1</td>\n",
              "      <td>2.39</td>\n",
              "      <td>2</td>\n",
              "      <td>12.5</td>\n",
              "      <td>1.0</td>\n",
              "      <td>0.5</td>\n",
              "      <td>0.0</td>\n",
              "      <td>0.0</td>\n",
              "      <td>0.3</td>\n",
              "      <td>16.8</td>\n",
              "      <td>2.5</td>\n",
              "      <td>0 days 00:17:18</td>\n",
              "      <td>16.8</td>\n",
              "      <td>0.000000</td>\n",
              "      <td>4.3</td>\n",
              "      <td>8.289017</td>\n",
              "    </tr>\n",
              "  </tbody>\n",
              "</table>\n",
              "</div>"
            ],
            "text/plain": [
              "                                dropoff  passenger_count  trip_distance  \\\n",
              "pickup                                                                    \n",
              "2019-10-23 07:48:58 2019-10-23 07:52:09                1           0.67   \n",
              "2019-10-23 08:02:09 2019-10-24 07:42:32                1           8.38   \n",
              "2019-10-23 08:18:47 2019-10-23 08:36:05                1           2.39   \n",
              "\n",
              "                     payment_type  fare_amount  extra  mta_tax  tip_amount  \\\n",
              "pickup                                                                       \n",
              "2019-10-23 07:48:58             2          4.5    1.0      0.5         0.0   \n",
              "2019-10-23 08:02:09             1         32.0    1.0      0.5         5.5   \n",
              "2019-10-23 08:18:47             2         12.5    1.0      0.5         0.0   \n",
              "\n",
              "                     tolls_amount  improvement_surcharge  total_amount  \\\n",
              "pickup                                                                   \n",
              "2019-10-23 07:48:58           0.0                    0.3           8.8   \n",
              "2019-10-23 08:02:09           0.0                    0.3          41.8   \n",
              "2019-10-23 08:18:47           0.0                    0.3          16.8   \n",
              "\n",
              "                     congestion_surcharge    elapsed_time  cost_before_tip  \\\n",
              "pickup                                                                       \n",
              "2019-10-23 07:48:58                   2.5 0 days 00:03:11              8.8   \n",
              "2019-10-23 08:02:09                   2.5 0 days 23:40:23             36.3   \n",
              "2019-10-23 08:18:47                   2.5 0 days 00:17:18             16.8   \n",
              "\n",
              "                      tip_pct  fees  avg_speed  \n",
              "pickup                                          \n",
              "2019-10-23 07:48:58  0.000000   4.3  12.628272  \n",
              "2019-10-23 08:02:09  0.151515   4.3   0.353989  \n",
              "2019-10-23 08:18:47  0.000000   4.3   8.289017  "
            ]
          },
          "execution_count": 170,
          "metadata": {},
          "output_type": "execute_result"
        }
      ],
      "source": [
        "taxis['2019-10-23 07:45':'2019-10-23 08']"
      ]
    },
    {
      "cell_type": "markdown",
      "id": "831b3fbc",
      "metadata": {
        "slideshow": {
          "slide_type": "subslide"
        },
        "tags": []
      },
      "source": [
        "When not specifying a range, we use `loc[]`:"
      ]
    },
    {
      "cell_type": "code",
      "execution_count": 171,
      "id": "e1e2cfd8",
      "metadata": {},
      "outputs": [
        {
          "data": {
            "text/html": [
              "<div>\n",
              "<style scoped>\n",
              "    .dataframe tbody tr th:only-of-type {\n",
              "        vertical-align: middle;\n",
              "    }\n",
              "\n",
              "    .dataframe tbody tr th {\n",
              "        vertical-align: top;\n",
              "    }\n",
              "\n",
              "    .dataframe thead th {\n",
              "        text-align: right;\n",
              "    }\n",
              "</style>\n",
              "<table border=\"1\" class=\"dataframe\">\n",
              "  <thead>\n",
              "    <tr style=\"text-align: right;\">\n",
              "      <th></th>\n",
              "      <th>dropoff</th>\n",
              "      <th>passenger_count</th>\n",
              "      <th>trip_distance</th>\n",
              "      <th>payment_type</th>\n",
              "      <th>fare_amount</th>\n",
              "      <th>extra</th>\n",
              "      <th>mta_tax</th>\n",
              "      <th>tip_amount</th>\n",
              "      <th>tolls_amount</th>\n",
              "      <th>improvement_surcharge</th>\n",
              "      <th>total_amount</th>\n",
              "      <th>congestion_surcharge</th>\n",
              "      <th>elapsed_time</th>\n",
              "      <th>cost_before_tip</th>\n",
              "      <th>tip_pct</th>\n",
              "      <th>fees</th>\n",
              "      <th>avg_speed</th>\n",
              "    </tr>\n",
              "    <tr>\n",
              "      <th>pickup</th>\n",
              "      <th></th>\n",
              "      <th></th>\n",
              "      <th></th>\n",
              "      <th></th>\n",
              "      <th></th>\n",
              "      <th></th>\n",
              "      <th></th>\n",
              "      <th></th>\n",
              "      <th></th>\n",
              "      <th></th>\n",
              "      <th></th>\n",
              "      <th></th>\n",
              "      <th></th>\n",
              "      <th></th>\n",
              "      <th></th>\n",
              "      <th></th>\n",
              "      <th></th>\n",
              "    </tr>\n",
              "  </thead>\n",
              "  <tbody>\n",
              "    <tr>\n",
              "      <th>2019-10-23 08:02:09</th>\n",
              "      <td>2019-10-24 07:42:32</td>\n",
              "      <td>1</td>\n",
              "      <td>8.38</td>\n",
              "      <td>1</td>\n",
              "      <td>32.0</td>\n",
              "      <td>1.0</td>\n",
              "      <td>0.5</td>\n",
              "      <td>5.5</td>\n",
              "      <td>0.0</td>\n",
              "      <td>0.3</td>\n",
              "      <td>41.8</td>\n",
              "      <td>2.5</td>\n",
              "      <td>0 days 23:40:23</td>\n",
              "      <td>36.3</td>\n",
              "      <td>0.151515</td>\n",
              "      <td>4.3</td>\n",
              "      <td>0.353989</td>\n",
              "    </tr>\n",
              "    <tr>\n",
              "      <th>2019-10-23 08:18:47</th>\n",
              "      <td>2019-10-23 08:36:05</td>\n",
              "      <td>1</td>\n",
              "      <td>2.39</td>\n",
              "      <td>2</td>\n",
              "      <td>12.5</td>\n",
              "      <td>1.0</td>\n",
              "      <td>0.5</td>\n",
              "      <td>0.0</td>\n",
              "      <td>0.0</td>\n",
              "      <td>0.3</td>\n",
              "      <td>16.8</td>\n",
              "      <td>2.5</td>\n",
              "      <td>0 days 00:17:18</td>\n",
              "      <td>16.8</td>\n",
              "      <td>0.000000</td>\n",
              "      <td>4.3</td>\n",
              "      <td>8.289017</td>\n",
              "    </tr>\n",
              "  </tbody>\n",
              "</table>\n",
              "</div>"
            ],
            "text/plain": [
              "                                dropoff  passenger_count  trip_distance  \\\n",
              "pickup                                                                    \n",
              "2019-10-23 08:02:09 2019-10-24 07:42:32                1           8.38   \n",
              "2019-10-23 08:18:47 2019-10-23 08:36:05                1           2.39   \n",
              "\n",
              "                     payment_type  fare_amount  extra  mta_tax  tip_amount  \\\n",
              "pickup                                                                       \n",
              "2019-10-23 08:02:09             1         32.0    1.0      0.5         5.5   \n",
              "2019-10-23 08:18:47             2         12.5    1.0      0.5         0.0   \n",
              "\n",
              "                     tolls_amount  improvement_surcharge  total_amount  \\\n",
              "pickup                                                                   \n",
              "2019-10-23 08:02:09           0.0                    0.3          41.8   \n",
              "2019-10-23 08:18:47           0.0                    0.3          16.8   \n",
              "\n",
              "                     congestion_surcharge    elapsed_time  cost_before_tip  \\\n",
              "pickup                                                                       \n",
              "2019-10-23 08:02:09                   2.5 0 days 23:40:23             36.3   \n",
              "2019-10-23 08:18:47                   2.5 0 days 00:17:18             16.8   \n",
              "\n",
              "                      tip_pct  fees  avg_speed  \n",
              "pickup                                          \n",
              "2019-10-23 08:02:09  0.151515   4.3   0.353989  \n",
              "2019-10-23 08:18:47  0.000000   4.3   8.289017  "
            ]
          },
          "execution_count": 171,
          "metadata": {},
          "output_type": "execute_result"
        }
      ],
      "source": [
        "taxis.loc['2019-10-23 08']"
      ]
    },
    {
      "cell_type": "markdown",
      "id": "2ca7c1eb",
      "metadata": {
        "slideshow": {
          "slide_type": "subslide"
        },
        "tags": []
      },
      "source": [
        "### Resetting the index\n",
        "\n",
        "We will be working with time series later this section, but sometimes we want to reset our index to row numbers and restore the columns. We can make `pickup` a column again with the `reset_index()` method:"
      ]
    },
    {
      "cell_type": "code",
      "execution_count": 172,
      "id": "67b90fd1",
      "metadata": {},
      "outputs": [
        {
          "data": {
            "text/html": [
              "<div>\n",
              "<style scoped>\n",
              "    .dataframe tbody tr th:only-of-type {\n",
              "        vertical-align: middle;\n",
              "    }\n",
              "\n",
              "    .dataframe tbody tr th {\n",
              "        vertical-align: top;\n",
              "    }\n",
              "\n",
              "    .dataframe thead th {\n",
              "        text-align: right;\n",
              "    }\n",
              "</style>\n",
              "<table border=\"1\" class=\"dataframe\">\n",
              "  <thead>\n",
              "    <tr style=\"text-align: right;\">\n",
              "      <th></th>\n",
              "      <th>pickup</th>\n",
              "      <th>dropoff</th>\n",
              "      <th>passenger_count</th>\n",
              "      <th>trip_distance</th>\n",
              "      <th>payment_type</th>\n",
              "      <th>fare_amount</th>\n",
              "      <th>extra</th>\n",
              "      <th>mta_tax</th>\n",
              "      <th>tip_amount</th>\n",
              "      <th>tolls_amount</th>\n",
              "      <th>improvement_surcharge</th>\n",
              "      <th>total_amount</th>\n",
              "      <th>congestion_surcharge</th>\n",
              "      <th>elapsed_time</th>\n",
              "      <th>cost_before_tip</th>\n",
              "      <th>tip_pct</th>\n",
              "      <th>fees</th>\n",
              "      <th>avg_speed</th>\n",
              "    </tr>\n",
              "  </thead>\n",
              "  <tbody>\n",
              "    <tr>\n",
              "      <th>0</th>\n",
              "      <td>2019-10-23 07:05:34</td>\n",
              "      <td>2019-10-23 08:03:16</td>\n",
              "      <td>3</td>\n",
              "      <td>14.68</td>\n",
              "      <td>1</td>\n",
              "      <td>50.0</td>\n",
              "      <td>1.0</td>\n",
              "      <td>0.5</td>\n",
              "      <td>4.0</td>\n",
              "      <td>0.0</td>\n",
              "      <td>0.3</td>\n",
              "      <td>55.8</td>\n",
              "      <td>0.0</td>\n",
              "      <td>0 days 00:57:42</td>\n",
              "      <td>51.8</td>\n",
              "      <td>0.077220</td>\n",
              "      <td>1.8</td>\n",
              "      <td>15.265165</td>\n",
              "    </tr>\n",
              "    <tr>\n",
              "      <th>1</th>\n",
              "      <td>2019-10-23 07:48:58</td>\n",
              "      <td>2019-10-23 07:52:09</td>\n",
              "      <td>1</td>\n",
              "      <td>0.67</td>\n",
              "      <td>2</td>\n",
              "      <td>4.5</td>\n",
              "      <td>1.0</td>\n",
              "      <td>0.5</td>\n",
              "      <td>0.0</td>\n",
              "      <td>0.0</td>\n",
              "      <td>0.3</td>\n",
              "      <td>8.8</td>\n",
              "      <td>2.5</td>\n",
              "      <td>0 days 00:03:11</td>\n",
              "      <td>8.8</td>\n",
              "      <td>0.000000</td>\n",
              "      <td>4.3</td>\n",
              "      <td>12.628272</td>\n",
              "    </tr>\n",
              "    <tr>\n",
              "      <th>2</th>\n",
              "      <td>2019-10-23 08:02:09</td>\n",
              "      <td>2019-10-24 07:42:32</td>\n",
              "      <td>1</td>\n",
              "      <td>8.38</td>\n",
              "      <td>1</td>\n",
              "      <td>32.0</td>\n",
              "      <td>1.0</td>\n",
              "      <td>0.5</td>\n",
              "      <td>5.5</td>\n",
              "      <td>0.0</td>\n",
              "      <td>0.3</td>\n",
              "      <td>41.8</td>\n",
              "      <td>2.5</td>\n",
              "      <td>0 days 23:40:23</td>\n",
              "      <td>36.3</td>\n",
              "      <td>0.151515</td>\n",
              "      <td>4.3</td>\n",
              "      <td>0.353989</td>\n",
              "    </tr>\n",
              "    <tr>\n",
              "      <th>3</th>\n",
              "      <td>2019-10-23 08:18:47</td>\n",
              "      <td>2019-10-23 08:36:05</td>\n",
              "      <td>1</td>\n",
              "      <td>2.39</td>\n",
              "      <td>2</td>\n",
              "      <td>12.5</td>\n",
              "      <td>1.0</td>\n",
              "      <td>0.5</td>\n",
              "      <td>0.0</td>\n",
              "      <td>0.0</td>\n",
              "      <td>0.3</td>\n",
              "      <td>16.8</td>\n",
              "      <td>2.5</td>\n",
              "      <td>0 days 00:17:18</td>\n",
              "      <td>16.8</td>\n",
              "      <td>0.000000</td>\n",
              "      <td>4.3</td>\n",
              "      <td>8.289017</td>\n",
              "    </tr>\n",
              "    <tr>\n",
              "      <th>4</th>\n",
              "      <td>2019-10-23 09:27:16</td>\n",
              "      <td>2019-10-23 09:33:13</td>\n",
              "      <td>2</td>\n",
              "      <td>1.11</td>\n",
              "      <td>2</td>\n",
              "      <td>6.0</td>\n",
              "      <td>1.0</td>\n",
              "      <td>0.5</td>\n",
              "      <td>0.0</td>\n",
              "      <td>0.0</td>\n",
              "      <td>0.3</td>\n",
              "      <td>7.8</td>\n",
              "      <td>0.0</td>\n",
              "      <td>0 days 00:05:57</td>\n",
              "      <td>7.8</td>\n",
              "      <td>0.000000</td>\n",
              "      <td>1.8</td>\n",
              "      <td>11.193277</td>\n",
              "    </tr>\n",
              "  </tbody>\n",
              "</table>\n",
              "</div>"
            ],
            "text/plain": [
              "               pickup             dropoff  passenger_count  trip_distance  \\\n",
              "0 2019-10-23 07:05:34 2019-10-23 08:03:16                3          14.68   \n",
              "1 2019-10-23 07:48:58 2019-10-23 07:52:09                1           0.67   \n",
              "2 2019-10-23 08:02:09 2019-10-24 07:42:32                1           8.38   \n",
              "3 2019-10-23 08:18:47 2019-10-23 08:36:05                1           2.39   \n",
              "4 2019-10-23 09:27:16 2019-10-23 09:33:13                2           1.11   \n",
              "\n",
              "   payment_type  fare_amount  extra  mta_tax  tip_amount  tolls_amount  \\\n",
              "0             1         50.0    1.0      0.5         4.0           0.0   \n",
              "1             2          4.5    1.0      0.5         0.0           0.0   \n",
              "2             1         32.0    1.0      0.5         5.5           0.0   \n",
              "3             2         12.5    1.0      0.5         0.0           0.0   \n",
              "4             2          6.0    1.0      0.5         0.0           0.0   \n",
              "\n",
              "   improvement_surcharge  total_amount  congestion_surcharge    elapsed_time  \\\n",
              "0                    0.3          55.8                   0.0 0 days 00:57:42   \n",
              "1                    0.3           8.8                   2.5 0 days 00:03:11   \n",
              "2                    0.3          41.8                   2.5 0 days 23:40:23   \n",
              "3                    0.3          16.8                   2.5 0 days 00:17:18   \n",
              "4                    0.3           7.8                   0.0 0 days 00:05:57   \n",
              "\n",
              "   cost_before_tip   tip_pct  fees  avg_speed  \n",
              "0             51.8  0.077220   1.8  15.265165  \n",
              "1              8.8  0.000000   4.3  12.628272  \n",
              "2             36.3  0.151515   4.3   0.353989  \n",
              "3             16.8  0.000000   4.3   8.289017  \n",
              "4              7.8  0.000000   1.8  11.193277  "
            ]
          },
          "execution_count": 172,
          "metadata": {},
          "output_type": "execute_result"
        }
      ],
      "source": [
        "taxis.reset_index(inplace=True)\n",
        "taxis.head()"
      ]
    },
    {
      "cell_type": "markdown",
      "id": "168895be",
      "metadata": {},
      "source": [
        "### Exercise 2.2\n",
        "\n",
        "##### Using the meteorite data from the `Meteorite_Landings.csv` file, update the `year` column to only contain the year, convert it to a numeric data type, and create a new column indicating whether the meteorite was observed falling before 1970. Set the index to the `id` column and extract all the rows with IDs between 10,036 and 10,040 (inclusive) with `loc[]`.\n",
        "\n",
        "###### **Hint 1**: Use `year.str.slice()` to grab a substring.\n",
        "\n",
        "###### **Hint 2**: Make sure to sort the index before using `loc[]` to select the range.\n",
        "\n",
        "###### **Bonus**: There's a data entry error in the `year` column. Can you find it? (Don't spend too much time on this.)"
      ]
    },
    {
      "cell_type": "code",
      "execution_count": 173,
      "id": "f53a9b94",
      "metadata": {},
      "outputs": [],
      "source": [
        "# Complete exercise 2.2 in the workbook.ipynb file"
      ]
    },
    {
      "cell_type": "code",
      "execution_count": 174,
      "id": "1781c670",
      "metadata": {},
      "outputs": [],
      "source": [
        "# Click on `Exercise 2.2` above to open the workbook.ipynb file"
      ]
    },
    {
      "cell_type": "code",
      "execution_count": 175,
      "id": "f0d555e5",
      "metadata": {},
      "outputs": [],
      "source": [
        "# WARNING: if you complete the exercise here, your cell numbers\n",
        "# for the rest of the training might not match the slides"
      ]
    },
    {
      "cell_type": "markdown",
      "id": "59168344",
      "metadata": {
        "slideshow": {
          "slide_type": "slide"
        },
        "tags": []
      },
      "source": [
        "## Reshaping data\n",
        "\n",
        "The taxi dataset we have be working with is in a format conducive to an analysis. This isn't always the case. Let's now take a look at the TSA traveler throughput data, which compares 2021 throughput to the same day in 2020 and 2019:"
      ]
    },
    {
      "cell_type": "code",
      "execution_count": 176,
      "id": "b5501140",
      "metadata": {
        "slideshow": {
          "slide_type": "fragment"
        },
        "tags": []
      },
      "outputs": [
        {
          "data": {
            "text/html": [
              "<div>\n",
              "<style scoped>\n",
              "    .dataframe tbody tr th:only-of-type {\n",
              "        vertical-align: middle;\n",
              "    }\n",
              "\n",
              "    .dataframe tbody tr th {\n",
              "        vertical-align: top;\n",
              "    }\n",
              "\n",
              "    .dataframe thead th {\n",
              "        text-align: right;\n",
              "    }\n",
              "</style>\n",
              "<table border=\"1\" class=\"dataframe\">\n",
              "  <thead>\n",
              "    <tr style=\"text-align: right;\">\n",
              "      <th></th>\n",
              "      <th>Date</th>\n",
              "      <th>2021 Traveler Throughput</th>\n",
              "      <th>2020 Traveler Throughput</th>\n",
              "      <th>2019 Traveler Throughput</th>\n",
              "    </tr>\n",
              "  </thead>\n",
              "  <tbody>\n",
              "    <tr>\n",
              "      <th>0</th>\n",
              "      <td>2021-05-14</td>\n",
              "      <td>1716561.0</td>\n",
              "      <td>250467</td>\n",
              "      <td>2664549</td>\n",
              "    </tr>\n",
              "    <tr>\n",
              "      <th>1</th>\n",
              "      <td>2021-05-13</td>\n",
              "      <td>1743515.0</td>\n",
              "      <td>234928</td>\n",
              "      <td>2611324</td>\n",
              "    </tr>\n",
              "    <tr>\n",
              "      <th>2</th>\n",
              "      <td>2021-05-12</td>\n",
              "      <td>1424664.0</td>\n",
              "      <td>176667</td>\n",
              "      <td>2343675</td>\n",
              "    </tr>\n",
              "    <tr>\n",
              "      <th>3</th>\n",
              "      <td>2021-05-11</td>\n",
              "      <td>1315493.0</td>\n",
              "      <td>163205</td>\n",
              "      <td>2191387</td>\n",
              "    </tr>\n",
              "    <tr>\n",
              "      <th>4</th>\n",
              "      <td>2021-05-10</td>\n",
              "      <td>1657722.0</td>\n",
              "      <td>215645</td>\n",
              "      <td>2512315</td>\n",
              "    </tr>\n",
              "  </tbody>\n",
              "</table>\n",
              "</div>"
            ],
            "text/plain": [
              "        Date  2021 Traveler Throughput  2020 Traveler Throughput  \\\n",
              "0 2021-05-14                 1716561.0                    250467   \n",
              "1 2021-05-13                 1743515.0                    234928   \n",
              "2 2021-05-12                 1424664.0                    176667   \n",
              "3 2021-05-11                 1315493.0                    163205   \n",
              "4 2021-05-10                 1657722.0                    215645   \n",
              "\n",
              "   2019 Traveler Throughput  \n",
              "0                   2664549  \n",
              "1                   2611324  \n",
              "2                   2343675  \n",
              "3                   2191387  \n",
              "4                   2512315  "
            ]
          },
          "execution_count": 176,
          "metadata": {},
          "output_type": "execute_result"
        }
      ],
      "source": [
        "tsa = pd.read_csv('Week04/data/tsa_passenger_throughput.csv', parse_dates=['Date'])\n",
        "tsa.head()"
      ]
    },
    {
      "cell_type": "markdown",
      "id": "10a62991",
      "metadata": {},
      "source": [
        "*Source: [TSA.gov](https://www.tsa.gov/coronavirus/passenger-throughput)*"
      ]
    },
    {
      "cell_type": "markdown",
      "id": "12f3ac80",
      "metadata": {
        "slideshow": {
          "slide_type": "subslide"
        },
        "tags": []
      },
      "source": [
        "First, we will lowercase the column names and take the first word (e.g., `2021` for `2021 Traveler Throughput`) to make this easier to work with:"
      ]
    },
    {
      "cell_type": "code",
      "execution_count": 177,
      "id": "eb3dd609",
      "metadata": {},
      "outputs": [
        {
          "data": {
            "text/html": [
              "<div>\n",
              "<style scoped>\n",
              "    .dataframe tbody tr th:only-of-type {\n",
              "        vertical-align: middle;\n",
              "    }\n",
              "\n",
              "    .dataframe tbody tr th {\n",
              "        vertical-align: top;\n",
              "    }\n",
              "\n",
              "    .dataframe thead th {\n",
              "        text-align: right;\n",
              "    }\n",
              "</style>\n",
              "<table border=\"1\" class=\"dataframe\">\n",
              "  <thead>\n",
              "    <tr style=\"text-align: right;\">\n",
              "      <th></th>\n",
              "      <th>date</th>\n",
              "      <th>2021</th>\n",
              "      <th>2020</th>\n",
              "      <th>2019</th>\n",
              "    </tr>\n",
              "  </thead>\n",
              "  <tbody>\n",
              "    <tr>\n",
              "      <th>0</th>\n",
              "      <td>2021-05-14</td>\n",
              "      <td>1716561.0</td>\n",
              "      <td>250467</td>\n",
              "      <td>2664549</td>\n",
              "    </tr>\n",
              "    <tr>\n",
              "      <th>1</th>\n",
              "      <td>2021-05-13</td>\n",
              "      <td>1743515.0</td>\n",
              "      <td>234928</td>\n",
              "      <td>2611324</td>\n",
              "    </tr>\n",
              "    <tr>\n",
              "      <th>2</th>\n",
              "      <td>2021-05-12</td>\n",
              "      <td>1424664.0</td>\n",
              "      <td>176667</td>\n",
              "      <td>2343675</td>\n",
              "    </tr>\n",
              "    <tr>\n",
              "      <th>3</th>\n",
              "      <td>2021-05-11</td>\n",
              "      <td>1315493.0</td>\n",
              "      <td>163205</td>\n",
              "      <td>2191387</td>\n",
              "    </tr>\n",
              "    <tr>\n",
              "      <th>4</th>\n",
              "      <td>2021-05-10</td>\n",
              "      <td>1657722.0</td>\n",
              "      <td>215645</td>\n",
              "      <td>2512315</td>\n",
              "    </tr>\n",
              "  </tbody>\n",
              "</table>\n",
              "</div>"
            ],
            "text/plain": [
              "        date       2021    2020     2019\n",
              "0 2021-05-14  1716561.0  250467  2664549\n",
              "1 2021-05-13  1743515.0  234928  2611324\n",
              "2 2021-05-12  1424664.0  176667  2343675\n",
              "3 2021-05-11  1315493.0  163205  2191387\n",
              "4 2021-05-10  1657722.0  215645  2512315"
            ]
          },
          "execution_count": 177,
          "metadata": {},
          "output_type": "execute_result"
        }
      ],
      "source": [
        "tsa = tsa.rename(columns=lambda x: x.lower().split()[0])\n",
        "tsa.head()"
      ]
    },
    {
      "cell_type": "markdown",
      "id": "b6e482cc",
      "metadata": {
        "slideshow": {
          "slide_type": "fragment"
        },
        "tags": []
      },
      "source": [
        "Now, we can work on reshaping it."
      ]
    },
    {
      "cell_type": "markdown",
      "id": "ee73be1a",
      "metadata": {
        "slideshow": {
          "slide_type": "subslide"
        },
        "tags": []
      },
      "source": [
        "### Melting\n",
        "\n",
        "Melting helps convert our data into long format. Now, we have all the traveler throughput numbers in a single column:"
      ]
    },
    {
      "cell_type": "code",
      "execution_count": 178,
      "id": "0c4802aa",
      "metadata": {},
      "outputs": [
        {
          "data": {
            "text/html": [
              "<div>\n",
              "<style scoped>\n",
              "    .dataframe tbody tr th:only-of-type {\n",
              "        vertical-align: middle;\n",
              "    }\n",
              "\n",
              "    .dataframe tbody tr th {\n",
              "        vertical-align: top;\n",
              "    }\n",
              "\n",
              "    .dataframe thead th {\n",
              "        text-align: right;\n",
              "    }\n",
              "</style>\n",
              "<table border=\"1\" class=\"dataframe\">\n",
              "  <thead>\n",
              "    <tr style=\"text-align: right;\">\n",
              "      <th></th>\n",
              "      <th>date</th>\n",
              "      <th>year</th>\n",
              "      <th>travelers</th>\n",
              "    </tr>\n",
              "  </thead>\n",
              "  <tbody>\n",
              "    <tr>\n",
              "      <th>974</th>\n",
              "      <td>2020-09-12</td>\n",
              "      <td>2019</td>\n",
              "      <td>1879822.0</td>\n",
              "    </tr>\n",
              "    <tr>\n",
              "      <th>435</th>\n",
              "      <td>2021-03-05</td>\n",
              "      <td>2020</td>\n",
              "      <td>2198517.0</td>\n",
              "    </tr>\n",
              "    <tr>\n",
              "      <th>1029</th>\n",
              "      <td>2020-07-19</td>\n",
              "      <td>2019</td>\n",
              "      <td>2727355.0</td>\n",
              "    </tr>\n",
              "    <tr>\n",
              "      <th>680</th>\n",
              "      <td>2020-07-03</td>\n",
              "      <td>2020</td>\n",
              "      <td>718988.0</td>\n",
              "    </tr>\n",
              "    <tr>\n",
              "      <th>867</th>\n",
              "      <td>2020-12-28</td>\n",
              "      <td>2019</td>\n",
              "      <td>2500396.0</td>\n",
              "    </tr>\n",
              "  </tbody>\n",
              "</table>\n",
              "</div>"
            ],
            "text/plain": [
              "           date  year  travelers\n",
              "974  2020-09-12  2019  1879822.0\n",
              "435  2021-03-05  2020  2198517.0\n",
              "1029 2020-07-19  2019  2727355.0\n",
              "680  2020-07-03  2020   718988.0\n",
              "867  2020-12-28  2019  2500396.0"
            ]
          },
          "execution_count": 178,
          "metadata": {},
          "output_type": "execute_result"
        }
      ],
      "source": [
        "tsa_melted = tsa.melt(\n",
        "    id_vars='date', # column that uniquely identifies a row (can be multiple)\n",
        "    var_name='year', # name for the new column created by melting\n",
        "    value_name='travelers' # name for new column containing values from melted columns\n",
        ")\n",
        "tsa_melted.sample(5, random_state=1) # show some random entries"
      ]
    },
    {
      "cell_type": "markdown",
      "id": "55b71a51",
      "metadata": {
        "slideshow": {
          "slide_type": "subslide"
        },
        "tags": []
      },
      "source": [
        "To convert this into a time series of traveler throughput, we need to replace the year in the `date` column with the one in the `year` column. Otherwise, we are marking prior years' numbers with the wrong year."
      ]
    },
    {
      "cell_type": "code",
      "execution_count": 179,
      "id": "eca6d306",
      "metadata": {},
      "outputs": [
        {
          "data": {
            "text/html": [
              "<div>\n",
              "<style scoped>\n",
              "    .dataframe tbody tr th:only-of-type {\n",
              "        vertical-align: middle;\n",
              "    }\n",
              "\n",
              "    .dataframe tbody tr th {\n",
              "        vertical-align: top;\n",
              "    }\n",
              "\n",
              "    .dataframe thead th {\n",
              "        text-align: right;\n",
              "    }\n",
              "</style>\n",
              "<table border=\"1\" class=\"dataframe\">\n",
              "  <thead>\n",
              "    <tr style=\"text-align: right;\">\n",
              "      <th></th>\n",
              "      <th>date</th>\n",
              "      <th>year</th>\n",
              "      <th>travelers</th>\n",
              "    </tr>\n",
              "  </thead>\n",
              "  <tbody>\n",
              "    <tr>\n",
              "      <th>974</th>\n",
              "      <td>2019-09-12</td>\n",
              "      <td>2019</td>\n",
              "      <td>1879822.0</td>\n",
              "    </tr>\n",
              "    <tr>\n",
              "      <th>435</th>\n",
              "      <td>2020-03-05</td>\n",
              "      <td>2020</td>\n",
              "      <td>2198517.0</td>\n",
              "    </tr>\n",
              "    <tr>\n",
              "      <th>1029</th>\n",
              "      <td>2019-07-19</td>\n",
              "      <td>2019</td>\n",
              "      <td>2727355.0</td>\n",
              "    </tr>\n",
              "    <tr>\n",
              "      <th>680</th>\n",
              "      <td>2020-07-03</td>\n",
              "      <td>2020</td>\n",
              "      <td>718988.0</td>\n",
              "    </tr>\n",
              "    <tr>\n",
              "      <th>867</th>\n",
              "      <td>2019-12-28</td>\n",
              "      <td>2019</td>\n",
              "      <td>2500396.0</td>\n",
              "    </tr>\n",
              "  </tbody>\n",
              "</table>\n",
              "</div>"
            ],
            "text/plain": [
              "           date  year  travelers\n",
              "974  2019-09-12  2019  1879822.0\n",
              "435  2020-03-05  2020  2198517.0\n",
              "1029 2019-07-19  2019  2727355.0\n",
              "680  2020-07-03  2020   718988.0\n",
              "867  2019-12-28  2019  2500396.0"
            ]
          },
          "execution_count": 179,
          "metadata": {},
          "output_type": "execute_result"
        }
      ],
      "source": [
        "tsa_melted = tsa_melted.assign(\n",
        "    date=lambda x: pd.to_datetime(x.year + x.date.dt.strftime('-%m-%d'))\n",
        ")\n",
        "tsa_melted.sample(5, random_state=1)"
      ]
    },
    {
      "cell_type": "markdown",
      "id": "38f9be51",
      "metadata": {
        "slideshow": {
          "slide_type": "subslide"
        },
        "tags": []
      },
      "source": [
        "This leaves us with some null values (the dates that aren't present in the dataset):"
      ]
    },
    {
      "cell_type": "code",
      "execution_count": 180,
      "id": "214fb707",
      "metadata": {},
      "outputs": [
        {
          "data": {
            "text/html": [
              "<div>\n",
              "<style scoped>\n",
              "    .dataframe tbody tr th:only-of-type {\n",
              "        vertical-align: middle;\n",
              "    }\n",
              "\n",
              "    .dataframe tbody tr th {\n",
              "        vertical-align: top;\n",
              "    }\n",
              "\n",
              "    .dataframe thead th {\n",
              "        text-align: right;\n",
              "    }\n",
              "</style>\n",
              "<table border=\"1\" class=\"dataframe\">\n",
              "  <thead>\n",
              "    <tr style=\"text-align: right;\">\n",
              "      <th></th>\n",
              "      <th>date</th>\n",
              "      <th>year</th>\n",
              "      <th>travelers</th>\n",
              "    </tr>\n",
              "  </thead>\n",
              "  <tbody>\n",
              "    <tr>\n",
              "      <th>136</th>\n",
              "      <td>2021-12-29</td>\n",
              "      <td>2021</td>\n",
              "      <td>NaN</td>\n",
              "    </tr>\n",
              "    <tr>\n",
              "      <th>135</th>\n",
              "      <td>2021-12-30</td>\n",
              "      <td>2021</td>\n",
              "      <td>NaN</td>\n",
              "    </tr>\n",
              "    <tr>\n",
              "      <th>134</th>\n",
              "      <td>2021-12-31</td>\n",
              "      <td>2021</td>\n",
              "      <td>NaN</td>\n",
              "    </tr>\n",
              "  </tbody>\n",
              "</table>\n",
              "</div>"
            ],
            "text/plain": [
              "          date  year  travelers\n",
              "136 2021-12-29  2021        NaN\n",
              "135 2021-12-30  2021        NaN\n",
              "134 2021-12-31  2021        NaN"
            ]
          },
          "execution_count": 180,
          "metadata": {},
          "output_type": "execute_result"
        }
      ],
      "source": [
        "tsa_melted.sort_values('date').tail(3)"
      ]
    },
    {
      "cell_type": "markdown",
      "id": "0b11ee83",
      "metadata": {
        "slideshow": {
          "slide_type": "fragment"
        },
        "tags": []
      },
      "source": [
        "These can be dropped with the `dropna()` method:"
      ]
    },
    {
      "cell_type": "code",
      "execution_count": 181,
      "id": "08bd881f",
      "metadata": {},
      "outputs": [
        {
          "data": {
            "text/html": [
              "<div>\n",
              "<style scoped>\n",
              "    .dataframe tbody tr th:only-of-type {\n",
              "        vertical-align: middle;\n",
              "    }\n",
              "\n",
              "    .dataframe tbody tr th {\n",
              "        vertical-align: top;\n",
              "    }\n",
              "\n",
              "    .dataframe thead th {\n",
              "        text-align: right;\n",
              "    }\n",
              "</style>\n",
              "<table border=\"1\" class=\"dataframe\">\n",
              "  <thead>\n",
              "    <tr style=\"text-align: right;\">\n",
              "      <th></th>\n",
              "      <th>date</th>\n",
              "      <th>year</th>\n",
              "      <th>travelers</th>\n",
              "    </tr>\n",
              "  </thead>\n",
              "  <tbody>\n",
              "    <tr>\n",
              "      <th>2</th>\n",
              "      <td>2021-05-12</td>\n",
              "      <td>2021</td>\n",
              "      <td>1424664.0</td>\n",
              "    </tr>\n",
              "    <tr>\n",
              "      <th>1</th>\n",
              "      <td>2021-05-13</td>\n",
              "      <td>2021</td>\n",
              "      <td>1743515.0</td>\n",
              "    </tr>\n",
              "    <tr>\n",
              "      <th>0</th>\n",
              "      <td>2021-05-14</td>\n",
              "      <td>2021</td>\n",
              "      <td>1716561.0</td>\n",
              "    </tr>\n",
              "  </tbody>\n",
              "</table>\n",
              "</div>"
            ],
            "text/plain": [
              "        date  year  travelers\n",
              "2 2021-05-12  2021  1424664.0\n",
              "1 2021-05-13  2021  1743515.0\n",
              "0 2021-05-14  2021  1716561.0"
            ]
          },
          "execution_count": 181,
          "metadata": {},
          "output_type": "execute_result"
        }
      ],
      "source": [
        "tsa_melted = tsa_melted.dropna()\n",
        "tsa_melted.sort_values('date').tail(3)"
      ]
    },
    {
      "cell_type": "markdown",
      "id": "0ac4af48",
      "metadata": {
        "slideshow": {
          "slide_type": "subslide"
        },
        "tags": []
      },
      "source": [
        "### Pivoting\n",
        "\n",
        "Using the melted data, we can pivot the data to compare TSA traveler throughput on specific days across years:"
      ]
    },
    {
      "cell_type": "code",
      "execution_count": 182,
      "id": "3a670fca",
      "metadata": {},
      "outputs": [
        {
          "data": {
            "text/html": [
              "<div>\n",
              "<style scoped>\n",
              "    .dataframe tbody tr th:only-of-type {\n",
              "        vertical-align: middle;\n",
              "    }\n",
              "\n",
              "    .dataframe tbody tr th {\n",
              "        vertical-align: top;\n",
              "    }\n",
              "\n",
              "    .dataframe thead th {\n",
              "        text-align: right;\n",
              "    }\n",
              "</style>\n",
              "<table border=\"1\" class=\"dataframe\">\n",
              "  <thead>\n",
              "    <tr style=\"text-align: right;\">\n",
              "      <th>day_in_march</th>\n",
              "      <th>1</th>\n",
              "      <th>2</th>\n",
              "      <th>3</th>\n",
              "      <th>4</th>\n",
              "      <th>5</th>\n",
              "      <th>6</th>\n",
              "      <th>7</th>\n",
              "      <th>8</th>\n",
              "      <th>9</th>\n",
              "      <th>10</th>\n",
              "    </tr>\n",
              "    <tr>\n",
              "      <th>year</th>\n",
              "      <th></th>\n",
              "      <th></th>\n",
              "      <th></th>\n",
              "      <th></th>\n",
              "      <th></th>\n",
              "      <th></th>\n",
              "      <th></th>\n",
              "      <th></th>\n",
              "      <th></th>\n",
              "      <th></th>\n",
              "    </tr>\n",
              "  </thead>\n",
              "  <tbody>\n",
              "    <tr>\n",
              "      <th>2019</th>\n",
              "      <td>2257920.0</td>\n",
              "      <td>1979558.0</td>\n",
              "      <td>2143619.0</td>\n",
              "      <td>2402692.0</td>\n",
              "      <td>2543689.0</td>\n",
              "      <td>2156262.0</td>\n",
              "      <td>2485430.0</td>\n",
              "      <td>2378673.0</td>\n",
              "      <td>2122898.0</td>\n",
              "      <td>2187298.0</td>\n",
              "    </tr>\n",
              "    <tr>\n",
              "      <th>2020</th>\n",
              "      <td>2089641.0</td>\n",
              "      <td>1736393.0</td>\n",
              "      <td>1877401.0</td>\n",
              "      <td>2130015.0</td>\n",
              "      <td>2198517.0</td>\n",
              "      <td>1844811.0</td>\n",
              "      <td>2119867.0</td>\n",
              "      <td>1909363.0</td>\n",
              "      <td>1617220.0</td>\n",
              "      <td>1702686.0</td>\n",
              "    </tr>\n",
              "    <tr>\n",
              "      <th>2021</th>\n",
              "      <td>1049692.0</td>\n",
              "      <td>744812.0</td>\n",
              "      <td>826924.0</td>\n",
              "      <td>1107534.0</td>\n",
              "      <td>1168734.0</td>\n",
              "      <td>992406.0</td>\n",
              "      <td>1278557.0</td>\n",
              "      <td>1119303.0</td>\n",
              "      <td>825745.0</td>\n",
              "      <td>974221.0</td>\n",
              "    </tr>\n",
              "  </tbody>\n",
              "</table>\n",
              "</div>"
            ],
            "text/plain": [
              "day_in_march         1          2          3          4          5   \\\n",
              "year                                                                  \n",
              "2019          2257920.0  1979558.0  2143619.0  2402692.0  2543689.0   \n",
              "2020          2089641.0  1736393.0  1877401.0  2130015.0  2198517.0   \n",
              "2021          1049692.0   744812.0   826924.0  1107534.0  1168734.0   \n",
              "\n",
              "day_in_march         6          7          8          9          10  \n",
              "year                                                                 \n",
              "2019          2156262.0  2485430.0  2378673.0  2122898.0  2187298.0  \n",
              "2020          1844811.0  2119867.0  1909363.0  1617220.0  1702686.0  \n",
              "2021           992406.0  1278557.0  1119303.0   825745.0   974221.0  "
            ]
          },
          "execution_count": 182,
          "metadata": {},
          "output_type": "execute_result"
        }
      ],
      "source": [
        "tsa_pivoted = tsa_melted\\\n",
        "    .query('date.dt.month == 3 and date.dt.day <= 10')\\\n",
        "    .assign(day_in_march=lambda x: x.date.dt.day)\\\n",
        "    .pivot(index='year', columns='day_in_march', values='travelers')\n",
        "tsa_pivoted"
      ]
    },
    {
      "cell_type": "markdown",
      "id": "1ab531da",
      "metadata": {
        "slideshow": {
          "slide_type": "fragment"
        },
        "tags": []
      },
      "source": [
        "**Important**: We aren't covering the `unstack()` and `stack()` methods, which are additional ways to pivot and melt, respectively. These come in handy when we have a multi-level index (e.g., if we ran `set_index()` with more than one column). More information can be found [here](https://pandas.pydata.org/pandas-docs/stable/user_guide/reshaping.html)."
      ]
    },
    {
      "cell_type": "markdown",
      "id": "ddc9614f",
      "metadata": {
        "slideshow": {
          "slide_type": "subslide"
        },
        "tags": []
      },
      "source": [
        "### Transposing\n",
        "\n",
        "The `T` attribute provides a quick way to flip rows and columns."
      ]
    },
    {
      "cell_type": "code",
      "execution_count": 183,
      "id": "90c010e1",
      "metadata": {},
      "outputs": [
        {
          "data": {
            "text/html": [
              "<div>\n",
              "<style scoped>\n",
              "    .dataframe tbody tr th:only-of-type {\n",
              "        vertical-align: middle;\n",
              "    }\n",
              "\n",
              "    .dataframe tbody tr th {\n",
              "        vertical-align: top;\n",
              "    }\n",
              "\n",
              "    .dataframe thead th {\n",
              "        text-align: right;\n",
              "    }\n",
              "</style>\n",
              "<table border=\"1\" class=\"dataframe\">\n",
              "  <thead>\n",
              "    <tr style=\"text-align: right;\">\n",
              "      <th>year</th>\n",
              "      <th>2019</th>\n",
              "      <th>2020</th>\n",
              "      <th>2021</th>\n",
              "    </tr>\n",
              "    <tr>\n",
              "      <th>day_in_march</th>\n",
              "      <th></th>\n",
              "      <th></th>\n",
              "      <th></th>\n",
              "    </tr>\n",
              "  </thead>\n",
              "  <tbody>\n",
              "    <tr>\n",
              "      <th>1</th>\n",
              "      <td>2257920.0</td>\n",
              "      <td>2089641.0</td>\n",
              "      <td>1049692.0</td>\n",
              "    </tr>\n",
              "    <tr>\n",
              "      <th>2</th>\n",
              "      <td>1979558.0</td>\n",
              "      <td>1736393.0</td>\n",
              "      <td>744812.0</td>\n",
              "    </tr>\n",
              "    <tr>\n",
              "      <th>3</th>\n",
              "      <td>2143619.0</td>\n",
              "      <td>1877401.0</td>\n",
              "      <td>826924.0</td>\n",
              "    </tr>\n",
              "    <tr>\n",
              "      <th>4</th>\n",
              "      <td>2402692.0</td>\n",
              "      <td>2130015.0</td>\n",
              "      <td>1107534.0</td>\n",
              "    </tr>\n",
              "    <tr>\n",
              "      <th>5</th>\n",
              "      <td>2543689.0</td>\n",
              "      <td>2198517.0</td>\n",
              "      <td>1168734.0</td>\n",
              "    </tr>\n",
              "    <tr>\n",
              "      <th>6</th>\n",
              "      <td>2156262.0</td>\n",
              "      <td>1844811.0</td>\n",
              "      <td>992406.0</td>\n",
              "    </tr>\n",
              "    <tr>\n",
              "      <th>7</th>\n",
              "      <td>2485430.0</td>\n",
              "      <td>2119867.0</td>\n",
              "      <td>1278557.0</td>\n",
              "    </tr>\n",
              "    <tr>\n",
              "      <th>8</th>\n",
              "      <td>2378673.0</td>\n",
              "      <td>1909363.0</td>\n",
              "      <td>1119303.0</td>\n",
              "    </tr>\n",
              "    <tr>\n",
              "      <th>9</th>\n",
              "      <td>2122898.0</td>\n",
              "      <td>1617220.0</td>\n",
              "      <td>825745.0</td>\n",
              "    </tr>\n",
              "    <tr>\n",
              "      <th>10</th>\n",
              "      <td>2187298.0</td>\n",
              "      <td>1702686.0</td>\n",
              "      <td>974221.0</td>\n",
              "    </tr>\n",
              "  </tbody>\n",
              "</table>\n",
              "</div>"
            ],
            "text/plain": [
              "year               2019       2020       2021\n",
              "day_in_march                                 \n",
              "1             2257920.0  2089641.0  1049692.0\n",
              "2             1979558.0  1736393.0   744812.0\n",
              "3             2143619.0  1877401.0   826924.0\n",
              "4             2402692.0  2130015.0  1107534.0\n",
              "5             2543689.0  2198517.0  1168734.0\n",
              "6             2156262.0  1844811.0   992406.0\n",
              "7             2485430.0  2119867.0  1278557.0\n",
              "8             2378673.0  1909363.0  1119303.0\n",
              "9             2122898.0  1617220.0   825745.0\n",
              "10            2187298.0  1702686.0   974221.0"
            ]
          },
          "execution_count": 183,
          "metadata": {},
          "output_type": "execute_result"
        }
      ],
      "source": [
        "tsa_pivoted.T"
      ]
    },
    {
      "cell_type": "markdown",
      "id": "8c9a8d89",
      "metadata": {
        "slideshow": {
          "slide_type": "subslide"
        },
        "tags": []
      },
      "source": [
        "### Merging\n",
        "\n",
        "We typically observe changes in air travel around the holidays, so adding information about the dates in the TSA dataset provides more context. The `holidays.csv` file contains a few major holidays in the United States:"
      ]
    },
    {
      "cell_type": "code",
      "execution_count": 184,
      "id": "ec53d5a5",
      "metadata": {},
      "outputs": [
        {
          "data": {
            "text/html": [
              "<div>\n",
              "<style scoped>\n",
              "    .dataframe tbody tr th:only-of-type {\n",
              "        vertical-align: middle;\n",
              "    }\n",
              "\n",
              "    .dataframe tbody tr th {\n",
              "        vertical-align: top;\n",
              "    }\n",
              "\n",
              "    .dataframe thead th {\n",
              "        text-align: right;\n",
              "    }\n",
              "</style>\n",
              "<table border=\"1\" class=\"dataframe\">\n",
              "  <thead>\n",
              "    <tr style=\"text-align: right;\">\n",
              "      <th></th>\n",
              "      <th>holiday</th>\n",
              "    </tr>\n",
              "    <tr>\n",
              "      <th>date</th>\n",
              "      <th></th>\n",
              "    </tr>\n",
              "  </thead>\n",
              "  <tbody>\n",
              "    <tr>\n",
              "      <th>2019-01-01</th>\n",
              "      <td>New Year's Day</td>\n",
              "    </tr>\n",
              "    <tr>\n",
              "      <th>2019-05-27</th>\n",
              "      <td>Memorial Day</td>\n",
              "    </tr>\n",
              "    <tr>\n",
              "      <th>2019-07-04</th>\n",
              "      <td>July 4th</td>\n",
              "    </tr>\n",
              "    <tr>\n",
              "      <th>2019-09-02</th>\n",
              "      <td>Labor Day</td>\n",
              "    </tr>\n",
              "    <tr>\n",
              "      <th>2019-11-28</th>\n",
              "      <td>Thanksgiving</td>\n",
              "    </tr>\n",
              "    <tr>\n",
              "      <th>2019-12-24</th>\n",
              "      <td>Christmas Eve</td>\n",
              "    </tr>\n",
              "    <tr>\n",
              "      <th>2019-12-25</th>\n",
              "      <td>Christmas Day</td>\n",
              "    </tr>\n",
              "    <tr>\n",
              "      <th>2019-12-31</th>\n",
              "      <td>New Year's Eve</td>\n",
              "    </tr>\n",
              "  </tbody>\n",
              "</table>\n",
              "</div>"
            ],
            "text/plain": [
              "                   holiday\n",
              "date                      \n",
              "2019-01-01  New Year's Day\n",
              "2019-05-27    Memorial Day\n",
              "2019-07-04        July 4th\n",
              "2019-09-02       Labor Day\n",
              "2019-11-28    Thanksgiving\n",
              "2019-12-24   Christmas Eve\n",
              "2019-12-25   Christmas Day\n",
              "2019-12-31  New Year's Eve"
            ]
          },
          "execution_count": 184,
          "metadata": {},
          "output_type": "execute_result"
        }
      ],
      "source": [
        "holidays = pd.read_csv('Week04/data/holidays.csv', parse_dates=True, index_col='date')\n",
        "holidays.loc['2019']"
      ]
    },
    {
      "cell_type": "markdown",
      "id": "c68eb1bc",
      "metadata": {
        "slideshow": {
          "slide_type": "subslide"
        },
        "tags": []
      },
      "source": [
        "Merging the holidays with the TSA traveler throughput data will provide more context for our analysis:"
      ]
    },
    {
      "cell_type": "code",
      "execution_count": 185,
      "id": "95b4a1b5",
      "metadata": {
        "tags": []
      },
      "outputs": [
        {
          "data": {
            "text/html": [
              "<div>\n",
              "<style scoped>\n",
              "    .dataframe tbody tr th:only-of-type {\n",
              "        vertical-align: middle;\n",
              "    }\n",
              "\n",
              "    .dataframe tbody tr th {\n",
              "        vertical-align: top;\n",
              "    }\n",
              "\n",
              "    .dataframe thead th {\n",
              "        text-align: right;\n",
              "    }\n",
              "</style>\n",
              "<table border=\"1\" class=\"dataframe\">\n",
              "  <thead>\n",
              "    <tr style=\"text-align: right;\">\n",
              "      <th></th>\n",
              "      <th>date</th>\n",
              "      <th>year</th>\n",
              "      <th>travelers</th>\n",
              "      <th>holiday</th>\n",
              "    </tr>\n",
              "  </thead>\n",
              "  <tbody>\n",
              "    <tr>\n",
              "      <th>863</th>\n",
              "      <td>2019-01-01</td>\n",
              "      <td>2019</td>\n",
              "      <td>2126398.0</td>\n",
              "      <td>New Year's Day</td>\n",
              "    </tr>\n",
              "    <tr>\n",
              "      <th>862</th>\n",
              "      <td>2019-01-02</td>\n",
              "      <td>2019</td>\n",
              "      <td>2345103.0</td>\n",
              "      <td>NaN</td>\n",
              "    </tr>\n",
              "    <tr>\n",
              "      <th>861</th>\n",
              "      <td>2019-01-03</td>\n",
              "      <td>2019</td>\n",
              "      <td>2202111.0</td>\n",
              "      <td>NaN</td>\n",
              "    </tr>\n",
              "    <tr>\n",
              "      <th>860</th>\n",
              "      <td>2019-01-04</td>\n",
              "      <td>2019</td>\n",
              "      <td>2150571.0</td>\n",
              "      <td>NaN</td>\n",
              "    </tr>\n",
              "    <tr>\n",
              "      <th>859</th>\n",
              "      <td>2019-01-05</td>\n",
              "      <td>2019</td>\n",
              "      <td>1975947.0</td>\n",
              "      <td>NaN</td>\n",
              "    </tr>\n",
              "  </tbody>\n",
              "</table>\n",
              "</div>"
            ],
            "text/plain": [
              "          date  year  travelers         holiday\n",
              "863 2019-01-01  2019  2126398.0  New Year's Day\n",
              "862 2019-01-02  2019  2345103.0             NaN\n",
              "861 2019-01-03  2019  2202111.0             NaN\n",
              "860 2019-01-04  2019  2150571.0             NaN\n",
              "859 2019-01-05  2019  1975947.0             NaN"
            ]
          },
          "execution_count": 185,
          "metadata": {},
          "output_type": "execute_result"
        }
      ],
      "source": [
        "tsa_melted_holidays = tsa_melted\\\n",
        "    .merge(holidays, left_on='date', right_index=True, how='left')\\\n",
        "    .sort_values('date')\n",
        "tsa_melted_holidays.head()"
      ]
    },
    {
      "cell_type": "markdown",
      "id": "f992e94f",
      "metadata": {
        "slideshow": {
          "slide_type": "fragment"
        },
        "tags": []
      },
      "source": [
        "*Tip: There are many parameters for this method, so be sure to check out the [documentation](https://pandas.pydata.org/pandas-docs/stable/reference/api/pandas.DataFrame.merge.html). To append rows, take a look at the `pd.concat()` function.*"
      ]
    },
    {
      "cell_type": "markdown",
      "id": "bad2b758",
      "metadata": {
        "slideshow": {
          "slide_type": "subslide"
        },
        "tags": []
      },
      "source": [
        "We can take this a step further by marking a few days before and after each holiday as part of the holiday. This would make it easier to compare holiday travel across years and look for any uptick in travel around the holidays:"
      ]
    },
    {
      "cell_type": "code",
      "execution_count": 186,
      "id": "92f0f3a0",
      "metadata": {},
      "outputs": [
        {
          "name": "stderr",
          "output_type": "stream",
          "text": [
            "C:\\Users\\marky\\AppData\\Local\\Temp\\ipykernel_25252\\2686665251.py:7: FutureWarning: Series.fillna with 'method' is deprecated and will raise in a future version. Use obj.ffill() or obj.bfill() instead.\n",
            "  .fillna(method='ffill', limit=1)\\\n",
            "C:\\Users\\marky\\AppData\\Local\\Temp\\ipykernel_25252\\2686665251.py:8: FutureWarning: Series.fillna with 'method' is deprecated and will raise in a future version. Use obj.ffill() or obj.bfill() instead.\n",
            "  .fillna(method='bfill', limit=2)\n"
          ]
        }
      ],
      "source": [
        "tsa_melted_holidays['year'] = tsa_melted_holidays['year'].astype(str)\n",
        "tsa_melted_holidays['holiday'] = tsa_melted_holidays['holiday'].astype(str)\n",
        "\n",
        "tsa_melted_holiday_travel = tsa_melted_holidays.assign(\n",
        "    holiday=lambda x:\n",
        "        x.holiday\\\n",
        "            .fillna(method='ffill', limit=1)\\\n",
        "            .fillna(method='bfill', limit=2)\n",
        ")"
      ]
    },
    {
      "cell_type": "markdown",
      "id": "1620461f",
      "metadata": {
        "slideshow": {
          "slide_type": "fragment"
        },
        "tags": []
      },
      "source": [
        "*Tip: Check out the [documentation](https://pandas.pydata.org/pandas-docs/stable/reference/api/pandas.DataFrame.fillna.html) for the full list of functionality available with the `fillna()` method.*"
      ]
    },
    {
      "cell_type": "markdown",
      "id": "b389a51a",
      "metadata": {
        "slideshow": {
          "slide_type": "subslide"
        },
        "tags": []
      },
      "source": [
        "Notice that we now have values for the day after each holiday and the two days prior. Thanksgiving in 2019 was on November 28th, so the 26th, 27th, and 29th were filled. Since we are only replacing null values, we don't override Christmas Day with the forward fill of Christmas Eve:"
      ]
    },
    {
      "cell_type": "code",
      "execution_count": 187,
      "id": "d1b84f0f",
      "metadata": {},
      "outputs": [
        {
          "data": {
            "text/html": [
              "<div>\n",
              "<style scoped>\n",
              "    .dataframe tbody tr th:only-of-type {\n",
              "        vertical-align: middle;\n",
              "    }\n",
              "\n",
              "    .dataframe tbody tr th {\n",
              "        vertical-align: top;\n",
              "    }\n",
              "\n",
              "    .dataframe thead th {\n",
              "        text-align: right;\n",
              "    }\n",
              "</style>\n",
              "<table border=\"1\" class=\"dataframe\">\n",
              "  <thead>\n",
              "    <tr style=\"text-align: right;\">\n",
              "      <th></th>\n",
              "      <th>date</th>\n",
              "      <th>year</th>\n",
              "      <th>travelers</th>\n",
              "      <th>holiday</th>\n",
              "    </tr>\n",
              "  </thead>\n",
              "  <tbody>\n",
              "    <tr>\n",
              "      <th>897</th>\n",
              "      <td>2019-11-28</td>\n",
              "      <td>2019</td>\n",
              "      <td>2648268.0</td>\n",
              "      <td>Thanksgiving</td>\n",
              "    </tr>\n",
              "    <tr>\n",
              "      <th>871</th>\n",
              "      <td>2019-12-24</td>\n",
              "      <td>2019</td>\n",
              "      <td>2552194.0</td>\n",
              "      <td>Christmas Eve</td>\n",
              "    </tr>\n",
              "    <tr>\n",
              "      <th>870</th>\n",
              "      <td>2019-12-25</td>\n",
              "      <td>2019</td>\n",
              "      <td>2582580.0</td>\n",
              "      <td>Christmas Day</td>\n",
              "    </tr>\n",
              "  </tbody>\n",
              "</table>\n",
              "</div>"
            ],
            "text/plain": [
              "          date  year  travelers        holiday\n",
              "897 2019-11-28  2019  2648268.0   Thanksgiving\n",
              "871 2019-12-24  2019  2552194.0  Christmas Eve\n",
              "870 2019-12-25  2019  2582580.0  Christmas Day"
            ]
          },
          "execution_count": 187,
          "metadata": {},
          "output_type": "execute_result"
        }
      ],
      "source": [
        "tsa_melted_holiday_travel.query(\n",
        "    'year == \"2019\" and '\n",
        "    '(holiday == \"Thanksgiving\" or holiday.str.contains(\"Christmas\"))'\n",
        ")"
      ]
    },
    {
      "cell_type": "markdown",
      "id": "f3c37423",
      "metadata": {
        "slideshow": {
          "slide_type": "slide"
        },
        "tags": []
      },
      "source": [
        "## Aggregations and grouping\n",
        "\n",
        "After reshaping and cleaning our data, we can perform aggregations to summarize it in a variety of ways. In this section, we will explore using pivot tables, crosstabs, and group by operations to aggregate the data."
      ]
    },
    {
      "cell_type": "markdown",
      "id": "2d4759b0",
      "metadata": {
        "slideshow": {
          "slide_type": "subslide"
        },
        "tags": []
      },
      "source": [
        "### Pivot tables\n",
        "We can build a pivot table to compare holiday travel across the years in our dataset:"
      ]
    },
    {
      "cell_type": "code",
      "execution_count": 188,
      "id": "9a83e5c7",
      "metadata": {},
      "outputs": [
        {
          "data": {
            "text/html": [
              "<div>\n",
              "<style scoped>\n",
              "    .dataframe tbody tr th:only-of-type {\n",
              "        vertical-align: middle;\n",
              "    }\n",
              "\n",
              "    .dataframe tbody tr th {\n",
              "        vertical-align: top;\n",
              "    }\n",
              "\n",
              "    .dataframe thead th {\n",
              "        text-align: right;\n",
              "    }\n",
              "</style>\n",
              "<table border=\"1\" class=\"dataframe\">\n",
              "  <thead>\n",
              "    <tr style=\"text-align: right;\">\n",
              "      <th>holiday</th>\n",
              "      <th>Christmas Day</th>\n",
              "      <th>Christmas Eve</th>\n",
              "      <th>July 4th</th>\n",
              "      <th>Labor Day</th>\n",
              "      <th>Memorial Day</th>\n",
              "      <th>New Year's Day</th>\n",
              "      <th>New Year's Eve</th>\n",
              "      <th>Thanksgiving</th>\n",
              "      <th>nan</th>\n",
              "    </tr>\n",
              "    <tr>\n",
              "      <th>year</th>\n",
              "      <th></th>\n",
              "      <th></th>\n",
              "      <th></th>\n",
              "      <th></th>\n",
              "      <th></th>\n",
              "      <th></th>\n",
              "      <th></th>\n",
              "      <th></th>\n",
              "      <th></th>\n",
              "    </tr>\n",
              "  </thead>\n",
              "  <tbody>\n",
              "    <tr>\n",
              "      <th>2019</th>\n",
              "      <td>2582580.0</td>\n",
              "      <td>2552194.0</td>\n",
              "      <td>2345846.0</td>\n",
              "      <td>1889044.0</td>\n",
              "      <td>2269035.0</td>\n",
              "      <td>2126398.0</td>\n",
              "      <td>2392331.0</td>\n",
              "      <td>2648268.0</td>\n",
              "      <td>824155377.0</td>\n",
              "    </tr>\n",
              "    <tr>\n",
              "      <th>2020</th>\n",
              "      <td>616469.0</td>\n",
              "      <td>846520.0</td>\n",
              "      <td>466669.0</td>\n",
              "      <td>935308.0</td>\n",
              "      <td>340769.0</td>\n",
              "      <td>2311732.0</td>\n",
              "      <td>874406.0</td>\n",
              "      <td>560902.0</td>\n",
              "      <td>314928819.0</td>\n",
              "    </tr>\n",
              "    <tr>\n",
              "      <th>2021</th>\n",
              "      <td>NaN</td>\n",
              "      <td>NaN</td>\n",
              "      <td>NaN</td>\n",
              "      <td>NaN</td>\n",
              "      <td>NaN</td>\n",
              "      <td>805990.0</td>\n",
              "      <td>NaN</td>\n",
              "      <td>NaN</td>\n",
              "      <td>148286748.0</td>\n",
              "    </tr>\n",
              "  </tbody>\n",
              "</table>\n",
              "</div>"
            ],
            "text/plain": [
              "holiday  Christmas Day  Christmas Eve   July 4th  Labor Day  Memorial Day  \\\n",
              "year                                                                        \n",
              "2019         2582580.0      2552194.0  2345846.0  1889044.0     2269035.0   \n",
              "2020          616469.0       846520.0   466669.0   935308.0      340769.0   \n",
              "2021               NaN            NaN        NaN        NaN           NaN   \n",
              "\n",
              "holiday  New Year's Day  New Year's Eve  Thanksgiving          nan  \n",
              "year                                                                \n",
              "2019          2126398.0       2392331.0     2648268.0  824155377.0  \n",
              "2020          2311732.0        874406.0      560902.0  314928819.0  \n",
              "2021           805990.0             NaN           NaN  148286748.0  "
            ]
          },
          "execution_count": 188,
          "metadata": {},
          "output_type": "execute_result"
        }
      ],
      "source": [
        "tsa_melted_holiday_travel.pivot_table(\n",
        "    index='year', columns='holiday', \n",
        "    values='travelers', aggfunc='sum'\n",
        ")"
      ]
    },
    {
      "cell_type": "markdown",
      "id": "65a132a4",
      "metadata": {
        "slideshow": {
          "slide_type": "subslide"
        },
        "tags": []
      },
      "source": [
        "We can use the `pct_change()` method on this result to see which holiday travel periods saw the biggest change in travel:"
      ]
    },
    {
      "cell_type": "code",
      "execution_count": 189,
      "id": "ab7772b7",
      "metadata": {},
      "outputs": [
        {
          "name": "stderr",
          "output_type": "stream",
          "text": [
            "C:\\Users\\marky\\AppData\\Local\\Temp\\ipykernel_25252\\2267430764.py:4: FutureWarning: The default fill_method='pad' in DataFrame.pct_change is deprecated and will be removed in a future version. Either fill in any non-leading NA values prior to calling pct_change or specify 'fill_method=None' to not fill NA values.\n",
            "  ).pct_change()\n"
          ]
        },
        {
          "data": {
            "text/html": [
              "<div>\n",
              "<style scoped>\n",
              "    .dataframe tbody tr th:only-of-type {\n",
              "        vertical-align: middle;\n",
              "    }\n",
              "\n",
              "    .dataframe tbody tr th {\n",
              "        vertical-align: top;\n",
              "    }\n",
              "\n",
              "    .dataframe thead th {\n",
              "        text-align: right;\n",
              "    }\n",
              "</style>\n",
              "<table border=\"1\" class=\"dataframe\">\n",
              "  <thead>\n",
              "    <tr style=\"text-align: right;\">\n",
              "      <th>holiday</th>\n",
              "      <th>Christmas Day</th>\n",
              "      <th>Christmas Eve</th>\n",
              "      <th>July 4th</th>\n",
              "      <th>Labor Day</th>\n",
              "      <th>Memorial Day</th>\n",
              "      <th>New Year's Day</th>\n",
              "      <th>New Year's Eve</th>\n",
              "      <th>Thanksgiving</th>\n",
              "      <th>nan</th>\n",
              "    </tr>\n",
              "    <tr>\n",
              "      <th>year</th>\n",
              "      <th></th>\n",
              "      <th></th>\n",
              "      <th></th>\n",
              "      <th></th>\n",
              "      <th></th>\n",
              "      <th></th>\n",
              "      <th></th>\n",
              "      <th></th>\n",
              "      <th></th>\n",
              "    </tr>\n",
              "  </thead>\n",
              "  <tbody>\n",
              "    <tr>\n",
              "      <th>2019</th>\n",
              "      <td>NaN</td>\n",
              "      <td>NaN</td>\n",
              "      <td>NaN</td>\n",
              "      <td>NaN</td>\n",
              "      <td>NaN</td>\n",
              "      <td>NaN</td>\n",
              "      <td>NaN</td>\n",
              "      <td>NaN</td>\n",
              "      <td>NaN</td>\n",
              "    </tr>\n",
              "    <tr>\n",
              "      <th>2020</th>\n",
              "      <td>-0.761297</td>\n",
              "      <td>-0.668317</td>\n",
              "      <td>-0.801066</td>\n",
              "      <td>-0.504878</td>\n",
              "      <td>-0.849818</td>\n",
              "      <td>0.087159</td>\n",
              "      <td>-0.634496</td>\n",
              "      <td>-0.7882</td>\n",
              "      <td>-0.617877</td>\n",
              "    </tr>\n",
              "    <tr>\n",
              "      <th>2021</th>\n",
              "      <td>0.000000</td>\n",
              "      <td>0.000000</td>\n",
              "      <td>0.000000</td>\n",
              "      <td>0.000000</td>\n",
              "      <td>0.000000</td>\n",
              "      <td>-0.651348</td>\n",
              "      <td>0.000000</td>\n",
              "      <td>0.0000</td>\n",
              "      <td>-0.529142</td>\n",
              "    </tr>\n",
              "  </tbody>\n",
              "</table>\n",
              "</div>"
            ],
            "text/plain": [
              "holiday  Christmas Day  Christmas Eve  July 4th  Labor Day  Memorial Day  \\\n",
              "year                                                                       \n",
              "2019               NaN            NaN       NaN        NaN           NaN   \n",
              "2020         -0.761297      -0.668317 -0.801066  -0.504878     -0.849818   \n",
              "2021          0.000000       0.000000  0.000000   0.000000      0.000000   \n",
              "\n",
              "holiday  New Year's Day  New Year's Eve  Thanksgiving       nan  \n",
              "year                                                             \n",
              "2019                NaN             NaN           NaN       NaN  \n",
              "2020           0.087159       -0.634496       -0.7882 -0.617877  \n",
              "2021          -0.651348        0.000000        0.0000 -0.529142  "
            ]
          },
          "execution_count": 189,
          "metadata": {},
          "output_type": "execute_result"
        }
      ],
      "source": [
        "tsa_melted_holiday_travel.pivot_table(\n",
        "    index='year', columns='holiday', \n",
        "    values='travelers', aggfunc='sum'\n",
        ").pct_change()"
      ]
    },
    {
      "cell_type": "markdown",
      "id": "d38d944e",
      "metadata": {
        "slideshow": {
          "slide_type": "subslide"
        },
        "tags": []
      },
      "source": [
        "Let's make one last pivot table with column and row subtotals, along with some formatting improvements. First, we set a display option for all floats:"
      ]
    },
    {
      "cell_type": "code",
      "execution_count": 190,
      "id": "22a5d909",
      "metadata": {},
      "outputs": [],
      "source": [
        "pd.set_option('display.float_format', '{:,.0f}'.format)"
      ]
    },
    {
      "cell_type": "markdown",
      "id": "7043860f",
      "metadata": {
        "slideshow": {
          "slide_type": "subslide"
        },
        "tags": []
      },
      "source": [
        "Next, we group together Christmas Eve and Christmas Day, likewise for New Year's Eve and New Year's Day, and create the pivot table:"
      ]
    },
    {
      "cell_type": "code",
      "execution_count": 191,
      "id": "2410582a",
      "metadata": {},
      "outputs": [
        {
          "data": {
            "text/html": [
              "<div>\n",
              "<style scoped>\n",
              "    .dataframe tbody tr th:only-of-type {\n",
              "        vertical-align: middle;\n",
              "    }\n",
              "\n",
              "    .dataframe tbody tr th {\n",
              "        vertical-align: top;\n",
              "    }\n",
              "\n",
              "    .dataframe thead th {\n",
              "        text-align: right;\n",
              "    }\n",
              "</style>\n",
              "<table border=\"1\" class=\"dataframe\">\n",
              "  <thead>\n",
              "    <tr style=\"text-align: right;\">\n",
              "      <th>holiday</th>\n",
              "      <th>Christmas</th>\n",
              "      <th>July 4th</th>\n",
              "      <th>Labor Day</th>\n",
              "      <th>Memorial Day</th>\n",
              "      <th>New Year's</th>\n",
              "      <th>Thanksgiving</th>\n",
              "      <th>nan</th>\n",
              "      <th>Total</th>\n",
              "    </tr>\n",
              "    <tr>\n",
              "      <th>year</th>\n",
              "      <th></th>\n",
              "      <th></th>\n",
              "      <th></th>\n",
              "      <th></th>\n",
              "      <th></th>\n",
              "      <th></th>\n",
              "      <th></th>\n",
              "      <th></th>\n",
              "    </tr>\n",
              "  </thead>\n",
              "  <tbody>\n",
              "    <tr>\n",
              "      <th>2019</th>\n",
              "      <td>5,134,774</td>\n",
              "      <td>2,345,846</td>\n",
              "      <td>1,889,044</td>\n",
              "      <td>2,269,035</td>\n",
              "      <td>4,518,729</td>\n",
              "      <td>2,648,268</td>\n",
              "      <td>824,155,377</td>\n",
              "      <td>842,961,073</td>\n",
              "    </tr>\n",
              "    <tr>\n",
              "      <th>2020</th>\n",
              "      <td>1,462,989</td>\n",
              "      <td>466,669</td>\n",
              "      <td>935,308</td>\n",
              "      <td>340,769</td>\n",
              "      <td>3,186,138</td>\n",
              "      <td>560,902</td>\n",
              "      <td>314,928,819</td>\n",
              "      <td>321,881,594</td>\n",
              "    </tr>\n",
              "    <tr>\n",
              "      <th>2021</th>\n",
              "      <td>NaN</td>\n",
              "      <td>NaN</td>\n",
              "      <td>NaN</td>\n",
              "      <td>NaN</td>\n",
              "      <td>805,990</td>\n",
              "      <td>NaN</td>\n",
              "      <td>148,286,748</td>\n",
              "      <td>149,092,738</td>\n",
              "    </tr>\n",
              "    <tr>\n",
              "      <th>Total</th>\n",
              "      <td>6,597,763</td>\n",
              "      <td>2,812,515</td>\n",
              "      <td>2,824,352</td>\n",
              "      <td>2,609,804</td>\n",
              "      <td>8,510,857</td>\n",
              "      <td>3,209,170</td>\n",
              "      <td>1,287,370,944</td>\n",
              "      <td>1,313,935,405</td>\n",
              "    </tr>\n",
              "  </tbody>\n",
              "</table>\n",
              "</div>"
            ],
            "text/plain": [
              "holiday  Christmas  July 4th  Labor Day  Memorial Day  New Year's  \\\n",
              "year                                                                \n",
              "2019     5,134,774 2,345,846  1,889,044     2,269,035   4,518,729   \n",
              "2020     1,462,989   466,669    935,308       340,769   3,186,138   \n",
              "2021           NaN       NaN        NaN           NaN     805,990   \n",
              "Total    6,597,763 2,812,515  2,824,352     2,609,804   8,510,857   \n",
              "\n",
              "holiday  Thanksgiving           nan         Total  \n",
              "year                                               \n",
              "2019        2,648,268   824,155,377   842,961,073  \n",
              "2020          560,902   314,928,819   321,881,594  \n",
              "2021              NaN   148,286,748   149,092,738  \n",
              "Total       3,209,170 1,287,370,944 1,313,935,405  "
            ]
          },
          "execution_count": 191,
          "metadata": {},
          "output_type": "execute_result"
        }
      ],
      "source": [
        "import numpy as np\n",
        "\n",
        "tsa_melted_holiday_travel.assign(\n",
        "    holiday=lambda x: np.where(\n",
        "        x.holiday.str.contains('Christmas|New Year', regex=True), \n",
        "        x.holiday.str.replace('Day|Eve', '', regex=True).str.strip(), \n",
        "        x.holiday\n",
        "    )\n",
        ").pivot_table(\n",
        "    index='year', columns='holiday', \n",
        "    values='travelers', aggfunc='sum', \n",
        "    margins=True, margins_name='Total'\n",
        ")"
      ]
    },
    {
      "cell_type": "markdown",
      "id": "206fd461",
      "metadata": {
        "slideshow": {
          "slide_type": "subslide"
        },
        "tags": []
      },
      "source": [
        "Before moving on, let's reset the display option:"
      ]
    },
    {
      "cell_type": "code",
      "execution_count": 192,
      "id": "7090e418",
      "metadata": {},
      "outputs": [],
      "source": [
        "pd.reset_option('display.float_format')"
      ]
    },
    {
      "cell_type": "markdown",
      "id": "a0277c2c",
      "metadata": {
        "slideshow": {
          "slide_type": "fragment"
        },
        "tags": []
      },
      "source": [
        "*Tip: Read more about options in the documentation [here](https://pandas.pydata.org/pandas-docs/stable/user_guide/options.html).*"
      ]
    },
    {
      "cell_type": "markdown",
      "id": "6fc26131",
      "metadata": {},
      "source": [
        "### Exercise 2.3\n",
        "\n",
        "##### Using the meteorite data from the `Meteorite_Landings.csv` file, create a pivot table that shows both the number of meteorites and the 95th percentile of meteorite mass for those that were found versus observed falling per year from 2005 through 2009 (inclusive). Hint: Be sure to convert the `year` column to a number as we did in the previous exercise."
      ]
    },
    {
      "cell_type": "code",
      "execution_count": 193,
      "id": "3bb3513b",
      "metadata": {},
      "outputs": [],
      "source": [
        "# Complete exercise 2.3 in the workbook.ipynb file\n",
        "\n",
        "# WARNING: if you complete the exercise here, your cell numbers\n",
        "# for the rest of the training might not match the slides"
      ]
    }
  ],
  "metadata": {
    "kernelspec": {
      "display_name": "Python 3 (ipykernel)",
      "language": "python",
      "name": "python3"
    }
  },
  "nbformat": 4,
  "nbformat_minor": 5
}
