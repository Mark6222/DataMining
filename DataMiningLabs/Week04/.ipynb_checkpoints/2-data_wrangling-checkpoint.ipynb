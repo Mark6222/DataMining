{
  "cells": [
    {
      "cell_type": "markdown",
      "id": "dbd2b51a",
      "metadata": {
        "slideshow": {
          "slide_type": "slide"
        },
        "tags": []
      },
      "source": [
        "# Section 2: Data Wrangling\n",
        "\n",
        "To prepare our data for analysis, we need to perform data wrangling. In this section, we will learn how to clean and reformat data (e.g., renaming columns and fixing data type mismatches), restructure/reshape it, and enrich it (e.g., discretizing columns, calculating aggregations, and combining data sources)."
      ]
    },
    {
      "cell_type": "markdown",
      "id": "4fbcad6f",
      "metadata": {
        "slideshow": {
          "slide_type": "slide"
        },
        "tags": []
      },
      "source": [
        "## Data cleaning\n",
        "\n",
        "In this section, we will take a look at creating, renaming, and dropping columns; type conversion; and sorting &ndash; all of which make our analysis easier. We will be working with the 2019 Yellow Taxi Trip Data provided by NYC Open Data."
      ]
    },
    {
      "cell_type": "code",
      "execution_count": null,
      "id": "3779b4bb",
      "metadata": {},
      "outputs": [],
      "source": [
        "import pandas as pd\n",
        "\n",
        "taxis = pd.read_csv('data/2019_Yellow_Taxi_Trip_Data.csv')\n",
        "taxis.head()"
      ]
    },
    {
      "cell_type": "markdown",
      "id": "1e3192d2",
      "metadata": {},
      "source": [
        "*Source: [NYC Open Data](https://data.cityofnewyork.us/Transportation/2019-Yellow-Taxi-Trip-Data/2upf-qytp) collected via [SODA](https://dev.socrata.com/foundry/data.cityofnewyork.us/2upf-qytp).*"
      ]
    },
    {
      "cell_type": "markdown",
      "id": "1a79ab16",
      "metadata": {
        "slideshow": {
          "slide_type": "subslide"
        },
        "tags": []
      },
      "source": [
        "### Dropping columns\n",
        "Let's start by dropping the ID columns and the `store_and_fwd_flag` column, which we won't be using."
      ]
    },
    {
      "cell_type": "code",
      "execution_count": null,
      "id": "5b609a2b",
      "metadata": {
        "slideshow": {
          "slide_type": "fragment"
        },
        "tags": []
      },
      "outputs": [],
      "source": [
        "mask = taxis.columns.str.contains('id$|store_and_fwd_flag', regex=True)\n",
        "columns_to_drop = taxis.columns[mask]\n",
        "columns_to_drop"
      ]
    },
    {
      "cell_type": "code",
      "execution_count": null,
      "id": "74a2afc3",
      "metadata": {
        "slideshow": {
          "slide_type": "subslide"
        },
        "tags": []
      },
      "outputs": [],
      "source": [
        "taxis = taxis.drop(columns=columns_to_drop)\n",
        "taxis.head()"
      ]
    },
    {
      "cell_type": "markdown",
      "id": "c8f3638c",
      "metadata": {
        "slideshow": {
          "slide_type": "fragment"
        },
        "tags": []
      },
      "source": [
        "*Tip: Another way to do this is to select the columns we want to keep: `taxis.loc[:,~mask]`.*"
      ]
    },
    {
      "cell_type": "markdown",
      "id": "f82ecd34",
      "metadata": {
        "slideshow": {
          "slide_type": "subslide"
        },
        "tags": []
      },
      "source": [
        "### Renaming columns\n",
        "\n",
        "Next, let's rename the datetime columns:"
      ]
    },
    {
      "cell_type": "code",
      "execution_count": null,
      "id": "1f472d81",
      "metadata": {},
      "outputs": [],
      "source": [
        "taxis.rename(\n",
        "    columns={\n",
        "        'tpep_pickup_datetime': 'pickup', \n",
        "        'tpep_dropoff_datetime': 'dropoff'\n",
        "    },\n",
        "    inplace=True\n",
        ")\n",
        "taxis.columns"
      ]
    },
    {
      "cell_type": "markdown",
      "id": "74a08f66",
      "metadata": {
        "slideshow": {
          "slide_type": "fragment"
        },
        "tags": []
      },
      "source": [
        "**Important**: This operation was performed in-place &ndash; be careful with in-place operations."
      ]
    },
    {
      "cell_type": "markdown",
      "id": "c2d7afd0",
      "metadata": {
        "slideshow": {
          "slide_type": "subslide"
        },
        "tags": []
      },
      "source": [
        "### Type conversion\n",
        "\n",
        "Notice anything off with the data types?"
      ]
    },
    {
      "cell_type": "code",
      "execution_count": null,
      "id": "1a5656ba",
      "metadata": {},
      "outputs": [],
      "source": [
        "taxis.dtypes"
      ]
    },
    {
      "cell_type": "markdown",
      "id": "cb0260a1",
      "metadata": {
        "slideshow": {
          "slide_type": "subslide"
        },
        "tags": []
      },
      "source": [
        "Both `pickup` and `dropoff` should be stored as datetimes. Let's fix this:"
      ]
    },
    {
      "cell_type": "code",
      "execution_count": null,
      "id": "a6a2fe22",
      "metadata": {},
      "outputs": [],
      "source": [
        "taxis.loc[:, ['pickup', 'dropoff']] = \\\n",
        "    taxis.loc[:, ['pickup', 'dropoff']].apply(pd.to_datetime)\n",
        "taxis.dtypes"
      ]
    },
    {
      "cell_type": "markdown",
      "id": "8f54a271",
      "metadata": {},
      "source": [
        "*Tip: There are other ways to perform type conversion. For numeric values, we can use the `pd.to_numeric()` function, and we will see the `astype()` method, which is a more generic method, a little later.*"
      ]
    },
    {
      "cell_type": "markdown",
      "id": "4dab511f",
      "metadata": {
        "slideshow": {
          "slide_type": "subslide"
        },
        "tags": []
      },
      "source": [
        "### Creating new columns\n",
        "\n",
        "Let's calculate the following for each row:\n",
        "\n",
        "1. elapsed time of the trip\n",
        "2. the tip percentage\n",
        "3. the total taxes, tolls, fees, and surcharges\n",
        "4. the average speed of the taxi"
      ]
    },
    {
      "cell_type": "code",
      "execution_count": null,
      "id": "fcae14dc",
      "metadata": {
        "slideshow": {
          "slide_type": "fragment"
        },
        "tags": []
      },
      "outputs": [],
      "source": [
        "taxis = taxis.assign(\n",
        "    elapsed_time=lambda x: x.dropoff - x.pickup, # 1\n",
        "    cost_before_tip=lambda x: x.total_amount - x.tip_amount,\n",
        "    tip_pct=lambda x: x.tip_amount / x.cost_before_tip, # 2\n",
        "    fees=lambda x: x.cost_before_tip - x.fare_amount, # 3\n",
        "    avg_speed=lambda x: x.trip_distance.div(\n",
        "        x.elapsed_time.dt.total_seconds() / 60 / 60\n",
        "    ) # 4\n",
        ")"
      ]
    },
    {
      "cell_type": "markdown",
      "id": "6fed800a",
      "metadata": {},
      "source": [
        "*Tip: New to `lambda` functions? These small, anonymous functions can receive multiple arguments, but can only contain one expression (the return value). You will see these a lot in pandas code. Read more about them [here](https://realpython.com/python-lambda/).*"
      ]
    },
    {
      "cell_type": "markdown",
      "id": "6bf4ccd4",
      "metadata": {
        "slideshow": {
          "slide_type": "subslide"
        },
        "tags": []
      },
      "source": [
        "Our new columns get added to the right:"
      ]
    },
    {
      "cell_type": "code",
      "execution_count": null,
      "id": "1d674399",
      "metadata": {},
      "outputs": [],
      "source": [
        "taxis.head(2)"
      ]
    },
    {
      "cell_type": "markdown",
      "id": "7e010421",
      "metadata": {
        "slideshow": {
          "slide_type": "fragment"
        },
        "tags": []
      },
      "source": [
        "Some things to note:\n",
        "- We used `lambda` functions to 1) avoid typing `taxis` repeatedly and 2) be able to access the `cost_before_tip` and `elapsed_time` columns in the same method that we create them.\n",
        "- To create a single new column, we can also use `df['new_col'] = <values>`."
      ]
    },
    {
      "cell_type": "markdown",
      "id": "a7716629",
      "metadata": {
        "slideshow": {
          "slide_type": "subslide"
        },
        "tags": []
      },
      "source": [
        "### Sorting by values\n",
        "\n",
        "We can use the `sort_values()` method to sort based on any number of columns:"
      ]
    },
    {
      "cell_type": "code",
      "execution_count": null,
      "id": "b1f902fd",
      "metadata": {},
      "outputs": [],
      "source": [
        "taxis.sort_values(['passenger_count', 'pickup'], ascending=[False, True]).head()"
      ]
    },
    {
      "cell_type": "markdown",
      "id": "7bbd9fdf",
      "metadata": {
        "slideshow": {
          "slide_type": "subslide"
        },
        "tags": []
      },
      "source": [
        "To pick out the largest/smallest rows, use `nlargest()` / `nsmallest()` instead. Looking at the 3 trips with the longest elapsed time, we see some possible data integrity issues:"
      ]
    },
    {
      "cell_type": "code",
      "execution_count": null,
      "id": "eab110e0",
      "metadata": {},
      "outputs": [],
      "source": [
        "taxis.nlargest(3, 'elapsed_time')"
      ]
    },
    {
      "cell_type": "markdown",
      "id": "4e3a7de7",
      "metadata": {},
      "source": [
        "### Exercise 2.1\n",
        "\n",
        "##### Read in the meteorite data from the `Meteorite_Landings.csv` file, rename the `mass (g)` column to `mass`, and drop all the latitude and longitude columns. Sort the result by mass in descending order."
      ]
    },
    {
      "cell_type": "code",
      "execution_count": null,
      "id": "feb0287f",
      "metadata": {},
      "outputs": [],
      "source": [
        "# Complete exercise 2.1 in the workbook.ipynb file\n",
        "\n",
        "# WARNING: if you complete the exercise here, your cell numbers\n",
        "# for the rest of the training might not match the slides"
      ]
    },
    {
      "cell_type": "markdown",
      "id": "09fbbb7f",
      "metadata": {
        "slideshow": {
          "slide_type": "slide"
        },
        "tags": []
      },
      "source": [
        "## Working with the index\n",
        "\n",
        "So far, we haven't really worked with the index because it's just been a row number; however, we can change the values we have in the index to access additional features of the pandas library."
      ]
    },
    {
      "cell_type": "markdown",
      "id": "f14afb27",
      "metadata": {
        "slideshow": {
          "slide_type": "subslide"
        },
        "tags": []
      },
      "source": [
        "### Setting and sorting the index\n",
        "\n",
        "Currently, we have a RangeIndex, but we can switch to a DatetimeIndex by specifying a datetime column when calling `set_index()`:"
      ]
    },
    {
      "cell_type": "code",
      "execution_count": null,
      "id": "a07e9fb9",
      "metadata": {},
      "outputs": [],
      "source": [
        "taxis.set_index('pickup', inplace=True)\n",
        "taxis.head(3)"
      ]
    },
    {
      "cell_type": "markdown",
      "id": "1aba7055",
      "metadata": {
        "slideshow": {
          "slide_type": "subslide"
        },
        "tags": []
      },
      "source": [
        "Since we have a sample of the full dataset, let's sort the index to order by pickup time:"
      ]
    },
    {
      "cell_type": "code",
      "execution_count": null,
      "id": "0a368dcd",
      "metadata": {},
      "outputs": [],
      "source": [
        "taxis.sort_index(inplace=True)"
      ]
    },
    {
      "cell_type": "markdown",
      "id": "7680fcae",
      "metadata": {
        "slideshow": {
          "slide_type": "fragment"
        },
        "tags": []
      },
      "source": [
        "*Tip: `taxis.sort_index(axis=1)` will sort the columns by name. The `axis` parameter is present throughout the pandas library: `axis=0` targets rows and `axis=1` targets columns.*"
      ]
    },
    {
      "cell_type": "markdown",
      "id": "ee9366be",
      "metadata": {
        "slideshow": {
          "slide_type": "subslide"
        },
        "tags": []
      },
      "source": [
        "We can now select ranges from our data based on the datetime the same way we did with row numbers:"
      ]
    },
    {
      "cell_type": "code",
      "execution_count": null,
      "id": "efb6782c",
      "metadata": {},
      "outputs": [],
      "source": [
        "taxis['2019-10-23 07:45':'2019-10-23 08']"
      ]
    },
    {
      "cell_type": "markdown",
      "id": "831b3fbc",
      "metadata": {
        "slideshow": {
          "slide_type": "subslide"
        },
        "tags": []
      },
      "source": [
        "When not specifying a range, we use `loc[]`:"
      ]
    },
    {
      "cell_type": "code",
      "execution_count": null,
      "id": "e1e2cfd8",
      "metadata": {},
      "outputs": [],
      "source": [
        "taxis.loc['2019-10-23 08']"
      ]
    },
    {
      "cell_type": "markdown",
      "id": "2ca7c1eb",
      "metadata": {
        "slideshow": {
          "slide_type": "subslide"
        },
        "tags": []
      },
      "source": [
        "### Resetting the index\n",
        "\n",
        "We will be working with time series later this section, but sometimes we want to reset our index to row numbers and restore the columns. We can make `pickup` a column again with the `reset_index()` method:"
      ]
    },
    {
      "cell_type": "code",
      "execution_count": null,
      "id": "67b90fd1",
      "metadata": {},
      "outputs": [],
      "source": [
        "taxis.reset_index(inplace=True)\n",
        "taxis.head()"
      ]
    },
    {
      "cell_type": "markdown",
      "id": "168895be",
      "metadata": {},
      "source": [
        "### Exercise 2.2\n",
        "\n",
        "##### Using the meteorite data from the `Meteorite_Landings.csv` file, update the `year` column to only contain the year, convert it to a numeric data type, and create a new column indicating whether the meteorite was observed falling before 1970. Set the index to the `id` column and extract all the rows with IDs between 10,036 and 10,040 (inclusive) with `loc[]`.\n",
        "\n",
        "###### **Hint 1**: Use `year.str.slice()` to grab a substring.\n",
        "\n",
        "###### **Hint 2**: Make sure to sort the index before using `loc[]` to select the range.\n",
        "\n",
        "###### **Bonus**: There's a data entry error in the `year` column. Can you find it? (Don't spend too much time on this.)"
      ]
    },
    {
      "cell_type": "code",
      "execution_count": null,
      "id": "f53a9b94",
      "metadata": {},
      "outputs": [],
      "source": [
        "# Complete exercise 2.2 in the workbook.ipynb file"
      ]
    },
    {
      "cell_type": "code",
      "execution_count": null,
      "id": "1781c670",
      "metadata": {},
      "outputs": [],
      "source": [
        "# Click on `Exercise 2.2` above to open the workbook.ipynb file"
      ]
    },
    {
      "cell_type": "code",
      "execution_count": null,
      "id": "f0d555e5",
      "metadata": {},
      "outputs": [],
      "source": [
        "# WARNING: if you complete the exercise here, your cell numbers\n",
        "# for the rest of the training might not match the slides"
      ]
    },
    {
      "cell_type": "markdown",
      "id": "59168344",
      "metadata": {
        "slideshow": {
          "slide_type": "slide"
        },
        "tags": []
      },
      "source": [
        "## Reshaping data\n",
        "\n",
        "The taxi dataset we have be working with is in a format conducive to an analysis. This isn't always the case. Let's now take a look at the TSA traveler throughput data, which compares 2021 throughput to the same day in 2020 and 2019:"
      ]
    },
    {
      "cell_type": "code",
      "execution_count": null,
      "id": "b5501140",
      "metadata": {
        "slideshow": {
          "slide_type": "fragment"
        },
        "tags": []
      },
      "outputs": [],
      "source": [
        "tsa = pd.read_csv('data/tsa_passenger_throughput.csv', parse_dates=['Date'])\n",
        "tsa.head()"
      ]
    },
    {
      "cell_type": "markdown",
      "id": "10a62991",
      "metadata": {},
      "source": [
        "*Source: [TSA.gov](https://www.tsa.gov/coronavirus/passenger-throughput)*"
      ]
    },
    {
      "cell_type": "markdown",
      "id": "12f3ac80",
      "metadata": {
        "slideshow": {
          "slide_type": "subslide"
        },
        "tags": []
      },
      "source": [
        "First, we will lowercase the column names and take the first word (e.g., `2021` for `2021 Traveler Throughput`) to make this easier to work with:"
      ]
    },
    {
      "cell_type": "code",
      "execution_count": null,
      "id": "eb3dd609",
      "metadata": {},
      "outputs": [],
      "source": [
        "tsa = tsa.rename(columns=lambda x: x.lower().split()[0])\n",
        "tsa.head()"
      ]
    },
    {
      "cell_type": "markdown",
      "id": "b6e482cc",
      "metadata": {
        "slideshow": {
          "slide_type": "fragment"
        },
        "tags": []
      },
      "source": [
        "Now, we can work on reshaping it."
      ]
    },
    {
      "cell_type": "markdown",
      "id": "ee73be1a",
      "metadata": {
        "slideshow": {
          "slide_type": "subslide"
        },
        "tags": []
      },
      "source": [
        "### Melting\n",
        "\n",
        "Melting helps convert our data into long format. Now, we have all the traveler throughput numbers in a single column:"
      ]
    },
    {
      "cell_type": "code",
      "execution_count": null,
      "id": "0c4802aa",
      "metadata": {},
      "outputs": [],
      "source": [
        "tsa_melted = tsa.melt(\n",
        "    id_vars='date', # column that uniquely identifies a row (can be multiple)\n",
        "    var_name='year', # name for the new column created by melting\n",
        "    value_name='travelers' # name for new column containing values from melted columns\n",
        ")\n",
        "tsa_melted.sample(5, random_state=1) # show some random entries"
      ]
    },
    {
      "cell_type": "markdown",
      "id": "55b71a51",
      "metadata": {
        "slideshow": {
          "slide_type": "subslide"
        },
        "tags": []
      },
      "source": [
        "To convert this into a time series of traveler throughput, we need to replace the year in the `date` column with the one in the `year` column. Otherwise, we are marking prior years' numbers with the wrong year."
      ]
    },
    {
      "cell_type": "code",
      "execution_count": null,
      "id": "eca6d306",
      "metadata": {},
      "outputs": [],
      "source": [
        "tsa_melted = tsa_melted.assign(\n",
        "    date=lambda x: pd.to_datetime(x.year + x.date.dt.strftime('-%m-%d'))\n",
        ")\n",
        "tsa_melted.sample(5, random_state=1)"
      ]
    },
    {
      "cell_type": "markdown",
      "id": "38f9be51",
      "metadata": {
        "slideshow": {
          "slide_type": "subslide"
        },
        "tags": []
      },
      "source": [
        "This leaves us with some null values (the dates that aren't present in the dataset):"
      ]
    },
    {
      "cell_type": "code",
      "execution_count": null,
      "id": "214fb707",
      "metadata": {},
      "outputs": [],
      "source": [
        "tsa_melted.sort_values('date').tail(3)"
      ]
    },
    {
      "cell_type": "markdown",
      "id": "0b11ee83",
      "metadata": {
        "slideshow": {
          "slide_type": "fragment"
        },
        "tags": []
      },
      "source": [
        "These can be dropped with the `dropna()` method:"
      ]
    },
    {
      "cell_type": "code",
      "execution_count": null,
      "id": "08bd881f",
      "metadata": {},
      "outputs": [],
      "source": [
        "tsa_melted = tsa_melted.dropna()\n",
        "tsa_melted.sort_values('date').tail(3)"
      ]
    },
    {
      "cell_type": "markdown",
      "id": "0ac4af48",
      "metadata": {
        "slideshow": {
          "slide_type": "subslide"
        },
        "tags": []
      },
      "source": [
        "### Pivoting\n",
        "\n",
        "Using the melted data, we can pivot the data to compare TSA traveler throughput on specific days across years:"
      ]
    },
    {
      "cell_type": "code",
      "execution_count": null,
      "id": "3a670fca",
      "metadata": {},
      "outputs": [],
      "source": [
        "tsa_pivoted = tsa_melted\\\n",
        "    .query('date.dt.month == 3 and date.dt.day <= 10')\\\n",
        "    .assign(day_in_march=lambda x: x.date.dt.day)\\\n",
        "    .pivot(index='year', columns='day_in_march', values='travelers')\n",
        "tsa_pivoted"
      ]
    },
    {
      "cell_type": "markdown",
      "id": "1ab531da",
      "metadata": {
        "slideshow": {
          "slide_type": "fragment"
        },
        "tags": []
      },
      "source": [
        "**Important**: We aren't covering the `unstack()` and `stack()` methods, which are additional ways to pivot and melt, respectively. These come in handy when we have a multi-level index (e.g., if we ran `set_index()` with more than one column). More information can be found [here](https://pandas.pydata.org/pandas-docs/stable/user_guide/reshaping.html)."
      ]
    },
    {
      "cell_type": "markdown",
      "id": "ddc9614f",
      "metadata": {
        "slideshow": {
          "slide_type": "subslide"
        },
        "tags": []
      },
      "source": [
        "### Transposing\n",
        "\n",
        "The `T` attribute provides a quick way to flip rows and columns."
      ]
    },
    {
      "cell_type": "code",
      "execution_count": null,
      "id": "90c010e1",
      "metadata": {},
      "outputs": [],
      "source": [
        "tsa_pivoted.T"
      ]
    },
    {
      "cell_type": "markdown",
      "id": "8c9a8d89",
      "metadata": {
        "slideshow": {
          "slide_type": "subslide"
        },
        "tags": []
      },
      "source": [
        "### Merging\n",
        "\n",
        "We typically observe changes in air travel around the holidays, so adding information about the dates in the TSA dataset provides more context. The `holidays.csv` file contains a few major holidays in the United States:"
      ]
    },
    {
      "cell_type": "code",
      "execution_count": null,
      "id": "ec53d5a5",
      "metadata": {},
      "outputs": [],
      "source": [
        "holidays = pd.read_csv('data/holidays.csv', parse_dates=True, index_col='date')\n",
        "holidays.loc['2019']"
      ]
    },
    {
      "cell_type": "markdown",
      "id": "c68eb1bc",
      "metadata": {
        "slideshow": {
          "slide_type": "subslide"
        },
        "tags": []
      },
      "source": [
        "Merging the holidays with the TSA traveler throughput data will provide more context for our analysis:"
      ]
    },
    {
      "cell_type": "code",
      "execution_count": null,
      "id": "95b4a1b5",
      "metadata": {
        "tags": []
      },
      "outputs": [],
      "source": [
        "tsa_melted_holidays = tsa_melted\\\n",
        "    .merge(holidays, left_on='date', right_index=True, how='left')\\\n",
        "    .sort_values('date')\n",
        "tsa_melted_holidays.head()"
      ]
    },
    {
      "cell_type": "markdown",
      "id": "f992e94f",
      "metadata": {
        "slideshow": {
          "slide_type": "fragment"
        },
        "tags": []
      },
      "source": [
        "*Tip: There are many parameters for this method, so be sure to check out the [documentation](https://pandas.pydata.org/pandas-docs/stable/reference/api/pandas.DataFrame.merge.html). To append rows, take a look at the `pd.concat()` function.*"
      ]
    },
    {
      "cell_type": "markdown",
      "id": "bad2b758",
      "metadata": {
        "slideshow": {
          "slide_type": "subslide"
        },
        "tags": []
      },
      "source": [
        "We can take this a step further by marking a few days before and after each holiday as part of the holiday. This would make it easier to compare holiday travel across years and look for any uptick in travel around the holidays:"
      ]
    },
    {
      "cell_type": "code",
      "execution_count": null,
      "id": "92f0f3a0",
      "metadata": {},
      "outputs": [],
      "source": [
        "tsa_melted_holiday_travel = tsa_melted_holidays.assign(\n",
        "    holiday=lambda x:\n",
        "        x.holiday\\\n",
        "            .fillna(method='ffill', limit=1)\\\n",
        "            .fillna(method='bfill', limit=2)\n",
        ")"
      ]
    },
    {
      "cell_type": "markdown",
      "id": "1620461f",
      "metadata": {
        "slideshow": {
          "slide_type": "fragment"
        },
        "tags": []
      },
      "source": [
        "*Tip: Check out the [documentation](https://pandas.pydata.org/pandas-docs/stable/reference/api/pandas.DataFrame.fillna.html) for the full list of functionality available with the `fillna()` method.*"
      ]
    },
    {
      "cell_type": "markdown",
      "id": "b389a51a",
      "metadata": {
        "slideshow": {
          "slide_type": "subslide"
        },
        "tags": []
      },
      "source": [
        "Notice that we now have values for the day after each holiday and the two days prior. Thanksgiving in 2019 was on November 28th, so the 26th, 27th, and 29th were filled. Since we are only replacing null values, we don't override Christmas Day with the forward fill of Christmas Eve:"
      ]
    },
    {
      "cell_type": "code",
      "execution_count": null,
      "id": "d1b84f0f",
      "metadata": {},
      "outputs": [],
      "source": [
        "tsa_melted_holiday_travel.query(\n",
        "    'year == \"2019\" and '\n",
        "    '(holiday == \"Thanksgiving\" or holiday.str.contains(\"Christmas\"))'\n",
        ")"
      ]
    },
    {
      "cell_type": "markdown",
      "id": "f3c37423",
      "metadata": {
        "slideshow": {
          "slide_type": "slide"
        },
        "tags": []
      },
      "source": [
        "## Aggregations and grouping\n",
        "\n",
        "After reshaping and cleaning our data, we can perform aggregations to summarize it in a variety of ways. In this section, we will explore using pivot tables, crosstabs, and group by operations to aggregate the data."
      ]
    },
    {
      "cell_type": "markdown",
      "id": "2d4759b0",
      "metadata": {
        "slideshow": {
          "slide_type": "subslide"
        },
        "tags": []
      },
      "source": [
        "### Pivot tables\n",
        "We can build a pivot table to compare holiday travel across the years in our dataset:"
      ]
    },
    {
      "cell_type": "code",
      "execution_count": null,
      "id": "9a83e5c7",
      "metadata": {},
      "outputs": [],
      "source": [
        "tsa_melted_holiday_travel.pivot_table(\n",
        "    index='year', columns='holiday', \n",
        "    values='travelers', aggfunc='sum'\n",
        ")"
      ]
    },
    {
      "cell_type": "markdown",
      "id": "65a132a4",
      "metadata": {
        "slideshow": {
          "slide_type": "subslide"
        },
        "tags": []
      },
      "source": [
        "We can use the `pct_change()` method on this result to see which holiday travel periods saw the biggest change in travel:"
      ]
    },
    {
      "cell_type": "code",
      "execution_count": null,
      "id": "ab7772b7",
      "metadata": {},
      "outputs": [],
      "source": [
        "tsa_melted_holiday_travel.pivot_table(\n",
        "    index='year', columns='holiday', \n",
        "    values='travelers', aggfunc='sum'\n",
        ").pct_change()"
      ]
    },
    {
      "cell_type": "markdown",
      "id": "d38d944e",
      "metadata": {
        "slideshow": {
          "slide_type": "subslide"
        },
        "tags": []
      },
      "source": [
        "Let's make one last pivot table with column and row subtotals, along with some formatting improvements. First, we set a display option for all floats:"
      ]
    },
    {
      "cell_type": "code",
      "execution_count": null,
      "id": "22a5d909",
      "metadata": {},
      "outputs": [],
      "source": [
        "pd.set_option('display.float_format', '{:,.0f}'.format)"
      ]
    },
    {
      "cell_type": "markdown",
      "id": "7043860f",
      "metadata": {
        "slideshow": {
          "slide_type": "subslide"
        },
        "tags": []
      },
      "source": [
        "Next, we group together Christmas Eve and Christmas Day, likewise for New Year's Eve and New Year's Day, and create the pivot table:"
      ]
    },
    {
      "cell_type": "code",
      "execution_count": null,
      "id": "2410582a",
      "metadata": {},
      "outputs": [],
      "source": [
        "import numpy as np\n",
        "\n",
        "tsa_melted_holiday_travel.assign(\n",
        "    holiday=lambda x: np.where(\n",
        "        x.holiday.str.contains('Christmas|New Year', regex=True), \n",
        "        x.holiday.str.replace('Day|Eve', '', regex=True).str.strip(), \n",
        "        x.holiday\n",
        "    )\n",
        ").pivot_table(\n",
        "    index='year', columns='holiday', \n",
        "    values='travelers', aggfunc='sum', \n",
        "    margins=True, margins_name='Total'\n",
        ")"
      ]
    },
    {
      "cell_type": "markdown",
      "id": "206fd461",
      "metadata": {
        "slideshow": {
          "slide_type": "subslide"
        },
        "tags": []
      },
      "source": [
        "Before moving on, let's reset the display option:"
      ]
    },
    {
      "cell_type": "code",
      "execution_count": null,
      "id": "7090e418",
      "metadata": {},
      "outputs": [],
      "source": [
        "pd.reset_option('display.float_format')"
      ]
    },
    {
      "cell_type": "markdown",
      "id": "a0277c2c",
      "metadata": {
        "slideshow": {
          "slide_type": "fragment"
        },
        "tags": []
      },
      "source": [
        "*Tip: Read more about options in the documentation [here](https://pandas.pydata.org/pandas-docs/stable/user_guide/options.html).*"
      ]
    },
    {
      "cell_type": "markdown",
      "id": "6fc26131",
      "metadata": {},
      "source": [
        "### Exercise 2.3\n",
        "\n",
        "##### Using the meteorite data from the `Meteorite_Landings.csv` file, create a pivot table that shows both the number of meteorites and the 95th percentile of meteorite mass for those that were found versus observed falling per year from 2005 through 2009 (inclusive). Hint: Be sure to convert the `year` column to a number as we did in the previous exercise."
      ]
    },
    {
      "cell_type": "code",
      "execution_count": null,
      "id": "3bb3513b",
      "metadata": {},
      "outputs": [],
      "source": [
        "# Complete exercise 2.3 in the workbook.ipynb file\n",
        "\n",
        "# WARNING: if you complete the exercise here, your cell numbers\n",
        "# for the rest of the training might not match the slides"
      ]
    }
  ],
  "metadata": {
    "kernelspec": {
      "display_name": "Python 3 (ipykernel)",
      "language": "python",
      "name": "python3"
    }
  },
  "nbformat": 4,
  "nbformat_minor": 5
}
