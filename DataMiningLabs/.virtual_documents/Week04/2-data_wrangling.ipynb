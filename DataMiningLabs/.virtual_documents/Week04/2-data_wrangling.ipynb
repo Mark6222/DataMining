





import pandas as pd

taxis = pd.read_csv('Week04/data/2019_Yellow_Taxi_Trip_Data.csv')
taxis.head()








mask = taxis.columns.str.contains('id$|store_and_fwd_flag', regex=True)
columns_to_drop = taxis.columns[mask]
columns_to_drop


taxis = taxis.drop(columns=columns_to_drop)
taxis.head()








taxis.rename(
    columns={
        'tpep_pickup_datetime': 'pickup', 
        'tpep_dropoff_datetime': 'dropoff'
    },
    inplace=True
)
taxis.columns








taxis.dtypes





taxis.loc[:, ['pickup', 'dropoff']] = \
    taxis.loc[:, ['pickup', 'dropoff']].apply(pd.to_datetime)
taxis.dtypes








taxis['pickup'] = pd.to_datetime(taxis['pickup'])
taxis['dropoff'] = pd.to_datetime(taxis['dropoff'])
taxis = taxis.assign(
    elapsed_time=lambda x: x.dropoff - x.pickup, # 1
    cost_before_tip=lambda x: x.total_amount - x.tip_amount,
    tip_pct=lambda x: x.tip_amount / x.cost_before_tip, # 2
    fees=lambda x: x.cost_before_tip - x.fare_amount, # 3
    avg_speed=lambda x: x.trip_distance.div(
        x.elapsed_time.dt.total_seconds() / 60 / 60
    ) # 4
)








taxis.head(2)








taxis.sort_values(['passenger_count', 'pickup'], ascending=[False, True]).head()





taxis.nlargest(3, 'elapsed_time')





# Complete exercise 2.1 in the workbook.ipynb file

# WARNING: if you complete the exercise here, your cell numbers
# for the rest of the training might not match the slides








taxis.set_index('pickup', inplace=True)
taxis.head(3)





taxis.sort_index(inplace=True)








taxis['2019-10-23 07:45':'2019-10-23 08']





taxis.loc['2019-10-23 08']





taxis.reset_index(inplace=True)
taxis.head()





# Complete exercise 2.2 in the workbook.ipynb file


# Click on `Exercise 2.2` above to open the workbook.ipynb file


# WARNING: if you complete the exercise here, your cell numbers
# for the rest of the training might not match the slides





tsa = pd.read_csv('Week04/data/tsa_passenger_throughput.csv', parse_dates=['Date'])
tsa.head()








tsa = tsa.rename(columns=lambda x: x.lower().split()[0])
tsa.head()








tsa_melted = tsa.melt(
    id_vars='date', # column that uniquely identifies a row (can be multiple)
    var_name='year', # name for the new column created by melting
    value_name='travelers' # name for new column containing values from melted columns
)
tsa_melted.sample(5, random_state=1) # show some random entries





tsa_melted = tsa_melted.assign(
    date=lambda x: pd.to_datetime(x.year + x.date.dt.strftime('-%m-%d'))
)
tsa_melted.sample(5, random_state=1)





tsa_melted.sort_values('date').tail(3)





tsa_melted = tsa_melted.dropna()
tsa_melted.sort_values('date').tail(3)





tsa_pivoted = tsa_melted\
    .query('date.dt.month == 3 and date.dt.day <= 10')\
    .assign(day_in_march=lambda x: x.date.dt.day)\
    .pivot(index='year', columns='day_in_march', values='travelers')
tsa_pivoted








tsa_pivoted.T





holidays = pd.read_csv('Week04/data/holidays.csv', parse_dates=True, index_col='date')
holidays.loc['2019']





tsa_melted_holidays = tsa_melted\
    .merge(holidays, left_on='date', right_index=True, how='left')\
    .sort_values('date')
tsa_melted_holidays.head()








tsa_melted_holidays['year'] = tsa_melted_holidays['year'].astype(str)
tsa_melted_holidays['holiday'] = tsa_melted_holidays['holiday'].astype(str)

tsa_melted_holiday_travel = tsa_melted_holidays.assign(
    holiday=lambda x:
        x.holiday\
            .fillna(method='ffill', limit=1)\
            .fillna(method='bfill', limit=2)
)








tsa_melted_holiday_travel.query(
    'year == "2019" and '
    '(holiday == "Thanksgiving" or holiday.str.contains("Christmas"))'
)








tsa_melted_holiday_travel.pivot_table(
    index='year', columns='holiday', 
    values='travelers', aggfunc='sum'
)





tsa_melted_holiday_travel.pivot_table(
    index='year', columns='holiday', 
    values='travelers', aggfunc='sum'
).pct_change()





pd.set_option('display.float_format', '{:,.0f}'.format)





import numpy as np

tsa_melted_holiday_travel.assign(
    holiday=lambda x: np.where(
        x.holiday.str.contains('Christmas|New Year', regex=True), 
        x.holiday.str.replace('Day|Eve', '', regex=True).str.strip(), 
        x.holiday
    )
).pivot_table(
    index='year', columns='holiday', 
    values='travelers', aggfunc='sum', 
    margins=True, margins_name='Total'
)





pd.reset_option('display.float_format')








# Complete exercise 2.3 in the workbook.ipynb file

# WARNING: if you complete the exercise here, your cell numbers
# for the rest of the training might not match the slides
