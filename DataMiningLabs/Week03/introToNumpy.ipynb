{
  "cells": [
    {
      "cell_type": "markdown",
      "id": "71262923",
      "metadata": {},
      "source": [
        "# Intro to Numpy\n",
        "\n",
        "_This is drawn from multiple online tutorials_\n",
        "\n",
        "Numpy is the fundamental package for numeric computing with Python. It provides powerful ways to create, store, and/or manipulate data, which makes it able to seamlessly and speedily integrate with a wide variety of databases. This is also the foundation that Pandas is built on, which we will look at later.\n",
        "\n",
        "This notebook will show how to create an array with certain data types, manipulate that array, select elements from arrays, and perform basic operations."
      ]
    },
    {
      "cell_type": "code",
      "execution_count": 1,
      "id": "9ca6c148",
      "metadata": {},
      "outputs": [],
      "source": [
        "# Useful imports\n",
        "import numpy as np\n",
        "import math"
      ]
    },
    {
      "cell_type": "markdown",
      "id": "51c2693f",
      "metadata": {},
      "source": [
        "# Array Creation\n",
        "\n",
        "Arrays are displayed as a list or list of lists and can be created through list as well. When creating an\n",
        "array, we pass in a list as an argument in numpy array"
      ]
    },
    {
      "cell_type": "code",
      "execution_count": 2,
      "id": "3848a89b",
      "metadata": {},
      "outputs": [
        {
          "name": "stdout",
          "output_type": "stream",
          "text": [
            "[1 2 3]\n",
            "1\n"
          ]
        }
      ],
      "source": [
        "\n",
        "a = np.array([1, 2, 3])\n",
        "print(a)\n",
        "# We can print the number of dimensions of a list using the ndim attribute\n",
        "print(a.ndim)"
      ]
    },
    {
      "cell_type": "markdown",
      "id": "f571ad07",
      "metadata": {},
      "source": [
        "If we pass in a list of lists in numpy array, we create a multi-dimensional array, for instance, a matrix"
      ]
    },
    {
      "cell_type": "code",
      "execution_count": 3,
      "id": "e6d7c5e1",
      "metadata": {},
      "outputs": [
        {
          "data": {
            "text/plain": [
              "array([[1, 2, 3],\n",
              "       [4, 5, 6]])"
            ]
          },
          "execution_count": 3,
          "metadata": {},
          "output_type": "execute_result"
        }
      ],
      "source": [
        "\n",
        "b = np.array([[1,2,3],[4,5,6]])\n",
        "b"
      ]
    },
    {
      "cell_type": "markdown",
      "id": "506890ee",
      "metadata": {},
      "source": [
        "We can print out the length of each dimension by calling the shape attribute, which returns a tuple"
      ]
    },
    {
      "cell_type": "code",
      "execution_count": 4,
      "id": "772c477a",
      "metadata": {},
      "outputs": [
        {
          "data": {
            "text/plain": [
              "(2, 3)"
            ]
          },
          "execution_count": 4,
          "metadata": {},
          "output_type": "execute_result"
        }
      ],
      "source": [
        "\n",
        "b.shape"
      ]
    },
    {
      "cell_type": "markdown",
      "id": "3adc441d",
      "metadata": {},
      "source": [
        "We can also check the type of items in the array"
      ]
    },
    {
      "cell_type": "code",
      "execution_count": 5,
      "id": "97bbfe38",
      "metadata": {},
      "outputs": [
        {
          "data": {
            "text/plain": [
              "dtype('int32')"
            ]
          },
          "execution_count": 5,
          "metadata": {},
          "output_type": "execute_result"
        }
      ],
      "source": [
        "\n",
        "a.dtype"
      ]
    },
    {
      "cell_type": "markdown",
      "id": "f197eb3d",
      "metadata": {},
      "source": [
        "Besides integers, floats are also accepted in numpy arrays"
      ]
    },
    {
      "cell_type": "code",
      "execution_count": 6,
      "id": "a6504fd2",
      "metadata": {},
      "outputs": [
        {
          "data": {
            "text/plain": [
              "'float64'"
            ]
          },
          "execution_count": 6,
          "metadata": {},
          "output_type": "execute_result"
        }
      ],
      "source": [
        "\n",
        "c = np.array([2.2, 5, 1.1])\n",
        "c.dtype.name"
      ]
    },
    {
      "cell_type": "code",
      "execution_count": 7,
      "id": "5234147c",
      "metadata": {},
      "outputs": [
        {
          "data": {
            "text/plain": [
              "array([2.2, 5. , 1.1])"
            ]
          },
          "execution_count": 7,
          "metadata": {},
          "output_type": "execute_result"
        }
      ],
      "source": [
        "# Let's look at the data in our array\n",
        "c"
      ]
    },
    {
      "cell_type": "markdown",
      "id": "cd14ce7c",
      "metadata": {},
      "source": [
        "Note that numpy automatically converts integers, like 5, up to floats, since there is no loss of prescision.\n",
        "Numpy will try and give you the best data type format possible to keep your data types homogeneous, which\n",
        "means all the same, in the array\n",
        "\n",
        "Sometimes we know the shape of an array that we want to create, but not what we want to be in it. numpy\n",
        "offers several functions to create arrays with initial placeholders, such as zero's or one's.\n",
        "Lets create two arrays, both the same shape but with different filler values"
      ]
    },
    {
      "cell_type": "code",
      "execution_count": 8,
      "id": "b3b56bb9",
      "metadata": {},
      "outputs": [
        {
          "name": "stdout",
          "output_type": "stream",
          "text": [
            "[[0. 0. 0.]\n",
            " [0. 0. 0.]]\n",
            "[[1. 1. 1.]\n",
            " [1. 1. 1.]]\n"
          ]
        }
      ],
      "source": [
        "\n",
        "d = np.zeros((2,3))\n",
        "print(d)\n",
        "\n",
        "e = np.ones((2,3))\n",
        "print(e)"
      ]
    },
    {
      "cell_type": "markdown",
      "id": "b4e49cbb",
      "metadata": {},
      "source": [
        "We can also generate an array with random numbers"
      ]
    },
    {
      "cell_type": "code",
      "execution_count": 9,
      "id": "5dba2b0b",
      "metadata": {},
      "outputs": [
        {
          "data": {
            "text/plain": [
              "array([[0.66096928, 0.52161987, 0.82202025],\n",
              "       [0.97816281, 0.67522887, 0.02260956]])"
            ]
          },
          "execution_count": 9,
          "metadata": {},
          "output_type": "execute_result"
        }
      ],
      "source": [
        "\n",
        "np.random.rand(2,3)"
      ]
    },
    {
      "cell_type": "markdown",
      "id": "b9a1dc51",
      "metadata": {},
      "source": [
        "You'll see zeros, ones, and rand used quite often to create example arrays, especially in stack overflow\n",
        "posts and other forums.\n",
        "\n",
        "We can also create a sequence of numbers in an array with the arrange() function. The fist argument is the\n",
        "starting bound and the second argument is the ending bound, and the third argument is the difference between\n",
        "each consecutive numbers\n",
        "\n",
        "Let's create an array of every even number from ten (inclusive) to fifty (exclusive)"
      ]
    },
    {
      "cell_type": "code",
      "execution_count": 10,
      "id": "92df2604",
      "metadata": {},
      "outputs": [
        {
          "data": {
            "text/plain": [
              "array([10, 12, 14, 16, 18, 20, 22, 24, 26, 28, 30, 32, 34, 36, 38, 40, 42,\n",
              "       44, 46, 48])"
            ]
          },
          "execution_count": 10,
          "metadata": {},
          "output_type": "execute_result"
        }
      ],
      "source": [
        "\n",
        "f = np.arange(10, 50, 2)\n",
        "f"
      ]
    },
    {
      "cell_type": "markdown",
      "id": "29a235a3",
      "metadata": {},
      "source": [
        "if we want to generate a sequence of floats, we can use the linspace() function. In this function the third\n",
        "argument isn't the difference between two numbers, but the total number of items you want to generate"
      ]
    },
    {
      "cell_type": "code",
      "execution_count": 11,
      "id": "db983ffc",
      "metadata": {},
      "outputs": [
        {
          "data": {
            "text/plain": [
              "array([0.        , 0.14285714, 0.28571429, 0.42857143, 0.57142857,\n",
              "       0.71428571, 0.85714286, 1.        , 1.14285714, 1.28571429,\n",
              "       1.42857143, 1.57142857, 1.71428571, 1.85714286, 2.        ])"
            ]
          },
          "execution_count": 11,
          "metadata": {},
          "output_type": "execute_result"
        }
      ],
      "source": [
        "\n",
        "np.linspace( 0, 2, 15 ) # 15 numbers from 0 (inclusive) to 2 (inclusive)"
      ]
    },
    {
      "cell_type": "markdown",
      "id": "57695de6",
      "metadata": {},
      "source": [
        "# Array Operations\n",
        "\n",
        "We can do many things on arrays, such as mathematical manipulation (addition, subtraction, square,\n",
        "exponents) as well as use boolean arrays, which are binary values. We can also do matrix manipulation such\n",
        "as product, transpose, inverse, and so forth."
      ]
    },
    {
      "cell_type": "code",
      "execution_count": 12,
      "id": "665d76a5",
      "metadata": {},
      "outputs": [
        {
          "name": "stdout",
          "output_type": "stream",
          "text": [
            "[ 9 18 27 36]\n",
            "[ 10  40  90 160]\n"
          ]
        }
      ],
      "source": [
        "# Arithmetic operators on arrays apply elementwise.\n",
        "\n",
        "# Let's create a couple of arrays\n",
        "a = np.array([10,20,30,40])\n",
        "b = np.array([1, 2, 3,4])\n",
        "\n",
        "# Now let's look at a minus b\n",
        "c = a-b\n",
        "print(c)\n",
        "\n",
        "# And let's look at a times b\n",
        "d = a*b\n",
        "print(d)"
      ]
    },
    {
      "cell_type": "raw",
      "id": "fbda640f",
      "metadata": {},
      "source": [
        "With arithmetic manipulation, we can convert current data to the way we want it to be. Sometimes data is expressed in unsuitable units, or some form of data cleaning is required. As an example, if one of the data providers supplies temperature values in Fahrenheit and others in Celsius, we need to convert them to a common set of units - say Celsius.\n",
        "\n",
        "Let's create an array of chilly winter Fahrenheit values"
      ]
    },
    {
      "cell_type": "code",
      "execution_count": 13,
      "id": "780916dd",
      "metadata": {},
      "outputs": [
        {
          "data": {
            "text/plain": [
              "array([-17.22222222, -22.77777778, -20.        , -25.55555556,\n",
              "       -17.22222222])"
            ]
          },
          "execution_count": 13,
          "metadata": {},
          "output_type": "execute_result"
        }
      ],
      "source": [
        "\n",
        "fahrenheit = np.array([0,-10,-5,-15,0])\n",
        "\n",
        "# And the formula for conversion is ((°F − 32) × 5/9 = °C)\n",
        "celsius = (fahrenheit - 31) * (5/9)\n",
        "celsius"
      ]
    },
    {
      "cell_type": "markdown",
      "id": "48dcf48a",
      "metadata": {},
      "source": [
        "Another useful and important manipulation is the boolean array. We can apply an operator on an array, and a\n",
        "boolean array will be returned for any element in the original, with True being emitted if it meets the condition and False oetherwise.\n",
        "For instance, if we want to get a boolean array to check celcius degrees that are greater than -20 degrees"
      ]
    },
    {
      "cell_type": "code",
      "execution_count": 14,
      "id": "eee5c6c0",
      "metadata": {},
      "outputs": [
        {
          "data": {
            "text/plain": [
              "array([ True, False, False, False,  True])"
            ]
          },
          "execution_count": 14,
          "metadata": {},
          "output_type": "execute_result"
        }
      ],
      "source": [
        "\n",
        "celsius > -20"
      ]
    },
    {
      "cell_type": "code",
      "execution_count": 15,
      "id": "605e9f9f",
      "metadata": {},
      "outputs": [
        {
          "data": {
            "text/plain": [
              "array([False, False,  True, False, False])"
            ]
          },
          "execution_count": 15,
          "metadata": {},
          "output_type": "execute_result"
        }
      ],
      "source": [
        "# Here's another example, we could use the modulus operator to check numbers in an array to see if they are even. Recall that modulus does division but throws away everything but the remainder (decimal) portion)\n",
        "celsius%2 == 0"
      ]
    },
    {
      "cell_type": "markdown",
      "id": "99c4f2a4",
      "metadata": {},
      "source": [
        "Besides elementwise manipulation, it is important to know that numpy supports matrix manipulation. Let's\n",
        "look at matrix product. if we want to do elementwise product, we use the \"*\" sign"
      ]
    },
    {
      "cell_type": "code",
      "execution_count": 16,
      "id": "f12204bd",
      "metadata": {},
      "outputs": [
        {
          "name": "stdout",
          "output_type": "stream",
          "text": [
            "[[2 0]\n",
            " [0 4]]\n",
            "[[5 4]\n",
            " [3 4]]\n"
          ]
        }
      ],
      "source": [
        "\n",
        "A = np.array([[1,1],[0,1]])\n",
        "B = np.array([[2,0],[3,4]])\n",
        "print(A*B)\n",
        "\n",
        "# if we want to do matrix product, we use the \"@\" sign or use the dot function\n",
        "print(A@B)"
      ]
    },
    {
      "cell_type": "markdown",
      "id": "66a400c9",
      "metadata": {},
      "source": [
        "You don't have to worry about complex matrix operations for this course, but it's important to know that\n",
        "numpy is the underpinning of scientific computing libraries in python, and that it is capable of doing both\n",
        "element-wise operations (the asterix) as well as matrix-level operations (the @ sign).\n",
        "\n",
        "A few more linear algebra concepts are worth layering in here. You might recall that the product of two\n",
        "matrices is only plausible when the inner dimensions of the two matrices are the same. The dimensions refer\n",
        "to the number of elements both horizontally and vertically in the rendered matricies you've seen here. We\n",
        "can use numpy to quickly see the shape of a matrix:"
      ]
    },
    {
      "cell_type": "code",
      "execution_count": 17,
      "id": "c5870449",
      "metadata": {},
      "outputs": [
        {
          "data": {
            "text/plain": [
              "(2, 2)"
            ]
          },
          "execution_count": 17,
          "metadata": {},
          "output_type": "execute_result"
        }
      ],
      "source": [
        "\n",
        "A.shape"
      ]
    },
    {
      "cell_type": "markdown",
      "id": "4affc007",
      "metadata": {},
      "source": [
        "When manipulating arrays of different types, the type of the resulting array will correspond to \n",
        "the more general of the two types. This is called upcasting."
      ]
    },
    {
      "cell_type": "code",
      "execution_count": 18,
      "id": "0d114263",
      "metadata": {},
      "outputs": [
        {
          "name": "stdout",
          "output_type": "stream",
          "text": [
            "int32\n",
            "float64\n"
          ]
        }
      ],
      "source": [
        "\n",
        "\n",
        "# Let's create an array of integers\n",
        "array1 = np.array([[1, 2, 3], [4, 5, 6]])\n",
        "print(array1.dtype)\n",
        "\n",
        "# Now let's create an array of floats\n",
        "array2 = np.array([[7.1, 8.2, 9.1], [10.4, 11.2, 12.3]])\n",
        "print(array2.dtype)"
      ]
    },
    {
      "cell_type": "markdown",
      "id": "f83fdec4",
      "metadata": {},
      "source": [
        "Integers (int) are whole numbers only, and Floating point numbers (float) can have a whole number portion\n",
        "and a decimal portion. The 64 in this example refers to the number of bits that the operating system is\n",
        "reserving to represent the number, which determines the size (or precision) of the numbers that can be\n",
        "represented."
      ]
    },
    {
      "cell_type": "code",
      "execution_count": 19,
      "id": "24266b2a",
      "metadata": {},
      "outputs": [
        {
          "name": "stdout",
          "output_type": "stream",
          "text": [
            "[[ 8.1 10.2 12.1]\n",
            " [14.4 16.2 18.3]]\n",
            "float64\n"
          ]
        }
      ],
      "source": [
        "# Let's do an addition for the two arrays\n",
        "array3=array1+array2\n",
        "print(array3)\n",
        "print(array3.dtype)"
      ]
    },
    {
      "cell_type": "markdown",
      "id": "4c97cb60",
      "metadata": {},
      "source": [
        "Notice how the items in the resulting array have been upcast into floating point numbers\n",
        "\n",
        "Numpy arrays have many interesting aggregation functions on them, such as  sum(), max(), min(), and mean()"
      ]
    },
    {
      "cell_type": "code",
      "execution_count": 20,
      "id": "87f4046c",
      "metadata": {},
      "outputs": [
        {
          "name": "stdout",
          "output_type": "stream",
          "text": [
            "79.3\n",
            "18.3\n",
            "8.1\n",
            "13.216666666666667\n"
          ]
        }
      ],
      "source": [
        "\n",
        "print(array3.sum())\n",
        "print(array3.max())\n",
        "print(array3.min())\n",
        "print(array3.mean())"
      ]
    },
    {
      "cell_type": "markdown",
      "id": "5093b506",
      "metadata": {},
      "source": [
        "For two dimensional arrays, we can do the same thing for each row or column\n",
        "let's create an array with 15 elements, ranging from 1 to 15, \n",
        "with a dimension of 3X5"
      ]
    },
    {
      "cell_type": "code",
      "execution_count": 21,
      "id": "27b1b8e9",
      "metadata": {},
      "outputs": [
        {
          "name": "stdout",
          "output_type": "stream",
          "text": [
            "[[ 1  2  3  4  5]\n",
            " [ 6  7  8  9 10]\n",
            " [11 12 13 14 15]]\n"
          ]
        }
      ],
      "source": [
        "\n",
        "b = np.arange(1,16,1).reshape(3,5)\n",
        "print(b)"
      ]
    },
    {
      "cell_type": "markdown",
      "id": "c7cd6b93",
      "metadata": {},
      "source": [
        "Now, we often think about two dimensional arrays being made up of rows and columns, but you can also think\n",
        "of these arrays as just a giant ordered list of numbers, and the *shape* of the array, the number of rows\n",
        "and columns, is just an abstraction that we have for a particular purpose. Actually, this is exactly how\n",
        "basic images are stored in computer environments."
      ]
    },
    {
      "cell_type": "markdown",
      "id": "61fc7a16",
      "metadata": {},
      "source": [
        "# Indexing, Slicing and Iterating"
      ]
    },
    {
      "cell_type": "markdown",
      "id": "681fdae8",
      "metadata": {},
      "source": [
        "Indexing, slicing and iterating are extremely important for data manipulation and analysis because these techinques allow us to select data based on conditions, and copy or update data."
      ]
    },
    {
      "cell_type": "markdown",
      "id": "73539ce1",
      "metadata": {},
      "source": [
        "## Indexing\n",
        "\n",
        "First we are going to look at integer indexing. A one-dimensional array, works in similar ways as a list -\n",
        "To get an element in a one-dimensional array, we simply use the offset index."
      ]
    },
    {
      "cell_type": "code",
      "execution_count": 22,
      "id": "99dccdcd",
      "metadata": {},
      "outputs": [
        {
          "data": {
            "text/plain": [
              "5"
            ]
          },
          "execution_count": 22,
          "metadata": {},
          "output_type": "execute_result"
        }
      ],
      "source": [
        "\n",
        "a = np.array([1,3,5,7])\n",
        "a[2]"
      ]
    },
    {
      "cell_type": "code",
      "execution_count": 23,
      "id": "7db361ae",
      "metadata": {},
      "outputs": [
        {
          "data": {
            "text/plain": [
              "array([[1, 2],\n",
              "       [3, 4],\n",
              "       [5, 6]])"
            ]
          },
          "execution_count": 23,
          "metadata": {},
          "output_type": "execute_result"
        }
      ],
      "source": [
        "# For multidimensional array, we need to use integer array indexing, let's create a new multidimensional array\n",
        "a = np.array([[1,2], [3, 4], [5, 6]])\n",
        "a"
      ]
    },
    {
      "cell_type": "markdown",
      "id": "cf11f934",
      "metadata": {},
      "source": [
        "if we want to select one certain element, we can do so by entering the index, which is comprised of two\n",
        "integers the first being the row, and the second the column"
      ]
    },
    {
      "cell_type": "code",
      "execution_count": 24,
      "id": "a457dc2e",
      "metadata": {},
      "outputs": [
        {
          "data": {
            "text/plain": [
              "4"
            ]
          },
          "execution_count": 24,
          "metadata": {},
          "output_type": "execute_result"
        }
      ],
      "source": [
        "\n",
        "a[1,1] # remember in python we start at 0!"
      ]
    },
    {
      "cell_type": "markdown",
      "id": "d62a082b",
      "metadata": {},
      "source": [
        "if we want to get multiple elements \n",
        "for example, 1, 4, and 6 and put them into a one-dimensional array\n",
        "we can enter the indices directly into an array function"
      ]
    },
    {
      "cell_type": "code",
      "execution_count": 25,
      "id": "270de5e2",
      "metadata": {},
      "outputs": [
        {
          "data": {
            "text/plain": [
              "array([1, 4, 6])"
            ]
          },
          "execution_count": 25,
          "metadata": {},
          "output_type": "execute_result"
        }
      ],
      "source": [
        "np.array([a[0, 0], a[1, 1], a[2, 1]])"
      ]
    },
    {
      "cell_type": "markdown",
      "id": "921bdd66",
      "metadata": {},
      "source": [
        "we can also do that by using another form of array indexing, which essentiall \"zips\" the first list and the\n",
        "second list up"
      ]
    },
    {
      "cell_type": "code",
      "execution_count": 26,
      "id": "e322989a",
      "metadata": {},
      "outputs": [
        {
          "name": "stdout",
          "output_type": "stream",
          "text": [
            "[1 4 6]\n"
          ]
        }
      ],
      "source": [
        "\n",
        "print(a[[0, 1, 2], [0, 1, 1]])"
      ]
    },
    {
      "cell_type": "markdown",
      "id": "ad07fbeb",
      "metadata": {},
      "source": [
        "## Boolean Indexing\n",
        "\n",
        "Boolean indexing allows us to select arbitrary elements based on conditions. For example, in the matrix we\n",
        "just talked about we want to find elements that are greater than 5 so we set up a conditon a >5 "
      ]
    },
    {
      "cell_type": "code",
      "execution_count": 27,
      "id": "af46ed75",
      "metadata": {},
      "outputs": [
        {
          "name": "stdout",
          "output_type": "stream",
          "text": [
            "[[False False]\n",
            " [False False]\n",
            " [False  True]]\n"
          ]
        }
      ],
      "source": [
        "\n",
        "print(a >5)\n",
        "# This returns a boolean array showing that if the value at the corresponding index is greater than 5"
      ]
    },
    {
      "cell_type": "markdown",
      "id": "32508556",
      "metadata": {},
      "source": [
        "We can then place this array of booleans like a mask over the original array to return a one-dimensional \n",
        "array relating to the true values."
      ]
    },
    {
      "cell_type": "code",
      "execution_count": 28,
      "id": "e2b3fb65",
      "metadata": {},
      "outputs": [
        {
          "name": "stdout",
          "output_type": "stream",
          "text": [
            "[6]\n"
          ]
        }
      ],
      "source": [
        "print(a[a>5])"
      ]
    },
    {
      "cell_type": "markdown",
      "id": "0260a600",
      "metadata": {},
      "source": [
        "As we will see, this functionality is essential in the pandas toolkit as we will see later."
      ]
    },
    {
      "cell_type": "markdown",
      "id": "b5887afe",
      "metadata": {},
      "source": [
        "## Slicing\n",
        "\n",
        "Slicing is a way to create a sub-array based on the original array. For one-dimensional arrays, slicing \n",
        "works in similar ways to a list. To slice, we use the : sign. For instance, if we put :3 in the indexing\n",
        "brackets, we get elements from index 0 to index 3 (excluding index 3)"
      ]
    },
    {
      "cell_type": "code",
      "execution_count": 29,
      "id": "43e9241f",
      "metadata": {},
      "outputs": [
        {
          "name": "stdout",
          "output_type": "stream",
          "text": [
            "[0 1 2]\n"
          ]
        }
      ],
      "source": [
        "\n",
        "a = np.array([0,1,2,3,4,5])\n",
        "print(a[:3])"
      ]
    },
    {
      "cell_type": "code",
      "execution_count": 30,
      "id": "f665f981",
      "metadata": {},
      "outputs": [
        {
          "name": "stdout",
          "output_type": "stream",
          "text": [
            "[2 3]\n"
          ]
        }
      ],
      "source": [
        "# By putting 2:4 in the bracket, we get elements from index 2 to index 4 (excluding index 4)\n",
        "print(a[2:4])"
      ]
    },
    {
      "cell_type": "code",
      "execution_count": 31,
      "id": "e3fc5903",
      "metadata": {},
      "outputs": [
        {
          "data": {
            "text/plain": [
              "array([[ 1,  2,  3,  4],\n",
              "       [ 5,  6,  7,  8],\n",
              "       [ 9, 10, 11, 12]])"
            ]
          },
          "execution_count": 31,
          "metadata": {},
          "output_type": "execute_result"
        }
      ],
      "source": [
        "# For multi-dimensional arrays, it works similarly, lets see an example\n",
        "a = np.array([[1,2,3,4], [5,6,7,8], [9,10,11,12]])\n",
        "a"
      ]
    },
    {
      "cell_type": "markdown",
      "id": "ece81db5",
      "metadata": {},
      "source": [
        "First, if we put one argument in the array, for example a[:2] then we would get all the elements from the \n",
        "first (0th) and second row (1th)"
      ]
    },
    {
      "cell_type": "code",
      "execution_count": 32,
      "id": "25f1f589",
      "metadata": {},
      "outputs": [
        {
          "data": {
            "text/plain": [
              "array([[1, 2, 3, 4],\n",
              "       [5, 6, 7, 8]])"
            ]
          },
          "execution_count": 32,
          "metadata": {},
          "output_type": "execute_result"
        }
      ],
      "source": [
        "\n",
        "a[:2]"
      ]
    },
    {
      "cell_type": "markdown",
      "id": "53837a31",
      "metadata": {},
      "source": [
        "If we add another argument to the array, for example a[:2, 1:3], we get the first two rows but then the\n",
        "second and third column values only"
      ]
    },
    {
      "cell_type": "code",
      "execution_count": 33,
      "id": "ffb327d1",
      "metadata": {},
      "outputs": [
        {
          "data": {
            "text/plain": [
              "array([[2, 3],\n",
              "       [6, 7]])"
            ]
          },
          "execution_count": 33,
          "metadata": {},
          "output_type": "execute_result"
        }
      ],
      "source": [
        "a[:2, 1:3]"
      ]
    },
    {
      "cell_type": "markdown",
      "id": "a41ed2ae",
      "metadata": {},
      "source": [
        "So, in multidimensional arrays, the first argument is for selecting rows, and the second argument is for \n",
        "selecting columns\n",
        "\n",
        "It is important to realize that a slice of an array is a view into the same data. This is called passing by\n",
        "reference. So modifying the sub array will consequently modify the original array\n",
        "\n",
        "Here we will change the element at position [0, 0], which is 2, to 50, then we can see that the value in the\n",
        "original array is changed to 50 as well"
      ]
    },
    {
      "cell_type": "code",
      "execution_count": 34,
      "id": "60790e66",
      "metadata": {},
      "outputs": [
        {
          "name": "stdout",
          "output_type": "stream",
          "text": [
            "sub array index [0,0] value before change: 2\n",
            "sub array index [0,0] value after change: 50\n",
            "original array index [0,1] value after change: 50\n"
          ]
        }
      ],
      "source": [
        "sub_array = a[:2, 1:3]\n",
        "print(\"sub array index [0,0] value before change:\", sub_array[0,0])\n",
        "sub_array[0,0] = 50\n",
        "print(\"sub array index [0,0] value after change:\", sub_array[0,0])\n",
        "print(\"original array index [0,1] value after change:\", a[0,1])"
      ]
    },
    {
      "cell_type": "markdown",
      "id": "4f29d059",
      "metadata": {},
      "source": [
        "So that's a quick tour of numpy, the core scientific computing library in python, which serves as a basis for pandas."
      ]
    },
    {
      "cell_type": "code",
      "execution_count": null,
      "id": "10210dce",
      "metadata": {},
      "outputs": [],
      "source": []
    }
  ],
  "metadata": {
    "kernelspec": {
      "display_name": "Python 3 (ipykernel)",
      "language": "python",
      "name": "python3"
    },
    "language_info": {
      "codemirror_mode": {
        "name": "ipython",
        "version": 3
      },
      "file_extension": ".py",
      "mimetype": "text/x-python",
      "name": "python",
      "nbconvert_exporter": "python",
      "pygments_lexer": "ipython3",
      "version": "3.12.3"
    }
  },
  "nbformat": 4,
  "nbformat_minor": 5
}
