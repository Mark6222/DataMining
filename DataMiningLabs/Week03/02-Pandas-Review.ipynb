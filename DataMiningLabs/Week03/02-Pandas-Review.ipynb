{
 "cells": [
  {
   "cell_type": "markdown",
   "id": "e97af2cb",
   "metadata": {},
   "source": [
    "# Pandas\n"
   ]
  },
  {
   "cell_type": "markdown",
   "id": "46fefc8a",
   "metadata": {},
   "source": [
    "## Overview\n",
    "\n",
    "[Pandas](http://pandas.pydata.org/) is a package of fast, efficient data analysis tools for Python.\n",
    "\n",
    "Its popularity has surged in recent years, coincident with the rise\n",
    "of fields such as data science and machine learning.\n",
    " \n",
    "Just as [NumPy](http://www.numpy.org/) provides the basic array data type plus core array operations, pandas\n",
    "\n",
    "1. defines fundamental structures for working with data and  \n",
    "1. endows them with methods that facilitate operations such as  \n",
    "  \n",
    "  - reading in data  \n",
    "  - adjusting indices  \n",
    "  - working with dates and time series  \n",
    "  - sorting, grouping, re-ordering and general data munging <sup><a href=#mung id=mung-link>[1]</a></sup>  \n",
    "  - dealing with missing values, etc., etc.  \n",
    "\n",
    "More sophisticated statistical functionality is left to other packages, such\n",
    "as [statsmodels](http://www.statsmodels.org/) and [scikit-learn](http://scikit-learn.org/), which are built on top of pandas.\n",
    "\n",
    "We start by importing the usual machine learning libraries."
   ]
  },
  {
   "cell_type": "code",
   "execution_count": 235,
   "id": "a3899dc6",
   "metadata": {
    "hide-output": false
   },
   "outputs": [],
   "source": [
    "import pandas as pd\n",
    "import numpy as np\n",
    "import matplotlib.pyplot as plt\n",
    "%matplotlib inline\n"
   ]
  },
  {
   "cell_type": "markdown",
   "id": "dba82a00",
   "metadata": {},
   "source": [
    "## Series\n",
    "\n",
    "Two important data types defined by pandas are  `Series` and `DataFrame`.\n",
    "\n",
    "You can think of a `Series` as a “column” of data, such as a collection of observations on a single variable.\n",
    "\n",
    "Let’s start with a Series example"
   ]
  },
  {
   "cell_type": "markdown",
   "id": "4f457efd",
   "metadata": {},
   "source": [
    "Mark Hogan 20098168"
   ]
  },
  {
   "cell_type": "code",
   "execution_count": 236,
   "id": "39a7ca49",
   "metadata": {
    "hide-output": false
   },
   "outputs": [
    {
     "data": {
      "text/plain": [
       "0    1.123533\n",
       "1   -1.180465\n",
       "2    0.775931\n",
       "3    1.093575\n",
       "Name: daily returns, dtype: float64"
      ]
     },
     "execution_count": 236,
     "metadata": {},
     "output_type": "execute_result"
    }
   ],
   "source": [
    "s = pd.Series(np.random.randn(4), name='daily returns')\n",
    "s"
   ]
  },
  {
   "cell_type": "markdown",
   "id": "32334893",
   "metadata": {},
   "source": [
    "Here you can imagine the indices `0, 1, 2, 3` as indexing four listed\n",
    "companies, and the values being daily returns on their shares.\n",
    "\n",
    "Pandas `Series` are built on top of NumPy arrays and support many similar\n",
    "operations,\n",
    "\n",
    "But `Series` provide more than NumPy arrays.\n",
    "\n",
    "Not only do they have some additional (statistically oriented) methods"
   ]
  },
  {
   "cell_type": "code",
   "execution_count": 237,
   "id": "c162330d",
   "metadata": {
    "hide-output": false
   },
   "outputs": [
    {
     "data": {
      "text/plain": [
       "count    4.000000\n",
       "mean     0.453144\n",
       "std      1.100370\n",
       "min     -1.180465\n",
       "25%      0.286832\n",
       "50%      0.934753\n",
       "75%      1.101065\n",
       "max      1.123533\n",
       "Name: daily returns, dtype: float64"
      ]
     },
     "execution_count": 237,
     "metadata": {},
     "output_type": "execute_result"
    }
   ],
   "source": [
    "s.describe()"
   ]
  },
  {
   "cell_type": "markdown",
   "id": "f0f215fa",
   "metadata": {},
   "source": [
    "But their index values do not need to be numbers, as is the case with numpy arrays."
   ]
  },
  {
   "cell_type": "markdown",
   "id": "ee840cd2",
   "metadata": {},
   "source": [
    "Viewed in this way, `Series` are like fast, efficient Python dictionaries\n",
    "(with the restriction that the items in the dictionary all have the same\n",
    "type—in this case, floats).\n",
    "\n",
    "1. How can I set the index to be 'AMZN', 'AAPL', 'MSFT', 'GOOG' (in that order?)\n",
    "2. How can you pick out the `AMZN` value from the series?\n",
    "3. How can you check that `AAPL` is included in the series?\n",
    "4. I learn that there is a problem with the data source. How can I set the `GOOG` return to an unknown value?\n",
    "5. How can I find the return with the highest value?\n",
    "6. If I wanted to include the city in the index, how could this be done?"
   ]
  },
  {
   "cell_type": "markdown",
   "id": "33b980a0",
   "metadata": {},
   "source": [
    "here im setting the index for each value"
   ]
  },
  {
   "cell_type": "code",
   "execution_count": 238,
   "id": "f2f7d685",
   "metadata": {},
   "outputs": [
    {
     "data": {
      "text/plain": [
       "AMZN    1.123533\n",
       "AAPL   -1.180465\n",
       "MSFT    0.775931\n",
       "GOOG    1.093575\n",
       "Name: daily returns, dtype: float64"
      ]
     },
     "execution_count": 238,
     "metadata": {},
     "output_type": "execute_result"
    }
   ],
   "source": [
    "s.index = ['AMZN', 'AAPL', 'MSFT', 'GOOG']\n",
    "s"
   ]
  },
  {
   "cell_type": "markdown",
   "id": "a36ac81e",
   "metadata": {},
   "source": [
    "Here im getting the value for AMZN"
   ]
  },
  {
   "cell_type": "code",
   "execution_count": 239,
   "id": "26ed3610",
   "metadata": {},
   "outputs": [
    {
     "data": {
      "text/plain": [
       "1.1235331600925977"
      ]
     },
     "execution_count": 239,
     "metadata": {},
     "output_type": "execute_result"
    }
   ],
   "source": [
    "a = s.loc['AMZN']\n",
    "a"
   ]
  },
  {
   "cell_type": "markdown",
   "id": "d1dd5906",
   "metadata": {},
   "source": [
    "this checks if AAPL exists"
   ]
  },
  {
   "cell_type": "code",
   "execution_count": 240,
   "id": "24c77178",
   "metadata": {},
   "outputs": [
    {
     "data": {
      "text/plain": [
       "True"
      ]
     },
     "execution_count": 240,
     "metadata": {},
     "output_type": "execute_result"
    }
   ],
   "source": [
    "'AAPL' in s.index"
   ]
  },
  {
   "cell_type": "markdown",
   "id": "3ea38648",
   "metadata": {},
   "source": [
    "This sets GOOG to a empty value using np.nan which dosent affect the data type for getting .max()"
   ]
  },
  {
   "cell_type": "code",
   "execution_count": 241,
   "id": "abefb992",
   "metadata": {},
   "outputs": [
    {
     "data": {
      "text/plain": [
       "nan"
      ]
     },
     "execution_count": 241,
     "metadata": {},
     "output_type": "execute_result"
    }
   ],
   "source": [
    "n = s.loc['GOOG'] = np.nan\n",
    "n"
   ]
  },
  {
   "cell_type": "markdown",
   "id": "2c714fc4",
   "metadata": {},
   "source": [
    "this gets the highest value in the series"
   ]
  },
  {
   "cell_type": "code",
   "execution_count": 242,
   "id": "151db925",
   "metadata": {},
   "outputs": [
    {
     "data": {
      "text/plain": [
       "1.1235331600925977"
      ]
     },
     "execution_count": 242,
     "metadata": {},
     "output_type": "execute_result"
    }
   ],
   "source": [
    "a = s.max()\n",
    "a"
   ]
  },
  {
   "cell_type": "markdown",
   "id": "4e8c0eec",
   "metadata": {},
   "source": [
    "This is adding to each index a country"
   ]
  },
  {
   "cell_type": "code",
   "execution_count": 243,
   "id": "a29c971e",
   "metadata": {},
   "outputs": [
    {
     "data": {
      "text/plain": [
       "AMZN - Dublin      1.123533\n",
       "AAPL - New York   -1.180465\n",
       "MSFT - Paris       0.775931\n",
       "GOOG - Rome             NaN\n",
       "Name: daily returns, dtype: float64"
      ]
     },
     "execution_count": 243,
     "metadata": {},
     "output_type": "execute_result"
    }
   ],
   "source": [
    "cities = ['Dublin', 'New York', 'Paris', 'Rome']\n",
    "s.index = s.index + \" - \" + pd.Index(cities)\n",
    "s"
   ]
  },
  {
   "cell_type": "markdown",
   "id": "ac3bf704",
   "metadata": {},
   "source": [
    "## DataFrames\n",
    "\n",
    "While a `Series` is a single column of data, a `DataFrame` is several columns, one for each variable.\n",
    "\n",
    "A `DataFrame` is an object for storing related columns of data.\n",
    "\n",
    "In essence, a `DataFrame` in pandas is analogous to a (highly optimized) Excel spreadsheet.\n",
    "\n",
    "Thus, it is a powerful tool for representing and analyzing data that are naturally organized  into rows and columns, often with  descriptive indexes for individual rows and individual columns.\n",
    "\n",
    "Here’s the content of `test_pwt.csv`"
   ]
  },
  {
   "cell_type": "markdown",
   "id": "ac3c09d9",
   "metadata": {
    "hide-output": false
   },
   "source": [
    "```text\n",
    "\"country\",\"country isocode\",\"year\",\"POP\",\"XRAT\",\"tcgdp\",\"cc\",\"cg\"\n",
    "\"Argentina\",\"ARG\",\"2000\",\"37335.653\",\"0.9995\",\"295072.21869\",\"75.716805379\",\"5.5788042896\"\n",
    "\"Australia\",\"AUS\",\"2000\",\"19053.186\",\"1.72483\",\"541804.6521\",\"67.759025993\",\"6.7200975332\"\n",
    "\"India\",\"IND\",\"2000\",\"1006300.297\",\"44.9416\",\"1728144.3748\",\"64.575551328\",\"14.072205773\"\n",
    "\"Israel\",\"ISR\",\"2000\",\"6114.57\",\"4.07733\",\"129253.89423\",\"64.436450847\",\"10.266688415\"\n",
    "\"Malawi\",\"MWI\",\"2000\",\"11801.505\",\"59.543808333\",\"5026.2217836\",\"74.707624181\",\"11.658954494\"\n",
    "\"South Africa\",\"ZAF\",\"2000\",\"45064.098\",\"6.93983\",\"227242.36949\",\"72.718710427\",\"5.7265463933\"\n",
    "\"United States\",\"USA\",\"2000\",\"282171.957\",\"1\",\"9898700\",\"72.347054303\",\"6.0324539789\"\n",
    "\"Uruguay\",\"URY\",\"2000\",\"3219.793\",\"12.099591667\",\"25255.961693\",\"78.978740282\",\"5.108067988\"\n",
    "```\n",
    "\n",
    "Note that `POP` is the population of the country (in thousands) and `tcgdp` is the GDP of the\n",
    "country (in millions of USD).\n"
   ]
  },
  {
   "cell_type": "markdown",
   "id": "fbb655b4",
   "metadata": {},
   "source": [
    "1. Supposing you have this data saved as `test_pwt.csv` in data directory , how can you read it into a data frame `df`?\n",
    "2. How can we use `.iloc` to extract rows 3 to 8 and columns 1 to 5, inclusive?\n",
    "3. How can we use df.index and df.loc to select rows 3 to 8 and both the country and tcgdp columns?\n",
    "4. How do use the `country` variable as the index in this dataframe?\n",
    "5. How can we rename `POP` to `population` and `tcgdp` to `total GDP`?\n",
    "6. The population is in 1000s, how can we convert that to single units (persons in this case)?\n",
    "7. Which countries have a `population` greater than 20 million?\n",
    "8. How can we add a column `GDP per capita` showing real GDP per capita, in dollars per person?\n",
    "9. Grouping the countries into \"large\" (> 20 million) and \"small\" (<= 20 million), what is the mean GDP per capita for each category?"
   ]
  },
  {
   "cell_type": "markdown",
   "id": "6652517c",
   "metadata": {},
   "source": [
    "This reads in test_pwt csv file into a dataframe and then displays the rows 3 to 8 and columns 1 to 5"
   ]
  },
  {
   "cell_type": "code",
   "execution_count": 244,
   "id": "f74317f5",
   "metadata": {},
   "outputs": [],
   "source": [
    "df = pd.read_csv('data/test_pwt.csv')\n",
    "s = df.iloc[2:8, 0:5]"
   ]
  },
  {
   "cell_type": "markdown",
   "id": "42f7e5e5",
   "metadata": {},
   "source": [
    "this displays the countrys and tcgdp rows 3 to 8"
   ]
  },
  {
   "cell_type": "code",
   "execution_count": 245,
   "id": "b633e215",
   "metadata": {},
   "outputs": [
    {
     "data": {
      "text/html": [
       "<div>\n",
       "<style scoped>\n",
       "    .dataframe tbody tr th:only-of-type {\n",
       "        vertical-align: middle;\n",
       "    }\n",
       "\n",
       "    .dataframe tbody tr th {\n",
       "        vertical-align: top;\n",
       "    }\n",
       "\n",
       "    .dataframe thead th {\n",
       "        text-align: right;\n",
       "    }\n",
       "</style>\n",
       "<table border=\"1\" class=\"dataframe\">\n",
       "  <thead>\n",
       "    <tr style=\"text-align: right;\">\n",
       "      <th></th>\n",
       "      <th>country</th>\n",
       "      <th>tcgdp</th>\n",
       "    </tr>\n",
       "  </thead>\n",
       "  <tbody>\n",
       "    <tr>\n",
       "      <th>3</th>\n",
       "      <td>Israel</td>\n",
       "      <td>1.292539e+05</td>\n",
       "    </tr>\n",
       "    <tr>\n",
       "      <th>4</th>\n",
       "      <td>Malawi</td>\n",
       "      <td>5.026222e+03</td>\n",
       "    </tr>\n",
       "    <tr>\n",
       "      <th>5</th>\n",
       "      <td>South Africa</td>\n",
       "      <td>2.272424e+05</td>\n",
       "    </tr>\n",
       "    <tr>\n",
       "      <th>6</th>\n",
       "      <td>United States</td>\n",
       "      <td>9.898700e+06</td>\n",
       "    </tr>\n",
       "    <tr>\n",
       "      <th>7</th>\n",
       "      <td>Uruguay</td>\n",
       "      <td>2.525596e+04</td>\n",
       "    </tr>\n",
       "  </tbody>\n",
       "</table>\n",
       "</div>"
      ],
      "text/plain": [
       "         country         tcgdp\n",
       "3         Israel  1.292539e+05\n",
       "4         Malawi  5.026222e+03\n",
       "5   South Africa  2.272424e+05\n",
       "6  United States  9.898700e+06\n",
       "7        Uruguay  2.525596e+04"
      ]
     },
     "execution_count": 245,
     "metadata": {},
     "output_type": "execute_result"
    }
   ],
   "source": [
    "df.loc[df.index[3:9], ['country', 'tcgdp']]"
   ]
  },
  {
   "cell_type": "markdown",
   "id": "23597ce7",
   "metadata": {},
   "source": [
    "here we are renaming the countries POP and tcgdp"
   ]
  },
  {
   "cell_type": "code",
   "execution_count": 246,
   "id": "c89c5bc4",
   "metadata": {},
   "outputs": [
    {
     "data": {
      "text/html": [
       "<div>\n",
       "<style scoped>\n",
       "    .dataframe tbody tr th:only-of-type {\n",
       "        vertical-align: middle;\n",
       "    }\n",
       "\n",
       "    .dataframe tbody tr th {\n",
       "        vertical-align: top;\n",
       "    }\n",
       "\n",
       "    .dataframe thead th {\n",
       "        text-align: right;\n",
       "    }\n",
       "</style>\n",
       "<table border=\"1\" class=\"dataframe\">\n",
       "  <thead>\n",
       "    <tr style=\"text-align: right;\">\n",
       "      <th></th>\n",
       "      <th>country</th>\n",
       "      <th>country isocode</th>\n",
       "      <th>year</th>\n",
       "      <th>population</th>\n",
       "      <th>XRAT</th>\n",
       "      <th>total GDP</th>\n",
       "      <th>cc</th>\n",
       "      <th>cg</th>\n",
       "    </tr>\n",
       "  </thead>\n",
       "  <tbody>\n",
       "    <tr>\n",
       "      <th>0</th>\n",
       "      <td>Argentina</td>\n",
       "      <td>ARG</td>\n",
       "      <td>2000</td>\n",
       "      <td>37335.653</td>\n",
       "      <td>0.999500</td>\n",
       "      <td>2.950722e+05</td>\n",
       "      <td>75.716805</td>\n",
       "      <td>5.578804</td>\n",
       "    </tr>\n",
       "    <tr>\n",
       "      <th>1</th>\n",
       "      <td>Australia</td>\n",
       "      <td>AUS</td>\n",
       "      <td>2000</td>\n",
       "      <td>19053.186</td>\n",
       "      <td>1.724830</td>\n",
       "      <td>5.418047e+05</td>\n",
       "      <td>67.759026</td>\n",
       "      <td>6.720098</td>\n",
       "    </tr>\n",
       "    <tr>\n",
       "      <th>2</th>\n",
       "      <td>India</td>\n",
       "      <td>IND</td>\n",
       "      <td>2000</td>\n",
       "      <td>1006300.297</td>\n",
       "      <td>44.941600</td>\n",
       "      <td>1.728144e+06</td>\n",
       "      <td>64.575551</td>\n",
       "      <td>14.072206</td>\n",
       "    </tr>\n",
       "    <tr>\n",
       "      <th>3</th>\n",
       "      <td>Israel</td>\n",
       "      <td>ISR</td>\n",
       "      <td>2000</td>\n",
       "      <td>6114.570</td>\n",
       "      <td>4.077330</td>\n",
       "      <td>1.292539e+05</td>\n",
       "      <td>64.436451</td>\n",
       "      <td>10.266688</td>\n",
       "    </tr>\n",
       "    <tr>\n",
       "      <th>4</th>\n",
       "      <td>Malawi</td>\n",
       "      <td>MWI</td>\n",
       "      <td>2000</td>\n",
       "      <td>11801.505</td>\n",
       "      <td>59.543808</td>\n",
       "      <td>5.026222e+03</td>\n",
       "      <td>74.707624</td>\n",
       "      <td>11.658954</td>\n",
       "    </tr>\n",
       "    <tr>\n",
       "      <th>5</th>\n",
       "      <td>South Africa</td>\n",
       "      <td>ZAF</td>\n",
       "      <td>2000</td>\n",
       "      <td>45064.098</td>\n",
       "      <td>6.939830</td>\n",
       "      <td>2.272424e+05</td>\n",
       "      <td>72.718710</td>\n",
       "      <td>5.726546</td>\n",
       "    </tr>\n",
       "    <tr>\n",
       "      <th>6</th>\n",
       "      <td>United States</td>\n",
       "      <td>USA</td>\n",
       "      <td>2000</td>\n",
       "      <td>282171.957</td>\n",
       "      <td>1.000000</td>\n",
       "      <td>9.898700e+06</td>\n",
       "      <td>72.347054</td>\n",
       "      <td>6.032454</td>\n",
       "    </tr>\n",
       "    <tr>\n",
       "      <th>7</th>\n",
       "      <td>Uruguay</td>\n",
       "      <td>URY</td>\n",
       "      <td>2000</td>\n",
       "      <td>3219.793</td>\n",
       "      <td>12.099592</td>\n",
       "      <td>2.525596e+04</td>\n",
       "      <td>78.978740</td>\n",
       "      <td>5.108068</td>\n",
       "    </tr>\n",
       "  </tbody>\n",
       "</table>\n",
       "</div>"
      ],
      "text/plain": [
       "         country country isocode  year   population       XRAT     total GDP  \\\n",
       "0      Argentina             ARG  2000    37335.653   0.999500  2.950722e+05   \n",
       "1      Australia             AUS  2000    19053.186   1.724830  5.418047e+05   \n",
       "2          India             IND  2000  1006300.297  44.941600  1.728144e+06   \n",
       "3         Israel             ISR  2000     6114.570   4.077330  1.292539e+05   \n",
       "4         Malawi             MWI  2000    11801.505  59.543808  5.026222e+03   \n",
       "5   South Africa             ZAF  2000    45064.098   6.939830  2.272424e+05   \n",
       "6  United States             USA  2000   282171.957   1.000000  9.898700e+06   \n",
       "7        Uruguay             URY  2000     3219.793  12.099592  2.525596e+04   \n",
       "\n",
       "          cc         cg  \n",
       "0  75.716805   5.578804  \n",
       "1  67.759026   6.720098  \n",
       "2  64.575551  14.072206  \n",
       "3  64.436451  10.266688  \n",
       "4  74.707624  11.658954  \n",
       "5  72.718710   5.726546  \n",
       "6  72.347054   6.032454  \n",
       "7  78.978740   5.108068  "
      ]
     },
     "execution_count": 246,
     "metadata": {},
     "output_type": "execute_result"
    }
   ],
   "source": [
    "df.rename(columns={'POP': 'population', 'tcgdp': 'total GDP'})"
   ]
  },
  {
   "cell_type": "markdown",
   "id": "44030c32",
   "metadata": {},
   "source": [
    "here we multiply each value in population by 1000 to get the amount of persons"
   ]
  },
  {
   "cell_type": "code",
   "execution_count": 247,
   "id": "e57d1622",
   "metadata": {},
   "outputs": [
    {
     "data": {
      "text/plain": [
       "0    3.733565e+07\n",
       "1    1.905319e+07\n",
       "2    1.006300e+09\n",
       "3    6.114570e+06\n",
       "4    1.180150e+07\n",
       "5    4.506410e+07\n",
       "6    2.821720e+08\n",
       "7    3.219793e+06\n",
       "Name: POP, dtype: float64"
      ]
     },
     "execution_count": 247,
     "metadata": {},
     "output_type": "execute_result"
    }
   ],
   "source": [
    "df['POP'] = df['POP'] * 1000\n",
    "df['POP']"
   ]
  },
  {
   "cell_type": "markdown",
   "id": "2be1a457",
   "metadata": {},
   "source": [
    "This displays each country with under 20000000 million people"
   ]
  },
  {
   "cell_type": "code",
   "execution_count": 248,
   "id": "9edd2a27",
   "metadata": {},
   "outputs": [
    {
     "data": {
      "text/html": [
       "<div>\n",
       "<style scoped>\n",
       "    .dataframe tbody tr th:only-of-type {\n",
       "        vertical-align: middle;\n",
       "    }\n",
       "\n",
       "    .dataframe tbody tr th {\n",
       "        vertical-align: top;\n",
       "    }\n",
       "\n",
       "    .dataframe thead th {\n",
       "        text-align: right;\n",
       "    }\n",
       "</style>\n",
       "<table border=\"1\" class=\"dataframe\">\n",
       "  <thead>\n",
       "    <tr style=\"text-align: right;\">\n",
       "      <th></th>\n",
       "      <th>country</th>\n",
       "      <th>country isocode</th>\n",
       "      <th>year</th>\n",
       "      <th>POP</th>\n",
       "      <th>XRAT</th>\n",
       "      <th>tcgdp</th>\n",
       "      <th>cc</th>\n",
       "      <th>cg</th>\n",
       "    </tr>\n",
       "  </thead>\n",
       "  <tbody>\n",
       "    <tr>\n",
       "      <th>1</th>\n",
       "      <td>Australia</td>\n",
       "      <td>AUS</td>\n",
       "      <td>2000</td>\n",
       "      <td>19053186.0</td>\n",
       "      <td>1.724830</td>\n",
       "      <td>541804.652100</td>\n",
       "      <td>67.759026</td>\n",
       "      <td>6.720098</td>\n",
       "    </tr>\n",
       "    <tr>\n",
       "      <th>3</th>\n",
       "      <td>Israel</td>\n",
       "      <td>ISR</td>\n",
       "      <td>2000</td>\n",
       "      <td>6114570.0</td>\n",
       "      <td>4.077330</td>\n",
       "      <td>129253.894230</td>\n",
       "      <td>64.436451</td>\n",
       "      <td>10.266688</td>\n",
       "    </tr>\n",
       "    <tr>\n",
       "      <th>4</th>\n",
       "      <td>Malawi</td>\n",
       "      <td>MWI</td>\n",
       "      <td>2000</td>\n",
       "      <td>11801505.0</td>\n",
       "      <td>59.543808</td>\n",
       "      <td>5026.221784</td>\n",
       "      <td>74.707624</td>\n",
       "      <td>11.658954</td>\n",
       "    </tr>\n",
       "    <tr>\n",
       "      <th>7</th>\n",
       "      <td>Uruguay</td>\n",
       "      <td>URY</td>\n",
       "      <td>2000</td>\n",
       "      <td>3219793.0</td>\n",
       "      <td>12.099592</td>\n",
       "      <td>25255.961693</td>\n",
       "      <td>78.978740</td>\n",
       "      <td>5.108068</td>\n",
       "    </tr>\n",
       "  </tbody>\n",
       "</table>\n",
       "</div>"
      ],
      "text/plain": [
       "     country country isocode  year         POP       XRAT          tcgdp  \\\n",
       "1  Australia             AUS  2000  19053186.0   1.724830  541804.652100   \n",
       "3     Israel             ISR  2000   6114570.0   4.077330  129253.894230   \n",
       "4     Malawi             MWI  2000  11801505.0  59.543808    5026.221784   \n",
       "7    Uruguay             URY  2000   3219793.0  12.099592   25255.961693   \n",
       "\n",
       "          cc         cg  \n",
       "1  67.759026   6.720098  \n",
       "3  64.436451  10.266688  \n",
       "4  74.707624  11.658954  \n",
       "7  78.978740   5.108068  "
      ]
     },
     "execution_count": 248,
     "metadata": {},
     "output_type": "execute_result"
    }
   ],
   "source": [
    "df[df['POP'] <= 20000000]"
   ]
  },
  {
   "cell_type": "markdown",
   "id": "6ba0fa38",
   "metadata": {},
   "source": [
    "this divides the GDP of each country by the populatiuon to get the gdp of each individual person"
   ]
  },
  {
   "cell_type": "code",
   "execution_count": 249,
   "id": "8db58e70",
   "metadata": {},
   "outputs": [
    {
     "data": {
      "text/html": [
       "<div>\n",
       "<style scoped>\n",
       "    .dataframe tbody tr th:only-of-type {\n",
       "        vertical-align: middle;\n",
       "    }\n",
       "\n",
       "    .dataframe tbody tr th {\n",
       "        vertical-align: top;\n",
       "    }\n",
       "\n",
       "    .dataframe thead th {\n",
       "        text-align: right;\n",
       "    }\n",
       "</style>\n",
       "<table border=\"1\" class=\"dataframe\">\n",
       "  <thead>\n",
       "    <tr style=\"text-align: right;\">\n",
       "      <th></th>\n",
       "      <th>country</th>\n",
       "      <th>country isocode</th>\n",
       "      <th>year</th>\n",
       "      <th>POP</th>\n",
       "      <th>XRAT</th>\n",
       "      <th>tcgdp</th>\n",
       "      <th>cc</th>\n",
       "      <th>cg</th>\n",
       "      <th>GDP percap</th>\n",
       "    </tr>\n",
       "  </thead>\n",
       "  <tbody>\n",
       "    <tr>\n",
       "      <th>0</th>\n",
       "      <td>Argentina</td>\n",
       "      <td>ARG</td>\n",
       "      <td>2000</td>\n",
       "      <td>3.733565e+07</td>\n",
       "      <td>0.999500</td>\n",
       "      <td>2.950722e+05</td>\n",
       "      <td>75.716805</td>\n",
       "      <td>5.578804</td>\n",
       "      <td>0.007903</td>\n",
       "    </tr>\n",
       "    <tr>\n",
       "      <th>1</th>\n",
       "      <td>Australia</td>\n",
       "      <td>AUS</td>\n",
       "      <td>2000</td>\n",
       "      <td>1.905319e+07</td>\n",
       "      <td>1.724830</td>\n",
       "      <td>5.418047e+05</td>\n",
       "      <td>67.759026</td>\n",
       "      <td>6.720098</td>\n",
       "      <td>0.028436</td>\n",
       "    </tr>\n",
       "    <tr>\n",
       "      <th>2</th>\n",
       "      <td>India</td>\n",
       "      <td>IND</td>\n",
       "      <td>2000</td>\n",
       "      <td>1.006300e+09</td>\n",
       "      <td>44.941600</td>\n",
       "      <td>1.728144e+06</td>\n",
       "      <td>64.575551</td>\n",
       "      <td>14.072206</td>\n",
       "      <td>0.001717</td>\n",
       "    </tr>\n",
       "    <tr>\n",
       "      <th>3</th>\n",
       "      <td>Israel</td>\n",
       "      <td>ISR</td>\n",
       "      <td>2000</td>\n",
       "      <td>6.114570e+06</td>\n",
       "      <td>4.077330</td>\n",
       "      <td>1.292539e+05</td>\n",
       "      <td>64.436451</td>\n",
       "      <td>10.266688</td>\n",
       "      <td>0.021139</td>\n",
       "    </tr>\n",
       "    <tr>\n",
       "      <th>4</th>\n",
       "      <td>Malawi</td>\n",
       "      <td>MWI</td>\n",
       "      <td>2000</td>\n",
       "      <td>1.180150e+07</td>\n",
       "      <td>59.543808</td>\n",
       "      <td>5.026222e+03</td>\n",
       "      <td>74.707624</td>\n",
       "      <td>11.658954</td>\n",
       "      <td>0.000426</td>\n",
       "    </tr>\n",
       "  </tbody>\n",
       "</table>\n",
       "</div>"
      ],
      "text/plain": [
       "     country country isocode  year           POP       XRAT         tcgdp  \\\n",
       "0  Argentina             ARG  2000  3.733565e+07   0.999500  2.950722e+05   \n",
       "1  Australia             AUS  2000  1.905319e+07   1.724830  5.418047e+05   \n",
       "2      India             IND  2000  1.006300e+09  44.941600  1.728144e+06   \n",
       "3     Israel             ISR  2000  6.114570e+06   4.077330  1.292539e+05   \n",
       "4     Malawi             MWI  2000  1.180150e+07  59.543808  5.026222e+03   \n",
       "\n",
       "          cc         cg  GDP percap  \n",
       "0  75.716805   5.578804    0.007903  \n",
       "1  67.759026   6.720098    0.028436  \n",
       "2  64.575551  14.072206    0.001717  \n",
       "3  64.436451  10.266688    0.021139  \n",
       "4  74.707624  11.658954    0.000426  "
      ]
     },
     "execution_count": 249,
     "metadata": {},
     "output_type": "execute_result"
    }
   ],
   "source": [
    "df['GDP percap'] = df['tcgdp'] / df['POP']\n",
    "df.head()\n"
   ]
  },
  {
   "cell_type": "markdown",
   "id": "335a4926",
   "metadata": {},
   "source": [
    "this gets the mean value of the GDP per captial of the countries over and under 20000000 million people"
   ]
  },
  {
   "cell_type": "code",
   "execution_count": 250,
   "id": "f1315b98",
   "metadata": {},
   "outputs": [
    {
     "data": {
      "text/plain": [
       "('largest: ', 0.01446124332705511, 'smallest: ', 0.012435895835851021)"
      ]
     },
     "execution_count": 250,
     "metadata": {},
     "output_type": "execute_result"
    }
   ],
   "source": [
    "s = df[df['POP'] > 20000000]['GDP percap']\n",
    "l = df[df['POP'] < 20000000]['GDP percap']\n",
    "\"largest: \", l.mean(), \"smallest: \", s.mean()"
   ]
  },
  {
   "cell_type": "markdown",
   "id": "1a84a947",
   "metadata": {},
   "source": [
    "One of the nice things about pandas `DataFrame` and `Series` objects is that they have methods for plotting and visualization that work through Matplotlib.\n",
    "\n",
    "For example, we can easily generate a bar plot of GDP per capita"
   ]
  },
  {
   "cell_type": "markdown",
   "id": "17b2bb65",
   "metadata": {},
   "source": [
    "this displays a bar chart of the gdp per capita for each country by creating a variable and polting the gdp percap of each country"
   ]
  },
  {
   "cell_type": "code",
   "execution_count": 251,
   "id": "46798b1c",
   "metadata": {
    "hide-output": false,
    "tags": [
     "raises-exception"
    ]
   },
   "outputs": [
    {
     "data": {
      "image/png": "[encoded data removed]",
      "text/plain": [
       "<Figure size 640x480 with 1 Axes>"
      ]
     },
     "metadata": {},
     "output_type": "display_data"
    }
   ],
   "source": [
    "# Note that the following code will generate errors (e.g. `df` is not defined) unless the previous tasks have been completed\n",
    "ax = df['GDP percap'].plot(kind='bar')\n",
    "ax.set_xlabel('country', fontsize=12)\n",
    "ax.set_ylabel('GDP per capita', fontsize=12)\n",
    "plt.show()"
   ]
  },
  {
   "cell_type": "markdown",
   "id": "7e4405a2",
   "metadata": {},
   "source": [
    "10. At the moment the data frame is ordered alphabetically on the countries. How can we use `sort_values()` to order it by `GDP per capita`?"
   ]
  },
  {
   "cell_type": "code",
   "execution_count": 252,
   "id": "2bf8e394",
   "metadata": {},
   "outputs": [],
   "source": [
    "df = df.sort_values('GDP percap', ascending=True)"
   ]
  },
  {
   "cell_type": "markdown",
   "id": "88995afc",
   "metadata": {},
   "source": [
    "11. Now create a new plot, with the countries sorted by GDP per capita. "
   ]
  },
  {
   "cell_type": "code",
   "execution_count": 253,
   "id": "d3f41c90",
   "metadata": {},
   "outputs": [
    {
     "data": {
      "image/png": "[encoded data removed]",
      "text/plain": [
       "<Figure size 640x480 with 1 Axes>"
      ]
     },
     "metadata": {},
     "output_type": "display_data"
    }
   ],
   "source": [
    "ax = df['GDP percap'].plot(kind='bar')\n",
    "ax.set_xlabel('country', fontsize=12)\n",
    "ax.set_ylabel('GDP per capita', fontsize=12)\n",
    "plt.show()"
   ]
  },
  {
   "cell_type": "markdown",
   "id": "b0eda0f6",
   "metadata": {},
   "source": [
    "12. Which plot do you prefer, and why?"
   ]
  },
  {
   "cell_type": "markdown",
   "id": "1ff0b1d7",
   "metadata": {},
   "source": [
    "The Second Plot because it shows a trend in GDP per capita per country"
   ]
  }
 ],
 "metadata": {
  "jupytext": {
   "formats": "ipynb,py:percent"
  },
  "kernelspec": {
   "display_name": "Python 3 (ipykernel)",
   "language": "python",
   "name": "python3"
  },
  "language_info": {
   "codemirror_mode": {
    "name": "ipython",
    "version": 3
   },
   "file_extension": ".py",
   "mimetype": "text/x-python",
   "name": "python",
   "nbconvert_exporter": "python",
   "pygments_lexer": "ipython3",
   "version": "3.12.3"
  }
 },
 "nbformat": 4,
 "nbformat_minor": 5
}
