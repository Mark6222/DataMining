{
 "cells": [
  {
   "cell_type": "markdown",
   "id": "05316d66",
   "metadata": {},
   "source": [
    "# NumPy\n",
    "\n",
    "\n",
    "<a id='index-1'></a>"
   ]
  },
  {
   "cell_type": "markdown",
   "id": "42a161e7",
   "metadata": {},
   "source": [
    "## Overview\n",
    "\n",
    "Recall that [NumPy](https://numpy.org/) is a library used for numerical programming and, for data science purposes, we are particularly interested in its extensiove support for array. It is widely used in academia, finance and industry, and is also mature, fast, stable and under continuous development.  \n",
    "\n",
    "\n",
    "In this notebook we will review the parts of numpy that are most relevant to this module: its support for arrays, which goes way beyond what is included in base python.\n",
    "\n",
    "### References\n",
    "\n",
    "- [The notebook shared in class](https://datamining-2023s1-g8s0.github.io/live/topics/03-Data_Handling/01-Python-Numpy/files/introToNumpy.ipynb)\n",
    "- [The official NumPy documentation](https://numpy.org/doc/stable/reference/).  \n"
   ]
  },
  {
   "cell_type": "markdown",
   "id": "db0b3706",
   "metadata": {},
   "source": [
    "## NumPy reminder\n",
    "\n",
    "The essential problem that NumPy solves is fast array processing.\n",
    "\n",
    "The most important structure that NumPy defines is an array data type formally called a [numpy.ndarray](http://docs.scipy.org/doc/numpy/reference/arrays.ndarray.html).\n",
    "\n",
    "NumPy arrays power a large proportion of the scientific Python ecosystem.\n",
    "\n",
    "Let’s first import the library."
   ]
  },
  {
   "cell_type": "code",
   "execution_count": 107,
   "id": "9e06d37b",
   "metadata": {
    "execution": {
     "iopub.execute_input": "2024-10-01T07:56:03.022977Z",
     "iopub.status.busy": "2024-10-01T07:56:03.022388Z",
     "iopub.status.idle": "2024-10-01T07:56:03.107948Z",
     "shell.execute_reply": "2024-10-01T07:56:03.106504Z"
    },
    "hide-output": false
   },
   "outputs": [],
   "source": [
    "import numpy as np"
   ]
  },
  {
   "cell_type": "markdown",
   "id": "c55ccc43",
   "metadata": {},
   "source": [
    "## Exercises\n",
    "\n",
    "\n",
    "<a id='np-ex1'></a>"
   ]
  },
  {
   "cell_type": "markdown",
   "id": "07e69da8",
   "metadata": {},
   "source": [
    "Mark Hogan 20098168"
   ]
  },
  {
   "cell_type": "markdown",
   "id": "71f9de48",
   "metadata": {},
   "source": [
    "### Exercise 1\n",
    "\n",
    "Create a 3x3 (3 rows, 3 columns) array containing the 9 integers 1 .. 9.\n",
    "\n",
    "1. Extract the following parts of the matrix a:\n",
    "\n",
    "- the second row\n",
    "- the third colum\n",
    "- the top left element\n",
    "\n",
    "2. How do we get the type and dimensions of a?\n",
    "\n",
    "3. Compute the following:\n",
    "\n",
    "- the average (arithmetic mean) of the first row\n",
    "- the sum of the second column\n",
    "- the (elementwise) _multiplicative inverse_ of the elements in a (recall that, if $a_{ij}$ is an element of a, its multiplicative inverse is $\\frac{1}{a_{ij}}$).\n",
    "\n",
    "4. How do we find the elements of a that are greater than or equal to 5?"
   ]
  },
  {
   "cell_type": "markdown",
   "id": "59c71f1b",
   "metadata": {},
   "source": [
    "3x3 matrix and then it displays the second row"
   ]
  },
  {
   "cell_type": "code",
   "execution_count": 108,
   "id": "b0ccd780",
   "metadata": {},
   "outputs": [
    {
     "data": {
      "text/plain": [
       "array([4, 5, 6])"
      ]
     },
     "execution_count": 108,
     "metadata": {},
     "output_type": "execute_result"
    }
   ],
   "source": [
    "a = np.array([[1, 2, 3], [4, 5, 6], [7, 8, 9]], np.int32)\n",
    "y = a[1,:]\n",
    "y\n",
    "\n"
   ]
  },
  {
   "cell_type": "markdown",
   "id": "e11aa7bb",
   "metadata": {},
   "source": [
    "getting third column"
   ]
  },
  {
   "cell_type": "code",
   "execution_count": 109,
   "id": "6a913a93",
   "metadata": {},
   "outputs": [
    {
     "data": {
      "text/plain": [
       "array([3, 6, 9])"
      ]
     },
     "execution_count": 109,
     "metadata": {},
     "output_type": "execute_result"
    }
   ],
   "source": [
    "y = a[:,2]\n",
    "y"
   ]
  },
  {
   "cell_type": "markdown",
   "id": "1fd0bda1",
   "metadata": {},
   "source": [
    "the value in the top lef of the matrix (first value)"
   ]
  },
  {
   "cell_type": "code",
   "execution_count": 110,
   "id": "552de6f6",
   "metadata": {},
   "outputs": [
    {
     "data": {
      "text/plain": [
       "1"
      ]
     },
     "execution_count": 110,
     "metadata": {},
     "output_type": "execute_result"
    }
   ],
   "source": [
    "y = a[0,0]\n",
    "y"
   ]
  },
  {
   "cell_type": "markdown",
   "id": "333bf295",
   "metadata": {},
   "source": [
    "gets data type of the matrix"
   ]
  },
  {
   "cell_type": "code",
   "execution_count": 111,
   "id": "5d693c6c",
   "metadata": {},
   "outputs": [
    {
     "data": {
      "text/plain": [
       "numpy.ndarray"
      ]
     },
     "execution_count": 111,
     "metadata": {},
     "output_type": "execute_result"
    }
   ],
   "source": [
    "type(a)"
   ]
  },
  {
   "cell_type": "markdown",
   "id": "93e0f6f5",
   "metadata": {},
   "source": [
    "gets the mean value of the first row"
   ]
  },
  {
   "cell_type": "code",
   "execution_count": 112,
   "id": "ca8abecf",
   "metadata": {},
   "outputs": [
    {
     "data": {
      "text/plain": [
       "2.0"
      ]
     },
     "execution_count": 112,
     "metadata": {},
     "output_type": "execute_result"
    }
   ],
   "source": [
    "y = a[0,:]\n",
    "y.mean()"
   ]
  },
  {
   "cell_type": "markdown",
   "id": "3dd64c3b",
   "metadata": {},
   "source": [
    "adds all numbers in the second column"
   ]
  },
  {
   "cell_type": "code",
   "execution_count": 113,
   "id": "6ec17330",
   "metadata": {},
   "outputs": [
    {
     "data": {
      "text/plain": [
       "15"
      ]
     },
     "execution_count": 113,
     "metadata": {},
     "output_type": "execute_result"
    }
   ],
   "source": [
    "y = a[:,1]\n",
    "y.sum()"
   ]
  },
  {
   "cell_type": "markdown",
   "id": "7cbcb22f",
   "metadata": {},
   "source": [
    "multiplication iverse of each value in the array"
   ]
  },
  {
   "cell_type": "code",
   "execution_count": 114,
   "id": "63a37e61",
   "metadata": {},
   "outputs": [
    {
     "data": {
      "text/plain": [
       "array([[1., 2., 3.],\n",
       "       [4., 5., 6.],\n",
       "       [7., 8., 9.]])"
      ]
     },
     "execution_count": 114,
     "metadata": {},
     "output_type": "execute_result"
    }
   ],
   "source": [
    "y = a/1\n",
    "y"
   ]
  },
  {
   "cell_type": "markdown",
   "id": "a296b173",
   "metadata": {},
   "source": [
    "all values greater than or equal to 5"
   ]
  },
  {
   "cell_type": "code",
   "execution_count": 115,
   "id": "839f0cfa",
   "metadata": {},
   "outputs": [
    {
     "data": {
      "text/plain": [
       "array([5, 6, 7, 8, 9])"
      ]
     },
     "execution_count": 115,
     "metadata": {},
     "output_type": "execute_result"
    }
   ],
   "source": [
    "y = a[a >= 5]\n",
    "y"
   ]
  },
  {
   "cell_type": "markdown",
   "id": "6ada8454",
   "metadata": {},
   "source": [
    "### Exercise 2\n",
    "\n",
    "1. Generate the following arrays\n",
    "\n",
    "- a matrix a of zeros with 2 rows and 3 columns\n",
    "- a matrix b of ones with the same dimensions, but the elements are integers\n",
    "- a random matrix c, whose elements are randomly distributed in [0,1], with the same dimensions\n",
    "- the transpose of c, d\n",
    "- the matrix product, e, of c and d\n",
    "- 11 linearly spaced floating numbers between 1 and 2\n",
    "\n",
    "2. Explain what happens in the following: `c1 = zeros(3); c2 = c1; c2[0] = 1`.\n",
    "\n",
    "3. In the matrix c above, find the row having the largest value in the 3rd column."
   ]
  },
  {
   "cell_type": "markdown",
   "id": "32f1bb92",
   "metadata": {},
   "source": [
    "this creates 3 matrix arrays with 2 rows and 3 columns, first all zeros, second is 1 to 6 and the third is random numbers between 0 and 1 then d = the transpose of c which switches the rows and columns."
   ]
  },
  {
   "cell_type": "code",
   "execution_count": 116,
   "id": "d07127c6",
   "metadata": {},
   "outputs": [
    {
     "data": {
      "text/plain": [
       "array([[0.06513164, 0.25339642],\n",
       "       [0.5225702 , 0.29969338],\n",
       "       [0.58590599, 0.22129308]])"
      ]
     },
     "execution_count": 116,
     "metadata": {},
     "output_type": "execute_result"
    }
   ],
   "source": [
    "a = np.array([[0,0,0], [0,0,0]])\n",
    "b = np.array([[1,2,3], [4,5,6]], np.int32)\n",
    "c = np.random.rand(2, 3)\n",
    "d = c.T\n",
    "d"
   ]
  },
  {
   "cell_type": "markdown",
   "id": "71be8c7c",
   "metadata": {},
   "source": [
    "this is a matrix multiplication multiplying each value of both arrays which is then = e"
   ]
  },
  {
   "cell_type": "code",
   "execution_count": 117,
   "id": "71f4bf98",
   "metadata": {},
   "outputs": [
    {
     "data": {
      "text/plain": [
       "array([[0.62060758, 0.3027719 ],\n",
       "       [0.3027719 , 0.2029965 ]])"
      ]
     },
     "execution_count": 117,
     "metadata": {},
     "output_type": "execute_result"
    }
   ],
   "source": [
    "e = c@d\n",
    "e"
   ]
  },
  {
   "cell_type": "markdown",
   "id": "30a388be",
   "metadata": {},
   "source": [
    "creates array of 11 evenly spaced numbers between 0 and 2"
   ]
  },
  {
   "cell_type": "code",
   "execution_count": 118,
   "id": "d255f10c",
   "metadata": {},
   "outputs": [
    {
     "data": {
      "text/plain": [
       "array([0. , 0.2, 0.4, 0.6, 0.8, 1. , 1.2, 1.4, 1.6, 1.8, 2. ])"
      ]
     },
     "execution_count": 118,
     "metadata": {},
     "output_type": "execute_result"
    }
   ],
   "source": [
    "np.linspace( 0, 2, 11 )"
   ]
  },
  {
   "cell_type": "markdown",
   "id": "00c211da",
   "metadata": {},
   "source": [
    "first this fails because it needs to be np.zeros, the it creates a array of 3 zeros. Then it points a new variable to the array and changes the first value to 1 of the pointer to the array in turn changing the first value in c1 also"
   ]
  },
  {
   "cell_type": "code",
   "execution_count": 119,
   "id": "6edf3eef",
   "metadata": {},
   "outputs": [],
   "source": [
    "c1 = np.zeros(3); \n",
    "c2 = c1; \n",
    "c2[0] = 1"
   ]
  },
  {
   "cell_type": "markdown",
   "id": "93110614",
   "metadata": {},
   "source": [
    "row with max number on the 3rd column"
   ]
  },
  {
   "cell_type": "code",
   "execution_count": 120,
   "id": "ca9f313b",
   "metadata": {},
   "outputs": [
    {
     "data": {
      "text/plain": [
       "array([[0.06513164, 0.5225702 , 0.58590599]])"
      ]
     },
     "execution_count": 120,
     "metadata": {},
     "output_type": "execute_result"
    }
   ],
   "source": [
    "f = c[:, 2].max()\n",
    "c[c[:, 2] == f]"
   ]
  }
 ],
 "metadata": {
  "jupytext": {
   "formats": "ipynb,py:percent"
  },
  "kernelspec": {
   "display_name": "Python 3 (ipykernel)",
   "language": "python",
   "name": "python3"
  },
  "language_info": {
   "codemirror_mode": {
    "name": "ipython",
    "version": 3
   },
   "file_extension": ".py",
   "mimetype": "text/x-python",
   "name": "python",
   "nbconvert_exporter": "python",
   "pygments_lexer": "ipython3",
   "version": "3.12.3"
  }
 },
 "nbformat": 4,
 "nbformat_minor": 5
}
