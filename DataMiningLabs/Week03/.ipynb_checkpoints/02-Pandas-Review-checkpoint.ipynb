{
 "cells": [
  {
   "cell_type": "markdown",
   "id": "e97af2cb",
   "metadata": {},
   "source": [
    "# Pandas\n"
   ]
  },
  {
   "cell_type": "markdown",
   "id": "46fefc8a",
   "metadata": {},
   "source": [
    "## Overview\n",
    "\n",
    "[Pandas](http://pandas.pydata.org/) is a package of fast, efficient data analysis tools for Python.\n",
    "\n",
    "Its popularity has surged in recent years, coincident with the rise\n",
    "of fields such as data science and machine learning.\n",
    " \n",
    "Just as [NumPy](http://www.numpy.org/) provides the basic array data type plus core array operations, pandas\n",
    "\n",
    "1. defines fundamental structures for working with data and  \n",
    "1. endows them with methods that facilitate operations such as  \n",
    "  \n",
    "  - reading in data  \n",
    "  - adjusting indices  \n",
    "  - working with dates and time series  \n",
    "  - sorting, grouping, re-ordering and general data munging <sup><a href=#mung id=mung-link>[1]</a></sup>  \n",
    "  - dealing with missing values, etc., etc.  \n",
    "\n",
    "More sophisticated statistical functionality is left to other packages, such\n",
    "as [statsmodels](http://www.statsmodels.org/) and [scikit-learn](http://scikit-learn.org/), which are built on top of pandas.\n",
    "\n",
    "We start by importing the usual machine learning libraries."
   ]
  },
  {
   "cell_type": "code",
   "execution_count": 1,
   "id": "a3899dc6",
   "metadata": {
    "execution": {
     "iopub.execute_input": "2024-10-01T10:20:40.565769Z",
     "iopub.status.busy": "2024-10-01T10:20:40.565311Z",
     "iopub.status.idle": "2024-10-01T10:20:41.541867Z",
     "shell.execute_reply": "2024-10-01T10:20:41.540509Z"
    },
    "hide-output": false
   },
   "outputs": [],
   "source": [
    "import pandas as pd\n",
    "import numpy as np\n",
    "import matplotlib.pyplot as plt\n",
    "%matplotlib inline"
   ]
  },
  {
   "cell_type": "markdown",
   "id": "dba82a00",
   "metadata": {},
   "source": [
    "## Series\n",
    "\n",
    "Two important data types defined by pandas are  `Series` and `DataFrame`.\n",
    "\n",
    "You can think of a `Series` as a “column” of data, such as a collection of observations on a single variable.\n",
    "\n",
    "Let’s start with a Series example"
   ]
  },
  {
   "cell_type": "code",
   "execution_count": 2,
   "id": "39a7ca49",
   "metadata": {
    "execution": {
     "iopub.execute_input": "2024-10-01T10:20:41.549040Z",
     "iopub.status.busy": "2024-10-01T10:20:41.548628Z",
     "iopub.status.idle": "2024-10-01T10:20:41.560160Z",
     "shell.execute_reply": "2024-10-01T10:20:41.558935Z"
    },
    "hide-output": false
   },
   "outputs": [
    {
     "data": {
      "text/plain": [
       "0    0.395284\n",
       "1   -0.263902\n",
       "2    0.576047\n",
       "3    0.996973\n",
       "Name: daily returns, dtype: float64"
      ]
     },
     "execution_count": 2,
     "metadata": {},
     "output_type": "execute_result"
    }
   ],
   "source": [
    "s = pd.Series(np.random.randn(4), name='daily returns')\n",
    "s"
   ]
  },
  {
   "cell_type": "markdown",
   "id": "32334893",
   "metadata": {},
   "source": [
    "Here you can imagine the indices `0, 1, 2, 3` as indexing four listed\n",
    "companies, and the values being daily returns on their shares.\n",
    "\n",
    "Pandas `Series` are built on top of NumPy arrays and support many similar\n",
    "operations,\n",
    "\n",
    "But `Series` provide more than NumPy arrays.\n",
    "\n",
    "Not only do they have some additional (statistically oriented) methods"
   ]
  },
  {
   "cell_type": "code",
   "execution_count": 3,
   "id": "c162330d",
   "metadata": {
    "execution": {
     "iopub.execute_input": "2024-10-01T10:20:41.565796Z",
     "iopub.status.busy": "2024-10-01T10:20:41.565395Z",
     "iopub.status.idle": "2024-10-01T10:20:41.578949Z",
     "shell.execute_reply": "2024-10-01T10:20:41.577832Z"
    },
    "hide-output": false
   },
   "outputs": [
    {
     "data": {
      "text/plain": [
       "count    4.000000\n",
       "mean     0.426101\n",
       "std      0.524542\n",
       "min     -0.263902\n",
       "25%      0.230488\n",
       "50%      0.485666\n",
       "75%      0.681279\n",
       "max      0.996973\n",
       "Name: daily returns, dtype: float64"
      ]
     },
     "execution_count": 3,
     "metadata": {},
     "output_type": "execute_result"
    }
   ],
   "source": [
    "s.describe()"
   ]
  },
  {
   "cell_type": "markdown",
   "id": "f0f215fa",
   "metadata": {},
   "source": [
    "But their index values do not need to be numbers, as is the case with numpy arrays."
   ]
  },
  {
   "cell_type": "markdown",
   "id": "ee840cd2",
   "metadata": {},
   "source": [
    "Viewed in this way, `Series` are like fast, efficient Python dictionaries\n",
    "(with the restriction that the items in the dictionary all have the same\n",
    "type—in this case, floats).\n",
    "\n",
    "1. How can I set the index to be 'AMZN', 'AAPL', 'MSFT', 'GOOG' (in that order?)\n",
    "2. How can you pick out the `AMZN` value from the series?\n",
    "3. How can you check that `AAPL` is included in the series?\n",
    "4. I learn that there is a problem with the data source. How can I set the `GOOG` return to an unknown value?\n",
    "5. How can I find the return with the highest value?\n",
    "6. If I wanted to include the city in the index, how could this be done?"
   ]
  },
  {
   "cell_type": "markdown",
   "id": "ac3bf704",
   "metadata": {},
   "source": [
    "## DataFrames\n",
    "\n",
    "While a `Series` is a single column of data, a `DataFrame` is several columns, one for each variable.\n",
    "\n",
    "A `DataFrame` is an object for storing related columns of data.\n",
    "\n",
    "In essence, a `DataFrame` in pandas is analogous to a (highly optimized) Excel spreadsheet.\n",
    "\n",
    "Thus, it is a powerful tool for representing and analyzing data that are naturally organized  into rows and columns, often with  descriptive indexes for individual rows and individual columns.\n",
    "\n",
    "Here’s the content of `test_pwt.csv`"
   ]
  },
  {
   "cell_type": "markdown",
   "id": "ac3c09d9",
   "metadata": {
    "hide-output": false
   },
   "source": [
    "```text\n",
    "\"country\",\"country isocode\",\"year\",\"POP\",\"XRAT\",\"tcgdp\",\"cc\",\"cg\"\n",
    "\"Argentina\",\"ARG\",\"2000\",\"37335.653\",\"0.9995\",\"295072.21869\",\"75.716805379\",\"5.5788042896\"\n",
    "\"Australia\",\"AUS\",\"2000\",\"19053.186\",\"1.72483\",\"541804.6521\",\"67.759025993\",\"6.7200975332\"\n",
    "\"India\",\"IND\",\"2000\",\"1006300.297\",\"44.9416\",\"1728144.3748\",\"64.575551328\",\"14.072205773\"\n",
    "\"Israel\",\"ISR\",\"2000\",\"6114.57\",\"4.07733\",\"129253.89423\",\"64.436450847\",\"10.266688415\"\n",
    "\"Malawi\",\"MWI\",\"2000\",\"11801.505\",\"59.543808333\",\"5026.2217836\",\"74.707624181\",\"11.658954494\"\n",
    "\"South Africa\",\"ZAF\",\"2000\",\"45064.098\",\"6.93983\",\"227242.36949\",\"72.718710427\",\"5.7265463933\"\n",
    "\"United States\",\"USA\",\"2000\",\"282171.957\",\"1\",\"9898700\",\"72.347054303\",\"6.0324539789\"\n",
    "\"Uruguay\",\"URY\",\"2000\",\"3219.793\",\"12.099591667\",\"25255.961693\",\"78.978740282\",\"5.108067988\"\n",
    "```\n",
    "\n",
    "Note that `POP` is the population of the country (in thousands) and `tcgdp` is the GDP of the\n",
    "country (in millions of USD).\n"
   ]
  },
  {
   "cell_type": "markdown",
   "id": "fbb655b4",
   "metadata": {},
   "source": [
    "1. Supposing you have this data saved as `test_pwt.csv` in data directory , how can you read it into a data frame `df`?\n",
    "2. How can we use `.iloc` to extract rows 3 to 8 and columns 1 to 5, inclusive?\n",
    "3. How can we use df.index and df.loc to select rows 3 to 8 and both the country and tcgdp columns?\n",
    "4. How do use the `country` variable as the index in this dataframe?\n",
    "5. How can we rename `POP` to `population` and `tcgdp` to `total GDP`?\n",
    "6. The population is in 1000s, how can we convert that to single units (persons in this case)?\n",
    "7. Which countries have a `population` greater than 20 million?\n",
    "8. How can we add a column `GDP per capita` showing real GDP per capita, in dollars per person?\n",
    "9. Grouping the countries into \"large\" (> 20 million) and \"small\" (<= 20 million), what is the mean GDP per capita for each category?"
   ]
  },
  {
   "cell_type": "markdown",
   "id": "1a84a947",
   "metadata": {},
   "source": [
    "One of the nice things about pandas `DataFrame` and `Series` objects is that they have methods for plotting and visualization that work through Matplotlib.\n",
    "\n",
    "For example, we can easily generate a bar plot of GDP per capita"
   ]
  },
  {
   "cell_type": "code",
   "execution_count": 4,
   "id": "46798b1c",
   "metadata": {
    "execution": {
     "iopub.execute_input": "2024-10-01T10:20:41.583835Z",
     "iopub.status.busy": "2024-10-01T10:20:41.583542Z",
     "iopub.status.idle": "2024-10-01T10:20:42.296883Z",
     "shell.execute_reply": "2024-10-01T10:20:42.295032Z"
    },
    "hide-output": false,
    "tags": [
     "raises-exception"
    ]
   },
   "outputs": [
    {
     "ename": "NameError",
     "evalue": "name 'df' is not defined",
     "output_type": "error",
     "traceback": [
      "\u001b[0;31m---------------------------------------------------------------------------\u001b[0m",
      "\u001b[0;31mNameError\u001b[0m                                 Traceback (most recent call last)",
      "Cell \u001b[0;32mIn[4], line 2\u001b[0m\n\u001b[1;32m      1\u001b[0m \u001b[38;5;66;03m# Note that the following code will generate errors (e.g. `df` is not defined) unless the previous tasks have been completed\u001b[39;00m\n\u001b[0;32m----> 2\u001b[0m ax \u001b[38;5;241m=\u001b[39m \u001b[43mdf\u001b[49m[\u001b[38;5;124m'\u001b[39m\u001b[38;5;124mGDP percap\u001b[39m\u001b[38;5;124m'\u001b[39m]\u001b[38;5;241m.\u001b[39mplot(kind\u001b[38;5;241m=\u001b[39m\u001b[38;5;124m'\u001b[39m\u001b[38;5;124mbar\u001b[39m\u001b[38;5;124m'\u001b[39m)\n\u001b[1;32m      3\u001b[0m ax\u001b[38;5;241m.\u001b[39mset_xlabel(\u001b[38;5;124m'\u001b[39m\u001b[38;5;124mcountry\u001b[39m\u001b[38;5;124m'\u001b[39m, fontsize\u001b[38;5;241m=\u001b[39m\u001b[38;5;241m12\u001b[39m)\n\u001b[1;32m      4\u001b[0m ax\u001b[38;5;241m.\u001b[39mset_ylabel(\u001b[38;5;124m'\u001b[39m\u001b[38;5;124mGDP per capita\u001b[39m\u001b[38;5;124m'\u001b[39m, fontsize\u001b[38;5;241m=\u001b[39m\u001b[38;5;241m12\u001b[39m)\n",
      "\u001b[0;31mNameError\u001b[0m: name 'df' is not defined"
     ]
    }
   ],
   "source": [
    "# Note that the following code will generate errors (e.g. `df` is not defined) unless the previous tasks have been completed\n",
    "ax = df['GDP percap'].plot(kind='bar')\n",
    "ax.set_xlabel('country', fontsize=12)\n",
    "ax.set_ylabel('GDP per capita', fontsize=12)\n",
    "plt.show()"
   ]
  },
  {
   "cell_type": "markdown",
   "id": "7e4405a2",
   "metadata": {},
   "source": [
    "10. At the moment the data frame is ordered alphabetically on the countries. How can we use `sort_values()` to order it by `GDP per capita`?"
   ]
  },
  {
   "cell_type": "markdown",
   "id": "88995afc",
   "metadata": {},
   "source": [
    "11. Now create a new plot, with the countries sorted by GDP per capita. "
   ]
  },
  {
   "cell_type": "markdown",
   "id": "b0eda0f6",
   "metadata": {},
   "source": [
    "12. Which plot do you prefer, and why?"
   ]
  }
 ],
 "metadata": {
  "jupytext": {
   "formats": "ipynb,py:percent"
  },
  "kernelspec": {
   "display_name": "Python 3 (ipykernel)",
   "language": "python",
   "name": "python3"
  },
  "language_info": {
   "codemirror_mode": {
    "name": "ipython",
    "version": 3
   },
   "file_extension": ".py",
   "mimetype": "text/x-python",
   "name": "python",
   "nbconvert_exporter": "python",
   "pygments_lexer": "ipython3",
   "version": "3.9.16"
  }
 },
 "nbformat": 4,
 "nbformat_minor": 5
}
