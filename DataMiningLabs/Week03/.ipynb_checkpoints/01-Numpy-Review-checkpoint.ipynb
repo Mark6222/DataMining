{
 "cells": [
  {
   "cell_type": "markdown",
   "id": "05316d66",
   "metadata": {},
   "source": [
    "# NumPy\n",
    "\n",
    "\n",
    "<a id='index-1'></a>"
   ]
  },
  {
   "cell_type": "markdown",
   "id": "42a161e7",
   "metadata": {},
   "source": [
    "## Overview\n",
    "\n",
    "Recall that [NumPy](https://numpy.org/) is a library used for numerical programming and, for data science purposes, we are particularly interested in its extensiove support for array. It is widely used in academia, finance and industry, and is also mature, fast, stable and under continuous development.  \n",
    "\n",
    "\n",
    "In this notebook we will review the parts of numpy that are most relevant to this module: its support for arrays, which goes way beyond what is included in base python.\n",
    "\n",
    "### References\n",
    "\n",
    "- [The notebook shared in class](https://datamining-2023s1-g8s0.github.io/live/topics/03-Data_Handling/01-Python-Numpy/files/introToNumpy.ipynb)\n",
    "- [The official NumPy documentation](https://numpy.org/doc/stable/reference/).  \n"
   ]
  },
  {
   "cell_type": "markdown",
   "id": "db0b3706",
   "metadata": {},
   "source": [
    "## NumPy reminder\n",
    "\n",
    "The essential problem that NumPy solves is fast array processing.\n",
    "\n",
    "The most important structure that NumPy defines is an array data type formally called a [numpy.ndarray](http://docs.scipy.org/doc/numpy/reference/arrays.ndarray.html).\n",
    "\n",
    "NumPy arrays power a large proportion of the scientific Python ecosystem.\n",
    "\n",
    "Let’s first import the library."
   ]
  },
  {
   "cell_type": "code",
   "execution_count": 4,
   "id": "9e06d37b",
   "metadata": {
    "execution": {
     "iopub.execute_input": "2024-10-01T07:56:03.022977Z",
     "iopub.status.busy": "2024-10-01T07:56:03.022388Z",
     "iopub.status.idle": "2024-10-01T07:56:03.107948Z",
     "shell.execute_reply": "2024-10-01T07:56:03.106504Z"
    },
    "hide-output": false
   },
   "outputs": [],
   "source": [
    "import numpy as np"
   ]
  },
  {
   "cell_type": "markdown",
   "id": "c55ccc43",
   "metadata": {},
   "source": [
    "## Exercises\n",
    "\n",
    "\n",
    "<a id='np-ex1'></a>"
   ]
  },
  {
   "cell_type": "markdown",
   "id": "71f9de48",
   "metadata": {},
   "source": [
    "### Exercise 1\n",
    "\n",
    "Create a 3x3 (3 rows, 3 columns) array containing the 9 integers 1 .. 9.\n",
    "\n",
    "1. Extract the following parts of the matrix a:\n",
    "\n",
    "- the second row\n",
    "- the third colum\n",
    "- the top left element\n",
    "\n",
    "2. How do we get the type and dimensions of a?\n",
    "\n",
    "3. Compute the following:\n",
    "\n",
    "- the average (arithmetic mean) of the first row\n",
    "- the sum of the second column\n",
    "- the (elementwise) _multiplicative inverse_ of the elements in a (recall that, if $a_{ij}$ is an element of a, its multiplicative inverse is $\\frac{1}{a_{ij}}$).\n",
    "\n",
    "4. How do we find the elements of a that are greater than or equal to 5?"
   ]
  },
  {
   "cell_type": "code",
   "execution_count": 39,
   "id": "b0ccd780",
   "metadata": {},
   "outputs": [
    {
     "data": {
      "text/plain": [
       "array([3, 6, 9])"
      ]
     },
     "execution_count": 39,
     "metadata": {},
     "output_type": "execute_result"
    }
   ],
   "source": [
    "x = np.array([[1, 2, 3], [4, 5, 6], [7, 8, 9]], np.int32)\n",
    "y = x[:,1]\n",
    "y\n",
    "\n"
   ]
  },
  {
   "cell_type": "code",
   "execution_count": 40,
   "id": "6a913a93",
   "metadata": {},
   "outputs": [
    {
     "data": {
      "text/plain": [
       "array([3, 6, 9])"
      ]
     },
     "execution_count": 40,
     "metadata": {},
     "output_type": "execute_result"
    }
   ],
   "source": [
    "y = x[:,2]\n",
    "y"
   ]
  },
  {
   "cell_type": "code",
   "execution_count": 44,
   "id": "552de6f6",
   "metadata": {},
   "outputs": [
    {
     "data": {
      "text/plain": [
       "1"
      ]
     },
     "execution_count": 44,
     "metadata": {},
     "output_type": "execute_result"
    }
   ],
   "source": [
    "y = x[0,0]\n",
    "y"
   ]
  },
  {
   "cell_type": "code",
   "execution_count": 45,
   "id": "5d693c6c",
   "metadata": {},
   "outputs": [
    {
     "data": {
      "text/plain": [
       "numpy.ndarray"
      ]
     },
     "execution_count": 45,
     "metadata": {},
     "output_type": "execute_result"
    }
   ],
   "source": [
    "type(x)"
   ]
  },
  {
   "cell_type": "code",
   "execution_count": 50,
   "id": "ca8abecf",
   "metadata": {},
   "outputs": [
    {
     "data": {
      "text/plain": [
       "4.0"
      ]
     },
     "execution_count": 50,
     "metadata": {},
     "output_type": "execute_result"
    }
   ],
   "source": [
    "y = x[:,0]\n",
    "y.mean()"
   ]
  },
  {
   "cell_type": "code",
   "execution_count": 56,
   "id": "6ec17330",
   "metadata": {},
   "outputs": [
    {
     "data": {
      "text/plain": [
       "array([5, 6, 7, 8, 9])"
      ]
     },
     "execution_count": 56,
     "metadata": {},
     "output_type": "execute_result"
    }
   ],
   "source": [
    "y = x[:,1]\n",
    "y.sum()"
   ]
  },
  {
   "cell_type": "code",
   "execution_count": null,
   "id": "63a37e61",
   "metadata": {},
   "outputs": [],
   "source": [
    "x"
   ]
  },
  {
   "cell_type": "code",
   "execution_count": 55,
   "id": "839f0cfa",
   "metadata": {},
   "outputs": [
    {
     "data": {
      "text/plain": [
       "array([5, 6, 7, 8, 9])"
      ]
     },
     "execution_count": 55,
     "metadata": {},
     "output_type": "execute_result"
    }
   ],
   "source": [
    "y = x[x >= 5]\n",
    "y"
   ]
  },
  {
   "cell_type": "markdown",
   "id": "6ada8454",
   "metadata": {},
   "source": [
    "### Exercise 2\n",
    "\n",
    "1. Generate the following arrays\n",
    "\n",
    "- a matrix a of zeros with 2 rows and 3 columns\n",
    "- a matrix b of ones with the same dimensions, but the elements are integers\n",
    "- a random matrix c, whose elements are randomly distributed in [0,1], with the same dimensions\n",
    "- the transpose of c, d\n",
    "- the matrix product, e, of c and d\n",
    "- 11 linearly spaced floating numbers between 1 and 2\n",
    "\n",
    "2. Explain what happens in the following: `c1 = zeros(3); c2 = c1; c2[0] = 1`.\n",
    "\n",
    "3. In the matrix c above, find the row having the largest value in the 3rd column."
   ]
  }
 ],
 "metadata": {
  "jupytext": {
   "formats": "ipynb,py:percent"
  },
  "kernelspec": {
   "display_name": "Python 3 (ipykernel)",
   "language": "python",
   "name": "python3"
  },
  "language_info": {
   "codemirror_mode": {
    "name": "ipython",
    "version": 3
   },
   "file_extension": ".py",
   "mimetype": "text/x-python",
   "name": "python",
   "nbconvert_exporter": "python",
   "pygments_lexer": "ipython3",
   "version": "3.12.3"
  }
 },
 "nbformat": 4,
 "nbformat_minor": 5
}
