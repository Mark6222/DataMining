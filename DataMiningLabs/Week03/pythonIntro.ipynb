{
  "cells": [
    {
      "cell_type": "markdown",
      "id": "0ec78920",
      "metadata": {},
      "source": [
        "# Introduction to python for data manipulation\n",
        "\n",
        "Students have been introduced to python already, but it is probably advisable to have a refresher on how it works, at least those parts that are most relevant to machine learning.\n",
        "\n",
        "Python already comes with many handy features for working with data. It has a rich set of\n",
        "\n",
        "- data types: int, float, boolean, string, ...\n",
        "- datetime and string handling\n",
        "- control structures: if, while, for, do, ...\n",
        "- data structures: tuples, lists, array, dictionaries, ...\n",
        "- modules: class, function, libraries (external modules), ...\n",
        "- support for functional programming: map, flatmap, lambda, anonymous functions, ... \n",
        "\n",
        "as well as some useful idioms, including\n",
        "\n",
        "- list comprehensions\n",
        "- list unpacking\n",
        "\n",
        "In this workbook, we will review some of these features."
      ]
    },
    {
      "cell_type": "code",
      "execution_count": null,
      "id": "1d65648d",
      "metadata": {
        "vscode": {
          "languageId": "plaintext"
        }
      },
      "outputs": [],
      "source": [
        "# First, some imports.\n",
        "# Like C, the core python runtime is kept relatively small by including only essential items.\n",
        "# However, for any practical use, some module imports are needed.\n",
        "import math\n",
        "import os"
      ]
    },
    {
      "cell_type": "markdown",
      "id": "41de1e8c",
      "metadata": {},
      "source": [
        "## Python variables have a type.\n",
        "\n",
        "Generally, containers can have types that are mixed type, and operator semantics depend on their type.\n",
        "\n",
        "Sometimes explicit type conversion is needed."
      ]
    },
    {
      "cell_type": "code",
      "execution_count": null,
      "id": "135d3fb3",
      "metadata": {
        "vscode": {
          "languageId": "plaintext"
        }
      },
      "outputs": [],
      "source": [
        "a = \"Monday\"\n",
        "# check type of a\n",
        "print(\"type of a is {}\".format(type(a)))\n",
        "\n",
        "b = 2\n",
        "# check type of b\n",
        "print(\"type of b is {}\".format(type(b)))\n",
        "\n",
        "# Note that '+' between strings is equivalent to concatenation\n",
        "print(\"a + a is {}\".format(a + a)) \n",
        "\n",
        "# Note that 'b' needs explicit conversion to string so it can be concatenated with 'a'.\n",
        "print(\"a + b is {}\".format(a + str(b))) \n",
        "\n",
        "# Note that multiplying a string by an integer replicates that string\n",
        "print(\"a * b is {}\".format(a * b)) "
      ]
    },
    {
      "cell_type": "markdown",
      "id": "5b248027",
      "metadata": {},
      "source": [
        "## Python can be very flexible\n",
        "\n",
        "Students can develop python functions very easily. Indeed, they are recommended to avoid duplication of code across cells in a notebook, which can lead to subtle and hard-to-find errors.\n",
        "\n",
        "The basic idea to use `def` to define the function, and then to call it in that or a later code cell. Here is an example."
      ]
    },
    {
      "cell_type": "code",
      "execution_count": null,
      "id": "920adc49",
      "metadata": {
        "vscode": {
          "languageId": "plaintext"
        }
      },
      "outputs": [],
      "source": [
        "# See https://realpython.com/python-kwargs-and-args/\n",
        "\n",
        "# add 2 numbers. If the second number is not given, it defaults to 1\n",
        "def add2(a,b=1):\n",
        "  return a+b\n",
        "\n",
        "# add any number of numbers\n",
        "def addN(*args):\n",
        "  total = 0\n",
        "  # Iterate over the Python args tuple\n",
        "  for x in args:\n",
        "    total += x\n",
        "  return total\n",
        "\n",
        "# create a dict from key,value pairs (python provides a constructor so this is not needed, just for exposition!)\n",
        "def createDict(**kwargs):\n",
        "  aDict = {}\n",
        "  # iterate over the python kwargs tuple\n",
        "  for key in kwargs:\n",
        "    val = kwargs[key]\n",
        "    aDict[key] = val\n",
        "  return aDict\n",
        "\n",
        "print(\"add2(3,4) = {}\".format(add2(3,4)))\n",
        "print(\"add2(3) = {}, should be 4\".format(add2(3)))\n",
        "\n",
        "print(\"addN(3,4,5,6) = {}, should be 18\".format(addN(3,4,5,6)))\n",
        "\n",
        "print(\"createDict(pi=3.14,e=2.72) = {}\".format(createDict(pi=3.14,e=2.72)))"
      ]
    },
    {
      "cell_type": "markdown",
      "id": "ba8732d7",
      "metadata": {},
      "source": [
        "# String handling\n",
        "\n",
        "Strings can be treated as arrays, which means that extracting parts of string using _slicing_ is very convenient.\n",
        "\n",
        "As with arrays, string indexes start at 0, and the ranges include the lower bound and exclude the upper.\n",
        "\n",
        "The `.split()` function, when called on a string, provides a handy way to select parts of a string.\n",
        "\n",
        "\n"
      ]
    },
    {
      "cell_type": "code",
      "execution_count": null,
      "id": "bf9c37cd",
      "metadata": {
        "lines_to_next_cell": 2,
        "vscode": {
          "languageId": "plaintext"
        }
      },
      "outputs": [],
      "source": [
        "alphabet = 'abcdefghijklmnopqrstuvwxyz'\n",
        "print('alphabet[0:3] = {} = alphabet[:3] = {} = abc'.format(alphabet[0:3],alphabet[:3]))\n",
        "print('alphabet[-3:] = {} = xyz'.format(alphabet[-3:]))\n",
        "\n",
        "stmt = 'The cat sat on the mat'\n",
        "print('second word (cat) is stmt.split(\\' \\')[1] = {}'.format(stmt.split(' ')[1]))\n",
        "print('last word (mat) is stmt.split(\\' \\')[-1] = {}'.format(stmt.split(' ')[-1]))"
      ]
    },
    {
      "cell_type": "markdown",
      "id": "e8883ef8",
      "metadata": {},
      "source": [
        "# Dates and times\n",
        "\n",
        "When working with data, we frequently need to use date-based criteria, e.g., to select between two datetimes.\n",
        "\n",
        "Python offers the datetime and time libraries to facilitate this."
      ]
    },
    {
      "cell_type": "code",
      "execution_count": null,
      "id": "cdaecdcc",
      "metadata": {},
      "outputs": [],
      "source": [
        "import datetime as dt\n",
        "import time as tm"
      ]
    },
    {
      "cell_type": "markdown",
      "id": "93da8ff4",
      "metadata": {},
      "source": [
        "`time` returns the current time in seconds since 1 Jan 1970 (sometimes this is called \"Unix time\")."
      ]
    },
    {
      "cell_type": "code",
      "execution_count": null,
      "id": "715576c4",
      "metadata": {},
      "outputs": [],
      "source": [
        "tm.time()"
      ]
    },
    {
      "cell_type": "markdown",
      "id": "219c1429",
      "metadata": {},
      "source": [
        "We can convert the timestamp to datetime (more friendly to humans!)."
      ]
    },
    {
      "cell_type": "code",
      "execution_count": null,
      "id": "5d630d01",
      "metadata": {},
      "outputs": [],
      "source": [
        "dtNow = dt.datetime.fromtimestamp(tm.time())\n",
        "dtNow"
      ]
    },
    {
      "cell_type": "markdown",
      "id": "ab709452",
      "metadata": {},
      "source": [
        "We can access the parts of the datetime directly. Note that python automatically collects these values into a tuple (an immutable collection - cannot be changed after it is created, unlike a list which is mutable)."
      ]
    },
    {
      "cell_type": "code",
      "execution_count": null,
      "id": "8446a1e0",
      "metadata": {},
      "outputs": [],
      "source": [
        "dtNow.year, dtNow.month, dtNow.day, dtNow.hour, dtNow.minute, dtNow.second "
      ]
    },
    {
      "cell_type": "markdown",
      "id": "eaef5294",
      "metadata": {},
      "source": [
        "`duration` below is an object (in the example it reprepresents 7 days = 1 week duration)."
      ]
    },
    {
      "cell_type": "code",
      "execution_count": null,
      "id": "8a3ee665",
      "metadata": {},
      "outputs": [],
      "source": [
        "duration = dt.timedelta(days=7)  # duration of 7 days\n",
        "duration"
      ]
    },
    {
      "cell_type": "markdown",
      "id": "d7a8a861",
      "metadata": {},
      "source": [
        "`date.today` returns the current local date. We can also check the date a week ago (without needing to do complicated date arithmetic!) and we can also compare dates as we would expect. "
      ]
    },
    {
      "cell_type": "code",
      "execution_count": null,
      "id": "377498dc",
      "metadata": {},
      "outputs": [],
      "source": [
        "today = dt.date.today()"
      ]
    },
    {
      "cell_type": "code",
      "execution_count": null,
      "id": "dacd15ec",
      "metadata": {},
      "outputs": [],
      "source": [
        "weekAgo = today - duration  # the date 7 days ago"
      ]
    },
    {
      "cell_type": "markdown",
      "id": "f51939da",
      "metadata": {},
      "source": [
        "As well as doing arithmetic using datetime objects, we can also do comparisons. The code below also shows how assertions can be added to code (can be useful for debugging). The logic below is that today should be greater than a week ago - that condition should be true. If it is talse, we get an AssertionErrror with the associated text - but also a logical conundrum!"
      ]
    },
    {
      "cell_type": "code",
      "execution_count": null,
      "id": "54851043",
      "metadata": {},
      "outputs": [],
      "source": [
        "assert today > weekAgo, f\"call Einstein: {weekAgo} is later {today} - help!\"  # compare dates"
      ]
    },
    {
      "cell_type": "markdown",
      "id": "442142ad",
      "metadata": {},
      "source": [
        "# map(): applying functions to iterables\n",
        "\n",
        "Python borrows some idioms from functional programming, notably map(), which applies a function to one or more iterables (generally tuples or lists).\n",
        "\n",
        "Ine the example below, we create a basket of groceries for Lidl and for Tesco, with their prices. We then compare them item by item. Note the use of a dictionary that is sorted by key (for an ordinary dict, the keys can be in any order), to ensure that everything is deterministic and we are comparing like with like!\n",
        "\n",
        "Note that we can extract the values in a dictionary or ordered dictionary  `d` using `d.values`."
      ]
    },
    {
      "cell_type": "code",
      "execution_count": null,
      "id": "cc153a38",
      "metadata": {},
      "outputs": [],
      "source": [
        "from collections import OrderedDict\n",
        "\n",
        "tescoPrice = OrderedDict()\n",
        "tescoPrice['bread'] = 1.89\n",
        "tescoPrice['milk'] = 0.89\n",
        "\n",
        "lidlPrice = OrderedDict()\n",
        "lidlPrice['bread'] = 1.79\n",
        "lidlPrice['milk'] = 0.90\n",
        "\n",
        "cheapestPriceMap = map(min, list(tescoPrice.values()), list(lidlPrice.values()))"
      ]
    },
    {
      "cell_type": "markdown",
      "id": "2f1cf216",
      "metadata": {},
      "source": [
        "Map has iterated over the two lists in parallel, applying min() to each to pick out the minimum price for that grocery item. However, we have lost the label which says what the price is.\n",
        "\n",
        "This is where python's `zip()` function comes in handy, to combine the grocery item names from tescoPrice.keys (or equivalently from lidlPrice.keys) with the cheapest prices we found for that grocery item.\n",
        "\n",
        "This results in a tuple of tuples, where each of these inner tuples is a pair, with the first item being the grocery item name, and the second being the cheapest price for that item.\n",
        "\n",
        "We can then give this data structure to the `dict` constructor, to convert it into a dict, which is easier to work with."
      ]
    },
    {
      "cell_type": "code",
      "execution_count": null,
      "id": "6a3060d6",
      "metadata": {},
      "outputs": [],
      "source": [
        "groceryItems = list(tescoPrice.keys())\n",
        "cheapestPrices = list(cheapestPriceMap)\n",
        "cheapestPrice = dict(zip(groceryItems, cheapestPrices))\n",
        "cheapestPrice"
      ]
    },
    {
      "cell_type": "markdown",
      "id": "8a0a7978",
      "metadata": {},
      "source": [
        "Apart from calculating the cheapest price for each grocery item, we might also be interested in which shop offered that price. To do this we create a new dict, where the keys are the grocery items and each value is a tuple pair, with the shop name followed by the cheapest price."
      ]
    },
    {
      "cell_type": "code",
      "execution_count": null,
      "id": "a0b1c03a",
      "metadata": {},
      "outputs": [],
      "source": [
        "cheapestItemShopPrice = dict()\n",
        "for groceryItem in groceryItems:\n",
        "  tescoOffer = tescoPrice[groceryItem]\n",
        "  lidlOffer = lidlPrice[groceryItem]\n",
        "  if (cheapestPrice[groceryItem] == tescoOffer):\n",
        "    cheapestItemShopPrice[groceryItem] = (\"Tesco\", tescoOffer)\n",
        "  else:\n",
        "    cheapestItemShopPrice[groceryItem] = (\"Lidl\", lidlOffer)\n",
        "cheapestItemShopPrice"
      ]
    },
    {
      "cell_type": "markdown",
      "id": "1efc57f5",
      "metadata": {},
      "source": [
        "One of the advantages of `map()` is that it is more readily implemented concurrently than by using the equivalent nested loops.\n"
      ]
    },
    {
      "cell_type": "markdown",
      "id": "3488f052",
      "metadata": {},
      "source": [
        "# List comprehensions\n",
        "\n",
        "A very common scenario in preparing data for machine learning is that we have a list and we wish to filter it to remove unwanted items.\n",
        "\n",
        "This can be done using a for loop.\n",
        "\n",
        "However, the more idiomatic way in python is to use a _list comprehension_.\n",
        "\n",
        "A _list comprehension_ is just another way of expressing a loop. It tends to be more terse and, when you get used to it, it can be as readable as the more tradional way of expressing loops. In some circumstances, it can run faster because it is easier for the compiler to optimise the generated code. However, the main advantage is probably that it can be written as a single expression.\n",
        "\n",
        "In the following code, we show how a list can be filtered in a loop and also using a list comprehension."
      ]
    },
    {
      "cell_type": "code",
      "execution_count": null,
      "id": "657cf1ed",
      "metadata": {
        "vscode": {
          "languageId": "plaintext"
        }
      },
      "outputs": [],
      "source": [
        "mixedNums = [-2, -1, 0, 1, 2]\n",
        "nonneg = []\n",
        "for x in mixedNums:\n",
        "  if (x >= 0):\n",
        "    nonneg.append(x)\n",
        "nonneg"
      ]
    },
    {
      "cell_type": "markdown",
      "id": "97c9a040",
      "metadata": {},
      "source": [
        "Now for the list comprehension version:"
      ]
    },
    {
      "cell_type": "code",
      "execution_count": null,
      "id": "ab8da0c9",
      "metadata": {
        "vscode": {
          "languageId": "plaintext"
        }
      },
      "outputs": [],
      "source": [
        "nonneg = [x for x in mixedNums if x >= 0]\n",
        "nonneg"
      ]
    },
    {
      "cell_type": "markdown",
      "id": "356fcefb",
      "metadata": {},
      "source": [
        "# Lambda functions\n",
        "\n",
        "Clearly the list comprehension version is shorter than the for loop. This will generally be true for relatively simple cases like this. Writing code on one line has other benefits too, such as when we wish to apply _lambda functions_ to data.\n",
        "\n",
        "A lambda function is an unnamed function, where function body is a single expression that is calculated for its inputs. If the intention is to create a list, that expression could be a list comprehension (a for loop would not work as the body of a lambda function)."
      ]
    },
    {
      "cell_type": "code",
      "execution_count": null,
      "id": "dfb32dbc",
      "metadata": {
        "vscode": {
          "languageId": "plaintext"
        }
      },
      "outputs": [],
      "source": [
        "mult2 = lambda a,b : a*b\n",
        "mult2(3,4) # Should be 12"
      ]
    },
    {
      "cell_type": "markdown",
      "id": "f24bac78",
      "metadata": {
        "vscode": {
          "languageId": "plaintext"
        }
      },
      "source": [
        "`lambda` can be used to define functions with any number of arguments, but the function itself needs to\n",
        "satisfy normal python rules."
      ]
    },
    {
      "cell_type": "markdown",
      "id": "b4fbf90a",
      "metadata": {},
      "source": [
        "# Python regular expressions\n",
        "\n",
        "Regular expressions are used to describe patterns in text (strings). Typically regexes are used to find matches, to split strings, to create new strings according to a pattern, etc. Text data plays a big role in machine learning. Sometimes the built-in string handling features are just not enough - regular expressions greatly extend what \"regular\" python can do with strings.\n",
        "\n",
        "We could easily devote several weeks to regexes, but it is probably better to know the basics, and then to use stackoverflow or equivalent to deal with more complex cases.\n",
        "\n",
        "A good starting point for understand python's `re` module is [this tutorial](https://docs.python.org/3/howto/regex.html)."
      ]
    },
    {
      "cell_type": "markdown",
      "id": "ce017101",
      "metadata": {},
      "source": [
        "# Exercises for students\n",
        "\n",
        "1. Use a) a for loop and b) a list comprehension to change \"The cat sat on a mat\" to all uppercase.\n",
        "\n",
        "2. Rewrite the prices example to use a list comprehension instead of `map()` to generate the list of cheapest prices.\n",
        "\n",
        "3. Generate timings to compare the `map()`, `for` loop and list comprehension ways of comparing prices. You might find the [timeit module](https://docs.python.org/3/library/timeit.html) useful. For more realistic timings, you will need to generate much larger dictionaries of prices. For the random item name, one way of doing this is to generate them as needed with [python's uuid module](https://docs.python.org/3/library/uuid.html). For the prices, [python's random module](https://docs.python.org/3/library/random.html) should help.\n",
        "\n",
        "4. Given the text of [President Abraham Lincoln's _Gettysburg Address_](https://github.com/timburks/gott/blob/master/test/gettysburg-address.txt), use python's text handling features to\n",
        "\n",
        "   - Count the number of words\n",
        "   - Find the number of times each word appears (be careful - the delimiters are not always whitespace!)."
      ]
    },
    {
      "cell_type": "code",
      "execution_count": null,
      "id": "552d70ca",
      "metadata": {},
      "outputs": [],
      "source": []
    }
  ],
  "metadata": {
    "kernelspec": {
      "display_name": "Python 3 (ipykernel)",
      "language": "python",
      "name": "python3"
    }
  },
  "nbformat": 4,
  "nbformat_minor": 5
}
