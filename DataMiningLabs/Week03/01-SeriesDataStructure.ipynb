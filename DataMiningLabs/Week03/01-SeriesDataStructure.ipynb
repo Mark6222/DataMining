{
  "cells": [
    {
      "cell_type": "markdown",
      "id": "8588cb45",
      "metadata": {},
      "source": [
        "# Pandas Introduction\n",
        "\n",
        "In this week's lecture we're going to deepen our investigation to how Python can be used to manipulate, clean, and query data by looking at the Pandas data tool kit.\n",
        "\n",
        "Pandas was created by Wes McKinney in 2008, and is an open source project under a very permissive license. It has a strong community, with over one hundred software developers all committing code to help make it better. Pandas borrows many concepts from R and provides a consistent interface to numpy, the python core libraries, some plotting routines and a variety of python statistical tools.\n",
        "\n",
        "## Resources for learning pandas\n",
        "\n",
        "Pandas is an enormous library, and can be overwhelming in its scale.\n",
        "\n",
        "### Stackoverflow\n",
        "\n",
        "Stack Overflow is used broadly within the software development community to post questions about programming, programming languages, and programming toolkits. The Pandas community, in particular, uses it as their number one resource for helping new members. It's quite possible if you post a question to Stack Overflow, and tag it as being Pandas and Python related, that a core Pandas developer will actually respond to your question. Stack Overflow is also a great place to go to see what issues people are having and how they can be solved.\n",
        "\n",
        "### Books\n",
        "\n",
        "In 2012 Wes McKinney wrote the definitive Pandas reference book called _Python for Data Analysis_ and published by O'Reilly, and it has been updated since. Another good reference is _Learning the Pandas Library_ by Matt Harrison. If you just want to learn the basics of Pandas and want to do so quickly, it is well laid out can be had for a good price.\n",
        "\n",
        "### Blogs\n",
        "\n",
        "data science and machine learning are evolving rapidly. Marco Rodriguez and Tim Golden maintain a wonderful blog aggregator site called Planet Python. You can visit the webpage at planetpython.org. There's lots of regular Python data science contributors.\n",
        "\n",
        "### Podcasts\n",
        "\n",
        "Kyle Polich runs an excellent podcast called Data Skeptic. It has interviews with varied experts in the field as well as short educational lessons. Much of the word he describes is specific to machine learning methods.\n",
        "\n",
        "## Summary\n",
        "\n",
        "Of course this is just a fraction of the resources available! Indeed, these notebooks draw upon upon the work of others. I may add other resources later. Please share any useful resources you find in the slack workspace associated with this module."
      ]
    },
    {
      "cell_type": "markdown",
      "id": "73ba319c",
      "metadata": {},
      "source": [
        "# The `Series` Datastructure\n",
        "\n",
        "The first Pandas concept we will examine is the _series_ data structure. By the end, you should be familiar with how to store and manipulate single dimensional indexed data in the Series object.\n",
        "\n",
        "The series is one of the core data structures in pandas. It is a cross between a list and a dictionary. The items are all stored in an order and there are labels with which you can retrieve them. An easy way to visualize this is two columns of data. The first is the special index, a lot like keys in a dictionary. The second is your actual data. It's important to note that the data column has a label of its own and can be retrieved using the `.name` attribute. A dictionary does not have this attribute, but it is useful later when merging multiple columns of data.\n",
        "\n",
        "Let's import pandas to get started"
      ]
    },
    {
      "cell_type": "code",
      "execution_count": 1,
      "id": "1c66ea3b",
      "metadata": {},
      "outputs": [],
      "source": [
        "import pandas as pd"
      ]
    },
    {
      "cell_type": "markdown",
      "id": "08a54e32",
      "metadata": {},
      "source": [
        "As you might expect, you can create a series by passing in a list of values. When you do this, Pandas automatically assigns an index starting with zero and sets the name of the series to None. Let's work on an example of this.\n",
        "\n",
        "One of the easiest ways to create a series is to use an array-like object, like a list. "
      ]
    },
    {
      "cell_type": "code",
      "execution_count": 2,
      "id": "f271938c",
      "metadata": {},
      "outputs": [
        {
          "data": {
            "text/plain": [
              "0    Alice\n",
              "1      Bob\n",
              "2    Carol\n",
              "dtype: object"
            ]
          },
          "execution_count": 2,
          "metadata": {},
          "output_type": "execute_result"
        }
      ],
      "source": [
        "# Here I'll make a list of the three of students, Alice, Jack, and Molly, all as strings\n",
        "students = ['Alice', 'Bob', 'Carol']\n",
        "\n",
        "# Now we just call the Series function in pandas and pass in the students\n",
        "pd.Series(students)"
      ]
    },
    {
      "cell_type": "markdown",
      "id": "1606212d",
      "metadata": {},
      "source": [
        "The result is a Series object which is nicely rendered to the screen. We see here that pandas has automatically identified the type of data in this Series as \"object\" and set the `dytpe` parameter as appropriate. We see that the values are indexed with integers, starting at zero\n",
        "\n",
        "We don't have to use strings. If we passed in a list of whole numbers, for instance, we could see that panda sets the type to int64. Underneath panda stores series values in a typed array using the Numpy library which we have seen before. This offers significant speedup when processing data \n",
        "versus traditional python lists."
      ]
    },
    {
      "cell_type": "code",
      "execution_count": 3,
      "id": "ebd42f78",
      "metadata": {},
      "outputs": [
        {
          "data": {
            "text/plain": [
              "0    1\n",
              "1    2\n",
              "2    3\n",
              "dtype: int64"
            ]
          },
          "execution_count": 3,
          "metadata": {},
          "output_type": "execute_result"
        }
      ],
      "source": [
        "# Let's create a little list of numbers\n",
        "numbers = [1, 2, 3]\n",
        "# And turn that into a series\n",
        "pd.Series(numbers)"
      ]
    },
    {
      "cell_type": "markdown",
      "id": "c45eb283",
      "metadata": {},
      "source": [
        "And we see that the result is a dtype of int64 objects (depending on the device architecture you use).\n",
        "\n",
        "How do Numpy and thus pandas handle missing data?\n",
        "\n",
        "In Python, we have the `none` type to indicate a lack of data. But what do we do if we want to have a typed list like we do in the series object?\n",
        "\n",
        "Underneath, pandas does some type conversion. If we create a list of strings and we have one element, a None type, pandas inserts it as a None and uses the type object for the underlying array. "
      ]
    },
    {
      "cell_type": "code",
      "execution_count": 4,
      "id": "08622c36",
      "metadata": {},
      "outputs": [
        {
          "data": {
            "text/plain": [
              "0    Alice\n",
              "1      Bob\n",
              "2     None\n",
              "dtype: object"
            ]
          },
          "execution_count": 4,
          "metadata": {},
          "output_type": "execute_result"
        }
      ],
      "source": [
        "# Let's recreate our list of students, but leave the last one as a None\n",
        "students = ['Alice', 'Bob', None]\n",
        "# And let's convert this to a series\n",
        "pd.Series(students)"
      ]
    },
    {
      "cell_type": "markdown",
      "id": "69f49b64",
      "metadata": {},
      "source": [
        "__Note__: Even though the last value is missing, the slot exists in the series - it has a index value of 2.\n",
        "\n",
        "However, if we create a list of numbers, integers or floats, and put in the None type, pandas automatically converts this to a special floating point value designated as NaN, which stands for \"Not a Number\"."
      ]
    },
    {
      "cell_type": "code",
      "execution_count": 5,
      "id": "0c3d20cf",
      "metadata": {},
      "outputs": [
        {
          "data": {
            "text/plain": [
              "0    1.0\n",
              "1    2.0\n",
              "2    NaN\n",
              "dtype: float64"
            ]
          },
          "execution_count": 5,
          "metadata": {},
          "output_type": "execute_result"
        }
      ],
      "source": [
        "# So let's create a list with a None value in it\n",
        "numbers = [1, 2, None]\n",
        "# And turn that into a series\n",
        "pd.Series(numbers)"
      ]
    },
    {
      "cell_type": "markdown",
      "id": "1db31399",
      "metadata": {},
      "source": [
        "You'll notice a couple of things. First, NaN is a different value. Second, pandas set the dytpe of this series to floating point numbers instead of object or ints. That might surprise you - why not just leave this as an integer? Underneath, pandas represents NaN as a floating point number, and because integers can be typecast to floats, pandas converted our integers to floats.\n",
        "\n",
        "__Note__: Note that the slot still exists - it has an index value of 2 and it contains NaN, which can be represented as a special float value, so the overall `dtype` is not `object`.\n",
        "\n",
        "__Tip__: If you are wondering why the list of integers you put into a Series is not floats, it's probably because some data is missing.\n",
        "\n",
        "None and NaN are often used in the same way, to denote missing data, but pandas does not are represent them in the same way.\n",
        "\n",
        "NaN is *NOT* equivilent to None and when we try the equality test, the result is False."
      ]
    },
    {
      "cell_type": "code",
      "execution_count": 6,
      "id": "e6090679",
      "metadata": {},
      "outputs": [
        {
          "data": {
            "text/plain": [
              "False"
            ]
          },
          "execution_count": 6,
          "metadata": {},
          "output_type": "execute_result"
        }
      ],
      "source": [
        "# Import numpy which allows us to generate an NaN value\n",
        "import numpy as np\n",
        "# And lets compare it to None\n",
        "np.nan == None"
      ]
    },
    {
      "cell_type": "markdown",
      "id": "552f9ab8",
      "metadata": {},
      "source": [
        "It turns out that you actually can't do an equality test of NAN to itself. When you do, \n",
        "the answer is always False. "
      ]
    },
    {
      "cell_type": "code",
      "execution_count": 7,
      "id": "50105125",
      "metadata": {},
      "outputs": [
        {
          "data": {
            "text/plain": [
              "False"
            ]
          },
          "execution_count": 7,
          "metadata": {},
          "output_type": "execute_result"
        }
      ],
      "source": [
        "np.nan == np.nan"
      ]
    },
    {
      "cell_type": "markdown",
      "id": "f97eda7a",
      "metadata": {},
      "source": [
        "Instead, you need to use special functions to test for the presence of not a number, \n",
        "such as the Numpy library isnan()."
      ]
    },
    {
      "cell_type": "code",
      "execution_count": 8,
      "id": "de3e0ff8",
      "metadata": {},
      "outputs": [
        {
          "data": {
            "text/plain": [
              "True"
            ]
          },
          "execution_count": 8,
          "metadata": {},
          "output_type": "execute_result"
        }
      ],
      "source": [
        "np.isnan(np.nan)"
      ]
    },
    {
      "cell_type": "markdown",
      "id": "84855c7a",
      "metadata": {},
      "source": [
        "So NaN has a similar meaning to None, but it's a numeric value and treated differently for efficiency reasons.\n",
        "\n",
        "Creating a series from a list is common but often you have label data that you want to manipulate. A series can be created directly from dictionary data. If you do this, the index is automatically assigned to the keys of the dictionary that you provided and not just auto-incrementing integers.\n",
        "\n",
        "Here's an example using some data of students and their classes."
      ]
    },
    {
      "cell_type": "code",
      "execution_count": 9,
      "id": "72f3766a",
      "metadata": {},
      "outputs": [
        {
          "data": {
            "text/plain": [
              "Alice     Programming\n",
              "Bob      Cryptography\n",
              "Carol      Networking\n",
              "dtype: object"
            ]
          },
          "execution_count": 9,
          "metadata": {},
          "output_type": "execute_result"
        }
      ],
      "source": [
        "students_scores = {'Alice': 'Programming',\n",
        "                   'Bob': 'Cryptography',\n",
        "                   'Carol': 'Networking'}\n",
        "s = pd.Series(students_scores)\n",
        "s"
      ]
    },
    {
      "cell_type": "markdown",
      "id": "cffb8e44",
      "metadata": {},
      "source": [
        "We see that, since it was string data, pandas set the data type of the series to \"object\".\n",
        "We see that the index, the first column, is also a list of strings.\n",
        "\n",
        "Once the series has been created, we can get the index object using the index attribute."
      ]
    },
    {
      "cell_type": "code",
      "execution_count": 10,
      "id": "e48274c5",
      "metadata": {},
      "outputs": [
        {
          "data": {
            "text/plain": [
              "Index(['Alice', 'Bob', 'Carol'], dtype='object')"
            ]
          },
          "execution_count": 10,
          "metadata": {},
          "output_type": "execute_result"
        }
      ],
      "source": [
        "s.index"
      ]
    },
    {
      "cell_type": "markdown",
      "id": "bf130bb3",
      "metadata": {},
      "source": [
        "Notice that a lot of things are implemented as numpy\n",
        "arrays, and have the `dtype` value set. This is true of indexes, and here pandas infered that we were using objects for the index.\n",
        "\n",
        "The dtype of object is not just for strings, but for\n",
        "arbitrary objects. What about a more complex type of data - say, a a list of tuples/"
      ]
    },
    {
      "cell_type": "code",
      "execution_count": 11,
      "id": "2d050859",
      "metadata": {},
      "outputs": [
        {
          "data": {
            "text/plain": [
              "0    (Alice, Brown)\n",
              "1      (Bob, White)\n",
              "2    (Carol, Green)\n",
              "dtype: object"
            ]
          },
          "execution_count": 11,
          "metadata": {},
          "output_type": "execute_result"
        }
      ],
      "source": [
        "students = [(\"Alice\",\"Brown\"), (\"Bob\", \"White\"), (\"Carol\", \"Green\")]\n",
        "pd.Series(students)"
      ]
    },
    {
      "cell_type": "markdown",
      "id": "c9873c27",
      "metadata": {},
      "source": [
        "We see that each of the tuples is stored in the series object, and the type is object.\n",
        "\n",
        "You can also separate your index creation from the data by passing in the index as a list explicitly to the series."
      ]
    },
    {
      "cell_type": "code",
      "execution_count": 12,
      "id": "57521ca6",
      "metadata": {},
      "outputs": [
        {
          "data": {
            "text/plain": [
              "Alice     Programming\n",
              "Bob      Cryptography\n",
              "Carol      Networking\n",
              "dtype: object"
            ]
          },
          "execution_count": 12,
          "metadata": {},
          "output_type": "execute_result"
        }
      ],
      "source": [
        "s = pd.Series(['Programming', 'Cryptography', 'Networking'], index=['Alice', 'Bob', 'Carol'])\n",
        "s"
      ]
    },
    {
      "cell_type": "markdown",
      "id": "d0bc0512",
      "metadata": {},
      "source": [
        "So what happens if your list of values in the index object are not aligned with the keys in your dictionary for creating the series?\n",
        "\n",
        "Pandas will ignore from your dictionary all keys which are not in your index, and pandas will add None or NaN type values for any index value you provide, which is not in your dictionary key list.\n",
        "\n",
        "Here's an example - given a dictionary of three items, in this case students and their courses"
      ]
    },
    {
      "cell_type": "code",
      "execution_count": 13,
      "id": "bb162218",
      "metadata": {},
      "outputs": [
        {
          "data": {
            "text/plain": [
              "Alice    Programming\n",
              "Carol     Netowrking\n",
              "Dave             NaN\n",
              "dtype: object"
            ]
          },
          "execution_count": 13,
          "metadata": {},
          "output_type": "execute_result"
        }
      ],
      "source": [
        "students_scores = {'Alice': 'Programming',\n",
        "                   'Bob': 'Cryptography',\n",
        "                   'Carol': 'Netowrking'}\n",
        "# When I create the series object though I'll only ask for an index with three students, and\n",
        "# We exclude Bob and add Dave\n",
        "s = pd.Series(students_scores, index=['Alice', 'Carol', 'Dave'])\n",
        "s"
      ]
    },
    {
      "cell_type": "markdown",
      "id": "ef006ed0",
      "metadata": {},
      "source": [
        "The result is that the Series object doesn't have Bob in it, even though he was in our original dataset, but it explicitly does have Dave in it as a missing value.\n",
        "\n",
        "__Summary__ We have explored the pandas `Series` data structure and seen how to create a series from lists and dictionaries, how indicies on data work, and the way that pandas typecasts data including missing values."
      ]
    },
    {
      "cell_type": "code",
      "execution_count": null,
      "id": "ce3147f5",
      "metadata": {},
      "outputs": [],
      "source": []
    }
  ],
  "metadata": {
    "kernelspec": {
      "display_name": "Python 3 (ipykernel)",
      "language": "python",
      "name": "python3"
    },
    "language_info": {
      "codemirror_mode": {
        "name": "ipython",
        "version": 3
      },
      "file_extension": ".py",
      "mimetype": "text/x-python",
      "name": "python",
      "nbconvert_exporter": "python",
      "pygments_lexer": "ipython3",
      "version": "3.12.3"
    }
  },
  "nbformat": 4,
  "nbformat_minor": 5
}
