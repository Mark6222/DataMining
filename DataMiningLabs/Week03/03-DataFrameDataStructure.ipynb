{
  "cells": [
    {
      "cell_type": "markdown",
      "id": "3c10a4ee",
      "metadata": {},
      "source": [
        "# The `DataFrame`\n",
        "\n",
        "The DataFrame data structure is the heart of the Panda's library. It's a primary object that you'll be working  with in data analysis and cleaning tasks.\n",
        "\n",
        "The DataFrame is conceptually a two-dimensional series object, where there's an index and multiple columns of  content, with each column having a label. In fact, the distinction between a column and a row is really only a  conceptual distinction. And you can think of the DataFrame itself as simply a two-axes labeled array."
      ]
    },
    {
      "cell_type": "code",
      "execution_count": 1,
      "id": "7e581d02",
      "metadata": {},
      "outputs": [],
      "source": [
        "# Lets start by importing our pandas library\n",
        "import pandas as pd"
      ]
    },
    {
      "cell_type": "markdown",
      "id": "7a907e24",
      "metadata": {},
      "source": [
        "We create three school records for students and their \n",
        "class grades. Each record is a series which has a student name, the class name, and the score."
      ]
    },
    {
      "cell_type": "code",
      "execution_count": 2,
      "id": "66f10608",
      "metadata": {},
      "outputs": [],
      "source": [
        "record1 = pd.Series({'Name': 'Alice',\n",
        "                        'Class': 'Programming',\n",
        "                        'Score': 85})\n",
        "record2 = pd.Series({'Name': 'Bob',\n",
        "                        'Class': 'Cryptography',\n",
        "                        'Score': 82})\n",
        "record3 = pd.Series({'Name': 'Carol',\n",
        "                        'Class': 'Networking',\n",
        "                        'Score': 90})"
      ]
    },
    {
      "cell_type": "markdown",
      "id": "294a639f",
      "metadata": {},
      "source": [
        "Like a Series, the DataFrame object is index. Here we use a group of series, where each series \n",
        "represents a row of data. Just like the Series function, we can pass in our individual items\n",
        "in an array, and we can pass in our index values as a second arguments"
      ]
    },
    {
      "cell_type": "code",
      "execution_count": 3,
      "id": "60c4d9c1",
      "metadata": {},
      "outputs": [
        {
          "data": {
            "text/html": [
              "<div>\n",
              "<style scoped>\n",
              "    .dataframe tbody tr th:only-of-type {\n",
              "        vertical-align: middle;\n",
              "    }\n",
              "\n",
              "    .dataframe tbody tr th {\n",
              "        vertical-align: top;\n",
              "    }\n",
              "\n",
              "    .dataframe thead th {\n",
              "        text-align: right;\n",
              "    }\n",
              "</style>\n",
              "<table border=\"1\" class=\"dataframe\">\n",
              "  <thead>\n",
              "    <tr style=\"text-align: right;\">\n",
              "      <th></th>\n",
              "      <th>Name</th>\n",
              "      <th>Class</th>\n",
              "      <th>Score</th>\n",
              "    </tr>\n",
              "  </thead>\n",
              "  <tbody>\n",
              "    <tr>\n",
              "      <th>stream1</th>\n",
              "      <td>Alice</td>\n",
              "      <td>Programming</td>\n",
              "      <td>85</td>\n",
              "    </tr>\n",
              "    <tr>\n",
              "      <th>stream2</th>\n",
              "      <td>Bob</td>\n",
              "      <td>Cryptography</td>\n",
              "      <td>82</td>\n",
              "    </tr>\n",
              "    <tr>\n",
              "      <th>stream1</th>\n",
              "      <td>Carol</td>\n",
              "      <td>Networking</td>\n",
              "      <td>90</td>\n",
              "    </tr>\n",
              "  </tbody>\n",
              "</table>\n",
              "</div>"
            ],
            "text/plain": [
              "          Name         Class  Score\n",
              "stream1  Alice   Programming     85\n",
              "stream2    Bob  Cryptography     82\n",
              "stream1  Carol    Networking     90"
            ]
          },
          "execution_count": 3,
          "metadata": {},
          "output_type": "execute_result"
        }
      ],
      "source": [
        "df = pd.DataFrame([record1, record2, record3],\n",
        "                  index=['stream1', 'stream2', 'stream1'])\n",
        "\n",
        "# And just like the Series we can use the head() function to see the first several rows of the\n",
        "# dataframe, including indices from both axes, and we can use this to verify the columns and the rows\n",
        "df.head()"
      ]
    },
    {
      "cell_type": "markdown",
      "id": "c81a1c24",
      "metadata": {},
      "source": [
        "Note that Jupyter formats the output with HTML to render the results of the\n",
        "dataframe. So we have the index, which is the leftmost column and is the school name, and then we have the rows of data, where each row has a column header which was given in our initial record dictionaries.\n",
        "\n",
        "An alternative method is that you could use a list of dictionaries, where each dictionary \n",
        "represents a row of data."
      ]
    },
    {
      "cell_type": "code",
      "execution_count": 4,
      "id": "6343ced1",
      "metadata": {},
      "outputs": [
        {
          "data": {
            "text/html": [
              "<div>\n",
              "<style scoped>\n",
              "    .dataframe tbody tr th:only-of-type {\n",
              "        vertical-align: middle;\n",
              "    }\n",
              "\n",
              "    .dataframe tbody tr th {\n",
              "        vertical-align: top;\n",
              "    }\n",
              "\n",
              "    .dataframe thead th {\n",
              "        text-align: right;\n",
              "    }\n",
              "</style>\n",
              "<table border=\"1\" class=\"dataframe\">\n",
              "  <thead>\n",
              "    <tr style=\"text-align: right;\">\n",
              "      <th></th>\n",
              "      <th>Name</th>\n",
              "      <th>Class</th>\n",
              "      <th>Score</th>\n",
              "    </tr>\n",
              "  </thead>\n",
              "  <tbody>\n",
              "    <tr>\n",
              "      <th>stream1</th>\n",
              "      <td>Alice</td>\n",
              "      <td>Programming</td>\n",
              "      <td>85</td>\n",
              "    </tr>\n",
              "    <tr>\n",
              "      <th>stream2</th>\n",
              "      <td>Bob</td>\n",
              "      <td>Cryptography</td>\n",
              "      <td>82</td>\n",
              "    </tr>\n",
              "    <tr>\n",
              "      <th>stream1</th>\n",
              "      <td>Carol</td>\n",
              "      <td>Networking</td>\n",
              "      <td>90</td>\n",
              "    </tr>\n",
              "  </tbody>\n",
              "</table>\n",
              "</div>"
            ],
            "text/plain": [
              "          Name         Class  Score\n",
              "stream1  Alice   Programming     85\n",
              "stream2    Bob  Cryptography     82\n",
              "stream1  Carol    Networking     90"
            ]
          },
          "execution_count": 4,
          "metadata": {},
          "output_type": "execute_result"
        }
      ],
      "source": [
        "students = [{'Name': 'Alice',\n",
        "              'Class': 'Programming',\n",
        "              'Score': 85},\n",
        "            {'Name': 'Bob',\n",
        "             'Class': 'Cryptography',\n",
        "             'Score': 82},\n",
        "            {'Name': 'Carol',\n",
        "             'Class': 'Networking',\n",
        "             'Score': 90}]\n",
        "\n",
        "# Then we pass this list of dictionaries into the DataFrame function\n",
        "df = pd.DataFrame(students, index=['stream1', 'stream2', 'stream1']) \n",
        "# And lets print the head again\n",
        "df.head()"
      ]
    },
    {
      "cell_type": "markdown",
      "id": "6d013f76",
      "metadata": {},
      "source": [
        "Similar to the series, we can extract data using the `.iloc` and `.loc` attributes. Because the DataFrame is two-dimensional, passing a single value to the loc indexing operator will return the series if there's only one row to return.\n",
        "\n",
        "For instance, if we wanted to select data associated with stream2, we would just query the `.loc` attribute with one parameter."
      ]
    },
    {
      "cell_type": "code",
      "execution_count": 5,
      "id": "60a21ec9",
      "metadata": {},
      "outputs": [
        {
          "data": {
            "text/plain": [
              "Name              Bob\n",
              "Class    Cryptography\n",
              "Score              82\n",
              "Name: stream2, dtype: object"
            ]
          },
          "execution_count": 5,
          "metadata": {},
          "output_type": "execute_result"
        }
      ],
      "source": [
        "df.loc['stream2']"
      ]
    },
    {
      "cell_type": "markdown",
      "id": "5ba16d51",
      "metadata": {},
      "source": [
        "You'll note that the name of the series is returned as the index value, while the column \n",
        "name is included in the output.\n",
        "\n",
        "We can check the data type of the return using the python type function."
      ]
    },
    {
      "cell_type": "code",
      "execution_count": 6,
      "id": "7444b95d",
      "metadata": {},
      "outputs": [
        {
          "data": {
            "text/plain": [
              "pandas.core.series.Series"
            ]
          },
          "execution_count": 6,
          "metadata": {},
          "output_type": "execute_result"
        }
      ],
      "source": [
        "type(df.loc['stream2'])"
      ]
    },
    {
      "cell_type": "markdown",
      "id": "dfa24b52",
      "metadata": {},
      "source": [
        "It's important to remember that the index values and column names along either axes, horizontal or vertical, could be non-unique. In this example, we see two records for school1 as different rows.\n",
        "\n",
        "If we use a single value with the DataFrame `.loc` attribute, multiple rows of the DataFrame will return, not as a new series, but as a new DataFrame.\n",
        "\n",
        "Lets query for stream1 records"
      ]
    },
    {
      "cell_type": "code",
      "execution_count": 7,
      "id": "0195d914",
      "metadata": {},
      "outputs": [
        {
          "data": {
            "text/html": [
              "<div>\n",
              "<style scoped>\n",
              "    .dataframe tbody tr th:only-of-type {\n",
              "        vertical-align: middle;\n",
              "    }\n",
              "\n",
              "    .dataframe tbody tr th {\n",
              "        vertical-align: top;\n",
              "    }\n",
              "\n",
              "    .dataframe thead th {\n",
              "        text-align: right;\n",
              "    }\n",
              "</style>\n",
              "<table border=\"1\" class=\"dataframe\">\n",
              "  <thead>\n",
              "    <tr style=\"text-align: right;\">\n",
              "      <th></th>\n",
              "      <th>Name</th>\n",
              "      <th>Class</th>\n",
              "      <th>Score</th>\n",
              "    </tr>\n",
              "  </thead>\n",
              "  <tbody>\n",
              "    <tr>\n",
              "      <th>stream1</th>\n",
              "      <td>Alice</td>\n",
              "      <td>Programming</td>\n",
              "      <td>85</td>\n",
              "    </tr>\n",
              "    <tr>\n",
              "      <th>stream1</th>\n",
              "      <td>Carol</td>\n",
              "      <td>Networking</td>\n",
              "      <td>90</td>\n",
              "    </tr>\n",
              "  </tbody>\n",
              "</table>\n",
              "</div>"
            ],
            "text/plain": [
              "          Name        Class  Score\n",
              "stream1  Alice  Programming     85\n",
              "stream1  Carol   Networking     90"
            ]
          },
          "execution_count": 7,
          "metadata": {},
          "output_type": "execute_result"
        }
      ],
      "source": [
        "df.loc['stream1']"
      ]
    },
    {
      "cell_type": "code",
      "execution_count": 8,
      "id": "072ebf94",
      "metadata": {},
      "outputs": [
        {
          "data": {
            "text/plain": [
              "pandas.core.frame.DataFrame"
            ]
          },
          "execution_count": 8,
          "metadata": {},
          "output_type": "execute_result"
        }
      ],
      "source": [
        "# And we can see the the type of this is different too\n",
        "type(df.loc['stream1'])"
      ]
    },
    {
      "cell_type": "markdown",
      "id": "457259dc",
      "metadata": {},
      "source": [
        "It is easy to select data from a dataframe based on multiple axes. For instance, if we wanted to just list the student names for stream1, we would supply two arguments to `.loc`, one being the row index and the second being the column name.\n",
        "\n",
        "For instance, if we are only interested in stream1's student names"
      ]
    },
    {
      "cell_type": "code",
      "execution_count": 9,
      "id": "e814709e",
      "metadata": {},
      "outputs": [
        {
          "data": {
            "text/plain": [
              "stream1    Alice\n",
              "stream1    Carol\n",
              "Name: Name, dtype: object"
            ]
          },
          "execution_count": 9,
          "metadata": {},
          "output_type": "execute_result"
        }
      ],
      "source": [
        "df.loc['stream1', 'Name']"
      ]
    },
    {
      "cell_type": "markdown",
      "id": "d6f0f4ba",
      "metadata": {},
      "source": [
        "Remember, just like the Series, the pandas developers have implemented this using the indexing operator `.loc[..]` and not as parameters to a function.\n",
        "\n",
        "What would we do if we just wanted to select a single column though? \n",
        "\n",
        "The first way is to transpose the dataframe and apply row operations. This pivots all of the rows into columns and all of the columns into rows, and is done with the `.T` attribute"
      ]
    },
    {
      "cell_type": "code",
      "execution_count": 10,
      "id": "3f79198c",
      "metadata": {},
      "outputs": [
        {
          "data": {
            "text/html": [
              "<div>\n",
              "<style scoped>\n",
              "    .dataframe tbody tr th:only-of-type {\n",
              "        vertical-align: middle;\n",
              "    }\n",
              "\n",
              "    .dataframe tbody tr th {\n",
              "        vertical-align: top;\n",
              "    }\n",
              "\n",
              "    .dataframe thead th {\n",
              "        text-align: right;\n",
              "    }\n",
              "</style>\n",
              "<table border=\"1\" class=\"dataframe\">\n",
              "  <thead>\n",
              "    <tr style=\"text-align: right;\">\n",
              "      <th></th>\n",
              "      <th>stream1</th>\n",
              "      <th>stream2</th>\n",
              "      <th>stream1</th>\n",
              "    </tr>\n",
              "  </thead>\n",
              "  <tbody>\n",
              "    <tr>\n",
              "      <th>Name</th>\n",
              "      <td>Alice</td>\n",
              "      <td>Bob</td>\n",
              "      <td>Carol</td>\n",
              "    </tr>\n",
              "    <tr>\n",
              "      <th>Class</th>\n",
              "      <td>Programming</td>\n",
              "      <td>Cryptography</td>\n",
              "      <td>Networking</td>\n",
              "    </tr>\n",
              "    <tr>\n",
              "      <th>Score</th>\n",
              "      <td>85</td>\n",
              "      <td>82</td>\n",
              "      <td>90</td>\n",
              "    </tr>\n",
              "  </tbody>\n",
              "</table>\n",
              "</div>"
            ],
            "text/plain": [
              "           stream1       stream2     stream1\n",
              "Name         Alice           Bob       Carol\n",
              "Class  Programming  Cryptography  Networking\n",
              "Score           85            82          90"
            ]
          },
          "execution_count": 10,
          "metadata": {},
          "output_type": "execute_result"
        }
      ],
      "source": [
        "df.T"
      ]
    },
    {
      "cell_type": "code",
      "execution_count": 11,
      "id": "c91e1199",
      "metadata": {},
      "outputs": [
        {
          "data": {
            "text/plain": [
              "stream1    Alice\n",
              "stream2      Bob\n",
              "stream1    Carol\n",
              "Name: Name, dtype: object"
            ]
          },
          "execution_count": 11,
          "metadata": {},
          "output_type": "execute_result"
        }
      ],
      "source": [
        "# Then we can call .loc on the transpose to get the student names only\n",
        "df.T.loc['Name']"
      ]
    },
    {
      "cell_type": "markdown",
      "id": "0f2ad934",
      "metadata": {},
      "source": [
        "However, since `iloc` and `loc` are used for row selection, Panda reserves the indexing operator directly on the DataFrame for column selection. In a Panda's DataFrame, columns always have a name.\n",
        "\n",
        "So this selection is always label based, and is not as confusing as it was when using the square bracket operator on the series objects. For those familiar with relational databases, this operator is analogous to column projection."
      ]
    },
    {
      "cell_type": "code",
      "execution_count": 12,
      "id": "4d65f445",
      "metadata": {},
      "outputs": [
        {
          "data": {
            "text/plain": [
              "stream1    Alice\n",
              "stream2      Bob\n",
              "stream1    Carol\n",
              "Name: Name, dtype: object"
            ]
          },
          "execution_count": 12,
          "metadata": {},
          "output_type": "execute_result"
        }
      ],
      "source": [
        "df['Name']"
      ]
    },
    {
      "cell_type": "markdown",
      "id": "bf2157bb",
      "metadata": {},
      "source": [
        "In practice, this works really well since you're often trying to add or drop new columns. However,\n",
        "this also means that you get a key error if you try and use .loc with a column name"
      ]
    },
    {
      "cell_type": "code",
      "execution_count": 13,
      "id": "82638ca5",
      "metadata": {
        "tags": [
          "raises-exception"
        ]
      },
      "outputs": [
        {
          "ename": "KeyError",
          "evalue": "'Name'",
          "output_type": "error",
          "traceback": [
            "\u001b[1;31m---------------------------------------------------------------------------\u001b[0m",
            "\u001b[1;31mKeyError\u001b[0m                                  Traceback (most recent call last)",
            "File \u001b[1;32mD:\\Solfware\\Anaconda\\Lib\\site-packages\\pandas\\core\\indexes\\base.py:3805\u001b[0m, in \u001b[0;36mIndex.get_loc\u001b[1;34m(self, key)\u001b[0m\n\u001b[0;32m   3804\u001b[0m \u001b[38;5;28;01mtry\u001b[39;00m:\n\u001b[1;32m-> 3805\u001b[0m     \u001b[38;5;28;01mreturn\u001b[39;00m \u001b[38;5;28mself\u001b[39m\u001b[38;5;241m.\u001b[39m_engine\u001b[38;5;241m.\u001b[39mget_loc(casted_key)\n\u001b[0;32m   3806\u001b[0m \u001b[38;5;28;01mexcept\u001b[39;00m \u001b[38;5;167;01mKeyError\u001b[39;00m \u001b[38;5;28;01mas\u001b[39;00m err:\n",
            "File \u001b[1;32mindex.pyx:167\u001b[0m, in \u001b[0;36mpandas._libs.index.IndexEngine.get_loc\u001b[1;34m()\u001b[0m\n",
            "File \u001b[1;32mindex.pyx:191\u001b[0m, in \u001b[0;36mpandas._libs.index.IndexEngine.get_loc\u001b[1;34m()\u001b[0m\n",
            "File \u001b[1;32mindex.pyx:234\u001b[0m, in \u001b[0;36mpandas._libs.index.IndexEngine._get_loc_duplicates\u001b[1;34m()\u001b[0m\n",
            "File \u001b[1;32mindex.pyx:242\u001b[0m, in \u001b[0;36mpandas._libs.index.IndexEngine._maybe_get_bool_indexer\u001b[1;34m()\u001b[0m\n",
            "File \u001b[1;32mindex.pyx:134\u001b[0m, in \u001b[0;36mpandas._libs.index._unpack_bool_indexer\u001b[1;34m()\u001b[0m\n",
            "\u001b[1;31mKeyError\u001b[0m: 'Name'",
            "\nThe above exception was the direct cause of the following exception:\n",
            "\u001b[1;31mKeyError\u001b[0m                                  Traceback (most recent call last)",
            "Cell \u001b[1;32mIn[13], line 1\u001b[0m\n\u001b[1;32m----> 1\u001b[0m df\u001b[38;5;241m.\u001b[39mloc[\u001b[38;5;124m'\u001b[39m\u001b[38;5;124mName\u001b[39m\u001b[38;5;124m'\u001b[39m]\n",
            "File \u001b[1;32mD:\\Solfware\\Anaconda\\Lib\\site-packages\\pandas\\core\\indexing.py:1191\u001b[0m, in \u001b[0;36m_LocationIndexer.__getitem__\u001b[1;34m(self, key)\u001b[0m\n\u001b[0;32m   1189\u001b[0m maybe_callable \u001b[38;5;241m=\u001b[39m com\u001b[38;5;241m.\u001b[39mapply_if_callable(key, \u001b[38;5;28mself\u001b[39m\u001b[38;5;241m.\u001b[39mobj)\n\u001b[0;32m   1190\u001b[0m maybe_callable \u001b[38;5;241m=\u001b[39m \u001b[38;5;28mself\u001b[39m\u001b[38;5;241m.\u001b[39m_check_deprecated_callable_usage(key, maybe_callable)\n\u001b[1;32m-> 1191\u001b[0m \u001b[38;5;28;01mreturn\u001b[39;00m \u001b[38;5;28mself\u001b[39m\u001b[38;5;241m.\u001b[39m_getitem_axis(maybe_callable, axis\u001b[38;5;241m=\u001b[39maxis)\n",
            "File \u001b[1;32mD:\\Solfware\\Anaconda\\Lib\\site-packages\\pandas\\core\\indexing.py:1431\u001b[0m, in \u001b[0;36m_LocIndexer._getitem_axis\u001b[1;34m(self, key, axis)\u001b[0m\n\u001b[0;32m   1429\u001b[0m \u001b[38;5;66;03m# fall thru to straight lookup\u001b[39;00m\n\u001b[0;32m   1430\u001b[0m \u001b[38;5;28mself\u001b[39m\u001b[38;5;241m.\u001b[39m_validate_key(key, axis)\n\u001b[1;32m-> 1431\u001b[0m \u001b[38;5;28;01mreturn\u001b[39;00m \u001b[38;5;28mself\u001b[39m\u001b[38;5;241m.\u001b[39m_get_label(key, axis\u001b[38;5;241m=\u001b[39maxis)\n",
            "File \u001b[1;32mD:\\Solfware\\Anaconda\\Lib\\site-packages\\pandas\\core\\indexing.py:1381\u001b[0m, in \u001b[0;36m_LocIndexer._get_label\u001b[1;34m(self, label, axis)\u001b[0m\n\u001b[0;32m   1379\u001b[0m \u001b[38;5;28;01mdef\u001b[39;00m \u001b[38;5;21m_get_label\u001b[39m(\u001b[38;5;28mself\u001b[39m, label, axis: AxisInt):\n\u001b[0;32m   1380\u001b[0m     \u001b[38;5;66;03m# GH#5567 this will fail if the label is not present in the axis.\u001b[39;00m\n\u001b[1;32m-> 1381\u001b[0m     \u001b[38;5;28;01mreturn\u001b[39;00m \u001b[38;5;28mself\u001b[39m\u001b[38;5;241m.\u001b[39mobj\u001b[38;5;241m.\u001b[39mxs(label, axis\u001b[38;5;241m=\u001b[39maxis)\n",
            "File \u001b[1;32mD:\\Solfware\\Anaconda\\Lib\\site-packages\\pandas\\core\\generic.py:4301\u001b[0m, in \u001b[0;36mNDFrame.xs\u001b[1;34m(self, key, axis, level, drop_level)\u001b[0m\n\u001b[0;32m   4299\u001b[0m             new_index \u001b[38;5;241m=\u001b[39m index[loc]\n\u001b[0;32m   4300\u001b[0m \u001b[38;5;28;01melse\u001b[39;00m:\n\u001b[1;32m-> 4301\u001b[0m     loc \u001b[38;5;241m=\u001b[39m index\u001b[38;5;241m.\u001b[39mget_loc(key)\n\u001b[0;32m   4303\u001b[0m     \u001b[38;5;28;01mif\u001b[39;00m \u001b[38;5;28misinstance\u001b[39m(loc, np\u001b[38;5;241m.\u001b[39mndarray):\n\u001b[0;32m   4304\u001b[0m         \u001b[38;5;28;01mif\u001b[39;00m loc\u001b[38;5;241m.\u001b[39mdtype \u001b[38;5;241m==\u001b[39m np\u001b[38;5;241m.\u001b[39mbool_:\n",
            "File \u001b[1;32mD:\\Solfware\\Anaconda\\Lib\\site-packages\\pandas\\core\\indexes\\base.py:3812\u001b[0m, in \u001b[0;36mIndex.get_loc\u001b[1;34m(self, key)\u001b[0m\n\u001b[0;32m   3807\u001b[0m     \u001b[38;5;28;01mif\u001b[39;00m \u001b[38;5;28misinstance\u001b[39m(casted_key, \u001b[38;5;28mslice\u001b[39m) \u001b[38;5;129;01mor\u001b[39;00m (\n\u001b[0;32m   3808\u001b[0m         \u001b[38;5;28misinstance\u001b[39m(casted_key, abc\u001b[38;5;241m.\u001b[39mIterable)\n\u001b[0;32m   3809\u001b[0m         \u001b[38;5;129;01mand\u001b[39;00m \u001b[38;5;28many\u001b[39m(\u001b[38;5;28misinstance\u001b[39m(x, \u001b[38;5;28mslice\u001b[39m) \u001b[38;5;28;01mfor\u001b[39;00m x \u001b[38;5;129;01min\u001b[39;00m casted_key)\n\u001b[0;32m   3810\u001b[0m     ):\n\u001b[0;32m   3811\u001b[0m         \u001b[38;5;28;01mraise\u001b[39;00m InvalidIndexError(key)\n\u001b[1;32m-> 3812\u001b[0m     \u001b[38;5;28;01mraise\u001b[39;00m \u001b[38;5;167;01mKeyError\u001b[39;00m(key) \u001b[38;5;28;01mfrom\u001b[39;00m \u001b[38;5;21;01merr\u001b[39;00m\n\u001b[0;32m   3813\u001b[0m \u001b[38;5;28;01mexcept\u001b[39;00m \u001b[38;5;167;01mTypeError\u001b[39;00m:\n\u001b[0;32m   3814\u001b[0m     \u001b[38;5;66;03m# If we have a listlike key, _check_indexing_error will raise\u001b[39;00m\n\u001b[0;32m   3815\u001b[0m     \u001b[38;5;66;03m#  InvalidIndexError. Otherwise we fall through and re-raise\u001b[39;00m\n\u001b[0;32m   3816\u001b[0m     \u001b[38;5;66;03m#  the TypeError.\u001b[39;00m\n\u001b[0;32m   3817\u001b[0m     \u001b[38;5;28mself\u001b[39m\u001b[38;5;241m.\u001b[39m_check_indexing_error(key)\n",
            "\u001b[1;31mKeyError\u001b[0m: 'Name'"
          ]
        }
      ],
      "source": [
        "df.loc['Name']"
      ]
    },
    {
      "cell_type": "markdown",
      "id": "747fee14",
      "metadata": {},
      "source": [
        "Note too that the result of a single column projection is a Series object"
      ]
    },
    {
      "cell_type": "code",
      "execution_count": 14,
      "id": "4ccf3d1f",
      "metadata": {},
      "outputs": [
        {
          "data": {
            "text/plain": [
              "pandas.core.series.Series"
            ]
          },
          "execution_count": 14,
          "metadata": {},
          "output_type": "execute_result"
        }
      ],
      "source": [
        "type(df['Name'])"
      ]
    },
    {
      "cell_type": "markdown",
      "id": "3b49fdd6",
      "metadata": {},
      "source": [
        "Since the result of using the indexing operator is either a DataFrame or Series, you can chain operations together. For instance, we can select all of the rows which related to stream1 using `.loc`, then project the name column from just those rows."
      ]
    },
    {
      "cell_type": "code",
      "execution_count": 15,
      "id": "8ae2c384",
      "metadata": {},
      "outputs": [
        {
          "data": {
            "text/plain": [
              "stream1    Alice\n",
              "stream1    Carol\n",
              "Name: Name, dtype: object"
            ]
          },
          "execution_count": 15,
          "metadata": {},
          "output_type": "execute_result"
        }
      ],
      "source": [
        "df.loc['stream1']['Name']"
      ]
    },
    {
      "cell_type": "markdown",
      "id": "cc11e98b",
      "metadata": {},
      "source": [
        "If you get confused, use `type()` to check the responses from resulting operations\n"
      ]
    },
    {
      "cell_type": "code",
      "execution_count": 16,
      "id": "daf7b912",
      "metadata": {},
      "outputs": [
        {
          "name": "stdout",
          "output_type": "stream",
          "text": [
            "<class 'pandas.core.frame.DataFrame'>\n",
            "<class 'pandas.core.series.Series'>\n"
          ]
        }
      ],
      "source": [
        "print(type(df.loc['stream1'])) #should be a DataFrame\n",
        "print(type(df.loc['stream1']['Name'])) #should be a Series"
      ]
    },
    {
      "cell_type": "markdown",
      "id": "08554f2d",
      "metadata": {},
      "source": [
        "Chaining, by indexing on the return type of another index, can come with some costs and is best avoided if you can use another approach. In particular, chaining tends to cause Pandas to return a copy of the DataFrame instead of a view on the DataFrame. For selecting data, this is not a big deal, though it might be slower than necessary. If you are changing data though this is an important distinction and can be a source of error.\n",
        "\n",
        "Here's another approach. As we saw, .loc does row selection, and it can take two parameters, the row index and the list of column names. The .loc attribute also supports slicing.\n",
        "\n",
        "If we wanted to select all rows, we can use a colon to indicate a full slice from beginning to end. This is just like slicing characters in a list in python. Then we can add the column name as the second parameter as a string. If we wanted to include multiple columns, we could do so in a list. \n",
        "and Pandas will bring back only the columns we have asked for.\n",
        "\n",
        "Here's an example, where we ask for all the names and scores for all streams using the .loc operator."
      ]
    },
    {
      "cell_type": "code",
      "execution_count": 17,
      "id": "b90c6ed9",
      "metadata": {},
      "outputs": [
        {
          "data": {
            "text/html": [
              "<div>\n",
              "<style scoped>\n",
              "    .dataframe tbody tr th:only-of-type {\n",
              "        vertical-align: middle;\n",
              "    }\n",
              "\n",
              "    .dataframe tbody tr th {\n",
              "        vertical-align: top;\n",
              "    }\n",
              "\n",
              "    .dataframe thead th {\n",
              "        text-align: right;\n",
              "    }\n",
              "</style>\n",
              "<table border=\"1\" class=\"dataframe\">\n",
              "  <thead>\n",
              "    <tr style=\"text-align: right;\">\n",
              "      <th></th>\n",
              "      <th>Name</th>\n",
              "      <th>Score</th>\n",
              "    </tr>\n",
              "  </thead>\n",
              "  <tbody>\n",
              "    <tr>\n",
              "      <th>stream1</th>\n",
              "      <td>Alice</td>\n",
              "      <td>85</td>\n",
              "    </tr>\n",
              "    <tr>\n",
              "      <th>stream2</th>\n",
              "      <td>Bob</td>\n",
              "      <td>82</td>\n",
              "    </tr>\n",
              "    <tr>\n",
              "      <th>stream1</th>\n",
              "      <td>Carol</td>\n",
              "      <td>90</td>\n",
              "    </tr>\n",
              "  </tbody>\n",
              "</table>\n",
              "</div>"
            ],
            "text/plain": [
              "          Name  Score\n",
              "stream1  Alice     85\n",
              "stream2    Bob     82\n",
              "stream1  Carol     90"
            ]
          },
          "execution_count": 17,
          "metadata": {},
          "output_type": "execute_result"
        }
      ],
      "source": [
        "df.loc[:,['Name', 'Score']]"
      ]
    },
    {
      "cell_type": "markdown",
      "id": "89ad6e76",
      "metadata": {},
      "source": [
        "Note that the colon means that we want to get all of the rows, and the list\n",
        "in the second argument position is the list of columns we want to get back\n",
        "\n",
        "That's selecting and projecting data from a DataFrame based on row and column labels. The key concepts to remember are that the rows and columns are really just for our benefit. Underneath this is just a two axes labeled array, and transposing the columns is easy. Also, consider the issue of chaining carefully, and try to avoid it, as it can cause unpredictable results, where your intent was to obtain a view of the data, but instead Pandas returns to you a copy. \n",
        "\n",
        "Before we leave the discussion of accessing data in DataFrames, lets talk about dropping data. It's easy to delete data in Series and DataFrames, and we can use the drop function to do so. This function takes a single parameter, which is the index or row label, to drop. This is another \n",
        "tricky place for new users -- the drop function doesn't change the DataFrame by default! Instead, the drop function returns to you a copy of the DataFrame with the given rows removed."
      ]
    },
    {
      "cell_type": "code",
      "execution_count": 18,
      "id": "6e8414d8",
      "metadata": {},
      "outputs": [
        {
          "data": {
            "text/html": [
              "<div>\n",
              "<style scoped>\n",
              "    .dataframe tbody tr th:only-of-type {\n",
              "        vertical-align: middle;\n",
              "    }\n",
              "\n",
              "    .dataframe tbody tr th {\n",
              "        vertical-align: top;\n",
              "    }\n",
              "\n",
              "    .dataframe thead th {\n",
              "        text-align: right;\n",
              "    }\n",
              "</style>\n",
              "<table border=\"1\" class=\"dataframe\">\n",
              "  <thead>\n",
              "    <tr style=\"text-align: right;\">\n",
              "      <th></th>\n",
              "      <th>Name</th>\n",
              "      <th>Class</th>\n",
              "      <th>Score</th>\n",
              "    </tr>\n",
              "  </thead>\n",
              "  <tbody>\n",
              "    <tr>\n",
              "      <th>stream2</th>\n",
              "      <td>Bob</td>\n",
              "      <td>Cryptography</td>\n",
              "      <td>82</td>\n",
              "    </tr>\n",
              "  </tbody>\n",
              "</table>\n",
              "</div>"
            ],
            "text/plain": [
              "        Name         Class  Score\n",
              "stream2  Bob  Cryptography     82"
            ]
          },
          "execution_count": 18,
          "metadata": {},
          "output_type": "execute_result"
        }
      ],
      "source": [
        "df.drop('stream1')"
      ]
    },
    {
      "cell_type": "markdown",
      "id": "9c6fac43",
      "metadata": {},
      "source": [
        "But if we look at our original DataFrame we see the data is still intact."
      ]
    },
    {
      "cell_type": "code",
      "execution_count": 19,
      "id": "b36c35eb",
      "metadata": {},
      "outputs": [
        {
          "data": {
            "text/html": [
              "<div>\n",
              "<style scoped>\n",
              "    .dataframe tbody tr th:only-of-type {\n",
              "        vertical-align: middle;\n",
              "    }\n",
              "\n",
              "    .dataframe tbody tr th {\n",
              "        vertical-align: top;\n",
              "    }\n",
              "\n",
              "    .dataframe thead th {\n",
              "        text-align: right;\n",
              "    }\n",
              "</style>\n",
              "<table border=\"1\" class=\"dataframe\">\n",
              "  <thead>\n",
              "    <tr style=\"text-align: right;\">\n",
              "      <th></th>\n",
              "      <th>Name</th>\n",
              "      <th>Class</th>\n",
              "      <th>Score</th>\n",
              "    </tr>\n",
              "  </thead>\n",
              "  <tbody>\n",
              "    <tr>\n",
              "      <th>stream1</th>\n",
              "      <td>Alice</td>\n",
              "      <td>Programming</td>\n",
              "      <td>85</td>\n",
              "    </tr>\n",
              "    <tr>\n",
              "      <th>stream2</th>\n",
              "      <td>Bob</td>\n",
              "      <td>Cryptography</td>\n",
              "      <td>82</td>\n",
              "    </tr>\n",
              "    <tr>\n",
              "      <th>stream1</th>\n",
              "      <td>Carol</td>\n",
              "      <td>Networking</td>\n",
              "      <td>90</td>\n",
              "    </tr>\n",
              "  </tbody>\n",
              "</table>\n",
              "</div>"
            ],
            "text/plain": [
              "          Name         Class  Score\n",
              "stream1  Alice   Programming     85\n",
              "stream2    Bob  Cryptography     82\n",
              "stream1  Carol    Networking     90"
            ]
          },
          "execution_count": 19,
          "metadata": {},
          "output_type": "execute_result"
        }
      ],
      "source": [
        "df"
      ]
    },
    {
      "cell_type": "markdown",
      "id": "088547f4",
      "metadata": {},
      "source": [
        "Drop has two interesting optional parameters. The first is called inplace, and if it's \n",
        "set to true, the DataFrame will be updated in place, instead of a copy being returned. \n",
        "The second parameter is the axes, which should be dropped. By default, this value is 0, \n",
        "indicating the row axis. But you could change it to 1 if you want to drop a column.\n",
        "\n",
        "For example, lets make a copy of a DataFrame using .copy()"
      ]
    },
    {
      "cell_type": "code",
      "execution_count": 20,
      "id": "9e325cf6",
      "metadata": {},
      "outputs": [
        {
          "data": {
            "text/html": [
              "<div>\n",
              "<style scoped>\n",
              "    .dataframe tbody tr th:only-of-type {\n",
              "        vertical-align: middle;\n",
              "    }\n",
              "\n",
              "    .dataframe tbody tr th {\n",
              "        vertical-align: top;\n",
              "    }\n",
              "\n",
              "    .dataframe thead th {\n",
              "        text-align: right;\n",
              "    }\n",
              "</style>\n",
              "<table border=\"1\" class=\"dataframe\">\n",
              "  <thead>\n",
              "    <tr style=\"text-align: right;\">\n",
              "      <th></th>\n",
              "      <th>Class</th>\n",
              "      <th>Score</th>\n",
              "    </tr>\n",
              "  </thead>\n",
              "  <tbody>\n",
              "    <tr>\n",
              "      <th>stream1</th>\n",
              "      <td>Programming</td>\n",
              "      <td>85</td>\n",
              "    </tr>\n",
              "    <tr>\n",
              "      <th>stream2</th>\n",
              "      <td>Cryptography</td>\n",
              "      <td>82</td>\n",
              "    </tr>\n",
              "    <tr>\n",
              "      <th>stream1</th>\n",
              "      <td>Networking</td>\n",
              "      <td>90</td>\n",
              "    </tr>\n",
              "  </tbody>\n",
              "</table>\n",
              "</div>"
            ],
            "text/plain": [
              "                Class  Score\n",
              "stream1   Programming     85\n",
              "stream2  Cryptography     82\n",
              "stream1    Networking     90"
            ]
          },
          "execution_count": 20,
          "metadata": {},
          "output_type": "execute_result"
        }
      ],
      "source": [
        "copy_df = df.copy()\n",
        "# Now lets drop the name column in this copy\n",
        "copy_df.drop(\"Name\", inplace=True, axis=1)\n",
        "copy_df"
      ]
    },
    {
      "cell_type": "markdown",
      "id": "bd7fe619",
      "metadata": {},
      "source": [
        "There is a second way to drop a column, and that's directly through the use of the indexing operator, using the `del` keyword. This way of dropping data, however, takes immediate effect on the DataFrame and does not return a view."
      ]
    },
    {
      "cell_type": "code",
      "execution_count": 21,
      "id": "2b7ff419",
      "metadata": {},
      "outputs": [
        {
          "data": {
            "text/html": [
              "<div>\n",
              "<style scoped>\n",
              "    .dataframe tbody tr th:only-of-type {\n",
              "        vertical-align: middle;\n",
              "    }\n",
              "\n",
              "    .dataframe tbody tr th {\n",
              "        vertical-align: top;\n",
              "    }\n",
              "\n",
              "    .dataframe thead th {\n",
              "        text-align: right;\n",
              "    }\n",
              "</style>\n",
              "<table border=\"1\" class=\"dataframe\">\n",
              "  <thead>\n",
              "    <tr style=\"text-align: right;\">\n",
              "      <th></th>\n",
              "      <th>Score</th>\n",
              "    </tr>\n",
              "  </thead>\n",
              "  <tbody>\n",
              "    <tr>\n",
              "      <th>stream1</th>\n",
              "      <td>85</td>\n",
              "    </tr>\n",
              "    <tr>\n",
              "      <th>stream2</th>\n",
              "      <td>82</td>\n",
              "    </tr>\n",
              "    <tr>\n",
              "      <th>stream1</th>\n",
              "      <td>90</td>\n",
              "    </tr>\n",
              "  </tbody>\n",
              "</table>\n",
              "</div>"
            ],
            "text/plain": [
              "         Score\n",
              "stream1     85\n",
              "stream2     82\n",
              "stream1     90"
            ]
          },
          "execution_count": 21,
          "metadata": {},
          "output_type": "execute_result"
        }
      ],
      "source": [
        "del copy_df['Class']\n",
        "copy_df"
      ]
    },
    {
      "cell_type": "markdown",
      "id": "43ae74e2",
      "metadata": {},
      "source": [
        "Finally, adding a new column to the DataFrame is as easy as assigning it to some value using\n",
        "the indexing operator. For instance, if we wanted to add a class ranking column with default \n",
        "value of None, we could do so by using the assignment operator after the square brackets.\n",
        "This broadcasts the default value to the new column immediately."
      ]
    },
    {
      "cell_type": "code",
      "execution_count": 22,
      "id": "3134878a",
      "metadata": {},
      "outputs": [
        {
          "data": {
            "text/html": [
              "<div>\n",
              "<style scoped>\n",
              "    .dataframe tbody tr th:only-of-type {\n",
              "        vertical-align: middle;\n",
              "    }\n",
              "\n",
              "    .dataframe tbody tr th {\n",
              "        vertical-align: top;\n",
              "    }\n",
              "\n",
              "    .dataframe thead th {\n",
              "        text-align: right;\n",
              "    }\n",
              "</style>\n",
              "<table border=\"1\" class=\"dataframe\">\n",
              "  <thead>\n",
              "    <tr style=\"text-align: right;\">\n",
              "      <th></th>\n",
              "      <th>Name</th>\n",
              "      <th>Class</th>\n",
              "      <th>Score</th>\n",
              "      <th>ClassRanking</th>\n",
              "    </tr>\n",
              "  </thead>\n",
              "  <tbody>\n",
              "    <tr>\n",
              "      <th>stream1</th>\n",
              "      <td>Alice</td>\n",
              "      <td>Programming</td>\n",
              "      <td>85</td>\n",
              "      <td>None</td>\n",
              "    </tr>\n",
              "    <tr>\n",
              "      <th>stream2</th>\n",
              "      <td>Bob</td>\n",
              "      <td>Cryptography</td>\n",
              "      <td>82</td>\n",
              "      <td>None</td>\n",
              "    </tr>\n",
              "    <tr>\n",
              "      <th>stream1</th>\n",
              "      <td>Carol</td>\n",
              "      <td>Networking</td>\n",
              "      <td>90</td>\n",
              "      <td>None</td>\n",
              "    </tr>\n",
              "  </tbody>\n",
              "</table>\n",
              "</div>"
            ],
            "text/plain": [
              "          Name         Class  Score ClassRanking\n",
              "stream1  Alice   Programming     85         None\n",
              "stream2    Bob  Cryptography     82         None\n",
              "stream1  Carol    Networking     90         None"
            ]
          },
          "execution_count": 22,
          "metadata": {},
          "output_type": "execute_result"
        }
      ],
      "source": [
        "df['ClassRanking'] = None\n",
        "df"
      ]
    },
    {
      "cell_type": "markdown",
      "id": "2472dcef",
      "metadata": {},
      "source": [
        "# Summary\n",
        "\n",
        "We have learned about the data structure we will use the most in pandas, the DataFrame. The  dataframe is indexed both by row and column, and we can easily select individual rows and project the columns we are interested in using the familiar indexing methods from the Series class."
      ]
    },
    {
      "cell_type": "code",
      "execution_count": null,
      "id": "2783feee",
      "metadata": {},
      "outputs": [],
      "source": []
    }
  ],
  "metadata": {
    "kernelspec": {
      "display_name": "Python 3 (ipykernel)",
      "language": "python",
      "name": "python3"
    },
    "language_info": {
      "codemirror_mode": {
        "name": "ipython",
        "version": 3
      },
      "file_extension": ".py",
      "mimetype": "text/x-python",
      "name": "python",
      "nbconvert_exporter": "python",
      "pygments_lexer": "ipython3",
      "version": "3.12.3"
    }
  },
  "nbformat": 4,
  "nbformat_minor": 5
}
