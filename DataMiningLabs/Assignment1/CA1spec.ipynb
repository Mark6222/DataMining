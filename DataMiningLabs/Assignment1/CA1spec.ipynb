{
  "cells": [
    {
      "cell_type": "markdown",
      "id": "c5330ebd",
      "metadata": {},
      "source": [
        "# Assignment 1 specification\n",
        "\n",
        "The purpose of this assignment is to use EDA on two of the datasets met in class."
      ]
    },
    {
      "cell_type": "markdown",
      "id": "5ca3bda2",
      "metadata": {},
      "source": [
        "## Which datasets to consider?"
      ]
    },
    {
      "cell_type": "code",
      "execution_count": 99,
      "id": "a59bb199",
      "metadata": {},
      "outputs": [
        {
          "data": {
            "text/plain": [
              "'Titanic'"
            ]
          },
          "execution_count": 99,
          "metadata": {},
          "output_type": "execute_result"
        }
      ],
      "source": [
        "import random\n",
        "\n",
        "# Students should replace 12345678 with their student id (8-digit number, starting with 20)\n",
        "myStudentId = 20098168\n",
        "\n",
        "# Use myStudentId as the seed for the random number generator\n",
        "random.seed(myStudentId)\n",
        "\n",
        "dataSetToIgnore = random.choice(['Tips', 'Titanic', 'Algae'])\n",
        "dataSetToIgnore"
      ]
    },
    {
      "cell_type": "markdown",
      "id": "1d2652cc",
      "metadata": {},
      "source": [
        "Students should consider 2 sets from 'Tips', 'Titanic', 'Algae', ignoring the set that was randomly selected above."
      ]
    },
    {
      "cell_type": "markdown",
      "id": "d669e1ec",
      "metadata": {},
      "source": [
        "##Start of EDA 1##"
      ]
    },
    {
      "cell_type": "markdown",
      "id": "6c9ddb08",
      "metadata": {},
      "source": [
        "# Task 1: First pass - load data set and initial clean"
      ]
    },
    {
      "cell_type": "markdown",
      "id": "56d19e77",
      "metadata": {},
      "source": [
        "##Start of Answer 1##"
      ]
    },
    {
      "cell_type": "code",
      "execution_count": 100,
      "id": "51f6201c",
      "metadata": {},
      "outputs": [
        {
          "data": {
            "text/html": [
              "<div>\n",
              "<style scoped>\n",
              "    .dataframe tbody tr th:only-of-type {\n",
              "        vertical-align: middle;\n",
              "    }\n",
              "\n",
              "    .dataframe tbody tr th {\n",
              "        vertical-align: top;\n",
              "    }\n",
              "\n",
              "    .dataframe thead th {\n",
              "        text-align: right;\n",
              "    }\n",
              "</style>\n",
              "<table border=\"1\" class=\"dataframe\">\n",
              "  <thead>\n",
              "    <tr style=\"text-align: right;\">\n",
              "      <th></th>\n",
              "      <th>total_bill</th>\n",
              "      <th>tip</th>\n",
              "      <th>sex</th>\n",
              "      <th>smoker</th>\n",
              "      <th>day</th>\n",
              "      <th>time</th>\n",
              "      <th>size</th>\n",
              "    </tr>\n",
              "  </thead>\n",
              "  <tbody>\n",
              "    <tr>\n",
              "      <th>0</th>\n",
              "      <td>16.99</td>\n",
              "      <td>1.01</td>\n",
              "      <td>Female</td>\n",
              "      <td>No</td>\n",
              "      <td>Sun</td>\n",
              "      <td>Dinner</td>\n",
              "      <td>2</td>\n",
              "    </tr>\n",
              "    <tr>\n",
              "      <th>1</th>\n",
              "      <td>10.34</td>\n",
              "      <td>1.66</td>\n",
              "      <td>Male</td>\n",
              "      <td>No</td>\n",
              "      <td>Sun</td>\n",
              "      <td>Dinner</td>\n",
              "      <td>3</td>\n",
              "    </tr>\n",
              "    <tr>\n",
              "      <th>2</th>\n",
              "      <td>21.01</td>\n",
              "      <td>3.50</td>\n",
              "      <td>Male</td>\n",
              "      <td>No</td>\n",
              "      <td>Sun</td>\n",
              "      <td>Dinner</td>\n",
              "      <td>3</td>\n",
              "    </tr>\n",
              "    <tr>\n",
              "      <th>3</th>\n",
              "      <td>23.68</td>\n",
              "      <td>3.31</td>\n",
              "      <td>Male</td>\n",
              "      <td>No</td>\n",
              "      <td>Sun</td>\n",
              "      <td>Dinner</td>\n",
              "      <td>2</td>\n",
              "    </tr>\n",
              "    <tr>\n",
              "      <th>4</th>\n",
              "      <td>24.59</td>\n",
              "      <td>3.61</td>\n",
              "      <td>Female</td>\n",
              "      <td>No</td>\n",
              "      <td>Sun</td>\n",
              "      <td>Dinner</td>\n",
              "      <td>4</td>\n",
              "    </tr>\n",
              "  </tbody>\n",
              "</table>\n",
              "</div>"
            ],
            "text/plain": [
              "   total_bill   tip     sex smoker  day    time  size\n",
              "0       16.99  1.01  Female     No  Sun  Dinner     2\n",
              "1       10.34  1.66    Male     No  Sun  Dinner     3\n",
              "2       21.01  3.50    Male     No  Sun  Dinner     3\n",
              "3       23.68  3.31    Male     No  Sun  Dinner     2\n",
              "4       24.59  3.61  Female     No  Sun  Dinner     4"
            ]
          },
          "execution_count": 100,
          "metadata": {},
          "output_type": "execute_result"
        }
      ],
      "source": [
        "import pandas as pd\n",
        "tips = pd.read_csv('data/tips.csv')\n",
        "tips.head()"
      ]
    },
    {
      "cell_type": "code",
      "execution_count": 101,
      "id": "60bda902",
      "metadata": {},
      "outputs": [
        {
          "data": {
            "text/plain": [
              "Index(['TotalBill', 'Tip', 'CustomerGender', 'IsSmoker', 'Day', 'TimeOfDay',\n",
              "       'GroupSize'],\n",
              "      dtype='object')"
            ]
          },
          "execution_count": 101,
          "metadata": {},
          "output_type": "execute_result"
        }
      ],
      "source": [
        "tips.rename(\n",
        "    columns={\n",
        "        'total_bill': 'TotalBill', \n",
        "        'tip': 'Tip', \n",
        "        'sex': 'CustomerGender',\n",
        "        'smoker': 'IsSmoker', \n",
        "        'size': 'GroupSize',\n",
        "        'day': 'Day',\n",
        "        'time': 'TimeOfDay'\n",
        "    },\n",
        "    inplace=True\n",
        ")\n",
        "tips.columns"
      ]
    },
    {
      "cell_type": "code",
      "execution_count": 102,
      "id": "642d27a1",
      "metadata": {},
      "outputs": [
        {
          "data": {
            "text/plain": [
              "(TotalBill          float64\n",
              " Tip                float64\n",
              " CustomerGender    category\n",
              " IsSmoker              bool\n",
              " Day               category\n",
              " TimeOfDay         category\n",
              " GroupSize            int64\n",
              " dtype: object,\n",
              "    TotalBill   Tip CustomerGender  IsSmoker  Day TimeOfDay  GroupSize\n",
              " 0      16.99  1.01         Female     False  Sun    Dinner          2\n",
              " 1      10.34  1.66           Male     False  Sun    Dinner          3\n",
              " 2      21.01  3.50           Male     False  Sun    Dinner          3\n",
              " 3      23.68  3.31           Male     False  Sun    Dinner          2\n",
              " 4      24.59  3.61         Female     False  Sun    Dinner          4)"
            ]
          },
          "execution_count": 102,
          "metadata": {},
          "output_type": "execute_result"
        }
      ],
      "source": [
        "tips['IsSmoker'] = tips['IsSmoker'].map({'Yes': True, 'No': False})\n",
        "tips[tips.select_dtypes(['object']).columns] = tips.select_dtypes(['object']).apply(lambda x: x.astype('category'))\n",
        "tips.dtypes, tips.head()"
      ]
    },
    {
      "cell_type": "code",
      "execution_count": 103,
      "id": "f95a7cfa",
      "metadata": {},
      "outputs": [
        {
          "data": {
            "text/html": [
              "<div>\n",
              "<style scoped>\n",
              "    .dataframe tbody tr th:only-of-type {\n",
              "        vertical-align: middle;\n",
              "    }\n",
              "\n",
              "    .dataframe tbody tr th {\n",
              "        vertical-align: top;\n",
              "    }\n",
              "\n",
              "    .dataframe thead th {\n",
              "        text-align: right;\n",
              "    }\n",
              "</style>\n",
              "<table border=\"1\" class=\"dataframe\">\n",
              "  <thead>\n",
              "    <tr style=\"text-align: right;\">\n",
              "      <th></th>\n",
              "      <th>TotalBill</th>\n",
              "      <th>Tip</th>\n",
              "      <th>CustomerGender</th>\n",
              "      <th>IsSmoker</th>\n",
              "      <th>Day</th>\n",
              "      <th>TimeOfDay</th>\n",
              "      <th>GroupSize</th>\n",
              "    </tr>\n",
              "  </thead>\n",
              "  <tbody>\n",
              "    <tr>\n",
              "      <th>141</th>\n",
              "      <td>34.30</td>\n",
              "      <td>6.70</td>\n",
              "      <td>Male</td>\n",
              "      <td>False</td>\n",
              "      <td>Thur</td>\n",
              "      <td>Lunch</td>\n",
              "      <td>6</td>\n",
              "    </tr>\n",
              "    <tr>\n",
              "      <th>143</th>\n",
              "      <td>27.05</td>\n",
              "      <td>5.00</td>\n",
              "      <td>Female</td>\n",
              "      <td>False</td>\n",
              "      <td>Thur</td>\n",
              "      <td>Lunch</td>\n",
              "      <td>6</td>\n",
              "    </tr>\n",
              "    <tr>\n",
              "      <th>156</th>\n",
              "      <td>48.17</td>\n",
              "      <td>5.00</td>\n",
              "      <td>Male</td>\n",
              "      <td>False</td>\n",
              "      <td>Sun</td>\n",
              "      <td>Dinner</td>\n",
              "      <td>6</td>\n",
              "    </tr>\n",
              "    <tr>\n",
              "      <th>125</th>\n",
              "      <td>29.80</td>\n",
              "      <td>4.20</td>\n",
              "      <td>Female</td>\n",
              "      <td>False</td>\n",
              "      <td>Thur</td>\n",
              "      <td>Lunch</td>\n",
              "      <td>6</td>\n",
              "    </tr>\n",
              "    <tr>\n",
              "      <th>155</th>\n",
              "      <td>29.85</td>\n",
              "      <td>5.14</td>\n",
              "      <td>Female</td>\n",
              "      <td>False</td>\n",
              "      <td>Sun</td>\n",
              "      <td>Dinner</td>\n",
              "      <td>5</td>\n",
              "    </tr>\n",
              "  </tbody>\n",
              "</table>\n",
              "</div>"
            ],
            "text/plain": [
              "     TotalBill   Tip CustomerGender  IsSmoker   Day TimeOfDay  GroupSize\n",
              "141      34.30  6.70           Male     False  Thur     Lunch          6\n",
              "143      27.05  5.00         Female     False  Thur     Lunch          6\n",
              "156      48.17  5.00           Male     False   Sun    Dinner          6\n",
              "125      29.80  4.20         Female     False  Thur     Lunch          6\n",
              "155      29.85  5.14         Female     False   Sun    Dinner          5"
            ]
          },
          "execution_count": 103,
          "metadata": {},
          "output_type": "execute_result"
        }
      ],
      "source": [
        "tips.sort_values(['TotalBill', 'Tip'], ascending=[False, False]).head(),\n",
        "tips.sort_values(['GroupSize', 'Tip'], ascending=[False, False]).head()"
      ]
    },
    {
      "cell_type": "code",
      "execution_count": 104,
      "id": "0c9a8e65",
      "metadata": {},
      "outputs": [
        {
          "data": {
            "text/html": [
              "<div>\n",
              "<style scoped>\n",
              "    .dataframe tbody tr th:only-of-type {\n",
              "        vertical-align: middle;\n",
              "    }\n",
              "\n",
              "    .dataframe tbody tr th {\n",
              "        vertical-align: top;\n",
              "    }\n",
              "\n",
              "    .dataframe thead th {\n",
              "        text-align: right;\n",
              "    }\n",
              "</style>\n",
              "<table border=\"1\" class=\"dataframe\">\n",
              "  <thead>\n",
              "    <tr style=\"text-align: right;\">\n",
              "      <th></th>\n",
              "      <th>TotalBill</th>\n",
              "      <th>Tip</th>\n",
              "      <th>CustomerGender</th>\n",
              "      <th>IsSmoker</th>\n",
              "      <th>Day</th>\n",
              "      <th>TimeOfDay</th>\n",
              "      <th>GroupSize</th>\n",
              "      <th>TotalAmountSpent</th>\n",
              "    </tr>\n",
              "  </thead>\n",
              "  <tbody>\n",
              "    <tr>\n",
              "      <th>0</th>\n",
              "      <td>16.99</td>\n",
              "      <td>1.01</td>\n",
              "      <td>Female</td>\n",
              "      <td>False</td>\n",
              "      <td>Sun</td>\n",
              "      <td>Dinner</td>\n",
              "      <td>2</td>\n",
              "      <td>18.00</td>\n",
              "    </tr>\n",
              "    <tr>\n",
              "      <th>1</th>\n",
              "      <td>10.34</td>\n",
              "      <td>1.66</td>\n",
              "      <td>Male</td>\n",
              "      <td>False</td>\n",
              "      <td>Sun</td>\n",
              "      <td>Dinner</td>\n",
              "      <td>3</td>\n",
              "      <td>12.00</td>\n",
              "    </tr>\n",
              "    <tr>\n",
              "      <th>2</th>\n",
              "      <td>21.01</td>\n",
              "      <td>3.50</td>\n",
              "      <td>Male</td>\n",
              "      <td>False</td>\n",
              "      <td>Sun</td>\n",
              "      <td>Dinner</td>\n",
              "      <td>3</td>\n",
              "      <td>24.51</td>\n",
              "    </tr>\n",
              "    <tr>\n",
              "      <th>3</th>\n",
              "      <td>23.68</td>\n",
              "      <td>3.31</td>\n",
              "      <td>Male</td>\n",
              "      <td>False</td>\n",
              "      <td>Sun</td>\n",
              "      <td>Dinner</td>\n",
              "      <td>2</td>\n",
              "      <td>26.99</td>\n",
              "    </tr>\n",
              "    <tr>\n",
              "      <th>4</th>\n",
              "      <td>24.59</td>\n",
              "      <td>3.61</td>\n",
              "      <td>Female</td>\n",
              "      <td>False</td>\n",
              "      <td>Sun</td>\n",
              "      <td>Dinner</td>\n",
              "      <td>4</td>\n",
              "      <td>28.20</td>\n",
              "    </tr>\n",
              "  </tbody>\n",
              "</table>\n",
              "</div>"
            ],
            "text/plain": [
              "   TotalBill   Tip CustomerGender  IsSmoker  Day TimeOfDay  GroupSize  \\\n",
              "0      16.99  1.01         Female     False  Sun    Dinner          2   \n",
              "1      10.34  1.66           Male     False  Sun    Dinner          3   \n",
              "2      21.01  3.50           Male     False  Sun    Dinner          3   \n",
              "3      23.68  3.31           Male     False  Sun    Dinner          2   \n",
              "4      24.59  3.61         Female     False  Sun    Dinner          4   \n",
              "\n",
              "   TotalAmountSpent  \n",
              "0             18.00  \n",
              "1             12.00  \n",
              "2             24.51  \n",
              "3             26.99  \n",
              "4             28.20  "
            ]
          },
          "execution_count": 104,
          "metadata": {},
          "output_type": "execute_result"
        }
      ],
      "source": [
        "tips['TotalAmountSpent'] = tips['TotalBill'] + tips['Tip']\n",
        "tips.head()"
      ]
    },
    {
      "cell_type": "code",
      "execution_count": 105,
      "id": "e1cda0a1",
      "metadata": {},
      "outputs": [
        {
          "data": {
            "text/html": [
              "<div>\n",
              "<style scoped>\n",
              "    .dataframe tbody tr th:only-of-type {\n",
              "        vertical-align: middle;\n",
              "    }\n",
              "\n",
              "    .dataframe tbody tr th {\n",
              "        vertical-align: top;\n",
              "    }\n",
              "\n",
              "    .dataframe thead th {\n",
              "        text-align: right;\n",
              "    }\n",
              "</style>\n",
              "<table border=\"1\" class=\"dataframe\">\n",
              "  <thead>\n",
              "    <tr style=\"text-align: right;\">\n",
              "      <th></th>\n",
              "      <th>TotalBill</th>\n",
              "      <th>Tip</th>\n",
              "      <th>CustomerGender</th>\n",
              "      <th>IsSmoker</th>\n",
              "      <th>Day</th>\n",
              "      <th>TimeOfDay</th>\n",
              "      <th>GroupSize</th>\n",
              "      <th>TotalAmountSpent</th>\n",
              "      <th>TotalCostPerPerson</th>\n",
              "    </tr>\n",
              "  </thead>\n",
              "  <tbody>\n",
              "    <tr>\n",
              "      <th>0</th>\n",
              "      <td>16.99</td>\n",
              "      <td>1.01</td>\n",
              "      <td>Female</td>\n",
              "      <td>False</td>\n",
              "      <td>Sun</td>\n",
              "      <td>Dinner</td>\n",
              "      <td>2</td>\n",
              "      <td>18.00</td>\n",
              "      <td>9.000</td>\n",
              "    </tr>\n",
              "    <tr>\n",
              "      <th>1</th>\n",
              "      <td>10.34</td>\n",
              "      <td>1.66</td>\n",
              "      <td>Male</td>\n",
              "      <td>False</td>\n",
              "      <td>Sun</td>\n",
              "      <td>Dinner</td>\n",
              "      <td>3</td>\n",
              "      <td>12.00</td>\n",
              "      <td>4.000</td>\n",
              "    </tr>\n",
              "    <tr>\n",
              "      <th>2</th>\n",
              "      <td>21.01</td>\n",
              "      <td>3.50</td>\n",
              "      <td>Male</td>\n",
              "      <td>False</td>\n",
              "      <td>Sun</td>\n",
              "      <td>Dinner</td>\n",
              "      <td>3</td>\n",
              "      <td>24.51</td>\n",
              "      <td>8.170</td>\n",
              "    </tr>\n",
              "    <tr>\n",
              "      <th>3</th>\n",
              "      <td>23.68</td>\n",
              "      <td>3.31</td>\n",
              "      <td>Male</td>\n",
              "      <td>False</td>\n",
              "      <td>Sun</td>\n",
              "      <td>Dinner</td>\n",
              "      <td>2</td>\n",
              "      <td>26.99</td>\n",
              "      <td>13.495</td>\n",
              "    </tr>\n",
              "    <tr>\n",
              "      <th>4</th>\n",
              "      <td>24.59</td>\n",
              "      <td>3.61</td>\n",
              "      <td>Female</td>\n",
              "      <td>False</td>\n",
              "      <td>Sun</td>\n",
              "      <td>Dinner</td>\n",
              "      <td>4</td>\n",
              "      <td>28.20</td>\n",
              "      <td>7.050</td>\n",
              "    </tr>\n",
              "  </tbody>\n",
              "</table>\n",
              "</div>"
            ],
            "text/plain": [
              "   TotalBill   Tip CustomerGender  IsSmoker  Day TimeOfDay  GroupSize  \\\n",
              "0      16.99  1.01         Female     False  Sun    Dinner          2   \n",
              "1      10.34  1.66           Male     False  Sun    Dinner          3   \n",
              "2      21.01  3.50           Male     False  Sun    Dinner          3   \n",
              "3      23.68  3.31           Male     False  Sun    Dinner          2   \n",
              "4      24.59  3.61         Female     False  Sun    Dinner          4   \n",
              "\n",
              "   TotalAmountSpent  TotalCostPerPerson  \n",
              "0             18.00               9.000  \n",
              "1             12.00               4.000  \n",
              "2             24.51               8.170  \n",
              "3             26.99              13.495  \n",
              "4             28.20               7.050  "
            ]
          },
          "execution_count": 105,
          "metadata": {},
          "output_type": "execute_result"
        }
      ],
      "source": [
        "tips['TotalCostPerPerson'] = tips['TotalAmountSpent'] / tips['GroupSize']\n",
        "tips.head()"
      ]
    },
    {
      "cell_type": "code",
      "execution_count": 106,
      "id": "a9a9289d",
      "metadata": {},
      "outputs": [
        {
          "data": {
            "text/html": [
              "<div>\n",
              "<style scoped>\n",
              "    .dataframe tbody tr th:only-of-type {\n",
              "        vertical-align: middle;\n",
              "    }\n",
              "\n",
              "    .dataframe tbody tr th {\n",
              "        vertical-align: top;\n",
              "    }\n",
              "\n",
              "    .dataframe thead th {\n",
              "        text-align: right;\n",
              "    }\n",
              "</style>\n",
              "<table border=\"1\" class=\"dataframe\">\n",
              "  <thead>\n",
              "    <tr style=\"text-align: right;\">\n",
              "      <th></th>\n",
              "      <th>TotalBill</th>\n",
              "      <th>Tip</th>\n",
              "      <th>CustomerGender</th>\n",
              "      <th>IsSmoker</th>\n",
              "      <th>Day</th>\n",
              "      <th>TimeOfDay</th>\n",
              "      <th>GroupSize</th>\n",
              "      <th>TotalAmountSpent</th>\n",
              "      <th>TotalCostPerPerson</th>\n",
              "    </tr>\n",
              "    <tr>\n",
              "      <th>Id</th>\n",
              "      <th></th>\n",
              "      <th></th>\n",
              "      <th></th>\n",
              "      <th></th>\n",
              "      <th></th>\n",
              "      <th></th>\n",
              "      <th></th>\n",
              "      <th></th>\n",
              "      <th></th>\n",
              "    </tr>\n",
              "  </thead>\n",
              "  <tbody>\n",
              "    <tr>\n",
              "      <th>1</th>\n",
              "      <td>16.99</td>\n",
              "      <td>1.01</td>\n",
              "      <td>Female</td>\n",
              "      <td>False</td>\n",
              "      <td>Sun</td>\n",
              "      <td>Dinner</td>\n",
              "      <td>2</td>\n",
              "      <td>18.00</td>\n",
              "      <td>9.000</td>\n",
              "    </tr>\n",
              "    <tr>\n",
              "      <th>2</th>\n",
              "      <td>10.34</td>\n",
              "      <td>1.66</td>\n",
              "      <td>Male</td>\n",
              "      <td>False</td>\n",
              "      <td>Sun</td>\n",
              "      <td>Dinner</td>\n",
              "      <td>3</td>\n",
              "      <td>12.00</td>\n",
              "      <td>4.000</td>\n",
              "    </tr>\n",
              "    <tr>\n",
              "      <th>3</th>\n",
              "      <td>21.01</td>\n",
              "      <td>3.50</td>\n",
              "      <td>Male</td>\n",
              "      <td>False</td>\n",
              "      <td>Sun</td>\n",
              "      <td>Dinner</td>\n",
              "      <td>3</td>\n",
              "      <td>24.51</td>\n",
              "      <td>8.170</td>\n",
              "    </tr>\n",
              "    <tr>\n",
              "      <th>4</th>\n",
              "      <td>23.68</td>\n",
              "      <td>3.31</td>\n",
              "      <td>Male</td>\n",
              "      <td>False</td>\n",
              "      <td>Sun</td>\n",
              "      <td>Dinner</td>\n",
              "      <td>2</td>\n",
              "      <td>26.99</td>\n",
              "      <td>13.495</td>\n",
              "    </tr>\n",
              "    <tr>\n",
              "      <th>5</th>\n",
              "      <td>24.59</td>\n",
              "      <td>3.61</td>\n",
              "      <td>Female</td>\n",
              "      <td>False</td>\n",
              "      <td>Sun</td>\n",
              "      <td>Dinner</td>\n",
              "      <td>4</td>\n",
              "      <td>28.20</td>\n",
              "      <td>7.050</td>\n",
              "    </tr>\n",
              "  </tbody>\n",
              "</table>\n",
              "</div>"
            ],
            "text/plain": [
              "    TotalBill   Tip CustomerGender  IsSmoker  Day TimeOfDay  GroupSize  \\\n",
              "Id                                                                       \n",
              "1       16.99  1.01         Female     False  Sun    Dinner          2   \n",
              "2       10.34  1.66           Male     False  Sun    Dinner          3   \n",
              "3       21.01  3.50           Male     False  Sun    Dinner          3   \n",
              "4       23.68  3.31           Male     False  Sun    Dinner          2   \n",
              "5       24.59  3.61         Female     False  Sun    Dinner          4   \n",
              "\n",
              "    TotalAmountSpent  TotalCostPerPerson  \n",
              "Id                                        \n",
              "1              18.00               9.000  \n",
              "2              12.00               4.000  \n",
              "3              24.51               8.170  \n",
              "4              26.99              13.495  \n",
              "5              28.20               7.050  "
            ]
          },
          "execution_count": 106,
          "metadata": {},
          "output_type": "execute_result"
        }
      ],
      "source": [
        "tips['Id'] = range(1, len(tips) + 1)\n",
        "tips.set_index('Id', inplace=True)\n",
        "tips.head()"
      ]
    },
    {
      "cell_type": "markdown",
      "id": "fbde8486",
      "metadata": {},
      "source": [
        "##End of Answer 1##"
      ]
    },
    {
      "cell_type": "markdown",
      "id": "3878b47d",
      "metadata": {},
      "source": [
        "# Task 2: Second pass - individual features and target"
      ]
    },
    {
      "cell_type": "markdown",
      "id": "e31de91b",
      "metadata": {},
      "source": [
        "##Start of Answer 2##"
      ]
    },
    {
      "cell_type": "code",
      "execution_count": null,
      "id": "627e5776",
      "metadata": {},
      "outputs": [],
      "source": []
    },
    {
      "cell_type": "markdown",
      "id": "753882d6",
      "metadata": {},
      "source": [
        "##End of Answer 2##"
      ]
    },
    {
      "cell_type": "markdown",
      "id": "7fc836d0",
      "metadata": {},
      "source": [
        "# Task 3: Third pass - relationships between features and target"
      ]
    },
    {
      "cell_type": "markdown",
      "id": "e1f51d8c",
      "metadata": {},
      "source": [
        "##Start of Answer 3##"
      ]
    },
    {
      "cell_type": "code",
      "execution_count": null,
      "id": "206f330d",
      "metadata": {},
      "outputs": [],
      "source": []
    },
    {
      "cell_type": "markdown",
      "id": "88e31f84",
      "metadata": {},
      "source": [
        "##End of Answer 3##"
      ]
    },
    {
      "cell_type": "markdown",
      "id": "ded12a72",
      "metadata": {},
      "source": [
        "##End of EDA 1##"
      ]
    },
    {
      "cell_type": "markdown",
      "id": "25a20ba6",
      "metadata": {},
      "source": [
        "##Start of EDA 2##"
      ]
    },
    {
      "cell_type": "markdown",
      "id": "bc1b41e9",
      "metadata": {},
      "source": [
        "# Task 1: First pass - load data set and initial clean"
      ]
    },
    {
      "cell_type": "markdown",
      "id": "2c3c800e",
      "metadata": {},
      "source": [
        "##Start of Answer 1##"
      ]
    },
    {
      "cell_type": "code",
      "execution_count": null,
      "id": "6acbe532",
      "metadata": {},
      "outputs": [],
      "source": []
    },
    {
      "cell_type": "markdown",
      "id": "cd5992e5",
      "metadata": {},
      "source": [
        "##End of Answer 1##"
      ]
    },
    {
      "cell_type": "markdown",
      "id": "f580c0d8",
      "metadata": {},
      "source": [
        "# Task 2: Second pass - individual features and target"
      ]
    },
    {
      "cell_type": "markdown",
      "id": "9b20341c",
      "metadata": {},
      "source": [
        "##Start of Answer 2##"
      ]
    },
    {
      "cell_type": "code",
      "execution_count": null,
      "id": "dec4bddd",
      "metadata": {},
      "outputs": [],
      "source": []
    },
    {
      "cell_type": "markdown",
      "id": "aefb377d",
      "metadata": {},
      "source": [
        "##End of Answer 2##"
      ]
    },
    {
      "cell_type": "markdown",
      "id": "a8f8e10c",
      "metadata": {},
      "source": [
        "# Task 3: Third pass - relationships between features and target"
      ]
    },
    {
      "cell_type": "markdown",
      "id": "bea7ac94",
      "metadata": {},
      "source": [
        "##Start of Answer 3##"
      ]
    },
    {
      "cell_type": "code",
      "execution_count": null,
      "id": "65d1f14a",
      "metadata": {},
      "outputs": [],
      "source": []
    },
    {
      "cell_type": "markdown",
      "id": "1d4fe209",
      "metadata": {},
      "source": [
        "##End of Answer 3##"
      ]
    },
    {
      "cell_type": "markdown",
      "id": "d92ffdd0",
      "metadata": {
        "lines_to_next_cell": 2
      },
      "source": [
        "##End of EDA 2##"
      ]
    }
  ],
  "metadata": {
    "kernelspec": {
      "display_name": "Python 3 (ipykernel)",
      "language": "python",
      "name": "python3"
    },
    "language_info": {
      "codemirror_mode": {
        "name": "ipython",
        "version": 3
      },
      "file_extension": ".py",
      "mimetype": "text/x-python",
      "name": "python",
      "nbconvert_exporter": "python",
      "pygments_lexer": "ipython3",
      "version": "3.12.3"
    }
  },
  "nbformat": 4,
  "nbformat_minor": 5
}
