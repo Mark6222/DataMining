{
  "cells": [
    {
      "cell_type": "markdown",
      "id": "5fe3cd4b",
      "metadata": {},
      "source": [
        "# Exploration of the auto_mpg data set\n",
        "\n",
        "This notebook presents an exploration of the auto_mpg dataset, using python and pandas. This is the same data set you were asked to investigate using your preferred tools.\n",
        "\n",
        "Students are recommended to run the notebook one cell at a time using the \"play\" button above.\n",
        "\n",
        "Note that the notebook assumes that the data is placed in a `data/` subfolder of the folder where the notebook has been placed. This convention is common in machine learning.\n",
        "\n",
        "_For convenience, here is the spec from the previous exercise:_\n",
        "\n",
        "For each attribute (column) find the following information.\n",
        "  * The attribute type, e.g. nominal, ordinal, numeric.\n",
        "  * Percentage of missing values in the data.\n",
        "  * Statistical numerical measures - centre (mean, median, mode), spread (min, max, range, standard deviation), symmetry (skewness).\n",
        "  * Statistical graphical representations &mdash; bar plots, histograms, ... even pie charts, although they can be difficult to interpret, and [better alternatives exist](https://www.data-to-viz.com/caveat/pie.html).\n",
        "  * Are there any rows that have a value for the attribute that no other record has (i.e. unique values)?\n",
        "  * Are there any outliers?\n",
        "  * Which attributes seem to be linked?"
      ]
    },
    {
      "cell_type": "code",
      "execution_count": null,
      "id": "14f2ba3b",
      "metadata": {
        "tags": [
          "loadData"
        ]
      },
      "outputs": [],
      "source": [
        "import pandas as pd\n",
        "auto_mpg = pd.read_csv('data/auto-mpg.csv')\n",
        "auto_mpg.head()"
      ]
    },
    {
      "cell_type": "markdown",
      "id": "94015c67",
      "metadata": {},
      "source": [
        "## Display the data type of each column in the dataframe.\n",
        "\n",
        "`.dtypes()` returns a pandas _Series."
      ]
    },
    {
      "cell_type": "code",
      "execution_count": null,
      "id": "24fba775",
      "metadata": {
        "tags": [
          "displayDatatypes"
        ]
      },
      "outputs": [],
      "source": [
        "auto_mpg.dtypes"
      ]
    },
    {
      "cell_type": "markdown",
      "id": "f60a4ac3",
      "metadata": {
        "incorrectly_encoded_metadata": "tags=[\"",
        "lines_to_next_cell": 0
      },
      "source": [
        "`float64` and `int64` are numeric columns. An object column means that python was unable to decide what datatype the column contains. It is likely that it is a mixed type, so we can look at the individual values."
      ]
    },
    {
      "cell_type": "code",
      "execution_count": null,
      "id": "f32bec61",
      "metadata": {},
      "outputs": [],
      "source": [
        "auto_mpg[\"car name\"].value_counts()"
      ]
    },
    {
      "cell_type": "markdown",
      "id": "bf71da52",
      "metadata": {},
      "source": [
        "Note that some cars appears multiple times, so it is interesting to see why that might happen."
      ]
    },
    {
      "cell_type": "code",
      "execution_count": null,
      "id": "4254ba4d",
      "metadata": {},
      "outputs": [],
      "source": [
        "auto_mpg.loc[auto_mpg['car name'] == 'ford pinto']"
      ]
    },
    {
      "cell_type": "markdown",
      "id": "50f97d38",
      "metadata": {},
      "source": [
        "Note that the 'ford pinto' cars differ by model year. So in this case, it suggests the `car name` is a simple description of the car, but is not enough on its own to be used to identify individual rows in the dataframe. In database terms, it is not enough to act as a primary key for the dataframe.\n",
        "\n",
        "Also notice that the other `object` type column (i.e., `horsepower`) contains numeric values and '?', which is often used as a placeholder for missing data. We can take a look at the column to assess what it contains."
      ]
    },
    {
      "cell_type": "code",
      "execution_count": null,
      "id": "0cc4e52d",
      "metadata": {},
      "outputs": [],
      "source": [
        "auto_mpg[\"horsepower\"].values"
      ]
    },
    {
      "cell_type": "markdown",
      "id": "4e599a29",
      "metadata": {},
      "source": [
        "As can be seen, `horsepower` generally contains numeric data but this data is stored as strings, because some `horsepower` values are represented using `'?'`. So if we wish to work with this data we should\n",
        "\n",
        "1. remove the `'?'` placeholders - this is missing data and should be recognised as such\n",
        "2. convert the remaining values from string to numeric, so that they match the intended use of this column.\n",
        "\n",
        "In later weeks, we will cover how to perform these \"data fixes\" using pandas and python more generally."
      ]
    },
    {
      "cell_type": "markdown",
      "id": "32be041b",
      "metadata": {},
      "source": [
        "## Looking for missing values\n",
        "\n",
        "The usual way to look for missing values is to look for null values using the `.isnull()` function. For floating point data we can also use the `.isna` function, which checks whether a floating point value is NaN (Not a Number).\n",
        "\n",
        "We can apply `.isnull()` to an entire dataframe, or to a row, or a column or indeed a single value. The function returns a dataframe, a row series, a column series of `bool` values, as appropriate. In python, a `bool` value of `False` is treated as `0` and a `bool` value of `True` is treats as 1. We can count the `.isnull() == True` values by summing them using `.sum()`.\n",
        "\n",
        "Firstly, we look across the entire dataframe."
      ]
    },
    {
      "cell_type": "code",
      "execution_count": null,
      "id": "4b083d70",
      "metadata": {},
      "outputs": [],
      "source": [
        "auto_mpg.isnull().sum().sum()"
      ]
    },
    {
      "cell_type": "markdown",
      "id": "2ce00c30",
      "metadata": {},
      "source": [
        "Here is how we can apply `.isnull()` and `sum()` to count the number of null values in the `auto_mpg[\"horsepower\"]` column. Note that there appear to be none, owing to their replacement with `'?'`."
      ]
    },
    {
      "cell_type": "code",
      "execution_count": null,
      "id": "6eca1cfb",
      "metadata": {},
      "outputs": [],
      "source": [
        "auto_mpg[\"horsepower\"].isnull().sum()"
      ]
    },
    {
      "cell_type": "markdown",
      "id": "53a97aaa",
      "metadata": {},
      "source": [
        "Perhaps a better check in this case is to count the number of `'?'` characters in the column."
      ]
    },
    {
      "cell_type": "code",
      "execution_count": null,
      "id": "a9bb6629",
      "metadata": {},
      "outputs": [],
      "source": [
        "pd.Series(auto_mpg[\"horsepower\"]=='?').sum()"
      ]
    },
    {
      "cell_type": "markdown",
      "id": "853f881f",
      "metadata": {},
      "source": [
        "So there are 6 rows with missing horsepower values.... The number of rows can be obtained from the `.shape` tuple, as follows, where it is clear that there are 398 rows and 9 columns."
      ]
    },
    {
      "cell_type": "code",
      "execution_count": null,
      "id": "79f055b3",
      "metadata": {},
      "outputs": [],
      "source": [
        "auto_mpg.shape"
      ]
    },
    {
      "cell_type": "markdown",
      "id": "bb3739d0",
      "metadata": {},
      "source": [
        "So the percentage of rows missing a value can be calculated using"
      ]
    },
    {
      "cell_type": "code",
      "execution_count": null,
      "id": "934783e5",
      "metadata": {},
      "outputs": [],
      "source": [
        "numMissingRows = pd.Series(auto_mpg[\"horsepower\"]=='?').sum()\n",
        "numRows = auto_mpg.shape[0]\n",
        "percentMissingRows = round(100*numMissingRows/numRows,1)\n",
        "percentMissingRows"
      ]
    },
    {
      "cell_type": "markdown",
      "id": "0a9bed44",
      "metadata": {},
      "source": [
        "## Statistical numerical measures\n",
        "\n",
        "For the numeric-valued columns, we can compute a number of statistics (measures). Just using the `weight` column as an example, here is how you could get several measures at once:"
      ]
    },
    {
      "cell_type": "code",
      "execution_count": null,
      "id": "86806376",
      "metadata": {},
      "outputs": [],
      "source": [
        "auto_mpg[\"weight\"].describe()"
      ]
    },
    {
      "cell_type": "markdown",
      "id": "1923eb0b",
      "metadata": {},
      "source": [
        "Alternatively, you could calculate the mean of several columns using the following:"
      ]
    },
    {
      "cell_type": "code",
      "execution_count": null,
      "id": "3507fd6b",
      "metadata": {},
      "outputs": [],
      "source": [
        "auto_mpg[[\"displacement\",\"weight\"]].mean()"
      ]
    },
    {
      "cell_type": "markdown",
      "id": "4d98d8c9",
      "metadata": {},
      "source": [
        "Note that `[\"displacement\",\"weight\"]` is a (python) list containing the two column names."
      ]
    },
    {
      "cell_type": "markdown",
      "id": "61f4d6b2",
      "metadata": {},
      "source": [
        "## Statistical plots\n",
        "\n",
        "Plots greatly help data exploration. With experience, it is possible to observe many useful aspects, including:\n",
        "\n",
        "1. distribution of a single variable\n",
        "3. relationship of one variable against another\n",
        "\n",
        "Again we will use `displacement` (engine size) and `weight` as the variables we wish to consider.\n",
        "\n",
        "Python does not have built-in plotting capability, so we need to import some \"standard\" plotting libraries use in python-based machine learning. The first of these is `matplotlib` which is comprehensive but can take effort to configure the output. The second is `seaborn` which provides a higher-level abstraction, but requires `matplotlib` to support its operations. `seaborn` has many styling options, just showing one here...."
      ]
    },
    {
      "cell_type": "code",
      "execution_count": null,
      "id": "3af0e9cc",
      "metadata": {},
      "outputs": [],
      "source": [
        "import matplotlib.pyplot as plt\n",
        "import seaborn as sns\n",
        "sns.set_style(\"darkgrid\")"
      ]
    },
    {
      "cell_type": "markdown",
      "id": "4568dd0a",
      "metadata": {},
      "source": [
        "The first 2 plots show the distribution of `weight` and `displacement`, each as a histogram. The plots are placed side-by-side to make them easier to compare."
      ]
    },
    {
      "cell_type": "code",
      "execution_count": null,
      "id": "6a53bc36",
      "metadata": {},
      "outputs": [],
      "source": [
        "fig, (ax1, ax2) = plt.subplots(1, 2)\n",
        "fig.suptitle('weight and displacement histograms')\n",
        "v='weight'\n",
        "sns.histplot(ax=ax1, x=auto_mpg[v])\n",
        "ax1.set_xlabel(v)\n",
        "v='displacement'\n",
        "sns.histplot(ax=ax2, x=auto_mpg[v])\n",
        "ax1.set_xlabel(v)"
      ]
    },
    {
      "cell_type": "markdown",
      "id": "99c18519",
      "metadata": {},
      "source": [
        "The origin is coded as 1:USA, 2:Europe and 3:Japan. To make the plots easier to understand, we will add a `country` column, as follows:"
      ]
    },
    {
      "cell_type": "code",
      "execution_count": null,
      "id": "383ead2f",
      "metadata": {},
      "outputs": [],
      "source": [
        "auto_mpg['country'] = auto_mpg['origin'].replace([1,2,3],['USA','Europe','Japan'])\n",
        "auto_mpg['country'].value_counts()"
      ]
    },
    {
      "cell_type": "markdown",
      "id": "56107356",
      "metadata": {},
      "source": [
        "Note that is is good practice to check that an operation like this was successful. It is also noticeable that most of the cars in the dataset were manufactured in the USA.\n",
        "\n",
        "Now we can create a boxplot of `displacement` and of `weight`, and overlay it with the overall median of that variable."
      ]
    },
    {
      "cell_type": "code",
      "execution_count": null,
      "id": "e93c5f80",
      "metadata": {},
      "outputs": [],
      "source": [
        "fig, (ax1, ax2) = plt.subplots(1, 2)\n",
        "fig.suptitle('weight and displacement boxplots')\n",
        "v = 'weight'\n",
        "sns.boxplot(ax=ax1, x='country', y=v, data=auto_mpg)\n",
        "ax1.set_xlabel(v)\n",
        "ax1.axhline(auto_mpg[v].median(), color='r', linestyle='dotted')\n",
        "v = 'displacement'\n",
        "sns.boxplot(ax=ax2, x='country', y=v, data=auto_mpg)\n",
        "ax2.set_xlabel(v)\n",
        "ax2.axhline(auto_mpg[v].median(), color='r', linestyle='dotted')"
      ]
    },
    {
      "cell_type": "markdown",
      "id": "6a286a21",
      "metadata": {},
      "source": [
        "Clearly 1970s cars from the USA had considerably larger engines and were much heavier than their European or Japanese equivalents!\n",
        "\n",
        "Lastly we will look at how 'displacement` and `weight` are related. Again, we will highlight the country of origin, by using a different colour for each country in the scatterplot below.\n",
        "\n",
        "We will also show a trend line for each subset, noting that the trend depends on the country.\n",
        "\n",
        "Lastly, we can also save the plot in a file as a portable network graphic (PNG) file. Note that `savefig()` uses the file extension to select the type of output graphic file."
      ]
    },
    {
      "cell_type": "code",
      "execution_count": null,
      "id": "ce0f0236",
      "metadata": {},
      "outputs": [],
      "source": [
        "plot = sns.lmplot(x='displacement', y='weight', data=auto_mpg, hue='country')\n",
        "plot.savefig(\"weightVSdisplacement.png\")"
      ]
    },
    {
      "cell_type": "markdown",
      "id": "26b3f336",
      "metadata": {},
      "source": [
        "Assuming there are not too many numerical columns, we can generate a pairwise scatterplot, to see at a glance the relationships in the data."
      ]
    },
    {
      "cell_type": "code",
      "execution_count": null,
      "id": "b3959024",
      "metadata": {},
      "outputs": [],
      "source": [
        "sns.set()\n",
        "sns.pairplot(auto_mpg, hue ='country')\n",
        "plt.show()"
      ]
    },
    {
      "cell_type": "markdown",
      "id": "8f992af0",
      "metadata": {},
      "source": [
        "Studying this pairsplot yields many insights into the data. We can choose more specific plots to learn more and check our understanding."
      ]
    },
    {
      "cell_type": "markdown",
      "id": "a2d7a023",
      "metadata": {},
      "source": [
        "## Are there any rows that have a value for the attribute that no other record has (i.e. unique values)?\n",
        "\n",
        "We have already seen how to get a count of specific values in each column. We are looking for columns that have a value that appears only once.\n",
        "\n",
        "We can loop over the columns in the dataframe and use `.value_counts()` on each volumn."
      ]
    },
    {
      "cell_type": "code",
      "execution_count": null,
      "id": "8440a232",
      "metadata": {},
      "outputs": [],
      "source": [
        "for col in auto_mpg.columns:\n",
        "  print(auto_mpg[col].value_counts())"
      ]
    },
    {
      "cell_type": "markdown",
      "id": "454fc1d1",
      "metadata": {},
      "source": [
        "As can be seen, columns like `mpg`, `displacement`, `horsepower`, `weight` and `acceleration` include unique values, but that might be expected. It would be more significant in columns where the number of values is limited."
      ]
    },
    {
      "cell_type": "markdown",
      "id": "732750cf",
      "metadata": {},
      "source": [
        "## Are there any outliers?\n",
        "\n",
        "Yes. There are many techniques for finding outliers, but one of the easiest ways to find outliers from a single variable is to use boxplots.\n",
        "\n",
        "As can be seen in the boxplots earlier in this notebooks, `displacement` has some upper outliers in the case of European cars."
      ]
    },
    {
      "cell_type": "markdown",
      "id": "4d939f88",
      "metadata": {},
      "source": [
        "## Which attributes seem to be linked?\n",
        "\n",
        "The pairsplot earlier in this notebook identifies some linear relationships. e.g., between `mpg` vs `weight`, `displacement` and `acceleration`.\n",
        "\n",
        "There are other pairs that have no or at best a very weak linear relationship, because the scatterplots look more like a cloud. Examples of these include `displacement` versus `model year`."
      ]
    },
    {
      "cell_type": "markdown",
      "id": "1018ff6b",
      "metadata": {},
      "source": [
        "## Overall\n",
        "\n",
        "This notebook is an example of how notebook can be used to answer questions about a nontrivial dataset.\n",
        "\n",
        "Some takeaways:\n",
        "\n",
        "- The notebook is structured in cells, where an analysis is motivated and described in a markdown cell, the code is then run and produces an output, and this is followed by another markdown cell analysing what was found.\n",
        "- `pandas` and `python` together can be used to manipulate the data, and to prepare simple reports\n",
        "- `matplotlib` and `seaborn` can be used to produce plots"
      ]
    },
    {
      "cell_type": "code",
      "execution_count": null,
      "id": "8ae508c8",
      "metadata": {},
      "outputs": [],
      "source": []
    }
  ],
  "metadata": {
    "kernelspec": {
      "display_name": "Python 3 (ipykernel)",
      "language": "python",
      "name": "python3"
    }
  },
  "nbformat": 4,
  "nbformat_minor": 5
}
